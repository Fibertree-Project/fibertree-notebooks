{
 "cells": [
  {
   "cell_type": "markdown",
   "id": "acfd87f1",
   "metadata": {},
   "source": [
    "# Dense-gemm: Dense Matrix multiply (MM ) computations\n",
    "\n",
    "- **Dense-gemm** - Basic untiled and tiled matrix multiplication dataflows\n",
    "[\\[notebook\\]](./dense-gemm.ipynb)\n",
    "[\\[colab\\]](https://colab.research.google.com/github/Fibertree-Project/fibertree-notebooks/blob/master/notebooks/dense-gemm/dense-gemm.ipynb)\n"
   ]
  }
 ],
 "metadata": {
  "kernelspec": {
   "display_name": "Python 3 (ipykernel)",
   "language": "python",
   "name": "python3"
  },
  "language_info": {
   "codemirror_mode": {
    "name": "ipython",
    "version": 3
   },
   "file_extension": ".py",
   "mimetype": "text/x-python",
   "name": "python",
   "nbconvert_exporter": "python",
   "pygments_lexer": "ipython3",
   "version": "3.10.8"
  }
 },
 "nbformat": 4,
 "nbformat_minor": 5
}
