{
 "cells": [
  {
   "cell_type": "markdown",
   "metadata": {},
   "source": [
    "## Swizzle some tensors\n",
    "\n",
    "Illustrate swizzling the ranks of a tensor by name.\n",
    "\n",
    "First, include some libraries\n"
   ]
  },
  {
   "cell_type": "code",
   "execution_count": null,
   "metadata": {},
   "outputs": [],
   "source": [
    "# Begin - startup boilerplate code\n",
    "\n",
    "import pkgutil\n",
    "\n",
    "if 'fibertree_bootstrap' not in [pkg.name for pkg in pkgutil.iter_modules()]:\n",
    "  !python3 -m pip  install git+https://github.com/Fibertree-project/fibertree-bootstrap --quiet\n",
    "\n",
    "# End - startup boilerplate code\n",
    "\n",
    "\n",
    "from fibertree_bootstrap import *\n",
    "fibertree_bootstrap(style=\"tree\", animation=none)"
   ]
  },
  {
   "cell_type": "markdown",
   "metadata": {},
   "source": [
    "## Initialize setup\n",
    "\n",
    "The following cell just creates some sliders to control the creation of the input operand tensors."
   ]
  },
  {
   "cell_type": "code",
   "execution_count": null,
   "metadata": {},
   "outputs": [],
   "source": [
    "# Initial values\n",
    "\n",
    "M = 8\n",
    "K = 6\n",
    "density = [0.9, 0.8]\n",
    "seed = 10\n",
    "\n",
    "def set_params(rank_M, rank_K, tensor_density, rand_seed):\n",
    "    global M\n",
    "    global K\n",
    "    global density\n",
    "    global seed\n",
    "    \n",
    "    M = rank_M\n",
    "    K = rank_K\n",
    "    \n",
    "    if tensor_density == 'sparse':\n",
    "        density = [0.9, 0.8]\n",
    "    elif tensor_density == 'sparser':\n",
    "        density = [0.9, 0.4]\n",
    "    else:\n",
    "        density = [1.0, 1.0]\n",
    "        \n",
    "    seed = rand_seed\n",
    "\n",
    "interactive(set_params,\n",
    "            rank_M=widgets.IntSlider(min=2, max=12, step=1, value=M),\n",
    "            rank_K=widgets.IntSlider(min=2, max=12, step=1, value=K),\n",
    "            tensor_density=['sparser', 'sparse', 'dense'],\n",
    "            rand_seed=widgets.IntSlider(min=0, max=100, step=1, value=seed))"
   ]
  },
  {
   "cell_type": "markdown",
   "metadata": {},
   "source": [
    "## Create Input Tensors\n",
    "\n",
    "Because this notebook tends to use both the original and rank swapped versions of the operands, the tensor names are suffixed with the ordered names of the ranks.\n"
   ]
  },
  {
   "cell_type": "code",
   "execution_count": null,
   "metadata": {},
   "outputs": [],
   "source": [
    "a_MK = Tensor.fromRandom([\"M\", \"K\"], [M, K], density, 5, seed=seed)\n",
    "a_MK.setColor(\"blue\").setName(\"a_MK\")\n",
    "displayTensor(a_MK)\n",
    "\n",
    "\n"
   ]
  },
  {
   "cell_type": "markdown",
   "metadata": {},
   "source": [
    "## Create some reference tensors"
   ]
  },
  {
   "cell_type": "code",
   "execution_count": null,
   "metadata": {},
   "outputs": [],
   "source": [
    "a_MK = Tensor.fromUncompressed([\"M\", \"K\"], \n",
    "                               [[0, 0, 4, 0, 0, 5],\n",
    "                                [3, 2, 0, 3, 0, 2],\n",
    "                                [0, 2, 0, 0, 1, 2],\n",
    "                                [0, 0, 0, 0, 0, 0],\n",
    "                                [2, 5, 0, 0, 0, 5],\n",
    "                                [4, 1, 0, 0, 0, 0],\n",
    "                                [5, 0, 0, 1, 0, 0],\n",
    "                                [4, 0, 0, 5, 1, 3]])\n",
    "\n",
    "# Create swapped rank version of a\n",
    "a_KM = a_MK.swapRanks()\n",
    "a_KM.setName(\"a_KM\")\n",
    "displayTensor(a_KM)\n",
    "\n",
    "M1 = 2\n",
    "M0 = (M+1)//M1\n",
    "\n",
    "K1 = 2\n",
    "K0 = (K+1)//K1\n",
    "\n",
    "a_MMKK = a_MK.splitUniform(M0).splitUniform(K0, depth=2)\n",
    "a_MMKK.setName(\"a_MMKK\")\n",
    "displayTensor(a_MMKK)\n",
    "\n",
    "a_MKMK = a_MMKK.swapRanks(depth=1)\n",
    "a_MKMK.setName(\"a_MKMK\")\n",
    "displayTensor(a_MKMK)\n",
    "\n",
    "a_KMMK = a_KM.splitUniform(K0).swapRanks(depth=1).splitUniform(M0, depth=1)\n",
    "a_KMMK.setName(\"a_KMMK\")\n",
    "displayTensor(a_KMMK)"
   ]
  },
  {
   "cell_type": "code",
   "execution_count": null,
   "metadata": {},
   "outputs": [],
   "source": [
    "a_KM_2 = a_MK.swizzleRanks([\"K\", \"M\"])\n",
    "displayTensor(a_KM_2)\n",
    "print(a_KM_2 == a_KM)\n",
    "\n",
    "a_MK_2 = a_KM_2.swizzleRanks([\"M\", \"K\"])\n",
    "displayTensor(a_MK_2)\n",
    "print(a_MK_2 == a_MK)\n",
    "\n",
    "a_MKMK_2 = a_MMKK.swizzleRanks([\"M.1\",\"K.1\", \"M.0\", \"K.0\"])\n",
    "displayTensor(a_MKMK_2)\n",
    "print(a_MKMK_2 == a_MKMK)\n",
    "\n",
    "a_MMKK_2 = a_MKMK.swizzleRanks([\"M.1\", \"M.0\", \"K.1\", \"K.0\"])\n",
    "displayTensor(a_MMKK_2)\n",
    "print(a_MMKK_2 == a_MMKK)\n",
    "\n",
    "a_M0M1MK0K1 = a_MMKK.swizzleRanks([\"M.0\", \"M.1\", \"K.0\", \"K.1\"])\n",
    "displayTensor(a_M0M1MK0K1)"
   ]
  },
  {
   "cell_type": "markdown",
   "metadata": {},
   "source": [
    "## Testing Area"
   ]
  },
  {
   "cell_type": "code",
   "execution_count": null,
   "metadata": {},
   "outputs": [],
   "source": []
  },
  {
   "cell_type": "code",
   "execution_count": null,
   "metadata": {},
   "outputs": [],
   "source": []
  },
  {
   "cell_type": "code",
   "execution_count": null,
   "metadata": {},
   "outputs": [],
   "source": []
  }
 ],
 "metadata": {
  "kernelspec": {
   "display_name": "Python 3",
   "language": "python",
   "name": "python3"
  },
  "language_info": {
   "codemirror_mode": {
    "name": "ipython",
    "version": 3
   },
   "file_extension": ".py",
   "mimetype": "text/x-python",
   "name": "python",
   "nbconvert_exporter": "python",
   "pygments_lexer": "ipython3",
   "version": "3.8.8"
  }
 },
 "nbformat": 4,
 "nbformat_minor": 4
}
