{
 "cells": [
  {
   "cell_type": "markdown",
   "metadata": {
    "slideshow": {
     "slide_type": "-"
    }
   },
   "source": [
    "# Exploring sparse sliding windows\n",
    "\n",
    "First, include some libraries"
   ]
  },
  {
   "cell_type": "code",
   "execution_count": null,
   "metadata": {},
   "outputs": [],
   "source": [
    "# Begin - startup boilerplate code\n",
    "\n",
    "import pkgutil\n",
    "\n",
    "if 'fibertree_bootstrap' not in [pkg.name for pkg in pkgutil.iter_modules()]:\n",
    "  !python3 -m pip  install git+https://github.com/Fibertree-project/fibertree-bootstrap --quiet\n",
    "\n",
    "# End - startup boilerplate code\n",
    "\n",
    "\n",
    "from fibertree_bootstrap import *\n",
    "fibertree_bootstrap()"
   ]
  },
  {
   "cell_type": "markdown",
   "metadata": {},
   "source": [
    "## Convolution Inputs\n"
   ]
  },
  {
   "cell_type": "code",
   "execution_count": null,
   "metadata": {},
   "outputs": [],
   "source": [
    "i = Tensor.fromUncompressed([\"W\"], [ 1, 2, 3, 4, 5, 0, 7, 0, 9, 0, 0, 12, 13, 0, 0, 0, 16, 17, 18])\n",
    "\n",
    "displayTensor(i.setColor(\"blue\"))\n",
    "\n",
    "def printDistance(fiber, start_pos, window):\n",
    "    if len(window) > 0:\n",
    "        end_coord,_ = window[0]\n",
    "        end_pos = fiber.getPosition(end_coord)\n",
    "        print(f\"Search distance: {end_pos-start_pos}\")\n",
    "    else:\n",
    "        print(f\"Search distance: unknown - window empty\")\n",
    "\n",
    "\n"
   ]
  },
  {
   "cell_type": "markdown",
   "metadata": {},
   "source": [
    "## Sliding window (by 3)\n",
    "\n",
    "Optional start_pos keyword argument set to 0 to collect statistics on default behavior"
   ]
  },
  {
   "cell_type": "code",
   "execution_count": null,
   "metadata": {
    "scrolled": false
   },
   "outputs": [],
   "source": [
    "\n",
    "canvas = createCanvas(i)\n",
    "\n",
    "i_w = i.getRoot()\n",
    "\n",
    "S = 3\n",
    "W = i_w.getShape()[0]\n",
    "Q = W - S + 1\n",
    "\n",
    "for q in range(0, Q):\n",
    "    print(f\"Search for q={q} from start position=0\")\n",
    "    \n",
    "    window = i_w.getRange(q, S, start_pos=0)\n",
    "    printDistance(i_w, 0, window)\n",
    "    \n",
    "    for w, i_val in window:\n",
    "        pass\n",
    "        \n",
    "    win_coords = [(x,) for x in range(q, q+S)]\n",
    "    canvas.addFrame(win_coords)\n",
    "\n",
    "(count, distance) = i_w.getSavedPosStats()\n",
    "print(\"\")\n",
    "print(f\"Average search distance = {distance/count}\")\n",
    "    \n",
    "displayCanvas(canvas)"
   ]
  },
  {
   "cell_type": "markdown",
   "metadata": {},
   "source": [
    "## Sliding window (by 3) - with optimized search\n",
    "\n",
    "Optional start_pos keyword argument set naively to reduce search for next window"
   ]
  },
  {
   "cell_type": "code",
   "execution_count": null,
   "metadata": {
    "scrolled": false
   },
   "outputs": [],
   "source": [
    "\n",
    "canvas = createCanvas(i)\n",
    "\n",
    "i_w = i.getRoot()\n",
    "\n",
    "S = 3\n",
    "W = i_w.getShape()[0]\n",
    "Q = W - S + 1\n",
    "\n",
    "next_start_pos = 0\n",
    "\n",
    "for q in range(0, Q):\n",
    "\n",
    "    print(f\"Search for q={q} from start position={next_start_pos}\")\n",
    "\n",
    "    window = i_w.getRange(q, S, start_pos=next_start_pos)\n",
    "    printDistance(i_w, next_start_pos, window)\n",
    "\n",
    "    # Next start position could be as much as window size (S) before\n",
    "    # the position saved after the last search, but not less than the\n",
    "    # last start position. \n",
    "    next_start_pos = max(next_start_pos, i_w.getSavedPos()-S)\n",
    "    \n",
    "    for w, i_val in window:\n",
    "        pass\n",
    "      \n",
    "    win_coords = [(x,) for x in range(q, q+S)]\n",
    "    canvas.addFrame(win_coords)\n",
    "\n",
    "(count, distance) = i_w.getSavedPosStats()\n",
    "print(\"\")\n",
    "print(f\"Average search distance = {distance/count}\")\n",
    "    \n",
    "displayCanvas(canvas)"
   ]
  },
  {
   "cell_type": "markdown",
   "metadata": {},
   "source": [
    "## Sliding window (by 3) - with optimal search\n",
    "\n",
    "Optional start_pos keyword argument set to reduce search for next window"
   ]
  },
  {
   "cell_type": "code",
   "execution_count": null,
   "metadata": {
    "scrolled": false
   },
   "outputs": [],
   "source": [
    "\n",
    "canvas = createCanvas(i)\n",
    "\n",
    "i_w = i.getRoot()\n",
    "\n",
    "S = 3\n",
    "W = i_w.getShape()[0]\n",
    "Q = W - S + 1\n",
    "\n",
    "next_start_pos = 0\n",
    "\n",
    "for q in range(0, Q):\n",
    "    \n",
    "    print(f\"Search for q={q} from start position={next_start_pos}\")\n",
    "\n",
    "    window = i_w.getRange(q, S, start_pos=next_start_pos)\n",
    "    printDistance(i_w, next_start_pos, window)\n",
    "    \n",
    "    start_pos_is_set = False\n",
    "    \n",
    "    for window_pos, (w, i_val) in enumerate(window):\n",
    "        # Next start position is the first position with a \n",
    "        # coordinate greater than the last start coordinate (q).\n",
    "        if not start_pos_is_set and w > q:\n",
    "            start_pos_is_set = True\n",
    "            next_start_pos = next_start_pos + window_pos\n",
    "            \n",
    "        pass\n",
    "        \n",
    "\n",
    "    # Maybe there is no element in the window with a coordinate\n",
    "    # greater than the starting coordinate (q). So see if we should\n",
    "    # keep looking at the same start position or bump it by one\n",
    "    if not start_pos_is_set:\n",
    "        cur_start_coord, _ = i_w[next_start_pos]\n",
    "        if cur_start_coord < q + 1:\n",
    "            next_start_pos += 1\n",
    "\n",
    "    win_coords = [(x,) for x in range(q, q+S)]\n",
    "    canvas.addFrame(win_coords)\n",
    "\n",
    "(count, distance) = i_w.getSavedPosStats()\n",
    "print(\"\")\n",
    "print(f\"Average search distance = {distance/count}\")\n",
    "    \n",
    "displayCanvas(canvas)"
   ]
  },
  {
   "cell_type": "markdown",
   "metadata": {},
   "source": [
    "## Testing area\n",
    "\n",
    "For running alternative algorithms"
   ]
  },
  {
   "cell_type": "code",
   "execution_count": null,
   "metadata": {},
   "outputs": [],
   "source": []
  },
  {
   "cell_type": "code",
   "execution_count": null,
   "metadata": {},
   "outputs": [],
   "source": []
  },
  {
   "cell_type": "code",
   "execution_count": null,
   "metadata": {},
   "outputs": [],
   "source": []
  }
 ],
 "metadata": {
  "kernelspec": {
   "display_name": "Python 3",
   "language": "python",
   "name": "python3"
  },
  "language_info": {
   "codemirror_mode": {
    "name": "ipython",
    "version": 3
   },
   "file_extension": ".py",
   "mimetype": "text/x-python",
   "name": "python",
   "nbconvert_exporter": "python",
   "pygments_lexer": "ipython3",
   "version": "3.8.8"
  }
 },
 "nbformat": 4,
 "nbformat_minor": 2
}
