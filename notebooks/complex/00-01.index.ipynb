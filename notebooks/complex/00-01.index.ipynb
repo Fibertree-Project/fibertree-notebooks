{
 "cells": [
  {
   "cell_type": "markdown",
   "id": "1c645900",
   "metadata": {},
   "source": [
    "# Complex:  More complex forms\n",
    "\n",
    "- **Sliding-window** - Illustration of a sliding window\n",
    "[\\[notebook\\]](./sliding-window.ipynb)\n",
    "[\\[colab\\]](https://colab.research.google.com/github/Fibertree-Project/fibertree-notebooks/blob/master/notebooks/complex/sliding-window.ipynb)\n",
    "\n",
    "- **Skewed-convolution** - Illustration of a skewed computation\n",
    "[\\[notebook\\]](./skewed-convolution.ipynb)\n",
    "[\\[colab\\]](https://colab.research.google.com/github/Fibertree-Project/fibertree-notebooks/blob/master/notebooks/complex/skewed-convolution.ipynb)\n",
    "\n",
    "- **Pipeline** - Illustration of a pipelined dataflow\n",
    "[\\[notebook\\]](./pipeline.ipynb)\n",
    "[\\[colab\\]](https://colab.research.google.com/github/Fibertree-Project/fibertree-notebooks/blob/master/notebooks/complex/pipeline.ipynb)\n"
   ]
  }
 ],
 "metadata": {
  "kernelspec": {
   "display_name": "Python 3 (ipykernel)",
   "language": "python",
   "name": "python3"
  },
  "language_info": {
   "codemirror_mode": {
    "name": "ipython",
    "version": 3
   },
   "file_extension": ".py",
   "mimetype": "text/x-python",
   "name": "python",
   "nbconvert_exporter": "python",
   "pygments_lexer": "ipython3",
   "version": "3.10.8"
  }
 },
 "nbformat": 4,
 "nbformat_minor": 5
}
