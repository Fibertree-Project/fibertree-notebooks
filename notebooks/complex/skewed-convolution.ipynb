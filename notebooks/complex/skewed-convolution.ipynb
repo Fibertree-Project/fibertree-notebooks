{
 "cells": [
  {
   "cell_type": "code",
   "execution_count": null,
   "metadata": {},
   "outputs": [],
   "source": [
    "# Begin - startup boilerplate code\n",
    "\n",
    "import pkgutil\n",
    "\n",
    "if 'fibertree_bootstrap' not in [pkg.name for pkg in pkgutil.iter_modules()]:\n",
    "  !python3 -m pip  install git+https://github.com/Fibertree-project/fibertree-bootstrap --quiet\n",
    "\n",
    "# End - startup boilerplate code\n",
    "\n",
    "\n",
    "from fibertree_bootstrap import *\n",
    "fibertree_bootstrap(style=\"tree\", animation=\"spacetime\")"
   ]
  },
  {
   "cell_type": "code",
   "execution_count": null,
   "metadata": {},
   "outputs": [],
   "source": [
    "def setInstance(instance):\n",
    "    global i\n",
    "    global f\n",
    "    global o_verify\n",
    "    \n",
    "    global S\n",
    "    global W\n",
    "    global Q\n",
    "    \n",
    "    if instance == \"sparse\":\n",
    "        i = Tensor.fromUncompressed([\"W\"], [1, 0, 2, 0, 3, 1, 2, 3])\n",
    "        f = Tensor.fromUncompressed([\"S\"], [1, 0, 3])\n",
    "        o_verify = Tensor.fromUncompressed([\"Q\"], [7, 0, 11, 3, 9, 10])\n",
    "    else:\n",
    "        i = Tensor.fromUncompressed([\"W\"], [1, 4, 2, 4, 3, 1, 2, 3])\n",
    "        f = Tensor.fromUncompressed([\"S\"], [1, 2, 3])\n",
    "        o_verify = Tensor.fromUncompressed([\"Q\"], [15, 20, 19, 13, 11, 14])\n",
    "\n",
    "    i.setName(\"I\").setColor(\"blue\")\n",
    "    f.setName(\"F\").setColor(\"green\")\n",
    "    \n",
    "    S = f.getShape()[0]\n",
    "    W = i.getShape()[0]\n",
    "    Q = W-S+1\n",
    "\n",
    "    print(f\"W = {W}\")\n",
    "    print(f\"S = {S}\")\n",
    "    print(f\"Q = {Q}\")\n",
    "    print(\"\")\n",
    "    \n",
    "    print(\"Input activations\")\n",
    "    displayTensor(i)\n",
    "    print(\"Filter Weights\")\n",
    "    displayTensor(f)\n",
    "    print(\"Output activations (expected)\")\n",
    "    displayTensor(o_verify)\n",
    "\n",
    "\n",
    "select_instance = interactive(setInstance,\n",
    "                              instance=[\"dense\", \"sparse\"])\n",
    "\n",
    "display(select_instance)\n",
    "\n"
   ]
  },
  {
   "cell_type": "code",
   "execution_count": null,
   "metadata": {
    "scrolled": false
   },
   "outputs": [],
   "source": [
    "o = Tensor(rank_ids=[\"Q\"]).setName(\"O\")\n",
    "\n",
    "f_s = f.getRoot()\n",
    "i_w = i.getRoot()\n",
    "o_q = o.getRoot()\n",
    "\n",
    "print(\"Convolution\")\n",
    "\n",
    "output_shape = Fiber(coords=range(Q), initial=1)\n",
    "\n",
    "canvas = createCanvas(f, i, o)\n",
    "\n",
    "for q, (o_ref, _) in o_q << output_shape:\n",
    "    print(f\"Processing output: ({q}, ({o_ref}))\")\n",
    "    for w, (f_val, i_val) in f_s.project(lambda s: q+s) & i_w:\n",
    "        print(f\"  Processing weights and activations ({w}, ({f_val}, {i_val})\")\n",
    "\n",
    "        s = w-q\n",
    "        \n",
    "        # Assign work to a pe based on the \"position\" of the weight in the fiber\n",
    "        pe = f_s.getPosition(s)\n",
    "\n",
    "        o_ref += f_val * i_val\n",
    "        canvas.addActivity((w-q,), (w,), (q,), worker=f\"PE{pe}\")\n",
    "    canvas.addFrame()\n",
    "\n",
    "displayTensor(o)\n",
    "displayCanvas(canvas)\n",
    "\n",
    "assert o == o_verify"
   ]
  },
  {
   "cell_type": "code",
   "execution_count": null,
   "metadata": {
    "scrolled": false
   },
   "outputs": [],
   "source": [
    "o = Tensor(rank_ids=[\"Q\"]).setName(\"O\")\n",
    "\n",
    "f_s = f.getRoot()\n",
    "i_w = i.getRoot()\n",
    "o_q = o.getRoot()\n",
    "\n",
    "print(\"Convolution\")\n",
    "\n",
    "output_shape = Fiber(coords=range(Q), initial=1)\n",
    "\n",
    "canvas = createCanvas(f, i, o)\n",
    "\n",
    "for q, (o_ref, _) in o_q << output_shape:\n",
    "    print(f\"Processing output: ({q}, ({o_ref}))\")\n",
    "    for (w, (f_val, i_val)) in f_s.project(lambda s: q+s) & i_w:\n",
    "        print(f\"  Processing weights and activations ({w}, ({f_val}, {i_val})\")\n",
    "\n",
    "        s = w-q\n",
    "        \n",
    "        # Assign work to a pe based on the \"position\" of the weight in the fiber\n",
    "        pe = f_s.getPosition(s)\n",
    "        \n",
    "        o_ref += f_val * i_val\n",
    "        canvas.addActivity((s,), (w,), (q,), worker=f\"PE{pe}\", skew=pe)\n",
    "    canvas.addFrame()\n",
    "\n",
    "displayTensor(o)\n",
    "displayCanvas(canvas)\n",
    "\n",
    "assert o == o_verify"
   ]
  },
  {
   "cell_type": "code",
   "execution_count": null,
   "metadata": {},
   "outputs": [],
   "source": []
  },
  {
   "cell_type": "code",
   "execution_count": null,
   "metadata": {},
   "outputs": [],
   "source": []
  },
  {
   "cell_type": "code",
   "execution_count": null,
   "metadata": {},
   "outputs": [],
   "source": []
  }
 ],
 "metadata": {
  "kernelspec": {
   "display_name": "Python 3",
   "language": "python",
   "name": "python3"
  },
  "language_info": {
   "codemirror_mode": {
    "name": "ipython",
    "version": 3
   },
   "file_extension": ".py",
   "mimetype": "text/x-python",
   "name": "python",
   "nbconvert_exporter": "python",
   "pygments_lexer": "ipython3",
   "version": "3.8.8"
  }
 },
 "nbformat": 4,
 "nbformat_minor": 4
}
