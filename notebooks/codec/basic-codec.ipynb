{
 "cells": [
  {
   "cell_type": "code",
   "execution_count": null,
   "metadata": {},
   "outputs": [],
   "source": [
    "# Begin - startup boilerplate code\n",
    "\n",
    "import pkgutil\n",
    "\n",
    "if 'fibertree_bootstrap' not in [pkg.name for pkg in pkgutil.iter_modules()]:\n",
    "  !python3 -m pip  install git+https://github.com/Fibertree-project/fibertree-bootstrap --quiet\n",
    "\n",
    "# End - startup boilerplate code\n",
    "\n",
    "\n",
    "from fibertree_bootstrap import *\n",
    "#fibertree_bootstrap(fibertree_bootstrap( --no-show-animations)"
   ]
  },
  {
   "cell_type": "markdown",
   "metadata": {},
   "source": [
    "# Test driver to encode a tensor using the codec"
   ]
  },
  {
   "cell_type": "code",
   "execution_count": null,
   "metadata": {},
   "outputs": [],
   "source": [
    "# given a tensor and descriptor, write it\n",
    "def try_format(tensor, descriptor, cumulative_payloads = None):\n",
    "    if cumulative_payloads is None:\n",
    "        cumulative_payloads = [True]*len(descriptor)\n",
    "    assert len(cumulative_payloads) == len(descriptor)\n",
    "    codec = Codec(tuple(descriptor), cumulative_payloads)\n",
    "\n",
    "    rank_names = tensor.getRankIds()\n",
    "    for i in range(0, len(rank_names)):\n",
    "        if isinstance(rank_names[i], list):\n",
    "            rank_names[i] = ''.join(rank_names[i])\n",
    "    # print(rank_names)\n",
    "\n",
    "    output = codec.get_output_dict(rank_names)\n",
    "    \n",
    "    # depth_start, root, rank ids, output dict\n",
    "    codec.encode(-1, tensor.getRoot(), rank_names, output)\n",
    "\n",
    "    codec.write_yaml(tensor, rank_names, descriptor, output)"
   ]
  },
  {
   "cell_type": "code",
   "execution_count": null,
   "metadata": {},
   "outputs": [],
   "source": [
    "def try_all_formats(tensor, possible_formats, descriptor):\n",
    "    # once we have built a full descriptor, try it\n",
    "    if len(descriptor) == len(tensor.getRankIds()):\n",
    "        try_format(tensor, descriptor)\n",
    "\n",
    "    else:\n",
    "        # add a format to the descriptor and recurse\n",
    "        for fmt in possible_formats:\n",
    "            temp = copy.deepcopy(descriptor)\n",
    "            temp.append(fmt)\n",
    "            try_all_formats(tensor, possible_formats, temp)"
   ]
  },
  {
   "cell_type": "markdown",
   "metadata": {},
   "source": [
    "# UU example"
   ]
  },
  {
   "cell_type": "code",
   "execution_count": null,
   "metadata": {},
   "outputs": [],
   "source": [
    "descriptor = [\"U\", \"U\"]\n",
    "test_data = [[0, 1], [2, 3]]\n",
    "test_mtx = Tensor.fromUncompressed([\"M\", \"K\"], test_data)\n",
    "\n",
    "try_format(test_mtx, descriptor)"
   ]
  },
  {
   "cell_type": "markdown",
   "metadata": {},
   "source": [
    "# UC example"
   ]
  },
  {
   "cell_type": "code",
   "execution_count": null,
   "metadata": {},
   "outputs": [],
   "source": [
    "descriptor = [\"U\", \"C\"]\n",
    "test_data = [[0, 1], [2, 3]]\n",
    "test_mtx = Tensor.fromUncompressed([\"M\", \"K\"], test_data)\n",
    "\n",
    "try_format(test_mtx, descriptor)"
   ]
  },
  {
   "cell_type": "markdown",
   "metadata": {},
   "source": [
    "# CU example "
   ]
  },
  {
   "cell_type": "code",
   "execution_count": null,
   "metadata": {
    "scrolled": false
   },
   "outputs": [],
   "source": [
    "# example from slides\n",
    "descriptor = [\"U\", \"C\"]\n",
    "test_data = [['a', 'b', 0, 'x'], [0, 0, 0, 0], [0, 0, 0, 0], ['c', 0, 'd', 0]]\n",
    "\n",
    "test_mtx = Tensor.fromUncompressed([\"M\", \"K\"], test_data)\n",
    "\n",
    "# displayTensor(test_mtx)\n",
    "try_format(test_mtx, descriptor)"
   ]
  },
  {
   "cell_type": "markdown",
   "metadata": {},
   "source": [
    "# CC example"
   ]
  },
  {
   "cell_type": "code",
   "execution_count": null,
   "metadata": {
    "scrolled": true
   },
   "outputs": [],
   "source": [
    "descriptor = [\"C\", \"C\"]\n",
    "test_data = [[0, 0], [0, 3]]\n",
    "test_mtx = Tensor.fromUncompressed([\"M\", \"K\"], test_data)\n",
    "\n",
    "try_format(test_mtx, descriptor)"
   ]
  },
  {
   "cell_type": "markdown",
   "metadata": {},
   "source": [
    "# try all bitvector combinations with U"
   ]
  },
  {
   "cell_type": "code",
   "execution_count": null,
   "metadata": {
    "scrolled": true
   },
   "outputs": [],
   "source": [
    "\"\"\" Test 2D tensor \"\"\"\n",
    "descriptor = [\"B\", \"C\"]\n",
    "ranks = [\"M\", \"K\"]\n",
    "\n",
    "test_data = [['a', 'b', 0, 0], [0, 0, 0, 0], [0, 0, 0, 0], ['c', 0, 'd', 0]]\n",
    "\n",
    "\n",
    "test_mtx = Tensor.fromUncompressed([\"M\", \"K\"], test_data)\n",
    "\n",
    "# displayTensor(test_mtx)\n",
    "try_all_formats(test_mtx, descriptor, [])"
   ]
  },
  {
   "cell_type": "markdown",
   "metadata": {},
   "source": [
    "# try C with B"
   ]
  },
  {
   "cell_type": "code",
   "execution_count": null,
   "metadata": {},
   "outputs": [],
   "source": [
    "\"\"\" Test 2D tensor \"\"\"\n",
    "descriptor = [\"B\", \"C\"]\n",
    "ranks = [\"M\", \"K\"]\n",
    "test_data = [[0, 0], [1, 0], [0, 0], [0, 3]]\n",
    "test_mtx = Tensor.fromUncompressed(ranks, test_data)\n",
    "try_all_formats(test_mtx, descriptor, [])"
   ]
  },
  {
   "cell_type": "markdown",
   "metadata": {},
   "source": [
    "# HT examples"
   ]
  },
  {
   "cell_type": "code",
   "execution_count": null,
   "metadata": {},
   "outputs": [],
   "source": [
    "# one dimension\n",
    "ranks = [\"X\"]\n",
    "test_data = [0, \"a\", 0, 0, 0, \"b\", 0, \"c\"]\n",
    "test_vec = Tensor.fromUncompressed(ranks, test_data)\n",
    "descriptor = [\"Hf\"]\n",
    "try_format(test_vec, descriptor)\n"
   ]
  },
  {
   "cell_type": "code",
   "execution_count": null,
   "metadata": {
    "scrolled": false
   },
   "outputs": [],
   "source": [
    "# H, U\n",
    "descriptor = [\"Hf\", \"U\"]\n",
    "ranks = [\"M\", \"K\"]\n",
    "test_data = [[0, 0], [\"a\", 0], [0, 0], [0, 0], [0, 0], [\"b\", \"c\"], [0, 0], [\"d\", 0]]\n",
    "test_mtx = Tensor.fromUncompressed(ranks, test_data)\n",
    "\n",
    "try_all_formats(test_mtx, descriptor, [])"
   ]
  },
  {
   "cell_type": "code",
   "execution_count": null,
   "metadata": {
    "scrolled": false
   },
   "outputs": [],
   "source": [
    "# H, C\n",
    "descriptor = [\"Hf\", \"C\"]\n",
    "ranks = [\"M\", \"K\"]\n",
    "test_data = [[0, 0], [\"a\", 0], [0, 0], [0, 0], [0, 0], [\"b\", \"c\"], [0, 0], [\"d\", 0]]\n",
    "test_mtx = Tensor.fromUncompressed(ranks, test_data)\n",
    "\n",
    "try_all_formats(test_mtx, descriptor, [])"
   ]
  },
  {
   "cell_type": "code",
   "execution_count": null,
   "metadata": {},
   "outputs": [],
   "source": [
    "# H, B\n",
    "descriptor = [\"Hf\", \"B\"]\n",
    "ranks = [\"M\", \"K\"]\n",
    "test_data = [[0, 0], [\"a\", 0], [0, 0], [0, 0], [0, 0], [\"b\", \"c\"], [0, 0], [\"d\", 0]]\n",
    "test_mtx = Tensor.fromUncompressed(ranks, test_data)\n",
    "\n",
    "try_all_formats(test_mtx, descriptor, [])"
   ]
  },
  {
   "cell_type": "markdown",
   "metadata": {},
   "source": [
    "# Tree examples"
   ]
  },
  {
   "cell_type": "code",
   "execution_count": null,
   "metadata": {
    "scrolled": false
   },
   "outputs": [],
   "source": [
    "# one rank\n",
    "\n",
    "ranks = [\"X\"]\n",
    "test_data = [0, \"a\", 0, \"b\", 0, \"c\", 0, \"d\", 0, \"e\", 0]\n",
    "\n",
    "test_vec = Tensor.fromUncompressed(ranks, test_data)\n",
    "\n",
    "descriptor = [\"T\"]\n",
    "try_format(test_vec, descriptor)"
   ]
  },
  {
   "cell_type": "markdown",
   "metadata": {},
   "source": [
    "# UT"
   ]
  },
  {
   "cell_type": "code",
   "execution_count": null,
   "metadata": {},
   "outputs": [],
   "source": [
    "ranks = [\"M\", \"K\"]\n",
    "descriptor = [\"U\", \"T\"]\n",
    "test_data = [[0, 0, 0, 0], [\"a0\", \"a1\", 0, \"a3\"], [0, 0, 0, 0], [\"b0\", 0, \"b2\", 0]]\n",
    "\n",
    "test_mtx = Tensor.fromUncompressed(ranks, test_data)\n",
    "try_format(test_mtx, descriptor)"
   ]
  },
  {
   "cell_type": "markdown",
   "metadata": {},
   "source": [
    "# CT"
   ]
  },
  {
   "cell_type": "code",
   "execution_count": null,
   "metadata": {},
   "outputs": [],
   "source": [
    "# mtx defn\n",
    "ranks = [\"M\", \"K\"]\n",
    "descriptor = [\"C\", \"T\"]\n",
    "test_data = [[0, 0, 0, 0], [\"a0\", \"a1\", 0, \"a3\"], [0, 0, 0, 0], [\"b0\", 0, \"b2\", 0]]\n",
    "\n",
    "test_mtx = Tensor.fromUncompressed(ranks, test_data)\n",
    "try_format(test_mtx, descriptor)"
   ]
  },
  {
   "cell_type": "markdown",
   "metadata": {},
   "source": [
    "# TT"
   ]
  },
  {
   "cell_type": "code",
   "execution_count": null,
   "metadata": {},
   "outputs": [],
   "source": [
    "# mtx defn\n",
    "ranks = [\"M\", \"K\"]\n",
    "descriptor = [\"T\", \"T\"]\n",
    "test_data = [[0, 0, 0, 0], [\"a0\", \"a1\", 0, \"a3\"], [0, 0, 0, 0], [\"b0\", 0, \"b2\", 0]]\n",
    "\n",
    "test_mtx = Tensor.fromUncompressed(ranks, test_data)\n",
    "try_format(test_mtx, descriptor)"
   ]
  },
  {
   "cell_type": "markdown",
   "metadata": {},
   "source": [
    "# Tree example with flattening"
   ]
  },
  {
   "cell_type": "code",
   "execution_count": null,
   "metadata": {
    "scrolled": false
   },
   "outputs": [],
   "source": [
    "# mtx defn\n",
    "ranks = [\"M\", \"K\"]\n",
    "test_data = [[0, 0, 0, 0], [\"a0\", \"a1\", 0, \"a3\"], [0, 0, 0, 0], [\"b0\", 0, \"b2\", 0]]\n",
    "\n",
    "test_mtx = Tensor.fromUncompressed(ranks, test_data)\n",
    "tensor2 = test_mtx.flattenRanks(coord_style=\"tuple\")\n",
    "displayTensor(tensor2)\n",
    "\n",
    "\n",
    "descriptor = ['T']\n",
    "try_format(tensor2, descriptor)"
   ]
  },
  {
   "cell_type": "markdown",
   "metadata": {},
   "source": [
    "# TU"
   ]
  },
  {
   "cell_type": "code",
   "execution_count": null,
   "metadata": {},
   "outputs": [],
   "source": [
    "# mtx defn\n",
    "ranks = [\"M\", \"K\"]\n",
    "descriptor = [\"T\", \"U\"]\n",
    "test_data = [[0, 0, 0, 0], [\"a0\", \"a1\", 0, \"a3\"], [0, 0, 0, 0], [\"b0\", 0, \"b2\", 0]]\n",
    "\n",
    "test_mtx = Tensor.fromUncompressed(ranks, test_data)\n",
    "try_format(test_mtx, descriptor)"
   ]
  },
  {
   "cell_type": "markdown",
   "metadata": {},
   "source": [
    "# BT"
   ]
  },
  {
   "cell_type": "code",
   "execution_count": null,
   "metadata": {},
   "outputs": [],
   "source": [
    "# mtx defn\n",
    "ranks = [\"M\", \"K\"]\n",
    "descriptor = [\"B\", \"T\"]\n",
    "test_data = [[0, 0, 0, 0], [\"a0\", \"a1\", 0, \"a3\"], [0, 0, 0, 0], [\"b0\", 0, \"b2\", 0]]\n",
    "\n",
    "test_mtx = Tensor.fromUncompressed(ranks, test_data)\n",
    "try_format(test_mtx, descriptor)"
   ]
  },
  {
   "cell_type": "markdown",
   "metadata": {},
   "source": [
    "# non-cumulative example"
   ]
  },
  {
   "cell_type": "code",
   "execution_count": null,
   "metadata": {},
   "outputs": [],
   "source": [
    "ranks = [\"M\", \"K\"]\n",
    "\n",
    "# cumulative\n",
    "descriptor = [\"U\", \"C\"]\n",
    "test_data = [[0, 0, 0, 0], [\"a0\", \"a1\", 0, \"a3\"], [0, 0, 0, 0], [\"b0\", 0, \"b2\", 0]]\n",
    "\n",
    "test_mtx = Tensor.fromUncompressed(ranks, test_data)\n",
    "try_format(test_mtx, descriptor)\n",
    "\n",
    "# non-cumulative\n",
    "descriptor = [\"U\", \"C\"]\n",
    "try_format(test_mtx, descriptor, [False, True])\n"
   ]
  },
  {
   "cell_type": "code",
   "execution_count": null,
   "metadata": {},
   "outputs": [],
   "source": [
    "ranks = [\"M\", \"K\"]\n",
    "\n",
    "# cumulative\n",
    "descriptor = [\"C\", \"C\"]\n",
    "test_data = [[0, 0, 0, 0], [\"a0\", \"a1\", 0, \"a3\"], [0, 0, 0, 0], [\"b0\", 0, \"b2\", 0]]\n",
    "\n",
    "test_mtx = Tensor.fromUncompressed(ranks, test_data)\n",
    "try_format(test_mtx, descriptor)\n",
    "\n",
    "# non-cumulative\n",
    "descriptor = [\"C\", \"C\"]\n",
    "try_format(test_mtx, descriptor, [False, True])"
   ]
  },
  {
   "cell_type": "code",
   "execution_count": null,
   "metadata": {
    "scrolled": false
   },
   "outputs": [],
   "source": [
    "ranks = [\"M\", \"K\"]\n",
    "\n",
    "# cumulative\n",
    "descriptor = [\"U\", \"T\"]\n",
    "test_data = [[0, 0, 0, 0], [\"a0\", \"a1\", 0, \"a3\"], [0, 0, 0, 0], [\"b0\", 0, \"b2\", 0]]\n",
    "\n",
    "test_mtx = Tensor.fromUncompressed(ranks, test_data)\n",
    "try_format(test_mtx, descriptor)\n",
    "\n",
    "# non-cumulative\n",
    "descriptor = [\"U\", \"T\"]\n",
    "try_format(test_mtx, descriptor, [False, True])\n"
   ]
  },
  {
   "cell_type": "code",
   "execution_count": null,
   "metadata": {
    "scrolled": false
   },
   "outputs": [],
   "source": [
    "ranks = [\"M\", \"K\"]\n",
    "\n",
    "# cumulative\n",
    "descriptor = [\"T\", \"T\"]\n",
    "test_data = [[0, 0, 0, 0], [\"a0\", \"a1\", 0, \"a3\"], [0, 0, 0, 0], [\"b0\", 0, \"b2\", 0]]\n",
    "\n",
    "test_mtx = Tensor.fromUncompressed(ranks, test_data)\n",
    "try_format(test_mtx, descriptor)\n",
    "\n",
    "# non-cumulative\n",
    "descriptor = [\"T\", \"T\"]\n",
    "try_format(test_mtx, descriptor, [False, True])"
   ]
  },
  {
   "cell_type": "markdown",
   "metadata": {},
   "source": [
    "# RLE examples"
   ]
  },
  {
   "cell_type": "code",
   "execution_count": null,
   "metadata": {},
   "outputs": [],
   "source": [
    "# one rank\n",
    "\n",
    "ranks = [\"X\"]\n",
    "test_data = [0, \"a\", 0, \"b\", 0, \"c\", 0, \"d\", 0, \"e\", 0]\n",
    "\n",
    "test_vec = Tensor.fromUncompressed(ranks, test_data)\n",
    "\n",
    "descriptor = [\"R\"]\n",
    "try_format(test_vec, descriptor)"
   ]
  },
  {
   "cell_type": "code",
   "execution_count": null,
   "metadata": {},
   "outputs": [],
   "source": [
    "ranks = [\"M\", \"K\"]\n",
    "descriptor = [\"U\", \"R\"]\n",
    "test_data = [[0, 0, 0, 0], [\"a0\", \"a1\", 0, \"a3\"], [0, 0, 0, 0], [\"b0\", 0, \"b2\", 0]]\n",
    "\n",
    "test_mtx = Tensor.fromUncompressed(ranks, test_data)\n",
    "try_format(test_mtx, descriptor)"
   ]
  },
  {
   "cell_type": "code",
   "execution_count": null,
   "metadata": {},
   "outputs": [],
   "source": [
    "# mtx defn\n",
    "ranks = [\"M\", \"K\"]\n",
    "descriptor = [\"C\", \"R\"]\n",
    "test_data = [[0, 0, 0, 0], [\"a0\", \"a1\", 0, \"a3\"], [0, 0, 0, 0], [\"b0\", 0, \"b2\", 0]]\n",
    "\n",
    "test_mtx = Tensor.fromUncompressed(ranks, test_data)\n",
    "try_format(test_mtx, descriptor)"
   ]
  },
  {
   "cell_type": "code",
   "execution_count": null,
   "metadata": {},
   "outputs": [],
   "source": []
  }
 ],
 "metadata": {
  "kernelspec": {
   "display_name": "Python 3",
   "language": "python",
   "name": "python3"
  },
  "language_info": {
   "codemirror_mode": {
    "name": "ipython",
    "version": 3
   },
   "file_extension": ".py",
   "mimetype": "text/x-python",
   "name": "python",
   "nbconvert_exporter": "python",
   "pygments_lexer": "ipython3",
   "version": "3.6.9"
  }
 },
 "nbformat": 4,
 "nbformat_minor": 4
}
