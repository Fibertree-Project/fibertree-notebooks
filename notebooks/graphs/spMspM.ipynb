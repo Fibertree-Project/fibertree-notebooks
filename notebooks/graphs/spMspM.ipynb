{
 "cells": [
  {
   "cell_type": "markdown",
   "metadata": {},
   "source": [
    "# SpMSpM\n",
    "\n",
    "First, include some libraries"
   ]
  },
  {
   "cell_type": "code",
   "execution_count": null,
   "metadata": {},
   "outputs": [],
   "source": [
    "# Begin - startup boilerplate code\n",
    "\n",
    "import pkgutil\n",
    "\n",
    "if 'fibertree_bootstrap' not in [pkg.name for pkg in pkgutil.iter_modules()]:\n",
    "  !python3 -m pip  install git+https://github.com/Fibertree-project/fibertree-bootstrap --quiet\n",
    "\n",
    "# End - startup boilerplate code\n",
    "\n",
    "\n",
    "from fibertree_bootstrap import *\n",
    "fibertree_bootstrap()"
   ]
  },
  {
   "cell_type": "markdown",
   "metadata": {},
   "source": [
    "## Read matrices\n"
   ]
  },
  {
   "cell_type": "code",
   "execution_count": null,
   "metadata": {},
   "outputs": [],
   "source": [
    "a = Tensor.fromYAMLfile(datafileName(\"sparse-matrix-a.yaml\"))\n",
    "b = Tensor.fromYAMLfile(datafileName(\"sparse-matrix-b.yaml\"))\n",
    "\n",
    "displayTensor(a.setColor(\"blue\"))\n",
    "displayTensor(b.setColor(\"green\"))\n",
    "\n",
    "    \n",
    "z_verify = Tensor.fromYAMLfile(datafileName(\"sparse-matrix-a_times_b.yaml\"))\n"
   ]
  },
  {
   "cell_type": "markdown",
   "metadata": {},
   "source": [
    "## A stationary - column major - matix multipy\n"
   ]
  },
  {
   "cell_type": "code",
   "execution_count": null,
   "metadata": {},
   "outputs": [],
   "source": [
    "z = Tensor(rank_ids=[\"M\", \"N\"])\n",
    "\n",
    "canvas = createCanvas(a, b, z)\n",
    "\n",
    "a_m = a.getRoot()\n",
    "b_k = b.getRoot()\n",
    "z_m = z.getRoot()\n",
    "\n",
    "#print(\"Processing z_m << a_m -> m, (z_n_ref, a_k)\")\n",
    "for m, (z_n_ref, a_k) in z_m << a_m:\n",
    "    #print(f\"    {m}, ({z_n_ref}, {a_k})\")\n",
    "    \n",
    "    #print(\"    Processing a_k & b_k -> k, (a_val, b_n)\")\n",
    "    for k, (a_val, b_n) in  a_k & b_k:\n",
    "        #print(f\"        {k}, ({a_val}, {b_n})\")\n",
    "\n",
    "        #print(\"        Processing z_n_ref << b_n -> n, (z_ref, b_val)\")\n",
    "        for n, (z_ref, (b_val)) in z_n_ref << b_n:\n",
    "            #print(f\"            {m}, ({z_ref}, {b_val})\")\n",
    "            z_ref += a_val * b_val\n",
    "            canvas.addFrame((m, k), (k, n), (m, n))\n",
    "\n",
    "displayCanvas(canvas)"
   ]
  },
  {
   "cell_type": "markdown",
   "metadata": {},
   "source": [
    "## Check result"
   ]
  },
  {
   "cell_type": "code",
   "execution_count": null,
   "metadata": {},
   "outputs": [],
   "source": [
    "z_verify == z"
   ]
  },
  {
   "cell_type": "markdown",
   "metadata": {},
   "source": [
    "## A stationary - column major - matix multipy - reversed\n"
   ]
  },
  {
   "cell_type": "code",
   "execution_count": null,
   "metadata": {},
   "outputs": [],
   "source": [
    "z = Tensor(rank_ids=[\"M\", \"N\"])\n",
    "\n",
    "a_m = a.getRoot()\n",
    "b_k = b.getRoot()\n",
    "z_m = z.getRoot()\n",
    "\n",
    "canvas = createCanvas(a, b, z)\n",
    "\n",
    "\n",
    "#print(\"Processing z_m << a_m -> m, (z_n_ref, a_k)\")\n",
    "for m, (z_n_ref, a_k) in reversed(z_m << a_m):\n",
    "    #print(f\"    {m}, ({z_n_ref}, {a_k})\")\n",
    "    \n",
    "    #print(\"    Processing a_k & b_k -> k, (a_val, b_n)\")\n",
    "    for k, (a_val, b_n) in  reversed(a_k & b_k):\n",
    "        #print(f\"        {k}, ({a_val}, {b_n})\")\n",
    "\n",
    "        #print(\"        Processing z_n_ref << b_n -> n, (z_ref, b_val)\")\n",
    "        for n, (z_ref, (b_val)) in reversed(z_n_ref << b_n):\n",
    "            #print(f\"            {n}, ({z_ref}, {b_val})\")\n",
    "            z_ref += a_val * b_val\n",
    "            canvas.addFrame((m, k), (k, n), (m, n))\n",
    "\n",
    "displayCanvas(canvas)\n"
   ]
  },
  {
   "cell_type": "markdown",
   "metadata": {},
   "source": [
    "## Check result"
   ]
  },
  {
   "cell_type": "code",
   "execution_count": null,
   "metadata": {},
   "outputs": [],
   "source": [
    "z_verify == z"
   ]
  },
  {
   "cell_type": "markdown",
   "metadata": {},
   "source": [
    "## Testing area\n",
    "\n",
    "For running alternative algorithms"
   ]
  },
  {
   "cell_type": "code",
   "execution_count": null,
   "metadata": {},
   "outputs": [],
   "source": []
  },
  {
   "cell_type": "code",
   "execution_count": null,
   "metadata": {},
   "outputs": [],
   "source": []
  }
 ],
 "metadata": {
  "kernelspec": {
   "display_name": "Python 3",
   "language": "python",
   "name": "python3"
  },
  "language_info": {
   "codemirror_mode": {
    "name": "ipython",
    "version": 3
   },
   "file_extension": ".py",
   "mimetype": "text/x-python",
   "name": "python",
   "nbconvert_exporter": "python",
   "pygments_lexer": "ipython3",
   "version": "3.8.8"
  }
 },
 "nbformat": 4,
 "nbformat_minor": 2
}
