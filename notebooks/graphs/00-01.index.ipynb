{
 "cells": [
  {
   "cell_type": "markdown",
   "id": "dbdf79ca",
   "metadata": {},
   "source": [
    "# Graphs\n",
    "\n",
    "- **Advance-simple** - Simple advance calculation\n",
    "[\\[notebook\\]](./advance-simple.ipynb)\n",
    "[\\[colab\\]](https://colab.research.google.com/github/Fibertree-Project/fibertree-notebooks/blob/master/notebooks/graphs/advance-simple.ipynb)\n",
    "\n",
    "- **Advance-tiled** - Tiled advance calculation\n",
    "[\\[notebook\\]](./advance-tiled.ipynb)\n",
    "[\\[colab\\]](https://colab.research.google.com/github/Fibertree-Project/fibertree-notebooks/blob/master/notebooks/graphs/advance-tiled.ipynb)\n",
    "\n",
    "- **BFS** - BFS caclulation\n",
    "[\\[notebook\\]](./bfs.ipynb)\n",
    "[\\[colab\\]](https://colab.research.google.com/github/Fibertree-Project/fibertree-notebooks/blob/master/notebooks/graphs/bfs.ipynb)\n",
    "\n",
    "- **Graph-scheduling** - Graph scheduling\n",
    "[\\[notebook\\]](./graph-scheduling.ipynb)\n",
    "[\\[colab\\]](https://colab.research.google.com/github/Fibertree-Project/fibertree-notebooks/blob/master/notebooks/graphs/graph-scheduling.ipynb)\n",
    "\n",
    "- **GraphABCD** - GraphABCD calculation\n",
    "[\\[notebook\\]](./graphABCD.ipynb)\n",
    "[\\[colab\\]](https://colab.research.google.com/github/Fibertree-Project/fibertree-notebooks/blob/master/notebooks/graphs/graphABCD.ipynb)\n",
    "\n",
    "- **PRN** - Page rank algorithm\n",
    "[\\[notebook\\]](./prn.ipynb)\n",
    "[\\[colab\\]](https://colab.research.google.com/github/Fibertree-Project/fibertree-notebooks/blob/master/notebooks/graphs/prn.ipynb)\n",
    "\n",
    "- **spMspM** - Sparse matrix/sparese matrix\n",
    "[\\[notebook\\]](./spMspM.ipynb)\n",
    "[\\[colab\\]](https://colab.research.google.com/github/Fibertree-Project/fibertree-notebooks/blob/master/notebooks/graphs/spMspM.ipynb)\n",
    "\n",
    "- **spMV** - Sparse matrix/vector\n",
    "[\\[notebook\\]](./spmv.ipynb)\n",
    "[\\[colab\\]](https://colab.research.google.com/github/Fibertree-Project/fibertree-notebooks/blob/master/notebooks/graphs/spmv.ipynb)\n",
    "\n",
    "- **Update-batching** - Update batching\n",
    "[\\[notebook\\]](./update-batching.ipynb)\n",
    "[\\[colab\\]](https://colab.research.google.com/github/Fibertree-Project/fibertree-notebooks/blob/master/notebooks/graphs/update-batching.ipynb)\n",
    "\n"
   ]
  }
 ],
 "metadata": {
  "kernelspec": {
   "display_name": "Python 3 (ipykernel)",
   "language": "python",
   "name": "python3"
  },
  "language_info": {
   "codemirror_mode": {
    "name": "ipython",
    "version": 3
   },
   "file_extension": ".py",
   "mimetype": "text/x-python",
   "name": "python",
   "nbconvert_exporter": "python",
   "pygments_lexer": "ipython3",
   "version": "3.10.8"
  }
 },
 "nbformat": 4,
 "nbformat_minor": 5
}
