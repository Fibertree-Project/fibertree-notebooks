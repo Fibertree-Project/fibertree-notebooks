{
 "cells": [
  {
   "cell_type": "markdown",
   "metadata": {
    "slideshow": {
     "slide_type": "-"
    }
   },
   "source": [
    "# Exploring Page Rank Nibble (Untiled and Runtime Incremental Tiling)\n",
    "\n",
    "First, include some libraries"
   ]
  },
  {
   "cell_type": "code",
   "execution_count": 1,
   "metadata": {},
   "outputs": [
    {
     "data": {
      "application/vnd.jupyter.widget-view+json": {
       "model_id": "96e753dd6fbf4cdc9f1b27b436858adc",
       "version_major": 2,
       "version_minor": 0
      },
      "text/plain": [
       "interactive(children=(Dropdown(description='style', options=('tree', 'uncompressed', 'tree+uncompressed'), val…"
      ]
     },
     "metadata": {},
     "output_type": "display_data"
    },
    {
     "data": {
      "application/vnd.jupyter.widget-view+json": {
       "model_id": "426fd1fffa39460592a28248c102e150",
       "version_major": 2,
       "version_minor": 0
      },
      "text/plain": [
       "Button(description='Run all cells below', style=ButtonStyle())"
      ]
     },
     "metadata": {},
     "output_type": "display_data"
    },
    {
     "data": {
      "application/javascript": [
       "IPython.notebook.select_next()"
      ],
      "text/plain": [
       "<IPython.core.display.Javascript object>"
      ]
     },
     "metadata": {},
     "output_type": "display_data"
    },
    {
     "data": {
      "application/javascript": [
       "IPython.notebook.execute_cells_below()"
      ],
      "text/plain": [
       "<IPython.core.display.Javascript object>"
      ]
     },
     "metadata": {},
     "output_type": "display_data"
    }
   ],
   "source": [
    "# Begin - startup boilerplate code\n",
    "\n",
    "import pkgutil\n",
    "\n",
    "if 'fibertree_bootstrap' not in [pkg.name for pkg in pkgutil.iter_modules()]:\n",
    "  !python3 -m pip  install git+https://github.com/Fibertree-project/fibertree-bootstrap --quiet\n",
    "\n",
    "# End - startup boilerplate code\n",
    "\n",
    "\n",
    "from fibertree_bootstrap import *\n",
    "fibertree_bootstrap()"
   ]
  },
  {
   "cell_type": "markdown",
   "metadata": {},
   "source": [
    "# Generate Coordinate Range Fiber"
   ]
  },
  {
   "cell_type": "code",
   "execution_count": 2,
   "metadata": {},
   "outputs": [],
   "source": [
    "def TileFiber_d(tileID, tileSize):\n",
    "    return Fiber(coords=[d0 for d0 in range(tileID*tileSize, (tileID+1)*tileSize)], initial=1 )"
   ]
  },
  {
   "cell_type": "markdown",
   "metadata": {},
   "source": [
    "#  Create Random Matrix\n"
   ]
  },
  {
   "cell_type": "code",
   "execution_count": 3,
   "metadata": {},
   "outputs": [],
   "source": [
    "import random \n",
    "\n",
    "random.seed(0)\n",
    "def GenerateRandomGraph(numVertex=8, sparsity=25, symmetric=True):\n",
    "    adjMatrix = [[0 for d in range(numVertex)] for s in range(numVertex)]\n",
    "    \n",
    "    genNode = int(numVertex * numVertex * sparsity / 100)\n",
    "    \n",
    "    for n in range(genNode):\n",
    "        while True:\n",
    "            src = random.randrange(numVertex)\n",
    "            dst = random.randrange(numVertex)\n",
    "            if src != dst:\n",
    "                break\n",
    "                \n",
    "        adjMatrix[src][dst] = 1\n",
    "        if symmetric:\n",
    "            adjMatrix[dst][src] = 1\n",
    "    \n",
    "    return adjMatrix"
   ]
  },
  {
   "cell_type": "markdown",
   "metadata": {},
   "source": [
    "# Create Random Frontier"
   ]
  },
  {
   "cell_type": "code",
   "execution_count": 4,
   "metadata": {},
   "outputs": [],
   "source": [
    "import random \n",
    "\n",
    "random.seed(0)\n",
    "def GenerateRandomFrontier(numVertex=8, frontierSize=8):\n",
    "    frontier = [ 0 for v in range(numVertex) ]\n",
    "\n",
    "    for n in range(frontierSize):\n",
    "        while True:\n",
    "            v = random.randrange(numVertex)\n",
    "            if frontier[v] != 1:\n",
    "                break\n",
    "        frontier[v] = 1\n",
    "        \n",
    "    frontier = Tensor.fromUncompressed([\"F\"], frontier)\n",
    "        \n",
    "    return frontier"
   ]
  },
  {
   "cell_type": "markdown",
   "metadata": {},
   "source": [
    "# Generate Graph Inputs"
   ]
  },
  {
   "cell_type": "code",
   "execution_count": 5,
   "metadata": {},
   "outputs": [],
   "source": [
    "#\n",
    "# Function to create graph inputs\n",
    "#\n",
    "\n",
    "\n",
    "# Create inputs based on the slides that Aamer used to do the initial SPMV mapping on Symphony\n",
    "def create_inputs(display=True, numNode=8):\n",
    "    # Adjacency matrix - Ranks \"S\" (source) and \"D\" (destination)\n",
    "\n",
    "    matrix = GenerateRandomGraph(numNode, 25)\n",
    "    adjMat = Tensor.fromUncompressed([ \"S\", \"D\"], matrix)\n",
    "\n",
    "    # Vector\n",
    "    srcData = Tensor.fromUncompressed([ \"S\" ], [ 100 for s in range(numNode) ])\n",
    "\n",
    "    # Vector\n",
    "    dstData = Tensor.fromUncompressed([ \"D\" ], [ 0 for d in range(numNode) ])\n",
    "    \n",
    "    if display:\n",
    "        displayTensor(adjMat)\n",
    "\n",
    "    if display:\n",
    "        displayTensor(srcData)\n",
    "\n",
    "    if display:\n",
    "        displayTensor(dstData)\n",
    "\n",
    "    return (dstData, adjMat, srcData)"
   ]
  },
  {
   "cell_type": "markdown",
   "metadata": {},
   "source": [
    "# Naive Untiled Page Rank Nibble"
   ]
  },
  {
   "cell_type": "code",
   "execution_count": 6,
   "metadata": {},
   "outputs": [
    {
     "data": {
      "image/png": "[encoded data removed]",
      "text/plain": [
       "<PIL.Image.Image image mode=RGB size=2480x330 at 0x7F42418312B0>"
      ]
     },
     "metadata": {},
     "output_type": "display_data"
    },
    {
     "data": {
      "image/png": "[encoded data removed]",
      "text/plain": [
       "<PIL.Image.Image image mode=RGB size=880x250 at 0x7F4241830130>"
      ]
     },
     "metadata": {},
     "output_type": "display_data"
    },
    {
     "data": {
      "image/png": "[encoded data removed]",
      "text/plain": [
       "<PIL.Image.Image image mode=RGB size=1040x250 at 0x7F4241831250>"
      ]
     },
     "metadata": {},
     "output_type": "display_data"
    }
   ],
   "source": [
    "V  = 8\n",
    "\n",
    "#Create inputs\n",
    "(output, adjMat, input) = create_inputs(False, V)\n",
    "\n",
    "#Create frontier\n",
    "frontier = GenerateRandomFrontier(V, 6)\n",
    "\n",
    "adjMat_s = adjMat.getRoot();\n",
    "f_s      = frontier.getRoot();\n",
    "input_v  = input.getRoot();\n",
    "output_v = output.getRoot();\n",
    "\n",
    "for s, ((adjMat_d, _), input_val) in ((adjMat_s & f_s) & input_v):\n",
    "    degree   = len(adjMat_d)\n",
    "    propVal  = input_val / degree\n",
    "    for d, (output_ref, _), in (output_v << adjMat_d):\n",
    "        output_ref += propVal\n",
    "\n",
    "displayTensor(adjMat_s)\n",
    "displayTensor(f_s)\n",
    "displayTensor(output_v)"
   ]
  },
  {
   "cell_type": "markdown",
   "metadata": {},
   "source": [
    "# Runtime Incremental Tiling"
   ]
  },
  {
   "cell_type": "code",
   "execution_count": 7,
   "metadata": {
    "scrolled": false
   },
   "outputs": [
    {
     "name": "stdout",
     "output_type": "stream",
     "text": [
      "Tiling Parameters:\n",
      "\tV  =  8\n",
      "\tD0 =  4\n",
      "\tF0 =  2\n",
      "\tD1 =  2\n",
      "\n",
      "\n",
      "Frontier: \n"
     ]
    },
    {
     "data": {
      "image/png": "[encoded data removed]",
      "text/plain": [
       "<PIL.Image.Image image mode=RGB size=1040x250 at 0x7F4241826FA0>"
      ]
     },
     "metadata": {},
     "output_type": "display_data"
    },
    {
     "name": "stdout",
     "output_type": "stream",
     "text": [
      "\n",
      "\n",
      "Frontier Split Equally: \n"
     ]
    },
    {
     "data": {
      "image/png": "[encoded data removed]",
      "text/plain": [
       "<PIL.Image.Image image mode=RGB size=1040x330 at 0x7F4241825040>"
      ]
     },
     "metadata": {},
     "output_type": "display_data"
    },
    {
     "name": "stdout",
     "output_type": "stream",
     "text": [
      "\n",
      "\n",
      "Graph: \n"
     ]
    },
    {
     "data": {
      "image/png": "[encoded data removed]",
      "text/plain": [
       "<PIL.Image.Image image mode=RGB size=2480x330 at 0x7F4241826AC0>"
      ]
     },
     "metadata": {},
     "output_type": "display_data"
    },
    {
     "name": "stdout",
     "output_type": "stream",
     "text": [
      "\n",
      "\n",
      "Processing: \n"
     ]
    },
    {
     "ename": "NameError",
     "evalue": "name 'GenFiber' is not defined",
     "output_type": "error",
     "traceback": [
      "\u001b[0;31m---------------------------------------------------------------------------\u001b[0m",
      "\u001b[0;31mNameError\u001b[0m                                 Traceback (most recent call last)",
      "\u001b[0;32m<ipython-input-7-f022f3e7f963>\u001b[0m in \u001b[0;36m<module>\u001b[0;34m\u001b[0m\n\u001b[1;32m     58\u001b[0m \u001b[0;34m\u001b[0m\u001b[0m\n\u001b[1;32m     59\u001b[0m             \u001b[0;31m# propagate for each destination (that belongs to the current d1 tile)\u001b[0m\u001b[0;34m\u001b[0m\u001b[0;34m\u001b[0m\u001b[0;34m\u001b[0m\u001b[0m\n\u001b[0;32m---> 60\u001b[0;31m             \u001b[0;32mfor\u001b[0m \u001b[0md\u001b[0m\u001b[0;34m,\u001b[0m \u001b[0;34m(\u001b[0m\u001b[0moutput_ref\u001b[0m\u001b[0;34m,\u001b[0m \u001b[0m_\u001b[0m\u001b[0;34m)\u001b[0m\u001b[0;34m,\u001b[0m \u001b[0;32min\u001b[0m \u001b[0;34m(\u001b[0m\u001b[0moutput_v\u001b[0m \u001b[0;34m<<\u001b[0m \u001b[0;34m(\u001b[0m\u001b[0madjMat_d\u001b[0m \u001b[0;34m&\u001b[0m \u001b[0mGenFiber\u001b[0m\u001b[0;34m(\u001b[0m\u001b[0md1\u001b[0m\u001b[0;34m,\u001b[0m\u001b[0mD0\u001b[0m\u001b[0;34m)\u001b[0m\u001b[0;34m)\u001b[0m\u001b[0;34m)\u001b[0m\u001b[0;34m:\u001b[0m\u001b[0;34m\u001b[0m\u001b[0;34m\u001b[0m\u001b[0m\n\u001b[0m\u001b[1;32m     61\u001b[0m                 \u001b[0mcanvas\u001b[0m\u001b[0;34m.\u001b[0m\u001b[0maddFrame\u001b[0m\u001b[0;34m(\u001b[0m\u001b[0;34m[\u001b[0m\u001b[0ms\u001b[0m\u001b[0;34m,\u001b[0m\u001b[0md\u001b[0m\u001b[0;34m]\u001b[0m\u001b[0;34m,\u001b[0m \u001b[0;34m[\u001b[0m\u001b[0ms\u001b[0m\u001b[0;34m]\u001b[0m\u001b[0;34m,\u001b[0m \u001b[0;34m[\u001b[0m\u001b[0md\u001b[0m\u001b[0;34m]\u001b[0m\u001b[0;34m)\u001b[0m\u001b[0;34m\u001b[0m\u001b[0;34m\u001b[0m\u001b[0m\n\u001b[1;32m     62\u001b[0m                 \u001b[0moutput_ref\u001b[0m \u001b[0;34m+=\u001b[0m \u001b[0mpropVal\u001b[0m\u001b[0;34m\u001b[0m\u001b[0;34m\u001b[0m\u001b[0m\n",
      "\u001b[0;31mNameError\u001b[0m: name 'GenFiber' is not defined"
     ]
    }
   ],
   "source": [
    "V  = 8\n",
    "Fsize = V\n",
    "\n",
    "F0 = 2\n",
    "D0 = 4\n",
    "\n",
    "print(\"Tiling Parameters:\")\n",
    "print(\"\\tV  = \", V)\n",
    "print(\"\\tD0 = \", D0)\n",
    "print(\"\\tF0 = \", F0)\n",
    "\n",
    "D1 = int((V/D0+1,V/D0) [(V%D0) == 0])\n",
    "\n",
    "print(\"\\tD1 = \", D1)\n",
    "\n",
    "#Create inputs\n",
    "(output, adjMat, input) = create_inputs(False, V)\n",
    "\n",
    "#Create frontier\n",
    "frontier = GenerateRandomFrontier(V, Fsize)\n",
    "\n",
    "adjMat_s = adjMat.getRoot();\n",
    "f_s      = frontier.getRoot();\n",
    "input_v  = input.getRoot();\n",
    "output_v = output.getRoot();\n",
    "\n",
    "print(\"\\n\\nFrontier: \")\n",
    "displayTensor(f_s)\n",
    "frontier_split = f_s.splitEqual(F0)\n",
    "\n",
    "print(\"\\n\\nFrontier Split Equally: \")\n",
    "displayTensor(frontier_split)\n",
    "\n",
    "print(\"\\n\\nGraph: \")\n",
    "displayTensor(adjMat_s)\n",
    "\n",
    "#print(\"\\n\\nAM HERE\")\n",
    "#tiler = [Fiber(coords=[d0 for d0 in range(d1*D0, (d1+1)*D0)], initial=1) for d1 in range(D1)]\n",
    "\n",
    "#print(\"TILER: \", tiler)\n",
    "\n",
    "# create a tensor frame\n",
    "canvas = TensorCanvas(adjMat, input, output)\n",
    "\n",
    "print(\"\\n\\nProcessing: \")\n",
    "# for each equally split frontier tile\n",
    "for f1, (fr_tile) in (frontier_split):\n",
    "    \n",
    "    # for each d1 tile\n",
    "    for d1 in range(D1):\n",
    "                \n",
    "        # for each source (i.e., element of the frontier tile)\n",
    "        for s, ((adjMat_d, _), input_val) in ((adjMat_s & fr_tile) & input_v):\n",
    "            \n",
    "            # determine the degree and the value to propogate\n",
    "            degree   = len(adjMat_d)\n",
    "            propVal  = input_val / degree\n",
    "\n",
    "            # propagate for each destination (that belongs to the current d1 tile)\n",
    "            for d, (output_ref, _), in (output_v << (adjMat_d & GenFiber(d1,D0))):\n",
    "                canvas.addFrame([s,d], [s], [d])\n",
    "                output_ref += propVal\n",
    "                \n",
    "\n",
    "print(\"\\n\\nGraph Output: \")\n",
    "displayTensor(output_v)\n",
    "\n",
    "displayCanvas(canvas)"
   ]
  },
  {
   "cell_type": "code",
   "execution_count": null,
   "metadata": {},
   "outputs": [],
   "source": []
  },
  {
   "cell_type": "code",
   "execution_count": null,
   "metadata": {},
   "outputs": [],
   "source": [
    "V  = 16\n",
    "Fsize = 8\n",
    "\n",
    "F0 = 2\n",
    "F1 = 4\n",
    "\n",
    "D0 = 4\n",
    "\n",
    "print(\"Tiling Parameters:\")\n",
    "print(\"\\tV  = \", V)\n",
    "print(\"\\tD0 = \", D0)\n",
    "print(\"\\tF0 = \", F0)\n",
    "\n",
    "D1 = int((V/D0+1,V/D0) [(V%D0) == 0])\n",
    "\n",
    "print(\"\\tD1 = \", D1)\n",
    "\n",
    "#Create inputs\n",
    "(output, adjMat, input) = create_inputs(False, V)\n",
    "\n",
    "#Create frontier\n",
    "frontier = GenerateRandomFrontier(V, Fsize)\n",
    "\n",
    "adjMat_s = adjMat.getRoot();\n",
    "f_s      = frontier.getRoot();\n",
    "input_v  = input.getRoot();\n",
    "output_v = output.getRoot();\n",
    "\n",
    "print(\"\\n\\nFrontier: \")\n",
    "displayTensor(f_s)\n",
    "frontier_s = f_s.splitEqual(F1)\n",
    "\n",
    "print(\"\\n\\nFrontier Split Equally: \")\n",
    "displayTensor(frontier_s)\n",
    "\n",
    "frontier_s.splitEqualBelow(F0)\n",
    "print(\"Frontier Split Twice:\")\n",
    "displayTensor(frontier_s)\n",
    "\n",
    "canvas = TensorCanvas(adjMat, input, output)\n",
    "\n",
    "AGGR_CNT = 4\n",
    "aggrWork = [ [] for s in range(AGGR_CNT)]\n",
    "\n",
    "myoutput = [0 for v in range(V)]\n",
    "\n",
    "print(\"\\n\\nProcessing: \")\n",
    "\n",
    "for f2, (F1_s) in (frontier_s):\n",
    "    for d1 in range(D1):\n",
    "        for f0, (F0_s) in (F1_s):\n",
    "\n",
    "            # process sources (i.e., element of the frontier tile)\n",
    "            for s, ((adjMat_d, _), input_val) in ((adjMat_s & F0_s) & input_v):\n",
    "\n",
    "                # determine the degree and the value to propogate\n",
    "                degree   = len(adjMat_d)\n",
    "                propVal  = input_val / degree\n",
    "                \n",
    "                # queue up work to the appropriate aggregator\n",
    "                for d, (_), in (adjMat_d & TileFiber_d(d1,D0)):\n",
    "                    aggrID = d % AGGR_CNT\n",
    "                    work = (d, propVal)\n",
    "                    aggrWork[aggrID].append(work)\n",
    "            \n",
    "            # have the aggregators perform their work for the d1 tile\n",
    "            for aggr in range(AGGR_CNT):\n",
    "                for work in aggrWork[aggr]:\n",
    "                    (d, propVal) = (work[0], work[1])\n",
    "                    myoutput[d] += propVal\n",
    "                    aggrWork[aggr].pop(0)\n",
    "\n",
    "print(\"\\n\\nGraph Output: \")\n",
    "displayTensor(output_v)\n",
    "\n",
    "print(\"\\n\\nAggregator Work: \", aggrWork)\n",
    "print(\"\\n\\nOutput: \", myoutput)\n",
    "\n",
    "#displayCanvas(canvas)\n"
   ]
  },
  {
   "cell_type": "markdown",
   "metadata": {},
   "source": [
    "# Runtime Incremental Tiling (Spatial and Temporal Tiling)"
   ]
  },
  {
   "cell_type": "code",
   "execution_count": null,
   "metadata": {
    "scrolled": true
   },
   "outputs": [],
   "source": [
    "V  = 16\n",
    "Fsize = 8\n",
    "\n",
    "F0 = 2\n",
    "F1 = 4\n",
    "\n",
    "D0 = 2\n",
    "\n",
    "print(\"Tiling Parameters:\")\n",
    "print(\"\\tV  = \", V)\n",
    "print(\"\\tD0 = \", D0)\n",
    "print(\"\\tF0 = \", F0)\n",
    "\n",
    "D1 = int((V/D0+1,V/D0) [(V%D0) == 0])\n",
    "\n",
    "print(\"\\tD1 = \", D1)\n",
    "\n",
    "#Create inputs\n",
    "(output, adjMat, input) = create_inputs(False, V)\n",
    "\n",
    "#Create the fiber pointers\n",
    "fiberPtr = Tensor.fromUncompressed([ \"S\" ], [ 0 for s in range(V) ])\n",
    "\n",
    "# create a workspace\n",
    "work     = Tensor(V)\n",
    "\n",
    "#Create frontier\n",
    "frontier = GenerateRandomFrontier(V, Fsize)\n",
    "\n",
    "adjMat_s = adjMat.getRoot();\n",
    "f_s      = frontier.getRoot();\n",
    "input_v  = input.getRoot();\n",
    "output_v = output.getRoot();\n",
    "fiberPtr_s = fiberPtr.getRoot();\n",
    "\n",
    "\n",
    "print(\"\\n\\nFrontier: \")\n",
    "displayTensor(f_s)\n",
    "frontier_s = f_s.splitEqual(F1)\n",
    "\n",
    "print(\"\\n\\nFrontier Split Equally: \")\n",
    "displayTensor(frontier_s)\n",
    "\n",
    "frontier_s.splitEqualBelow(F0)\n",
    "print(\"Frontier Split Twice:\")\n",
    "displayTensor(frontier_s)\n",
    "\n",
    "displayTensor(adjMat)\n",
    "\n",
    "canvas = TensorCanvas(adjMat, input, output)\n",
    "\n",
    "AGGR_CNT = 4\n",
    "aggrWork = [ [] for s in range(AGGR_CNT)]\n",
    "\n",
    "myoutput = [0 for v in range(V)]\n",
    "\n",
    "print(\"\\n\\nProcessing: Aggr_Cnt: \", AGGR_CNT)\n",
    "for f2, (F1_s) in (frontier_s):\n",
    "    for d1 in range(D1):\n",
    "        print(\"------------------------d1: \", d1, \"----------------------------\")\n",
    "        for f0, (F0_s) in (F1_s):\n",
    "\n",
    "            # process sources (i.e., element of the frontier tile)\n",
    "            for s, (fiberPtr_ref, ((adjMat_d, _), input_val)) in (fiberPtr_s << ((adjMat_s & F0_s) & input_v)):\n",
    "\n",
    "                # determine the degree and the value to propogate\n",
    "                degree   = len(adjMat_d)\n",
    "                propVal  = input_val / degree\n",
    "        \n",
    "        \n",
    "\n",
    "                adjMat_D0 = adjMat_d.GetRange(d1*D0, D0, Shortcut_Start_Pos=fiberPtr_ref)\n",
    "                fiberPtr_ref <<= adjMat_D0.Shortcut_End_Pos \n",
    "                \n",
    "                for d, (output_ref, _) in (output_v<<adjMat_D0):\n",
    "                    output_ref += propVal\n",
    "                \n",
    "                start    = int(fiberPtr_ref)\n",
    "            \n",
    "                for i in range(start, degree):\n",
    "                    (d, adjmat_val) = adjMat_d[i]\n",
    "                    if( int(d / D0) == d1 ):\n",
    "                        print(\"s: \", s, \" d1: \", d1, \" Pos: \", fiberPtr_ref, \" coord: \", adjMat_d[i])\n",
    "                    else:\n",
    "                        #print(\"fiber pointer of s: \", s, \" is now: \", fiberPtr_ref)\n",
    "                        break\n",
    "\n",
    "                fiberPtr_ref += (i - start)\n",
    "                print(\"fiber pointer of s: \", s, \" is now: \", fiberPtr_ref)\n",
    "\n",
    "                        \n",
    "                # queue up work to the appropriate aggregator\n",
    "                #for d, (_) in (adjMat_d):\n",
    "                #    aggrID = d % AGGR_CNT\n",
    "                #    work = (d, propVal)\n",
    "                #    aggrWork[aggrID].append(work)\n",
    "            \n",
    "                # have the aggregators perform their work for the d1 tile\n",
    "                #for aggr in range(AGGR_CNT):\n",
    "                #    for work in aggrWork[aggr]:\n",
    "                #        (d, propVal) = (work[0], work[1])\n",
    "                #        myoutput[d] += propVal\n",
    "                #    aggrWork[aggr].clear()\n",
    "                    #print(\"Work In Aggregators: \", aggrWork)\n",
    "\n",
    "print(\"\\n\\nGraph Output: \")\n",
    "displayTensor(output_v)\n",
    "\n",
    "print(\"\\n\\nAggregator Work: \", aggrWork)\n",
    "print(\"\\n\\nOutput: \", myoutput)\n",
    "\n",
    "#displayCanvas(canvas)"
   ]
  }
 ],
 "metadata": {
  "kernelspec": {
   "display_name": "Python 3",
   "language": "python",
   "name": "python3"
  },
  "language_info": {
   "codemirror_mode": {
    "name": "ipython",
    "version": 3
   },
   "file_extension": ".py",
   "mimetype": "text/x-python",
   "name": "python",
   "nbconvert_exporter": "python",
   "pygments_lexer": "ipython3",
   "version": "3.8.8"
  }
 },
 "nbformat": 4,
 "nbformat_minor": 2
}
