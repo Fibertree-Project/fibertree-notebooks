{
 "cells": [
  {
   "cell_type": "markdown",
   "metadata": {
    "slideshow": {
     "slide_type": "-"
    }
   },
   "source": [
    "# Exploring Cartesian Product\n",
    "\n",
    "First, include some libraries"
   ]
  },
  {
   "cell_type": "code",
   "execution_count": null,
   "metadata": {
    "scrolled": true
   },
   "outputs": [],
   "source": [
    "# Begin - startup boilerplate code\n",
    "\n",
    "import pkgutil\n",
    "\n",
    "if 'fibertree_bootstrap' not in [pkg.name for pkg in pkgutil.iter_modules()]:\n",
    "  !python3 -m pip  install git+https://github.com/Fibertree-project/fibertree-bootstrap --quiet\n",
    "\n",
    "# End - startup boilerplate code\n",
    "\n",
    "\n",
    "from fibertree_bootstrap import *\n",
    "fibertree_bootstrap()"
   ]
  },
  {
   "cell_type": "markdown",
   "metadata": {},
   "source": [
    "## IPNSW"
   ]
  },
  {
   "cell_type": "markdown",
   "metadata": {},
   "source": [
    "### Set Constants"
   ]
  },
  {
   "cell_type": "code",
   "execution_count": null,
   "metadata": {},
   "outputs": [],
   "source": [
    "# ---------- ipnsw ----------\n",
    "n_queries = 1\n",
    "starting_node = 651213\n",
    "data_dir = \"./ipnsw-data/\""
   ]
  },
  {
   "cell_type": "markdown",
   "metadata": {},
   "source": [
    "### Load tensors"
   ]
  },
  {
   "cell_type": "code",
   "execution_count": null,
   "metadata": {},
   "outputs": [],
   "source": [
    "graph_file = os.path.join(data_dir, \"ipnsw_graph.yaml\")\n",
    "graph = Tensor.fromYAMLfile(graph_file)\n",
    "# S == Source, D == Destination\n",
    "displayTensor(graph)"
   ]
  },
  {
   "cell_type": "code",
   "execution_count": null,
   "metadata": {},
   "outputs": [],
   "source": [
    "query_file = os.path.join(data_dir, \"ipnsw_query.yaml\")\n",
    "query = Tensor.fromYAMLfile(query_file)\n",
    "# Q == Number of Queries, P == # of Parameters\n",
    "displayTensor(query)"
   ]
  },
  {
   "cell_type": "code",
   "execution_count": null,
   "metadata": {},
   "outputs": [],
   "source": [
    "data_file = os.path.join(data_dir, \"ipnsw_data.yaml\")\n",
    "data = Tensor.fromYAMLfile(data_file)\n",
    "# S == Source (e.g., node id), P == # of parameters (max should be the same as query tensor)\n",
    "displayTensor(data)"
   ]
  },
  {
   "cell_type": "markdown",
   "metadata": {},
   "source": [
    "### Untiled, Single-Query Traversal"
   ]
  },
  {
   "cell_type": "code",
   "execution_count": null,
   "metadata": {},
   "outputs": [],
   "source": [
    "graph_s = graph.getRoot()\n",
    "data_s = data.getRoot()\n",
    "query_q = query.getRoot()\n",
    "\n",
    "#canvas = createCanvas(graph, data, query)\n",
    "\n",
    "for q, query_p in query_q:\n",
    "\n",
    "    curr_node = starting_node\n",
    "    curr_weight = 0 \n",
    "    for _, data_p in data_s: # distance calculation (dot product)\n",
    "        for _, (data_val, query_val) in data_p & query_p:\n",
    "            curr_weight -= data_val * query_val\n",
    "\n",
    "    changed = True\n",
    "\n",
    "    while changed:\n",
    "        changed = False\n",
    "\n",
    "        graph_d = graph_s.getPayload(curr_node)\n",
    "        print(f\"\\nthe closest node: {curr_node}\")\n",
    "        for d, _ in graph_d:\n",
    "            print(\"    the evaluted neighbor node: \", d)\n",
    "\n",
    "            neib_weight = 0\n",
    "            data_p = data_s.getPayload(d)\n",
    "            for c, (data_val, query_val) in data_p & query_p:\n",
    "                neib_weight -= data_val * query_val\n",
    "                #canvas.addFrame((curr_node, d), (curr_node, p), (q, p))\n",
    "\n",
    "            if neib_weight < curr_weight:\n",
    "                curr_weight = neib_weight\n",
    "                curr_node = d\n",
    "                changed = True\n",
    "\n",
    "    print(f\"\\nthe closest node: {curr_node}\")\n",
    "\n",
    "#displayCanvas(canvas)"
   ]
  },
  {
   "cell_type": "markdown",
   "metadata": {},
   "source": [
    "## Testing area\n",
    "\n",
    "For running alternative algorithms"
   ]
  },
  {
   "cell_type": "code",
   "execution_count": null,
   "metadata": {},
   "outputs": [],
   "source": []
  },
  {
   "cell_type": "code",
   "execution_count": null,
   "metadata": {},
   "outputs": [],
   "source": []
  },
  {
   "cell_type": "code",
   "execution_count": null,
   "metadata": {},
   "outputs": [],
   "source": []
  }
 ],
 "metadata": {
  "kernelspec": {
   "display_name": "Python 3",
   "language": "python",
   "name": "python3"
  },
  "language_info": {
   "codemirror_mode": {
    "name": "ipython",
    "version": 3
   },
   "file_extension": ".py",
   "mimetype": "text/x-python",
   "name": "python",
   "nbconvert_exporter": "python",
   "pygments_lexer": "ipython3",
   "version": "3.6.9"
  }
 },
 "nbformat": 4,
 "nbformat_minor": 4
}
