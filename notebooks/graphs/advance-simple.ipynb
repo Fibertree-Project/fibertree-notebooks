{
 "cells": [
  {
   "cell_type": "code",
   "execution_count": null,
   "metadata": {},
   "outputs": [],
   "source": [
    "# Begin - startup boilerplate code\n",
    "\n",
    "import pkgutil\n",
    "\n",
    "if 'fibertree_bootstrap' not in [pkg.name for pkg in pkgutil.iter_modules()]:\n",
    "  !python3 -m pip  install git+https://github.com/Fibertree-project/fibertree-bootstrap --quiet\n",
    "\n",
    "# End - startup boilerplate code\n",
    "\n",
    "\n",
    "from fibertree_bootstrap import *\n",
    "fibertree_bootstrap()"
   ]
  },
  {
   "cell_type": "markdown",
   "metadata": {},
   "source": [
    "## Create an adjacency matrix"
   ]
  },
  {
   "cell_type": "code",
   "execution_count": null,
   "metadata": {
    "scrolled": false
   },
   "outputs": [],
   "source": [
    "adjmat = Tensor.fromRandom([\"S\", \"D\"], [10, 10], (1.0, 0.3), 1, seed=10)\n",
    "adjmat.setName(\"AdjMat\")\n",
    "\n",
    "displayTensor(adjmat)"
   ]
  },
  {
   "cell_type": "markdown",
   "metadata": {},
   "source": [
    "## Create a frontier (type1)"
   ]
  },
  {
   "cell_type": "code",
   "execution_count": null,
   "metadata": {},
   "outputs": [],
   "source": [
    "frontier1 = Tensor.fromRandom([\"S\"], [10], (0.4,), 1, seed=20)\n",
    "frontier1.setName(\"Frontier1\")\n",
    "\n",
    "displayTensor(frontier1)"
   ]
  },
  {
   "cell_type": "markdown",
   "metadata": {},
   "source": [
    "## Simple advance kernel (type1)"
   ]
  },
  {
   "cell_type": "code",
   "execution_count": null,
   "metadata": {},
   "outputs": [],
   "source": [
    "next_frontier1 = Tensor(rank_ids=[\"S\"])\n",
    "next_frontier1.setName(\"Next_Frontier1\")\n",
    "\n",
    "adjmat_s = adjmat.getRoot()\n",
    "frontier_s =  frontier1.getRoot()\n",
    "next_frontier_s = next_frontier1.getRoot()\n",
    "\n",
    "canvas = createCanvas(frontier1, adjmat, next_frontier1)\n",
    "\n",
    "for s, (frontier_val, adjmat_d) in frontier_s & adjmat_s:\n",
    "    for d, (next_frontier_ref, _) in next_frontier_s << adjmat_d:\n",
    "        next_frontier_ref <<= 1\n",
    "        canvas.addFrame((s,), (s, d), (d,))\n",
    "        \n",
    "displayCanvas(canvas)"
   ]
  },
  {
   "cell_type": "markdown",
   "metadata": {},
   "source": [
    "## Create a frontier (type2)"
   ]
  },
  {
   "cell_type": "code",
   "execution_count": null,
   "metadata": {},
   "outputs": [],
   "source": [
    "frontier2 = Tensor.fromUncompressed(\"S\", frontier1.getRoot().getCoords())\n",
    "frontier2.setName(\"Frontier2\")\n",
    "\n",
    "displayTensor(frontier2)"
   ]
  },
  {
   "cell_type": "code",
   "execution_count": null,
   "metadata": {},
   "outputs": [],
   "source": [
    "next_frontier2 = Tensor(rank_ids=[\"X\"])\n",
    "next_frontier1.setName(\"Next_Frontier2\")\n",
    "\n",
    "adjmat_s = adjmat.getRoot()\n",
    "\n",
    "frontier_x =  frontier2.getRoot()\n",
    "next_frontier_x = next_frontier2.getRoot()\n",
    "\n",
    "canvas = createCanvas(frontier2, adjmat, next_frontier2)\n",
    "\n",
    "i = 0\n",
    "\n",
    "for x, frontier_sval in frontier_x:\n",
    "    frontier_sval = frontier_sval.value    # extract value out of payload\n",
    "    adjmat_d = adjmat_s.getPayload(frontier_sval, start_pos=0)\n",
    "    for d, _ in adjmat_d:\n",
    "        next_frontier_x.append(i, d)\n",
    "        i += 1\n",
    "        canvas.addFrame((x, ), (frontier_sval, d), (i,))\n",
    "\n",
    "(n, total) = adjmat_s.getSavedPosStats()\n",
    "print(f\"Average search distance = {total/n:4.2f}\")\n",
    "\n",
    "displayTensor(next_frontier2)\n",
    "displayCanvas(canvas)"
   ]
  },
  {
   "cell_type": "markdown",
   "metadata": {},
   "source": [
    "Optimize search in getPayload()"
   ]
  },
  {
   "cell_type": "code",
   "execution_count": null,
   "metadata": {},
   "outputs": [],
   "source": [
    "next_frontier2 = Tensor(rank_ids=[\"X\"])\n",
    "next_frontier1.setName(\"Next_Frontier2\")\n",
    "\n",
    "adjmat_s = adjmat.getRoot()\n",
    "\n",
    "frontier_x =  frontier2.getRoot()\n",
    "next_frontier_x = next_frontier2.getRoot()\n",
    "\n",
    "canvas = createCanvas(frontier2, adjmat, next_frontier2)\n",
    "\n",
    "i = 0\n",
    "last_pos = 0\n",
    "\n",
    "for x, frontier_sval in frontier_x:\n",
    "    frontier_sval = frontier_sval.value    # extract value out of payload\n",
    "    adjmat_d = adjmat_s.getPayload(frontier_sval, start_pos=last_pos)\n",
    "    last_pos = adjmat_s.getSavedPos()\n",
    "    \n",
    "    for d, _ in adjmat_d:\n",
    "        next_frontier_x.append(i, d)\n",
    "        i += 1\n",
    "        canvas.addFrame((x, ), (frontier_sval, d), (i,))\n",
    "\n",
    "(n, total) = adjmat_s.getSavedPosStats()\n",
    "print(f\"Average search distance = {total/n:4.2f}\")\n",
    "\n",
    "displayTensor(next_frontier2)\n",
    "displayCanvas(canvas)"
   ]
  },
  {
   "cell_type": "code",
   "execution_count": null,
   "metadata": {},
   "outputs": [],
   "source": []
  }
 ],
 "metadata": {
  "kernelspec": {
   "display_name": "Python 3",
   "language": "python",
   "name": "python3"
  },
  "language_info": {
   "codemirror_mode": {
    "name": "ipython",
    "version": 3
   },
   "file_extension": ".py",
   "mimetype": "text/x-python",
   "name": "python",
   "nbconvert_exporter": "python",
   "pygments_lexer": "ipython3",
   "version": "3.8.8"
  }
 },
 "nbformat": 4,
 "nbformat_minor": 4
}
