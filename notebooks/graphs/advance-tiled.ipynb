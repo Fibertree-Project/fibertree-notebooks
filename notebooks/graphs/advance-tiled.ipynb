{
 "cells": [
  {
   "cell_type": "code",
   "execution_count": null,
   "metadata": {
    "scrolled": true
   },
   "outputs": [],
   "source": [
    "# Begin - startup boilerplate code\n",
    "\n",
    "import pkgutil\n",
    "\n",
    "if 'fibertree_bootstrap' not in [pkg.name for pkg in pkgutil.iter_modules()]:\n",
    "  !python3 -m pip  install git+https://github.com/Fibertree-project/fibertree-bootstrap --quiet\n",
    "\n",
    "# End - startup boilerplate code\n",
    "\n",
    "\n",
    "from fibertree_bootstrap import *\n",
    "fibertree_bootstrap()"
   ]
  },
  {
   "cell_type": "markdown",
   "metadata": {},
   "source": [
    "## Create an adjancency matrix"
   ]
  },
  {
   "cell_type": "code",
   "execution_count": null,
   "metadata": {},
   "outputs": [],
   "source": [
    "adjmat = Tensor.fromRandom([\"S\", \"D\"], [10, 10], (1.0, 0.3), 1, seed=10, name=\"AdjMat\")\n",
    "\n",
    "displayTensor(adjmat)"
   ]
  },
  {
   "cell_type": "markdown",
   "metadata": {},
   "source": [
    "## Create a frontier"
   ]
  },
  {
   "cell_type": "code",
   "execution_count": null,
   "metadata": {},
   "outputs": [],
   "source": [
    "frontier = Tensor.fromRandom([\"S\"], [10], (0.4,), 1, seed=20, name=\"Frontier1\")\n",
    "\n",
    "displayTensor(frontier)"
   ]
  },
  {
   "cell_type": "markdown",
   "metadata": {},
   "source": [
    "## Create reference output using untiled traversal"
   ]
  },
  {
   "cell_type": "code",
   "execution_count": null,
   "metadata": {},
   "outputs": [],
   "source": [
    "# Note that S and D are really both V, so we can swap the names for clarity\n",
    "next_frontier_verify = Tensor(rank_ids=[\"S\"], name=\"NextFrontier_Verify\")\n",
    "\n",
    "frontier_s = frontier.getRoot()\n",
    "adjmat_s = adjmat.getRoot()\n",
    "next_frontier_verify_s = next_frontier_verify.getRoot()\n",
    "\n",
    "for s, (_, adjmat_d) in frontier_s & adjmat_s:\n",
    "    for d, (next_frontier_verify_ref, _) in next_frontier_verify_s << adjmat_d:\n",
    "        next_frontier_verify_ref <<= 1\n",
    "\n",
    "displayTensor(next_frontier_verify)\n",
    "        "
   ]
  },
  {
   "cell_type": "markdown",
   "metadata": {},
   "source": [
    "## Pre-tile adjacency matrix (concordant for source-stationary)"
   ]
  },
  {
   "cell_type": "code",
   "execution_count": null,
   "metadata": {
    "scrolled": true
   },
   "outputs": [],
   "source": [
    "S0 = 5\n",
    "D0 = 5\n",
    "\n",
    "adjmat_tiled = adjmat.splitUniform(D0, depth=1).splitUniform(S0).swapRanks(1)\n",
    "adjmat_tiled.setName(\"AdjMatTiled\")\n",
    "\n",
    "displayTensor(adjmat_tiled)"
   ]
  },
  {
   "cell_type": "markdown",
   "metadata": {},
   "source": [
    "### Swapped representation (concordant for destination-stationary)"
   ]
  },
  {
   "cell_type": "code",
   "execution_count": null,
   "metadata": {},
   "outputs": [],
   "source": [
    "adjmat_swapped = adjmat_tiled.swapRanks(2).swapRanks(0)\n",
    "adjmat_swapped.setName(\"AdjMatTiledSwapped\")\n",
    "displayTensor(adjmat_swapped)"
   ]
  },
  {
   "cell_type": "markdown",
   "metadata": {},
   "source": [
    "## Pre-process the frontier into tiles"
   ]
  },
  {
   "cell_type": "code",
   "execution_count": null,
   "metadata": {},
   "outputs": [],
   "source": [
    "frontier_tiled = frontier.splitUniform(S0)\n",
    "frontier_tiled.setName(\"FrontierTiled\")\n",
    "\n",
    "displayTensor(frontier_tiled)"
   ]
  },
  {
   "cell_type": "markdown",
   "metadata": {},
   "source": [
    "## Source-Stationary Tiled Advance Kernel"
   ]
  },
  {
   "cell_type": "code",
   "execution_count": null,
   "metadata": {},
   "outputs": [],
   "source": [
    "# Output frontier is produced tiled (concordant)\n",
    "next_frontier_tiled = Tensor(rank_ids=[\"S1\", \"S0\"], name = \"NextFrontierTiled\")\n",
    "\n",
    "adjmat_s1 = adjmat_tiled.getRoot()\n",
    "frontier_s1 =  frontier_tiled.getRoot()\n",
    "next_frontier_s1 = next_frontier_tiled.getRoot()\n",
    "\n",
    "canvas = createCanvas(frontier_tiled, adjmat_tiled, next_frontier_tiled)\n",
    "\n",
    "for s1, (frontier_s0, adjmat_d1) in frontier_s1 & adjmat_s1:\n",
    "    for d1, (next_frontier_s0, adjmat_s0) in next_frontier_s1 << adjmat_d1:\n",
    "        for s0, (_, adjmat_d0) in frontier_s0 & adjmat_s0:\n",
    "            for d0, (next_frontier_ref, _) in next_frontier_s0 << adjmat_d0:\n",
    "                next_frontier_ref <<= 1\n",
    "                canvas.addFrame((s1, s0), (s1, d1, s0, d0), (d1, d0))\n",
    "        \n",
    "displayCanvas(canvas)\n",
    "assert next_frontier_tiled.flattenRanks(coord_style=\"absolute\").getRoot() == next_frontier_verify.getRoot()"
   ]
  },
  {
   "cell_type": "markdown",
   "metadata": {},
   "source": [
    "## Destination-Stationary Tiled Advance Kernel"
   ]
  },
  {
   "cell_type": "code",
   "execution_count": null,
   "metadata": {},
   "outputs": [],
   "source": [
    "# Output frontier is produced tiled (concordant)\n",
    "next_frontier_tiled = Tensor(rank_ids=[\"S1\", \"S0\"], name = \"NextFrontierTiled\")\n",
    "\n",
    "adjmat_d1 = adjmat_swapped.getRoot()\n",
    "frontier_s1 =  frontier_tiled.getRoot()\n",
    "next_frontier_s1 = next_frontier_tiled.getRoot()\n",
    "\n",
    "canvas = createCanvas(frontier_tiled, adjmat_swapped, next_frontier_tiled)\n",
    "\n",
    "for d1, (next_frontier_s0, adjmat_s1) in next_frontier_s1 << adjmat_d1:\n",
    "    for s1, (frontier_s0, adjmat_d0) in frontier_s1 & adjmat_s1:\n",
    "        for d0, (next_frontier_ref, adjmat_s0) in next_frontier_s0 << adjmat_d0:\n",
    "            for s0, (_, _) in frontier_s0 & adjmat_s0:\n",
    "                next_frontier_ref <<= 1\n",
    "                canvas.addFrame((s1, s0), (d1, s1, d0, s0), (d1, d0))\n",
    "                break # This break is interesting - it represents the \"OR\" of the intersection.\n",
    "                      # Note that if this loop was in parallel we wouldn't care which particular\n",
    "                      # coordinate passed intersection, only that one of them did.\n",
    "        \n",
    "displayCanvas(canvas)\n",
    "assert next_frontier_tiled.flattenRanks(coord_style=\"absolute\").getRoot() == next_frontier_verify.getRoot()"
   ]
  }
 ],
 "metadata": {
  "kernelspec": {
   "display_name": "Python 3",
   "language": "python",
   "name": "python3"
  },
  "language_info": {
   "codemirror_mode": {
    "name": "ipython",
    "version": 3
   },
   "file_extension": ".py",
   "mimetype": "text/x-python",
   "name": "python",
   "nbconvert_exporter": "python",
   "pygments_lexer": "ipython3",
   "version": "3.8.8"
  }
 },
 "nbformat": 4,
 "nbformat_minor": 4
}
