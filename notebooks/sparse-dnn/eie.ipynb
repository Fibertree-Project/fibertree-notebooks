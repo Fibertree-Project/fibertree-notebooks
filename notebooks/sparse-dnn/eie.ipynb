{
 "cells": [
  {
   "cell_type": "markdown",
   "metadata": {
    "slideshow": {
     "slide_type": "-"
    }
   },
   "source": [
    "# EIE\n",
    "\n",
    "Following are some represenations of my understanding of the EIE fully-connected layer acceleratator.\n",
    "\n",
    "First, include some libraries"
   ]
  },
  {
   "cell_type": "code",
   "execution_count": null,
   "metadata": {},
   "outputs": [],
   "source": [
    "# Begin - startup boilerplate code\n",
    "\n",
    "import pkgutil\n",
    "\n",
    "if 'fibertree_bootstrap' not in [pkg.name for pkg in pkgutil.iter_modules()]:\n",
    "  !python3 -m pip  install git+https://github.com/Fibertree-project/fibertree-bootstrap --quiet\n",
    "\n",
    "# End - startup boilerplate code\n",
    "\n",
    "\n",
    "from fibertree_bootstrap import *\n",
    "fibertree_bootstrap()"
   ]
  },
  {
   "cell_type": "markdown",
   "metadata": {},
   "source": [
    "## Read matrices\n",
    "\n",
    "Since EIE works on fully-connected layers, the input (for a single input channel) is a flattened dimension CHW. The weights (CRS) are the same size as the inputs so they have shape [M, CHW]. \n",
    "\n"
   ]
  },
  {
   "cell_type": "code",
   "execution_count": null,
   "metadata": {},
   "outputs": [],
   "source": [
    "i = Tensor.fromUncompressed([\"CHW\"], \n",
    "                            [ 1, 2, 0, 3, 4, 0, 0, 7, 8])\n",
    "i.setColor(\"blue\").setName(\"I\")\n",
    "\n",
    "f = Tensor.fromUncompressed([\"M\", \"CHW\"],\n",
    "                            [[ 1, 2, 0, 3, 4, 0, 0, 7, 8],\n",
    "                            [ 0, 1, 0, 0, 8, 0, 0, 7, 0],\n",
    "                            [ 0, 0, 0, 0, 0, 0, 0, 0, 0],\n",
    "                            [ 1, 0, 0, 3, 0, 0, 0, 2, 0],\n",
    "                            [ 0, 0, 0, 2, 0, 0, 0, 4, 0],\n",
    "                            [ 0, 0, 0, 0, 0, 0, 0, 0, 0],\n",
    "                            [ 2, 4, 0, 6, 0, 0, 0, 14, 16],\n",
    "                            [ 2, 0, 0, 2, 0, 0, 3, 0, 8]\n",
    "                            ])\n",
    "f.setColor(\"green\").setName(\"F\")\n",
    "\n",
    "o_verify = Tensor.fromUncompressed([\"M\"],\n",
    "                                   [143, 83, 0, 24, 34, 0, 254, 72])\n",
    "o_verify.setName(\"O-Verify\")\n",
    "\n",
    "\n",
    "displayTensor(i)\n",
    "displayTensor(f)\n",
    "displayTensor(o_verify)\n",
    "    "
   ]
  },
  {
   "cell_type": "markdown",
   "metadata": {},
   "source": [
    "## Fully connected - Naive\n",
    "\n",
    "An input stationary dataflow for a fully-connected computation, which is the base dataflow of the EIE design"
   ]
  },
  {
   "cell_type": "code",
   "execution_count": null,
   "metadata": {
    "scrolled": false
   },
   "outputs": [],
   "source": [
    "swapped_f = f.swapRanks()\n",
    "\n",
    "o = Tensor(rank_ids=[\"M\"])\n",
    "\n",
    "canvas = createCanvas(i, swapped_f, o)\n",
    "\n",
    "i_chw = i.getRoot()\n",
    "f_chw = swapped_f.getRoot()\n",
    "o_m = o.getRoot()\n",
    "\n",
    "for chw, (i_val, f_m) in i_chw & f_chw:    \n",
    "    for m, (o_ref, f_val) in  o_m << f_m:\n",
    "        o_ref += i_val * f_val\n",
    "        canvas.addFrame((chw,), (chw, m), (m,))\n",
    "\n",
    "displayTensor(o)\n",
    "displayCanvas(canvas)\n"
   ]
  },
  {
   "cell_type": "markdown",
   "metadata": {},
   "source": [
    "## Check result"
   ]
  },
  {
   "cell_type": "code",
   "execution_count": null,
   "metadata": {},
   "outputs": [],
   "source": [
    "o_verify == o"
   ]
  },
  {
   "cell_type": "markdown",
   "metadata": {},
   "source": [
    "## EIE Dataflow\n",
    "\n",
    "The EIE design splits the filter weights between multiple PEs, which result in a filter weight tensor with rank ids of M1, CHW and M0, where the M1 rank is the paritioning of output channel filter weights between PEs. Following is the transform of the original weights into the form used by a 2 PE instantiation of EIE. "
   ]
  },
  {
   "cell_type": "code",
   "execution_count": null,
   "metadata": {},
   "outputs": [],
   "source": [
    "PEs = 2\n",
    "split_size = (len(f.getRoot())+1)//PEs\n",
    "\n",
    "eie_f = f.splitEqual(split_size).swapRanks(depth=1)\n",
    "displayTensor(eie_f)\n",
    "\n",
    "eie_o_verify = o_verify.splitEqual(split_size)\n",
    "eie_o_verify\n",
    "displayTensor(eie_o_verify)"
   ]
  },
  {
   "cell_type": "markdown",
   "metadata": {},
   "source": [
    "## EIE Dataflow\n",
    "\n",
    "Following is an EIE-like dataflow, but with the parallel units running serially. So with two PEs first one runs then the other."
   ]
  },
  {
   "cell_type": "code",
   "execution_count": null,
   "metadata": {},
   "outputs": [],
   "source": [
    "o = Tensor(rank_ids=[\"M1\", \"M0\"]).setName(\"O\")\n",
    "\n",
    "canvas = createCanvas(i, eie_f, o)\n",
    "\n",
    "i_chw = i.getRoot()\n",
    "f_m1 = eie_f.getRoot()\n",
    "o_m1 = o.getRoot()\n",
    "\n",
    "for chw, i_val in i_chw:\n",
    "    for m1, (o_m0, f_chw) in o_m1 << f_m1:   # parallel\n",
    "        f_m = f_chw.getPayload(chw)\n",
    "        for m, (o_ref, f_val) in o_m0 << f_m:\n",
    "            o_ref += i_val * f_val\n",
    "            canvas.addFrame((chw,), (m1, chw, m), (m1, m))\n",
    "\n",
    "displayTensor(o)\n",
    "displayCanvas(canvas)\n"
   ]
  },
  {
   "cell_type": "markdown",
   "metadata": {},
   "source": [
    "## Check result"
   ]
  },
  {
   "cell_type": "code",
   "execution_count": null,
   "metadata": {},
   "outputs": [],
   "source": [
    "displayTensor(eie_o_verify)\n",
    "displayTensor(o)\n",
    "eie_o_verify.getRoot() == o.getRoot()"
   ]
  },
  {
   "cell_type": "markdown",
   "metadata": {},
   "source": [
    "## EIE parallel dataflow\n",
    "\n",
    "Following is a representation of the EIE-like dataflow with parallel workers. The current cycle in each PE is tracked with the CycleManager class."
   ]
  },
  {
   "cell_type": "code",
   "execution_count": null,
   "metadata": {
    "scrolled": false
   },
   "outputs": [],
   "source": [
    "o = Tensor(rank_ids=[\"M1\", \"M0\"]).setName(\"O\")\n",
    "\n",
    "canvas = createCanvas(i, eie_f, o)\n",
    "\n",
    "i_chw = i.getRoot()\n",
    "f_m1 = eie_f.getRoot()\n",
    "o_m1 = o.getRoot()\n",
    "\n",
    "cycle = CycleManager()\n",
    "\n",
    "for chw, i_val in i_chw:\n",
    "\n",
    "    cycle.startParallel()\n",
    "    \n",
    "    for pe, (m1, (o_m0, f_chw)) in enumerate(o_m1 << f_m1):   # parallel\n",
    "        cycle.startWorker()\n",
    "        \n",
    "        f_m = f_chw.getPayload(chw)\n",
    "        for m, (o_ref, f_val) in o_m0 << f_m:\n",
    "            o_ref += i_val * f_val\n",
    "            canvas.addActivity()\n",
    "                        (chw,), (m1, chw, m), (m1, m),\n",
    "                        worker=f\"PE{pe}\",\n",
    "                        skew=cycle())\n",
    "\n",
    "        cycle.finishWorker()\n",
    "\n",
    "    cycle.finishParallel()\n",
    "    \n",
    "displayTensor(o)\n",
    "displayCanvas(canvas)\n"
   ]
  },
  {
   "cell_type": "markdown",
   "metadata": {},
   "source": [
    "## Check result"
   ]
  },
  {
   "cell_type": "code",
   "execution_count": null,
   "metadata": {},
   "outputs": [],
   "source": [
    "displayTensor(eie_o_verify)\n",
    "displayTensor(o)\n",
    "eie_o_verify.getRoot() == o.getRoot()"
   ]
  },
  {
   "cell_type": "markdown",
   "metadata": {},
   "source": [
    "## Testing area\n",
    "\n",
    "For running alternative algorithms"
   ]
  },
  {
   "cell_type": "code",
   "execution_count": null,
   "metadata": {},
   "outputs": [],
   "source": []
  },
  {
   "cell_type": "code",
   "execution_count": null,
   "metadata": {},
   "outputs": [],
   "source": []
  }
 ],
 "metadata": {
  "kernelspec": {
   "display_name": "Python 3",
   "language": "python",
   "name": "python3"
  },
  "language_info": {
   "codemirror_mode": {
    "name": "ipython",
    "version": 3
   },
   "file_extension": ".py",
   "mimetype": "text/x-python",
   "name": "python",
   "nbconvert_exporter": "python",
   "pygments_lexer": "ipython3",
   "version": "3.8.8"
  }
 },
 "nbformat": 4,
 "nbformat_minor": 2
}
