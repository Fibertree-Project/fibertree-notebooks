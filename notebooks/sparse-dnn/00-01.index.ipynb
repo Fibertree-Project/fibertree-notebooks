{
 "cells": [
  {
   "cell_type": "markdown",
   "id": "4e8b2650",
   "metadata": {},
   "source": [
    "# Sparse-dnn: Sparse DNN computations\n",
    "\n",
    "- **Convolution** - Examples of different sparse convolution dataflows\n",
    "[\\[notebook\\]](./convolution.ipynb)\n",
    "[\\[colab\\]](https://colab.research.google.com/github/Fibertree-Project/fibertree-notebooks/blob/master/notebooks/sparse-dnn/convolution.ipynb)\n",
    "\n",
    "- **Eie** - Simplified representation of the EIE dataflow\n",
    "[\\[notebook\\]](./eie.ipynb)\n",
    "[\\[colab\\]](https://colab.research.google.com/github/Fibertree-Project/fibertree-notebooks/blob/master/notebooks/sparse-dnn/eie.ipynb)\n",
    "\n",
    "- **Eyeriss-v2** - Simplified representation of the Eyeriss V2 dataflow\n",
    "[\\[notebook\\]](./eyeriss-v2.ipynb)\n",
    "[\\[colab\\]](https://colab.research.google.com/github/Fibertree-Project/fibertree-notebooks/blob/master/notebooks/sparse-dnn/eyeriss-v2.ipynb)\n"
   ]
  }
 ],
 "metadata": {
  "kernelspec": {
   "display_name": "Python 3 (ipykernel)",
   "language": "python",
   "name": "python3"
  },
  "language_info": {
   "codemirror_mode": {
    "name": "ipython",
    "version": 3
   },
   "file_extension": ".py",
   "mimetype": "text/x-python",
   "name": "python",
   "nbconvert_exporter": "python",
   "pygments_lexer": "ipython3",
   "version": "3.10.8"
  }
 },
 "nbformat": 4,
 "nbformat_minor": 5
}
