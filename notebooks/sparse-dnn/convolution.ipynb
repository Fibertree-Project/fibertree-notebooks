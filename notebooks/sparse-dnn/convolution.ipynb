{
 "cells": [
  {
   "cell_type": "markdown",
   "metadata": {
    "slideshow": {
     "slide_type": "-"
    }
   },
   "source": [
    "# Exploring convolution\n",
    "\n",
    "First, include some libraries"
   ]
  },
  {
   "cell_type": "code",
   "execution_count": null,
   "metadata": {},
   "outputs": [],
   "source": [
    "# Run boilerplate code to set up environment\n",
    "\n",
    "%run ../prelude.py --style=tree --animation=spacetime"
   ]
  },
  {
   "cell_type": "markdown",
   "metadata": {},
   "source": [
    "## Convolution Inputs\n"
   ]
  },
  {
   "cell_type": "code",
   "execution_count": null,
   "metadata": {},
   "outputs": [],
   "source": [
    "tm = TensorMaker()\n",
    "\n",
    "W = 8\n",
    "S = 3\n",
    "\n",
    "tm.addTensor(\"I\", rank_ids=[\"W\"], shape=[W], density=0.60, seed=40, color=\"blue\")\n",
    "tm.addTensor(\"F\", rank_ids=[\"S\"], shape=[S], density=0.50, seed=10, color=\"green\")\n",
    "tm.displayControls()\n"
   ]
  },
  {
   "cell_type": "code",
   "execution_count": null,
   "metadata": {},
   "outputs": [],
   "source": [
    "i = tm.makeTensor(\"I\")\n",
    "f = tm.makeTensor(\"F\")\n",
    "\n",
    "S = f.getShape()[0]\n",
    "W = i.getShape()[0]\n",
    "Q = W-S+1\n",
    "\n",
    "print(f\"W = {W}\")\n",
    "print(f\"S = {S}\")\n",
    "print(f\"Q = {Q}\")\n",
    "print(\"\")\n",
    "\n",
    "o_verify= Tensor(rank_ids=[\"Q\"], shape=[Q])\n",
    "o = o_verify.getRoot()\n",
    "\n",
    "for q in range(Q):\n",
    "    o_ref = o.getPayloadRef(q)\n",
    "\n",
    "    for s in range(S):\n",
    "        w = q+s\n",
    "        o_ref += i.getPayload(w) * f.getPayload(s)\n",
    "\n",
    "print(\"Input activations\")\n",
    "displayTensor(i)\n",
    "print(\"Filter Weights\")\n",
    "displayTensor(f)\n",
    "print(\"Output activations (expected)\")\n",
    "displayTensor(o_verify)\n",
    "\n"
   ]
  },
  {
   "cell_type": "markdown",
   "metadata": {},
   "source": [
    "## Weight Stationary"
   ]
  },
  {
   "cell_type": "code",
   "execution_count": null,
   "metadata": {},
   "outputs": [],
   "source": [
    "o = Tensor(rank_ids=[\"Q\"]).setName(\"O\")\n",
    "\n",
    "canvas = createCanvas(f, i, o)\n",
    "\n",
    "f_s = f.getRoot()\n",
    "i_w = i.getRoot()\n",
    "o_q = o.getRoot()\n",
    "\n",
    "print(\"Convolution\")\n",
    "\n",
    "for s, (f_val) in f_s:\n",
    "    print(f\"Processing weight: ({s}, ({f_val}))\")\n",
    "    for q, (o_ref, i_val) in o_q << i_w.project(lambda h: h-s, (0, Q)):\n",
    "        print(f\"  Processing output ({q}, ({o_ref}, {i_val})\")\n",
    "        o_ref += f_val * i_val\n",
    "        canvas.addFrame((s,), (q+s,), (q,))\n",
    "\n",
    "displayTensor(o)\n",
    "displayCanvas(canvas)\n",
    "\n",
    "assert o == o_verify"
   ]
  },
  {
   "cell_type": "markdown",
   "metadata": {},
   "source": [
    "## Input Stationary"
   ]
  },
  {
   "cell_type": "code",
   "execution_count": null,
   "metadata": {},
   "outputs": [],
   "source": [
    "o = Tensor(rank_ids=[\"Q\"]).setName(\"O\")\n",
    "\n",
    "canvas = createCanvas(f, i, o)\n",
    "\n",
    "f_s = f.getRoot()\n",
    "i_w = i.getRoot()\n",
    "o_q = o.getRoot()\n",
    "\n",
    "print(\"Convolution\")\n",
    "\n",
    "for w, (i_val) in i_w:\n",
    "    print(f\"Processing input: ({w}, ({i_val}))\")\n",
    "    for q, (o_ref, f_val) in o_q << f_s.project(lambda s: w-s, (0, Q)):\n",
    "        print(f\"  Processing output ({q}, ({o_ref}, {f_val})\")\n",
    "        o_ref += f_val * i_val\n",
    "        canvas.addFrame((w-q,), (w,), (q,))\n",
    "\n",
    "\n",
    "displayTensor(o)\n",
    "displayCanvas(canvas)\n",
    "\n",
    "assert o == o_verify"
   ]
  },
  {
   "cell_type": "markdown",
   "metadata": {},
   "source": [
    "## Output Stationary"
   ]
  },
  {
   "cell_type": "code",
   "execution_count": null,
   "metadata": {},
   "outputs": [],
   "source": [
    "o = Tensor(rank_ids=[\"Q\"]).setName(\"O\")\n",
    "\n",
    "f_s = f.getRoot()\n",
    "i_w = i.getRoot()\n",
    "o_q = o.getRoot()\n",
    "\n",
    "print(\"Convolution\")\n",
    "\n",
    "output_shape = Fiber(coords=range(Q), initial=1)\n",
    "\n",
    "canvas = createCanvas(f, i, o)\n",
    "\n",
    "for q, (o_ref, _) in o_q << output_shape:\n",
    "    print(f\"Processing output: ({q}, ({o_ref}))\")\n",
    "    for w, (f_val, i_val) in f_s.project(lambda s: q+s) & i_w:\n",
    "        print(f\"  Processing weights and activations ({w}, ({f_val}, {i_val})\")\n",
    "        o_ref += f_val * i_val\n",
    "        canvas.addFrame((w-q,), (w,), (q,))\n",
    "\n",
    "displayTensor(o)\n",
    "displayCanvas(canvas)\n",
    "\n",
    "assert o == o_verify"
   ]
  },
  {
   "cell_type": "markdown",
   "metadata": {},
   "source": [
    "## Output Stationary - Two pass"
   ]
  },
  {
   "cell_type": "code",
   "execution_count": null,
   "metadata": {},
   "outputs": [],
   "source": [
    "o1 = Tensor(rank_ids=[\"Q\"]).setName(\"O1\")\n",
    "o2 = Tensor(rank_ids=[\"Q\"]).setName(\"O2\")\n",
    "\n",
    "canvas = createCanvas(f, i, o1, o2)\n",
    "\n",
    "f_s = f.getRoot()\n",
    "i_w = i.getRoot()\n",
    "o1_q = o1.getRoot()\n",
    "o2_q = o2.getRoot()\n",
    "\n",
    "print(\"Convolution\")\n",
    "\n",
    "pass1_count = 0\n",
    "\n",
    "for s, (_) in f_s:\n",
    "    print(f\"Processing weight: ({s}, (_))\")\n",
    "    for q, (o_ref, _) in o1_q << i_w.project(lambda w: w-s, (0, Q)):\n",
    "        print(f\"  Calculating output ({q}, ({o_ref}, _)\")\n",
    "        o_ref <<= 1\n",
    "        pass1_count += 1\n",
    "        canvas.addFrame((s,), (q+s,), (q,), ())\n",
    "\n",
    "print(f\"Pass1 count: {pass1_count}\")\n",
    "\n",
    "displayTensor(o1)\n",
    "\n",
    "for q, (o_ref, _) in o2_q << o1_q:\n",
    "    print(f\"Processing output: ({q}, ({o_ref}))\")\n",
    "    for w, (f_val, i_val) in f_s.project(lambda s: q+s) & i_w:\n",
    "        print(f\"  Processing weights and activations ({w}, ({f_val}, {i_val})\")\n",
    "        o_ref += f_val * i_val\n",
    "        canvas.addFrame((w-q,), (w,), (), (q,))\n",
    "\n",
    "displayTensor(o)\n",
    "displayCanvas(canvas)\n",
    "\n",
    "assert o == o_verify"
   ]
  },
  {
   "cell_type": "markdown",
   "metadata": {},
   "source": [
    "## Output Stationary - Two pass - Optimized"
   ]
  },
  {
   "cell_type": "code",
   "execution_count": null,
   "metadata": {},
   "outputs": [],
   "source": [
    "o1 = Tensor(rank_ids=[\"Q\"]).setName(\"O1\")\n",
    "o2 = Tensor(rank_ids=[\"Q\"]).setName(\"O2\")\n",
    "\n",
    "canvas = createCanvas(f, i, o1, o2)\n",
    "\n",
    "f_s = f.getRoot()\n",
    "i_w = i.getRoot()\n",
    "o1_q = o1.getRoot()\n",
    "o2_q = o2.getRoot()\n",
    "\n",
    "\n",
    "print(\"Convolution\")\n",
    "\n",
    "pass1_count = 0\n",
    "\n",
    "for s, (_) in f_s:\n",
    "    print(f\"Processing weight: ({s}, (_))\")\n",
    "    for q, (o1_ref, _) in o1_q << (i_w.project(lambda w: w-s, (0, Q)) - o1_q):\n",
    "        print(f\"  Calculating output ({q}, ({o_ref}, _)\")\n",
    "        o1_ref <<= 1\n",
    "        pass1_count += 1\n",
    "        canvas.addFrame((s,), (q+s,), (q,), ())\n",
    "    print(f\"{o1:*}\")\n",
    "\n",
    "displayTensor(o1)\n",
    "\n",
    "print(f\"Pass1 count: {pass1_count}\")\n",
    "\n",
    "for q, (o_ref, _) in o2_q << o1_q:\n",
    "    print(f\"Processing output: ({q}, ({o_ref}))\")\n",
    "    for w, (f_val, i_val) in f_s.project(lambda s: q+s) & i_w:\n",
    "        print(f\"  Processing weights and activations ({w}, ({f_val}, {i_val})\")\n",
    "        o_ref += f_val * i_val\n",
    "        canvas.addFrame((w-q,), (w,), (), (q,))\n",
    "        \n",
    "displayTensor(o)\n",
    "displayCanvas(canvas)\n",
    "\n",
    "assert o == o_verify"
   ]
  },
  {
   "cell_type": "markdown",
   "metadata": {},
   "source": [
    "## Output Stationary - Naive - Parallel Weight Processing\n",
    "\n",
    "Assumes parallelism equal to the number of weights"
   ]
  },
  {
   "cell_type": "code",
   "execution_count": null,
   "metadata": {},
   "outputs": [],
   "source": [
    "o = Tensor(rank_ids=[\"Q\"]).setName(\"O\")\n",
    "\n",
    "f_s = f.getRoot()\n",
    "i_w = i.getRoot()\n",
    "o_q = o.getRoot()\n",
    "\n",
    "print(\"Convolution\")\n",
    "\n",
    "output_shape = Fiber(coords=range(Q), initial=1)\n",
    "\n",
    "canvas = createCanvas(f, i, o)\n",
    "\n",
    "for q, (o_ref, _) in o_q << output_shape:\n",
    "    print(f\"Processing output: ({q}, ({o_ref}))\")\n",
    "    for w, (f_val, i_val) in f_s.project(lambda s: q+s) & i_w:\n",
    "        pe = f\"PE{w-q}\"\n",
    "        print(f\"  {pe}: Processing weights and activations ({w}, ({f_val}, {i_val})\")\n",
    "        o_ref += f_val * i_val\n",
    "        canvas.addActivity((w-q,), (w,), (q,), worker=pe)\n",
    "    canvas.addFrame()\n",
    "\n",
    "displayTensor(o)\n",
    "displayCanvas(canvas)\n",
    "\n",
    "assert o == o_verify"
   ]
  },
  {
   "cell_type": "markdown",
   "metadata": {},
   "source": [
    "## Testing area\n",
    "\n",
    "For running alternative algorithms"
   ]
  },
  {
   "cell_type": "code",
   "execution_count": null,
   "metadata": {},
   "outputs": [],
   "source": []
  },
  {
   "cell_type": "code",
   "execution_count": null,
   "metadata": {},
   "outputs": [],
   "source": []
  },
  {
   "cell_type": "code",
   "execution_count": null,
   "metadata": {},
   "outputs": [],
   "source": []
  }
 ],
 "metadata": {
  "kernelspec": {
   "display_name": "Python 3 (ipykernel)",
   "language": "python",
   "name": "python3"
  },
  "language_info": {
   "codemirror_mode": {
    "name": "ipython",
    "version": 3
   },
   "file_extension": ".py",
   "mimetype": "text/x-python",
   "name": "python",
   "nbconvert_exporter": "python",
   "pygments_lexer": "ipython3",
   "version": "3.9.7"
  }
 },
 "nbformat": 4,
 "nbformat_minor": 2
}
