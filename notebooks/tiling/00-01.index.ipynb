{
 "cells": [
  {
   "cell_type": "markdown",
   "id": "be88bb80",
   "metadata": {},
   "source": [
    "# Tiling: Tiling examples\n",
    "\n",
    "- **Tiling-styles** - Examples of tiling styles\n",
    "[\\[notebook\\]](./tiling-styles.ipynb)\n",
    "[\\[colab\\]](https://colab.research.google.com/github/Fibertree-Project/fibertree-notebooks/blob/master/notebooks/tiling/tiling-styles.ipynb)\n",
    "\n",
    "- **Merge** - Merge-based tiling\n",
    "[\\[notebook\\]](./merge.ipynb)\n",
    "[\\[colab\\]](https://colab.research.google.com/github/Fibertree-Project/fibertree-notebooks/blob/master/notebooks/tiling/merge.ipynb)\n",
    "\n",
    "- **Dynamic-tiling** - Dynamic tiling\n",
    "[\\[notebook\\]](./dynamic-tiling.ipynb)\n",
    "[\\[colab\\]](https://colab.research.google.com/github/Fibertree-Project/fibertree-notebooks/blob/master/notebooks/tiling/dynamic-tiling.ipynb)\n",
    "\n",
    "- **Dynamic-co-tiling** - Dynamic co-tiling\n",
    "[\\[notebook\\]](./dynamic-co-tiling.ipynb)\n",
    "[\\[colab\\]](https://colab.research.google.com/github/Fibertree-Project/fibertree-notebooks/blob/master/notebooks/tiling/dynamic-co-tiling.ipynb)\n",
    "\n"
   ]
  }
 ],
 "metadata": {
  "kernelspec": {
   "display_name": "Python 3 (ipykernel)",
   "language": "python",
   "name": "python3"
  },
  "language_info": {
   "codemirror_mode": {
    "name": "ipython",
    "version": 3
   },
   "file_extension": ".py",
   "mimetype": "text/x-python",
   "name": "python",
   "nbconvert_exporter": "python",
   "pygments_lexer": "ipython3",
   "version": "3.10.8"
  }
 },
 "nbformat": 4,
 "nbformat_minor": 5
}
