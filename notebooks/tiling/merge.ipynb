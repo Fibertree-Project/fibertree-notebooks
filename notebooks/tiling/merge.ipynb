{
 "cells": [
  {
   "cell_type": "markdown",
   "metadata": {
    "slideshow": {
     "slide_type": "-"
    }
   },
   "source": [
    "# Tiled merge\n",
    "\n",
    "First, include some libraries"
   ]
  },
  {
   "cell_type": "code",
   "execution_count": null,
   "metadata": {},
   "outputs": [],
   "source": [
    "# Begin - startup boilerplate code\n",
    "\n",
    "import pkgutil\n",
    "\n",
    "if 'fibertree_bootstrap' not in [pkg.name for pkg in pkgutil.iter_modules()]:\n",
    "  !python3 -m pip  install git+https://github.com/Fibertree-project/fibertree-bootstrap --quiet\n",
    "\n",
    "# End - startup boilerplate code\n",
    "\n",
    "\n",
    "from fibertree_bootstrap import *\n",
    "fibertree_bootstrap(style=\"tree\", animation=\"movie\")"
   ]
  },
  {
   "cell_type": "markdown",
   "metadata": {},
   "source": [
    "## Create two tensors"
   ]
  },
  {
   "cell_type": "code",
   "execution_count": null,
   "metadata": {},
   "outputs": [],
   "source": [
    "# 1D \n",
    "X = 100\n",
    "\n",
    "a1 = Tensor.fromRandom([\"X\"], [X], (0.2,), 9, seed=10)\n",
    "a1.setName(\"A\")\n",
    "\n",
    "b1 = Tensor.fromRandom([\"X\"], [X], (0.2,), 9, seed=30)\n",
    "b1.setName(\"B\")\n",
    "\n",
    "displayTensor(a1)\n",
    "displayTensor(b1)"
   ]
  },
  {
   "cell_type": "markdown",
   "metadata": {},
   "source": [
    "## Pairwise merge\n",
    "\n",
    "Merge two tensors using the coordinates as the \"key\""
   ]
  },
  {
   "cell_type": "code",
   "execution_count": null,
   "metadata": {
    "scrolled": false
   },
   "outputs": [],
   "source": [
    "z1 = Tensor(rank_ids=[\"X\"],shape=[X])\n",
    "z1.setName(\"Z\")\n",
    "\n",
    "a_x = a1.getRoot()\n",
    "b_x = b1.getRoot()\n",
    "z_x = z1.getRoot()\n",
    "\n",
    "canvas = createCanvas(a1, b1, z1)\n",
    "\n",
    "for x, (z_ref, (ab, a_val, b_val)) in z_x << (a_x | b_x):\n",
    "    # Merge a value from either A or B\n",
    "    \n",
    "    if ab == \"A\" or ab == \"AB\":\n",
    "        z_ref <<= a_val\n",
    "    else:\n",
    "        z_ref <<= b_val\n",
    "        \n",
    "    canvas.addFrame((x,), (x,), (x,))\n",
    "\n",
    "displayTensor(z1)\n",
    "displayCanvas(canvas)"
   ]
  },
  {
   "cell_type": "markdown",
   "metadata": {},
   "source": [
    "## Merge after coordinate space slitting"
   ]
  },
  {
   "cell_type": "code",
   "execution_count": null,
   "metadata": {
    "scrolled": false
   },
   "outputs": [],
   "source": [
    "split = 4\n",
    "\n",
    "z2 = Tensor(rank_ids=[\"X.1\", \"X.0\"], shape=[(X+split-1)//split, split])\n",
    "z2.setName(\"Z2\")\n",
    "\n",
    "a2 = a1.splitUniform(split)\n",
    "b2 = b1.splitUniform(split)\n",
    "\n",
    "displayTensor(a2)\n",
    "\n",
    "a_x1 = a2.getRoot()\n",
    "b_x1 = b2.getRoot()\n",
    "z_x1 = z2.getRoot()\n",
    "\n",
    "canvas = createCanvas(a2, b2, z2)\n",
    "\n",
    "for x1, (z_x0, (ab1, a_x0, b_x0)) in z_x1 << (a_x1 | b_x1):\n",
    "    if ab1 == \"A\":\n",
    "        # Merge an entire fiber from A\n",
    "        \n",
    "        for x0, (z_ref, a_val) in z_x0 << a_x0:\n",
    "            z_ref <<= a_val\n",
    "\n",
    "        # Broken - cannot replace a whole fiber...\n",
    "        #position = z_x1.getPosition(x1)\n",
    "        #z_x1[position] = a_x0        \n",
    "\n",
    "        canvas.addFrame((x1,), (), (x1,))\n",
    "        \n",
    "    elif ab1 == \"B\":\n",
    "        # Merge an entire fiber from B\n",
    "        \n",
    "        for x0, (z_ref, b_val) in z_x0 << b_x0:\n",
    "            z_ref <<= b_val\n",
    "\n",
    "        # Broken - cannot replace a whole fiber...\n",
    "        #position = z_x1.getPosition(x1)\n",
    "        #z_x1[position] = b_x0\n",
    "        \n",
    "        canvas.addFrame((), (x1,), (x1,))\n",
    "    else:\n",
    "        # Individually merge the elements from the rank 0 fibers of A and B\n",
    "        \n",
    "        for x0, (z_ref, (ab0, a_val, b_val)) in z_x0 << (a_x0 | b_x0):\n",
    "            if ab0 == \"A\" or ab0 == \"AB\":\n",
    "                z_ref <<= a_val\n",
    "            else:\n",
    "                z_ref <<= b_val\n",
    "\n",
    "            canvas.addFrame((x1,x0), (x1, x0), (x1, x0))\n",
    "    \n",
    "displayCanvas(canvas)"
   ]
  },
  {
   "cell_type": "markdown",
   "metadata": {},
   "source": [
    "## Testing area\n",
    "\n",
    "For running alternative algorithms"
   ]
  },
  {
   "cell_type": "code",
   "execution_count": null,
   "metadata": {},
   "outputs": [],
   "source": []
  },
  {
   "cell_type": "code",
   "execution_count": null,
   "metadata": {},
   "outputs": [],
   "source": []
  }
 ],
 "metadata": {
  "kernelspec": {
   "display_name": "Python 3",
   "language": "python",
   "name": "python3"
  },
  "language_info": {
   "codemirror_mode": {
    "name": "ipython",
    "version": 3
   },
   "file_extension": ".py",
   "mimetype": "text/x-python",
   "name": "python",
   "nbconvert_exporter": "python",
   "pygments_lexer": "ipython3",
   "version": "3.8.8"
  }
 },
 "nbformat": 4,
 "nbformat_minor": 2
}
