{
 "cells": [
  {
   "cell_type": "markdown",
   "metadata": {
    "slideshow": {
     "slide_type": "-"
    }
   },
   "source": [
    "# Dynamic Tiling\n",
    "\n",
    "This notebook explores creating a series dynamicaly sized tiles out of a vector (rank-1 tensor). \n",
    "\n",
    "First, include some libraries"
   ]
  },
  {
   "cell_type": "code",
   "execution_count": null,
   "metadata": {},
   "outputs": [],
   "source": [
    "# Begin - startup boilerplate code\n",
    "\n",
    "import pkgutil\n",
    "\n",
    "if 'fibertree_bootstrap' not in [pkg.name for pkg in pkgutil.iter_modules()]:\n",
    "  !python3 -m pip  install git+https://github.com/Fibertree-project/fibertree-bootstrap --quiet\n",
    "\n",
    "# End - startup boilerplate code\n",
    "\n",
    "\n",
    "from fibertree_bootstrap import *\n",
    "fibertree_bootstrap(style=\"tree\", animation=\"movie\")"
   ]
  },
  {
   "cell_type": "markdown",
   "metadata": {},
   "source": [
    "# Dynamic tiling class\n",
    "\n",
    "The following class is a generic class useful for tiling based on a computed criteria\n"
   ]
  },
  {
   "cell_type": "code",
   "execution_count": null,
   "metadata": {},
   "outputs": [],
   "source": [
    "class DynamicTiler():\n",
    "    \"\"\" DymamicTile\n",
    "    \n",
    "    A callable class usable by the Fiber.prune() method to\n",
    "    create a tile based on a given lambda function that \n",
    "    decides if each element belongs in the tile\n",
    "    \n",
    "    \"\"\"\n",
    "    def __init__(self, include_in_tile, max_tile_size=1):\n",
    "        \"\"\" __init__()\n",
    "        \n",
    "        Initialize the class\n",
    "\n",
    "        Parameters\n",
    "        -----------\n",
    "        include_in_tile: function(coord, payload, cur_tile_size)\n",
    "        Function called to decide if each element should be in the tile\n",
    "        \n",
    "        max_tile_size: integer\n",
    "        Maximum tile size\n",
    "        \n",
    "        \"\"\"\n",
    "        \n",
    "        self.include_in_tile = include_in_tile\n",
    "        self.max_tile_size = max_tile_size\n",
    "        self.cur_tile_size = 0\n",
    "\n",
    "\n",
    "    def __call__(self, n, c, p):\n",
    "        \"\"\" __call__()\n",
    "        \n",
    "        Function callable by Fiber.prune() to decide what to do\n",
    "        with each element of a fiber. Either keep the element or\n",
    "        end the tile\n",
    "        \n",
    "        Parameters:\n",
    "        \n",
    "        n: integer\n",
    "        Position of element in tile\n",
    "        \n",
    "        c: coordinate\n",
    "        Coordinate of element in tile\n",
    "        \n",
    "        p: payload\n",
    "        Payload of elenent in tile\n",
    "        \n",
    "        Return\n",
    "        ------\n",
    "        \n",
    "        Prune: Boolean | None\n",
    "               True - Include\n",
    "               False - Skip (never used)\n",
    "               None - End tile\n",
    "               \n",
    "        \"\"\"\n",
    "        #\n",
    "        # Terminate the tile if it is already big enough\n",
    "        #\n",
    "        if self.cur_tile_size >= self.max_tile_size:\n",
    "            self.cur_tile_size = 0\n",
    "            return None\n",
    "        \n",
    "        #\n",
    "        # Ask if we want another element in the tile\n",
    "        #\n",
    "        include = self.include_in_tile(c, p, self.cur_tile_size)\n",
    "        \n",
    "        #\n",
    "        # Yep, add element to tile and increment the tile size\n",
    "        #\n",
    "        if include == True:\n",
    "            self.cur_tile_size += 1\n",
    "            return True\n",
    "\n",
    "        #\n",
    "        # End the tile\n",
    "        #\n",
    "        self.cur_tile_size = 0\n",
    "        return None\n",
    "    "
   ]
  },
  {
   "cell_type": "markdown",
   "metadata": {},
   "source": [
    "## Element selection function\n",
    "\n",
    "A function that randomly determines if an element of the original tensor is to be included in the current tile."
   ]
  },
  {
   "cell_type": "code",
   "execution_count": null,
   "metadata": {},
   "outputs": [],
   "source": [
    "        \n",
    "import random\n",
    "\n",
    "def random_tile(c, p, size):\n",
    "    \"\"\" random_tile\n",
    "    \n",
    "    Decide if an element of a fiber should be included in\n",
    "    the current tile\n",
    "    \n",
    "    Parameters\n",
    "    ----------\n",
    "    \n",
    "    c: coordinate\n",
    "    The coordinate of the element to consider for inclusion\n",
    "    \n",
    "    p: payload\n",
    "    The payload of the element to conder for inclusion\n",
    "    \n",
    "    size: integer\n",
    "    The number of elements already in the current tile\n",
    "    \n",
    "    Return\n",
    "    -------\n",
    "    \n",
    "    Include: Boolean\n",
    "    True means include this element; False means end tile\n",
    "    \n",
    "    \"\"\"\n",
    "    #\n",
    "    # Tiles must have a least one element, but we\n",
    "    # get called in case this method has some internal\n",
    "    # state that gets updated\n",
    "    #\n",
    "    if size == 0:\n",
    "        return True\n",
    "    \n",
    "    #\n",
    "    # Randomly decide if we want more elements\n",
    "    #\n",
    "    return random.random() > .2"
   ]
  },
  {
   "cell_type": "markdown",
   "metadata": {},
   "source": [
    "## Dynamically tile a tensor"
   ]
  },
  {
   "cell_type": "code",
   "execution_count": null,
   "metadata": {
    "scrolled": false
   },
   "outputs": [],
   "source": [
    "t = Tensor.fromRandom([\"X\"], [40], (0.6,), 10, seed=40)\n",
    "t.setColor(\"green\").setName(\"T\")\n",
    "\n",
    "displayTensor(t)\n",
    "t_x1 = t.getRoot()\n",
    "\n",
    "canvas = createCanvas(t)\n",
    "\n",
    "tile_filter = DynamicTiler(random_tile, 4)\n",
    "\n",
    "start_pos = 0\n",
    "\n",
    "while start_pos < len(t_x1):\n",
    "    print(f\"Tile starting at position: {start_pos}\")\n",
    "    \n",
    "    t_x0 = t_x1.prune(tile_filter, start_pos=start_pos)\n",
    "    start_pos = t_x1.getSavedPos()\n",
    "\n",
    "    # displayTensor(t_x0)\n",
    "    canvas.addFrame([(c,) for c,p in t_x0])\n",
    "\n",
    "    for c, p in t_x0:\n",
    "        print(f\"c: {c}, p: {p}\")\n",
    "\n",
    "\n",
    "(count, distance) = t_x1.getSavedPosStats()\n",
    "print(\"\")\n",
    "print(f\"Average search distance: {distance/count:4.2}\")\n",
    "        \n",
    "displayCanvas(canvas)\n"
   ]
  },
  {
   "cell_type": "markdown",
   "metadata": {},
   "source": [
    "## Testing area\n",
    "\n",
    "For running alternative algorithms"
   ]
  },
  {
   "cell_type": "code",
   "execution_count": null,
   "metadata": {},
   "outputs": [],
   "source": []
  },
  {
   "cell_type": "code",
   "execution_count": null,
   "metadata": {},
   "outputs": [],
   "source": []
  },
  {
   "cell_type": "code",
   "execution_count": null,
   "metadata": {},
   "outputs": [],
   "source": []
  },
  {
   "cell_type": "code",
   "execution_count": null,
   "metadata": {},
   "outputs": [],
   "source": []
  }
 ],
 "metadata": {
  "kernelspec": {
   "display_name": "Python 3",
   "language": "python",
   "name": "python3"
  },
  "language_info": {
   "codemirror_mode": {
    "name": "ipython",
    "version": 3
   },
   "file_extension": ".py",
   "mimetype": "text/x-python",
   "name": "python",
   "nbconvert_exporter": "python",
   "pygments_lexer": "ipython3",
   "version": "3.8.8"
  }
 },
 "nbformat": 4,
 "nbformat_minor": 2
}
