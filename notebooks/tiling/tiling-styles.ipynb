{
 "cells": [
  {
   "cell_type": "markdown",
   "metadata": {},
   "source": [
    "# Exploring Cartesian Product\n",
    "\n",
    "First, include some libraries"
   ]
  },
  {
   "cell_type": "code",
   "execution_count": null,
   "metadata": {},
   "outputs": [],
   "source": [
    "# Begin - startup boilerplate code\n",
    "\n",
    "import pkgutil\n",
    "\n",
    "if 'fibertree_bootstrap' not in [pkg.name for pkg in pkgutil.iter_modules()]:\n",
    "  !python3 -m pip  install git+https://github.com/Fibertree-project/fibertree-bootstrap --quiet\n",
    "\n",
    "# End - startup boilerplate code\n",
    "\n",
    "\n",
    "from fibertree_bootstrap import *\n",
    "fibertree_bootstrap()"
   ]
  },
  {
   "cell_type": "markdown",
   "metadata": {},
   "source": [
    "## Z_m = A_mk * B_mk"
   ]
  },
  {
   "cell_type": "markdown",
   "metadata": {},
   "source": [
    "#### Load basic tensors"
   ]
  },
  {
   "cell_type": "code",
   "execution_count": null,
   "metadata": {},
   "outputs": [],
   "source": [
    "As = Tensor.fromUncompressed([\"M\", \"K\"], [[1, 0, 1, 1], [0, 0, 0, 0], [0, 0, 3, 3], [0, 0, 0, 0]])\n",
    "Bs = Tensor.fromUncompressed([\"M\", \"K\"], [[1, 0, 0, 1], [0, 0, 0, 0], [0, 0, 0, 3], [4, 0, 4, 0]])\n",
    "Zs_verify = Tensor.fromUncompressed([\"M\"],   [2,            0,            9,            0])\n"
   ]
  },
  {
   "cell_type": "markdown",
   "metadata": {},
   "source": [
    "#### Untiled Baseline Traversal"
   ]
  },
  {
   "cell_type": "code",
   "execution_count": null,
   "metadata": {},
   "outputs": [],
   "source": [
    "Zs = Tensor(rank_ids = [\"M\"])\n",
    "\n",
    "as_m = As.getRoot()\n",
    "bs_m = Bs.getRoot()\n",
    "zs_m = Zs.getRoot()\n",
    "\n",
    "canvas = createCanvas(As, Bs, Zs)\n",
    "\n",
    "for m, (z, (as_k, bs_k)) in zs_m << (as_m & bs_m):\n",
    "  for k, (a, b) in as_k & bs_k:\n",
    "    z += a * b\n",
    "    canvas.addFrame((m, k), (m, k), (m,))\n",
    "\n",
    "displayCanvas(canvas, width=\"50%\")"
   ]
  },
  {
   "cell_type": "markdown",
   "metadata": {},
   "source": [
    "#### Verify Result"
   ]
  },
  {
   "cell_type": "code",
   "execution_count": null,
   "metadata": {},
   "outputs": [],
   "source": [
    "Zs_verify == Zs"
   ]
  },
  {
   "cell_type": "markdown",
   "metadata": {},
   "source": [
    "## Tiled K -- Offline"
   ]
  },
  {
   "cell_type": "markdown",
   "metadata": {},
   "source": [
    "#### Load pre-tiled tensors"
   ]
  },
  {
   "cell_type": "code",
   "execution_count": null,
   "metadata": {},
   "outputs": [],
   "source": [
    "K0 = 2\n",
    "\n",
    "As_tiled_K = Tensor.fromUncompressed([\"K1\", \"M\", \"K0\"], [[[1, 0], [0, 0], [0, 0], [0, 0]], [[1, 1], [0, 0], [3, 3], [0, 0]]])\n",
    "Bs_tiled_K = Tensor.fromUncompressed([\"K1\", \"M\", \"K0\"], [[[1, 0], [0, 0], [0, 0], [4, 0]], [[0, 1], [0, 0], [0, 3], [4, 0]]])\n"
   ]
  },
  {
   "cell_type": "markdown",
   "metadata": {},
   "source": [
    "#### Tiled traversal"
   ]
  },
  {
   "cell_type": "code",
   "execution_count": null,
   "metadata": {},
   "outputs": [],
   "source": [
    "Zs = Tensor(rank_ids = [\"M\"])\n",
    "\n",
    "as_k1 = As_tiled_K.getRoot()\n",
    "bs_k1 = Bs_tiled_K.getRoot()\n",
    "zs_m  = Zs.getRoot()\n",
    "\n",
    "canvas = createCanvas(As_tiled_K, Bs_tiled_K, Zs)\n",
    "for k1, (as_m, bs_m) in as_k1 & bs_k1:\n",
    "  for m, (z, (as_k0, bs_k0)) in zs_m << (as_m & bs_m):\n",
    "    for k0, (a, b) in as_k0 & bs_k0:\n",
    "      z += a * b\n",
    "      canvas.addFrame((k1, m, k0), (k1, m, k0), (m,))\n",
    "       \n",
    "displayCanvas(canvas, width=\"50%\")"
   ]
  },
  {
   "cell_type": "markdown",
   "metadata": {},
   "source": [
    "#### Verify result"
   ]
  },
  {
   "cell_type": "code",
   "execution_count": null,
   "metadata": {},
   "outputs": [],
   "source": [
    "Zs_verify == Zs"
   ]
  },
  {
   "cell_type": "markdown",
   "metadata": {},
   "source": [
    "## Tiled K -- Online, Monolithic, Separate"
   ]
  },
  {
   "cell_type": "markdown",
   "metadata": {},
   "source": [
    "#### Define tensors for online tiling"
   ]
  },
  {
   "cell_type": "code",
   "execution_count": null,
   "metadata": {},
   "outputs": [],
   "source": [
    "As_tiled_K = Tensor(rank_ids = [\"K1\", \"M\", \"K0\"])\n",
    "Bs_tiled_K = Tensor(rank_ids = [\"K1\", \"M\", \"K0\"])\n",
    "Zs = Tensor(rank_ids = [\"M\"])\n",
    "\n",
    "K0 = 2"
   ]
  },
  {
   "cell_type": "markdown",
   "metadata": {},
   "source": [
    "#### Tile Tensor A"
   ]
  },
  {
   "cell_type": "code",
   "execution_count": null,
   "metadata": {},
   "outputs": [],
   "source": [
    "Zs = Tensor(rank_ids = [\"M\"])\n",
    "\n",
    "canvas = createCanvas(As, As_tiled_K)\n",
    "\n",
    "as_m = As.getRoot()\n",
    "as_tiled_k1 = As_tiled_K.getRoot()\n",
    "\n",
    "for (m, as_k) in as_m:\n",
    "    for (k, a) in as_k:\n",
    "        k1 = k // K0\n",
    "        k0 = k %  K0\n",
    "        as_tiled_k0 = as_tiled_k1.getPayloadRef(k1, m, k0)\n",
    "        as_tiled_k0 <<= a\n",
    "        canvas.addFrame((m, k), (k1, m, k0))\n",
    "\n",
    "print(As_tiled_K.getRoot() == as_tiled_k1)\n",
    "displayCanvas(canvas, width=\"50%\")"
   ]
  },
  {
   "cell_type": "markdown",
   "metadata": {},
   "source": [
    "#### Tile Tensor B"
   ]
  },
  {
   "cell_type": "code",
   "execution_count": null,
   "metadata": {},
   "outputs": [],
   "source": [
    "canvas = createCanvas(Bs, Bs_tiled_K)\n",
    "\n",
    "bs_m = Bs.getRoot()\n",
    "bs_tiled_k1 = Bs_tiled_K.getRoot()\n",
    "\n",
    "for (m, bs_k) in bs_m:\n",
    "    for (k, b) in bs_k:\n",
    "        k1 = k // K0\n",
    "        k0 = k % K0\n",
    "    \n",
    "        bs_tiled_k0 = bs_tiled_k1.getPayloadRef(k1, m, k0)\n",
    "        bs_tiled_k0 <<= b\n",
    "        canvas.addFrame((m, k), (k1, m, k0))\n",
    "\n",
    "print(Bs_tiled_K.getRoot() == bs_tiled_k1)\n",
    "displayCanvas(canvas, width=\"50%\")"
   ]
  },
  {
   "cell_type": "markdown",
   "metadata": {},
   "source": [
    "#### Tiled Traversal"
   ]
  },
  {
   "cell_type": "code",
   "execution_count": null,
   "metadata": {},
   "outputs": [],
   "source": [
    "Zs = Tensor(rank_ids = [\"M\"])\n",
    "\n",
    "as_k1 = As_tiled_K.getRoot()\n",
    "bs_k1 = Bs_tiled_K.getRoot()\n",
    "zs_m  = Zs.getRoot()\n",
    "\n",
    "canvas = createCanvas(As_tiled_K, Bs_tiled_K, Zs)\n",
    "\n",
    "for k1, (as_m, bs_m) in as_k1 & bs_k1:\n",
    "  for m, (z, (as_k0, bs_k0)) in zs_m << (as_m & bs_m):\n",
    "    for k0, (a, b) in as_k0 & bs_k0:\n",
    "      z += a * b\n",
    "      canvas.addFrame((k1, m, k0), (k1, m, k0), (m,))\n",
    "       \n",
    "displayCanvas(canvas, width=\"50%\")"
   ]
  },
  {
   "cell_type": "markdown",
   "metadata": {},
   "source": [
    "#### Verify Result"
   ]
  },
  {
   "cell_type": "code",
   "execution_count": null,
   "metadata": {},
   "outputs": [],
   "source": [
    "Zs_verify == Zs"
   ]
  },
  {
   "cell_type": "markdown",
   "metadata": {},
   "source": [
    "### Tiled K -- Online, Monolithic, Combined"
   ]
  },
  {
   "cell_type": "markdown",
   "metadata": {},
   "source": [
    "#### Define tensors for online tiling (post-intersection)"
   ]
  },
  {
   "cell_type": "code",
   "execution_count": null,
   "metadata": {},
   "outputs": [],
   "source": [
    "ABs_tiled_K = Tensor(rank_ids = [\"K1\", \"M\", \"K0\"])\n",
    "Zs = Tensor(rank_ids = [\"M\"])\n",
    "\n",
    "K0 = 2"
   ]
  },
  {
   "cell_type": "markdown",
   "metadata": {},
   "source": [
    "#### Co-Tile A and B"
   ]
  },
  {
   "cell_type": "code",
   "execution_count": null,
   "metadata": {},
   "outputs": [],
   "source": [
    "canvas = createCanvas(As, Bs, ABs_tiled_K)\n",
    "\n",
    "as_m = As.getRoot()\n",
    "bs_m = Bs.getRoot()\n",
    "abs_tiled_k1 = ABs_tiled_K.getRoot()\n",
    "\n",
    "for m, (as_k, bs_k) in as_m & bs_m:\n",
    "  for k, (a, b) in as_k & bs_k:\n",
    "    k1 = k // K0\n",
    "    k0 = k %  K0\n",
    "    #print(\"Inserting ({}, {}) as ({}, {}, {})\".format(m,k,k1,m,k0))\n",
    "    abs_tiled_k0 = abs_tiled_k1.getPayloadRef(k1, m, k0)\n",
    "    abs_tiled_k0 <<= a*b\n",
    "    canvas.addFrame((m, k), (m, k), (k1, m, k0))\n",
    "\n",
    "displayCanvas(canvas, width=\"50%\")"
   ]
  },
  {
   "cell_type": "markdown",
   "metadata": {},
   "source": [
    "#### Tiled Traversal"
   ]
  },
  {
   "cell_type": "code",
   "execution_count": null,
   "metadata": {},
   "outputs": [],
   "source": [
    "Zs = Tensor(rank_ids = [\"M\"])\n",
    "\n",
    "canvas = createCanvas(ABs_tiled_K, Zs)\n",
    "\n",
    "abs_tiled_k1 = ABs_tiled_K.getRoot()\n",
    "zs_m  = Zs.getRoot()\n",
    "\n",
    "# NOTE: Worker loop no longer contains intersections!\n",
    "for k1, abs_tiled_m in abs_tiled_k1:\n",
    "  for m, (z, abs_tiled_k0) in zs_m << abs_tiled_m:\n",
    "    for k0, ab in abs_tiled_k0:\n",
    "      z += ab\n",
    "      canvas.addFrame((k1, m, k0), (m,))\n",
    "\n",
    "displayCanvas(canvas, width=\"50%\")\n"
   ]
  },
  {
   "cell_type": "markdown",
   "metadata": {},
   "source": [
    "#### Verify Result"
   ]
  },
  {
   "cell_type": "code",
   "execution_count": null,
   "metadata": {},
   "outputs": [],
   "source": [
    "Zs_verify == Zs"
   ]
  },
  {
   "cell_type": "markdown",
   "metadata": {},
   "source": [
    "## Tiled -- Online, Incremental, Combined"
   ]
  },
  {
   "cell_type": "markdown",
   "metadata": {},
   "source": [
    "#### Define workspace and current positions tensors"
   ]
  },
  {
   "cell_type": "code",
   "execution_count": null,
   "metadata": {},
   "outputs": [],
   "source": [
    "K0 = 2\n",
    "K1 = 2 # XXX MAGIC FOR NOW\n",
    "\n",
    "workspace = Tensor(rank_ids = [\"K0\"])\n",
    "\n",
    "current_positions = Tensor(rank_ids = [\"M\"])\n",
    "current_positions.setDefault((0,0))\n",
    "\n",
    "Zs = Tensor(rank_ids = [\"M\"])"
   ]
  },
  {
   "cell_type": "markdown",
   "metadata": {},
   "source": [
    "### Traverse and Tile Simultaneously"
   ]
  },
  {
   "cell_type": "code",
   "execution_count": null,
   "metadata": {},
   "outputs": [],
   "source": [
    "canvas = createCanvas(As, Bs, workspace, Zs)\n",
    "\n",
    "as_m = As.getRoot()\n",
    "bs_m = Bs.getRoot()\n",
    "zs_m = Zs.getRoot()\n",
    "\n",
    "workspace_k0 = workspace.getRoot()\n",
    "current_positions_m = current_positions.getRoot()\n",
    "\n",
    "\n",
    "for k1 in range(K1):  # TODO: improve this outer loop\n",
    "  for m, (z, (pos_ref, (as_k, bs_k))) in zs_m << (current_positions_m << (as_m & bs_m)):\n",
    "    \n",
    "    workspace_k0.clear()\n",
    "    \n",
    "    # Get the starting positions\n",
    "    (a_pos, b_pos) = pos_ref\n",
    "    \n",
    "    as_k0 = as_k.getRange(k1 * K0, K0, start_pos = a_pos)\n",
    "    bs_k0 = bs_k.getRange(k1 * K0, K0, start_pos = b_pos)\n",
    "    \n",
    "    # Update the starting positions\n",
    "    pos_ref <<= (as_k.getSavedPos(), bs_k.getSavedPos())\n",
    "    \n",
    "    # Tiling loop (with multiplication)\n",
    "    for k, (a, b) in as_k0 & bs_k0:\n",
    "      workspace.getRoot().append(k // K0, a * b)\n",
    "      print(\"Inserting ({}, {})\".format(m, k))\n",
    "        \n",
    "    # Reduction and update loop\n",
    "    for k0, ab in workspace_k0:\n",
    "      z += ab\n",
    "      canvas.addFrame((m, k), (m, k), (k,), (m,))\n",
    "      print(\"Working on ({}, {}, {})\".format(k1, m, k0))\n",
    "\n",
    "displayCanvas(canvas, width=\"50%\")"
   ]
  },
  {
   "cell_type": "markdown",
   "metadata": {},
   "source": [
    "#### Verify result"
   ]
  },
  {
   "cell_type": "code",
   "execution_count": null,
   "metadata": {},
   "outputs": [],
   "source": [
    "Zs_verify == Zs"
   ]
  },
  {
   "cell_type": "markdown",
   "metadata": {},
   "source": [
    "## Testing area\n",
    "\n",
    "For running alternative algorithms"
   ]
  },
  {
   "cell_type": "code",
   "execution_count": null,
   "metadata": {},
   "outputs": [],
   "source": []
  },
  {
   "cell_type": "code",
   "execution_count": null,
   "metadata": {},
   "outputs": [],
   "source": []
  },
  {
   "cell_type": "code",
   "execution_count": null,
   "metadata": {},
   "outputs": [],
   "source": []
  }
 ],
 "metadata": {
  "kernelspec": {
   "display_name": "Python 3 (ipykernel)",
   "language": "python",
   "name": "python3"
  },
  "language_info": {
   "codemirror_mode": {
    "name": "ipython",
    "version": 3
   },
   "file_extension": ".py",
   "mimetype": "text/x-python",
   "name": "python",
   "nbconvert_exporter": "python",
   "pygments_lexer": "ipython3",
   "version": "3.10.8"
  }
 },
 "nbformat": 4,
 "nbformat_minor": 4
}
