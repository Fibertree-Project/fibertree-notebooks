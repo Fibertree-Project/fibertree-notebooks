{
 "cells": [
  {
   "cell_type": "markdown",
   "metadata": {
    "slideshow": {
     "slide_type": "-"
    }
   },
   "source": [
    "# Exploring dense convolution with Toeplitz transform\n",
    "\n",
    "This notebook uses the fiber-tree emulator to display the behaviour of various 2-D+muliple output channel convolutions for dense data. Because the data is assumed to be dense we use the position-based operators on the premise that for dense data the position and coordinate are the same.\n",
    "\n",
    "Note: The extension to multiple input channels should be straightforward, but would result in the Toeplitz tensor being rank-5, which is not displayable in the \"uncompressed\" form.\n",
    "\n",
    "First, include some libraries"
   ]
  },
  {
   "cell_type": "code",
   "execution_count": null,
   "metadata": {},
   "outputs": [],
   "source": [
    "# Begin - startup boilerplate code\n",
    "\n",
    "import pkgutil\n",
    "\n",
    "if 'fibertree_bootstrap' not in [pkg.name for pkg in pkgutil.iter_modules()]:\n",
    "  !python3 -m pip  install git+https://github.com/Fibertree-project/fibertree-bootstrap --quiet\n",
    "\n",
    "# End - startup boilerplate code\n",
    "\n",
    "from fibertree_bootstrap import *\n",
    "\n",
    "fibertree_bootstrap(style=\"uncompressed\", animation=\"movie\")"
   ]
  },
  {
   "cell_type": "markdown",
   "metadata": {},
   "source": [
    "## Logging Control"
   ]
  },
  {
   "cell_type": "code",
   "execution_count": null,
   "metadata": {},
   "outputs": [],
   "source": [
    "enable_log = False\n",
    "\n",
    "def set_params(log):\n",
    "    global enable_log\n",
    "\n",
    "    enable_log = (log == 'enable')\n",
    "\n",
    "def log(*args):\n",
    "    if enable_log:\n",
    "        print(*args)\n",
    "\n",
    "controls = interactive(set_params,\n",
    "                       log=['disable', 'enable'])\n",
    "\n",
    "\n",
    "display(controls)"
   ]
  },
  {
   "cell_type": "markdown",
   "metadata": {},
   "source": [
    "## Convolution Inputs Selection\n",
    "\n",
    "Using sliders to select the shapes of the weights and input activations"
   ]
  },
  {
   "cell_type": "code",
   "execution_count": null,
   "metadata": {},
   "outputs": [],
   "source": [
    "H = 5\n",
    "W = 5\n",
    "R = 2\n",
    "S = 2\n",
    "K = 2\n",
    "\n",
    "\n",
    "tm = TensorMaker(\"toeplitz\")\n",
    "\n",
    "tm.addTensor(\"I_HW\",\n",
    "             rank_ids=[\"H\", \"W\"],\n",
    "             shape=[H, W],\n",
    "             density=1,\n",
    "             interval=5,\n",
    "             seed=0,\n",
    "             color=\"blue\")\n",
    "\n",
    "tm.addTensor(\"F_KRS\",\n",
    "             rank_ids=[\"K\", \"R\", \"S\"],\n",
    "             shape=[K, R, S],\n",
    "             density=1,\n",
    "             interval=5,\n",
    "             seed=0,\n",
    "             color=\"green\")\n",
    "\n",
    "tm.displayControls()"
   ]
  },
  {
   "cell_type": "markdown",
   "metadata": {},
   "source": [
    "## Create Input Tensors\n",
    "\n",
    "Given shapes selected above create and display the filter weights (**f**) and input activations (**i**) and a reference output (**o_verify**)"
   ]
  },
  {
   "cell_type": "code",
   "execution_count": null,
   "metadata": {},
   "outputs": [],
   "source": [
    "I_HW = tm.makeTensor(\"I_HW\")\n",
    "F_KRS = tm.makeTensor(\"F_KRS\")\n",
    "\n",
    "print(\"Input activations\")\n",
    "displayTensor(I_HW)\n",
    "print(\"Filter weights\")\n",
    "displayTensor(F_KRS)\n",
    "\n",
    "H = I_HW.getShape(\"H\")\n",
    "W = I_HW.getShape(\"W\")\n",
    "K = F_KRS.getShape(\"K\")\n",
    "R = F_KRS.getShape(\"R\")\n",
    "S = F_KRS.getShape(\"S\")\n",
    "\n",
    "P = H - S + 1\n",
    "Q = W - R + 1\n",
    "\n",
    "print(\"\")\n",
    "print(f\"Output activations - {P}x{Q}\")\n"
   ]
  },
  {
   "cell_type": "markdown",
   "metadata": {},
   "source": [
    "## Output Stationary\n",
    "\n",
    "$$ O_{k,p,q} = I_{p+r, q+s} \\times F_{k,r,s} $$"
   ]
  },
  {
   "cell_type": "code",
   "execution_count": null,
   "metadata": {},
   "outputs": [],
   "source": [
    "o = Tensor.makePopulated(name=\"Output\",\n",
    "                         rank_ids=[\"K\", \"P\", \"Q\"],\n",
    "                         shape=[K, P, Q])\n",
    "\n",
    "i = I_HW\n",
    "f = F_KRS\n",
    "        \n",
    "displayTensor(o)\n",
    "\n",
    "print(\"Convolution\")\n",
    "\n",
    "output_shape = Fiber(coords=range(Q), initial=1)\n",
    "\n",
    "canvas = createCanvas(i, f, o)\n",
    "\n",
    "for k in range(K):\n",
    "    for p in range(P):\n",
    "        for q in range(Q):\n",
    "            for r in range(R):\n",
    "                for s in range(S):\n",
    "                    h = p + r\n",
    "                    w = q + s\n",
    "                    o[k][p][q] += i[h][w] * f[k][r][s]\n",
    "\n",
    "                    i_window = [(h,w) for h in range(p, p+S) for w in range(q, q+S)]\n",
    "                    canvas.addActivity(i_window, (), (), spacetime=(\"W\", (k, p, q, r, s)))\n",
    "                    canvas.addActivity((h,w), (k,r,s), (k,p,q), spacetime=(\"P\", (k, p, q, r, s)))\n",
    "\n",
    "displayTensor(o)\n",
    "displayCanvas(canvas)"
   ]
  },
  {
   "cell_type": "markdown",
   "metadata": {},
   "source": [
    "## Toplitz conversion\n",
    "\n",
    "$$ T_{p,q,r,s} = I_{p+r, q+s} $$"
   ]
  },
  {
   "cell_type": "code",
   "execution_count": null,
   "metadata": {},
   "outputs": [],
   "source": [
    "t = Tensor.makePopulated(name=\"T\",\n",
    "                         rank_ids=[\"R\", \"S\", \"P\", \"Q\"],\n",
    "                         shape=[R, S, P, Q],\n",
    "                         color=\"lightblue\")\n",
    "\n",
    "\n",
    "print(\"Toplitz matrix creation\")\n",
    "\n",
    "canvas = createCanvas(i, t)\n",
    "\n",
    "for p in range(P):\n",
    "    for q in range(Q):\n",
    "        for r in range(R):\n",
    "            for s in range(S):\n",
    "                t[r][s][p][q] <<= i[p+r][q+s]\n",
    "                canvas.addFrame((p+r,q+s), (r,s,p,q))\n",
    "\n",
    "displayTensor(t)\n",
    "displayCanvas(canvas)\n"
   ]
  },
  {
   "cell_type": "markdown",
   "metadata": {},
   "source": [
    "## Convolution (using Toeplitz matrix)\n",
    "\n",
    "$$ O_{k,p,q} = T_{p,q,r,s} \\times F_{k,r,s} $$"
   ]
  },
  {
   "cell_type": "code",
   "execution_count": null,
   "metadata": {},
   "outputs": [],
   "source": [
    "o = Tensor.makePopulated(name=\"O\",\n",
    "                         rank_ids=[\"K\", \"P\", \"Q\"],\n",
    "                         shape=[K, P, Q])\n",
    "\n",
    "displayTensor(o)\n",
    "\n",
    "print(\"Toplitz-based convolution\")\n",
    "\n",
    "canvas = createCanvas(t, f, o)\n",
    "\n",
    "for k in range(K):\n",
    "    for p in range(P):\n",
    "        for q in range(Q):\n",
    "            for r in range(R):\n",
    "                for s in range(S):\n",
    "                    o[k][p][q] += t[r][s][p][q] * f[k][r][s]\n",
    "                    \n",
    "                    canvas.addFrame((r,s,p,q), (k,r,s), (k,p,q))\n",
    "\n",
    "displayTensor(o)\n",
    "displayCanvas(canvas)\n"
   ]
  },
  {
   "cell_type": "markdown",
   "metadata": {},
   "source": [
    "## Flatten Filter Weights\n",
    "\n",
    "$$F'_{k, r*S+s} = F_{k, r, s} $$"
   ]
  },
  {
   "cell_type": "code",
   "execution_count": null,
   "metadata": {},
   "outputs": [],
   "source": [
    "ff = Tensor.makePopulated(name=\"Filter Weights Flattened\",\n",
    "                          rank_ids=[\"K\", \"RS\"],\n",
    "                          shape=[K, R*S],\n",
    "                          color=\"green\")\n",
    "    \n",
    "displayTensor(ff)\n",
    "\n",
    "for k in range(K):\n",
    "    for r in range(R):\n",
    "        for s in range(S):\n",
    "            rs = r*S + s\n",
    "            ff[k][rs] <<= f[k][r][s]\n",
    "            \n",
    "displayTensor(ff)"
   ]
  },
  {
   "cell_type": "markdown",
   "metadata": {},
   "source": [
    "## Flatten Toeplitz Tensor\n",
    "\n",
    "$$ T'_{p \\times Q + q, r \\times S + s} = T_{p, q, r, s} $$"
   ]
  },
  {
   "cell_type": "code",
   "execution_count": null,
   "metadata": {},
   "outputs": [],
   "source": [
    "tf = Tensor.makePopulated(name=\"Toeplitz Flattened\",\n",
    "                          rank_ids=[\"PQ\", \"RS\"],\n",
    "                          shape=[P*Q, R*S],\n",
    "                          color=\"lightblue\")\n",
    "\n",
    "\n",
    "for p in range(P):\n",
    "    for q in range(Q):\n",
    "        pq = p*Q + q\n",
    "        for r in range(R):\n",
    "            for s in range(S):\n",
    "                rs = r*S + s\n",
    "                tf[pq][rs] <<= t[r][s][p][q]\n",
    "            \n",
    "displayTensor(tf)"
   ]
  },
  {
   "cell_type": "markdown",
   "metadata": {},
   "source": [
    "## Flattened Convolution\n",
    "\n",
    "$$ O'_{k,pq} = T'_{pq, rs} \\times F'_{k, rs} $$"
   ]
  },
  {
   "cell_type": "code",
   "execution_count": null,
   "metadata": {},
   "outputs": [],
   "source": [
    "of = Tensor.makePopulated(name=\"Output Flattened\",\n",
    "                          rank_ids=[\"K\", \"PQ\"],\n",
    "                          shape=[K, P*Q])\n",
    " \n",
    "displayTensor(of)\n",
    "\n",
    "print(\"Flattened Toplitz-based convolution\")\n",
    "\n",
    "canvas = createCanvas(tf, ff, of)\n",
    "\n",
    "for k in range(K):\n",
    "    for pq in range(P*Q):\n",
    "        for rs in range(R*S):\n",
    "            of[k][pq] += tf[pq][rs] * ff[k][rs]\n",
    "            canvas.addFrame((pq,rs), (k,rs), (k,pq))\n",
    "\n",
    "displayTensor(of)\n",
    "displayCanvas(canvas)\n"
   ]
  },
  {
   "cell_type": "markdown",
   "metadata": {},
   "source": [
    "## Testing area\n",
    "\n",
    "For running alternative algorithms"
   ]
  },
  {
   "cell_type": "code",
   "execution_count": null,
   "metadata": {},
   "outputs": [],
   "source": []
  },
  {
   "cell_type": "code",
   "execution_count": null,
   "metadata": {},
   "outputs": [],
   "source": []
  },
  {
   "cell_type": "code",
   "execution_count": null,
   "metadata": {},
   "outputs": [],
   "source": []
  }
 ],
 "metadata": {
  "kernelspec": {
   "display_name": "Python 3 (ipykernel)",
   "language": "python",
   "name": "python3"
  },
  "language_info": {
   "codemirror_mode": {
    "name": "ipython",
    "version": 3
   },
   "file_extension": ".py",
   "mimetype": "text/x-python",
   "name": "python",
   "nbconvert_exporter": "python",
   "pygments_lexer": "ipython3",
   "version": "3.10.8"
  }
 },
 "nbformat": 4,
 "nbformat_minor": 4
}
