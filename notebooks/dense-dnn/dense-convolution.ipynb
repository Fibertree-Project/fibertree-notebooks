{
 "cells": [
  {
   "cell_type": "markdown",
   "metadata": {
    "slideshow": {
     "slide_type": "-"
    }
   },
   "source": [
    "# Exploring dense convolution\n",
    "\n",
    "This notebook uses the fiber-tree emulator to display the behaviour of various 1-D convolutions for dense data. Because the data is assumed to be dense we use the position-based operators on the premise that for dense data the position and coordinate are the same.\n",
    "\n",
    "First, include some libraries"
   ]
  },
  {
   "cell_type": "code",
   "execution_count": null,
   "metadata": {},
   "outputs": [],
   "source": [
    "# Begin - startup boilerplate code\n",
    "\n",
    "import pkgutil\n",
    "\n",
    "if 'fibertree_bootstrap' not in [pkg.name for pkg in pkgutil.iter_modules()]:\n",
    "  !python3 -m pip  install git+https://github.com/Fibertree-project/fibertree-bootstrap --quiet\n",
    "\n",
    "# End - startup boilerplate code\n",
    "\n",
    "\n",
    "from fibertree_bootstrap import *\n",
    "fibertree_bootstrap(style=\"uncompressed\", animation=\"spacetime\")"
   ]
  },
  {
   "cell_type": "markdown",
   "metadata": {},
   "source": [
    "## Convolution Inputs Selection\n",
    "\n",
    "Using sliders to select the shapes of the weights and input activations"
   ]
  },
  {
   "cell_type": "code",
   "execution_count": null,
   "metadata": {},
   "outputs": [],
   "source": [
    "# Initial values\n",
    "\n",
    "S = 3\n",
    "W = 8\n",
    "Q = W-S+1\n",
    "\n",
    "density = [1.0]\n",
    "seed = 10\n",
    "\n",
    "enable_log = False\n",
    "\n",
    "def set_params(rank_S, rank_W, rand_seed, log):\n",
    "    global S\n",
    "    global W\n",
    "    global Q\n",
    "    global density\n",
    "    global seed\n",
    "    global enable_log\n",
    "    \n",
    "    S = rank_S\n",
    "    W = rank_W\n",
    "    Q = W-S+1\n",
    "    \n",
    "    seed = rand_seed\n",
    "\n",
    "    enable_log = (log == 'enable')\n",
    "\n",
    "def log(*args):\n",
    "    if enable_log:\n",
    "        print(*args)\n",
    "\n",
    "controls = interactive(set_params,\n",
    "                       rank_S=widgets.IntSlider(min=2, max=9, step=1, value=S),\n",
    "                       rank_W=widgets.IntSlider(min=2, max=12, step=1, value=W),\n",
    "                       rand_seed=widgets.IntSlider(min=0, max=100, step=1, value=seed),\n",
    "                       log=['disable', 'enable'])\n",
    "\n",
    "\n",
    "display(controls)"
   ]
  },
  {
   "cell_type": "markdown",
   "metadata": {},
   "source": [
    "## Create Input Tensors\n",
    "\n",
    "Given shapes selected above create and display the filter weights (**f**) and input activations (**i**) and a reference output (**o_verify**)"
   ]
  },
  {
   "cell_type": "code",
   "execution_count": null,
   "metadata": {},
   "outputs": [],
   "source": [
    "i_raw = [random.randint(0, 9) for i in range(W)]\n",
    "f_raw = [random.randint(0, 9) for i in range(S)]\n",
    "o_verify_raw = [0 for i in range(Q)]\n",
    "\n",
    "for q in range(Q):\n",
    "    for s in range(S):\n",
    "        w = q+s\n",
    "        o_verify_raw[q] += i_raw[w] * f_raw[s]\n",
    "\n",
    "i = Tensor.fromUncompressed([\"W\"], i_raw, default=None)\n",
    "f = Tensor.fromUncompressed([\"S\"], f_raw, default=None)\n",
    "o_verify = Tensor.fromUncompressed([\"Q\"], o_verify_raw, default=None)\n",
    "\n",
    "i.setName(\"I\").setColor(\"blue\")\n",
    "f.setName(\"F\").setColor(\"green\")\n",
    "o_verify.setName(\"O\")\n",
    "\n",
    "print(\"Input activations\")\n",
    "displayTensor(i)\n",
    "print(\"Filter Weights\")\n",
    "displayTensor(f)\n",
    "print(\"Output activations (expected)\")\n",
    "displayTensor(o_verify)\n"
   ]
  },
  {
   "cell_type": "markdown",
   "metadata": {},
   "source": [
    "## Output Stationary"
   ]
  },
  {
   "cell_type": "code",
   "execution_count": null,
   "metadata": {},
   "outputs": [],
   "source": [
    "o = Tensor.fromUncompressed(rank_ids=[\"Q\"],\n",
    "                            shape=[Q],\n",
    "                            root=Q*[0],\n",
    "                            default=None,\n",
    "                            name=\"o\")\n",
    "\n",
    "print(\"Convolution\")\n",
    "\n",
    "displayTensor(o)\n",
    "\n",
    "canvas = createCanvas(f, i, o)\n",
    "\n",
    "for q in range(Q):\n",
    "    log(f\"Processing output: ({q}, ({o[q]}))\")\n",
    "    for w in range(W):\n",
    "        s = w - q\n",
    "        if s < 0 or s >= S: continue\n",
    "        log(f\"Processing input: ({w}, {i[w]})\")\n",
    "        log(f\"  Processing filter weight ({s}, {f[s]})\")\n",
    "        o[q] += f[s] * i[w]\n",
    "\n",
    "#        canvas.addActivity((), [(w,) for w in range(q, q+S)], (), worker=\"W\")\n",
    "        canvas.addFrame((w-q,), (w,), (q,))\n",
    "\n",
    "displayTensor(o)\n",
    "displayCanvas(canvas)\n",
    "\n",
    "assert o == o_verify"
   ]
  },
  {
   "cell_type": "markdown",
   "metadata": {},
   "source": [
    "## Weight Stationary"
   ]
  },
  {
   "cell_type": "code",
   "execution_count": null,
   "metadata": {},
   "outputs": [],
   "source": [
    "o = Tensor.fromUncompressed(rank_ids=[\"Q\"],\n",
    "                            shape=[Q],\n",
    "                            root=Q*[0],\n",
    "                            default=None,\n",
    "                            name=\"o\")\n",
    "\n",
    "canvas = createCanvas(f, i, o)\n",
    "\n",
    "print(\"Convolution\")\n",
    "\n",
    "for s in range(S):\n",
    "    log(f\"Processing weight: ({s}, {f[s]})\")\n",
    "    for q in range(Q):\n",
    "        w = q+s\n",
    "        log(f\"  Processing input ({w}, {i[w]}\")\n",
    "        log(f\"  Processing output ({q}, {o[q]})\")\n",
    "        \n",
    "        o[q] += f[s] * i[w]\n",
    "        \n",
    "#        canvas.addActivity((), [(w,) for w in range(q, q+S)], (), worker=\"W\")\n",
    "        canvas.addFrame((s,), (q+s,), (q,))\n",
    "\n",
    "displayTensor(o)\n",
    "displayCanvas(canvas)\n",
    "\n",
    "assert o == o_verify"
   ]
  },
  {
   "cell_type": "markdown",
   "metadata": {},
   "source": [
    "## Input Stationary"
   ]
  },
  {
   "cell_type": "code",
   "execution_count": null,
   "metadata": {},
   "outputs": [],
   "source": [
    "o = Tensor.fromUncompressed(rank_ids=[\"Q\"],\n",
    "                            shape=[Q],\n",
    "                            root=Q*[0],\n",
    "                            default=None,\n",
    "                            name=\"o\")\n",
    "\n",
    "canvas = createCanvas(f, i, o)\n",
    "\n",
    "print(\"Convolution\")\n",
    "\n",
    "for w in range(W):\n",
    "    log(f\"Processing input: ({w}, {i[w]})\")\n",
    "    for q in range(Q):\n",
    "        s = w - q\n",
    "        if s < 0 or s >= S: continue\n",
    "        log(f\"  Processing filter weight ({s}, {f[s]})\")\n",
    "        log(f\"  Processing output ({q}, {o[q]}\")\n",
    "        o[q] += f[s] * i[w]\n",
    "\n",
    "#        canvas.addActivity((),\n",
    "#                            [(w,) for w in range(q, q+S)], \n",
    "#                            [(q,) for q in range(max(0,w-S+1),min(Q,w+1))],\n",
    "#                            worker=\"W\")\n",
    "        canvas.addFrame((w-q,), (w,), (q,))\n",
    "\n",
    "\n",
    "displayTensor(o)\n",
    "displayCanvas(canvas)\n",
    "\n",
    "assert o == o_verify"
   ]
  },
  {
   "cell_type": "markdown",
   "metadata": {},
   "source": [
    "## Output Stationary - Parallel Weight Processing\n",
    "\n",
    "Assumes parallelism equal to the number of weights"
   ]
  },
  {
   "cell_type": "code",
   "execution_count": null,
   "metadata": {},
   "outputs": [],
   "source": [
    "o = Tensor.fromUncompressed(rank_ids=[\"Q\"],\n",
    "                            shape=[Q],\n",
    "                            root=Q*[0],\n",
    "                            default=None,\n",
    "                            name=\"o\")\n",
    "\n",
    "\n",
    "print(\"Convolution\")\n",
    "\n",
    "output_shape = Fiber(coords=range(Q), initial=1)\n",
    "\n",
    "canvas = createCanvas(f, i, o)\n",
    "\n",
    "for q in range(Q):\n",
    "    log(f\"Processing output: ({q}, {o[q]})\")\n",
    "    for w in range(W):\n",
    "        s = w - q\n",
    "        if s < 0 or s >= S: continue\n",
    "        log(f\"Processing input: ({w}, {i[w]})\")\n",
    "        log(f\"  Processing filter weight ({s}, {f[s]})\")\n",
    "        o[q] += f[s] * i[w]\n",
    "\n",
    "        canvas.addActivity((s,), (w,), (q,), worker=f\"PE{s}\")\n",
    "#    canvas.addActivity((), [(w,) for w in range(q, q+S)], (), worker=\"W\")\n",
    "    canvas.addFrame()\n",
    "\n",
    "displayTensor(o)\n",
    "displayCanvas(canvas)\n",
    "\n",
    "assert o == o_verify"
   ]
  },
  {
   "cell_type": "markdown",
   "metadata": {},
   "source": [
    "## Testing area\n",
    "\n",
    "For running alternative algorithms"
   ]
  },
  {
   "cell_type": "code",
   "execution_count": null,
   "metadata": {},
   "outputs": [],
   "source": []
  },
  {
   "cell_type": "code",
   "execution_count": null,
   "metadata": {},
   "outputs": [],
   "source": []
  },
  {
   "cell_type": "code",
   "execution_count": null,
   "metadata": {},
   "outputs": [],
   "source": []
  }
 ],
 "metadata": {
  "kernelspec": {
   "display_name": "Python 3 (ipykernel)",
   "language": "python",
   "name": "python3"
  },
  "language_info": {
   "codemirror_mode": {
    "name": "ipython",
    "version": 3
   },
   "file_extension": ".py",
   "mimetype": "text/x-python",
   "name": "python",
   "nbconvert_exporter": "python",
   "pygments_lexer": "ipython3",
   "version": "3.10.8"
  }
 },
 "nbformat": 4,
 "nbformat_minor": 4
}
