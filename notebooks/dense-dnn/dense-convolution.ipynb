{
 "cells": [
  {
   "cell_type": "markdown",
   "metadata": {
    "slideshow": {
     "slide_type": "-"
    }
   },
   "source": [
    "# Exploring dense convolution\n",
    "\n",
    "This notebook uses the fibertree emulator to display the behaviour of various 1-D convolutions for dense data. Because the data is assumed to be dense we use the position-based operators on the premise that for dense data the position and coordinate are the same.\n",
    "\n",
    "First, include some libraries"
   ]
  },
  {
   "cell_type": "code",
   "execution_count": null,
   "metadata": {},
   "outputs": [],
   "source": [
    "# Begin - startup boilerplate code\n",
    "\n",
    "import pkgutil\n",
    "\n",
    "if 'fibertree_bootstrap' not in [pkg.name for pkg in pkgutil.iter_modules()]:\n",
    "  !python3 -m pip  install git+https://github.com/Fibertree-project/fibertree-bootstrap --quiet\n",
    "\n",
    "# End - startup boilerplate code\n",
    "\n",
    "from fibertree_bootstrap import *\n",
    "\n",
    "fibertree_bootstrap(style=\"uncompressed\", animation=\"spacetime\")"
   ]
  },
  {
   "cell_type": "markdown",
   "metadata": {},
   "source": [
    "## Logging control"
   ]
  },
  {
   "cell_type": "code",
   "execution_count": null,
   "metadata": {},
   "outputs": [],
   "source": [
    "# Initial values\n",
    "\n",
    "enable_log = False\n",
    "\n",
    "def set_params(log):\n",
    "    global enable_log\n",
    "    \n",
    "    enable_log = (log == 'enable')\n",
    "\n",
    "def log(*args):\n",
    "    if enable_log:\n",
    "        print(*args)\n",
    "\n",
    "controls = interactive(set_params,\n",
    "                       log=['disable', 'enable'])\n",
    "\n",
    "\n",
    "display(controls)"
   ]
  },
  {
   "cell_type": "markdown",
   "metadata": {},
   "source": [
    "## Create Input Tensors\n",
    "\n",
    "Display controls to create the filter weights (**f**) and input activations (**i**)"
   ]
  },
  {
   "cell_type": "code",
   "execution_count": null,
   "metadata": {},
   "outputs": [],
   "source": [
    "#\n",
    "# Instantiate the tensor factory\n",
    "#\n",
    "tm = TensorMaker()\n",
    "\n",
    "#\n",
    "# Define the templates for two tensors\n",
    "#\n",
    "tm.addTensor(name=\"I\",                    # required\n",
    "             rank_ids=[\"W\"],              # required\n",
    "             shape=[8],                   # required\n",
    "             density=1.0,                 # optional, default=0.2\n",
    "             interval=5,                  # optional, default=5\n",
    "             color=\"blue\",                # optional, default=\"red\"\n",
    "             seed=10)                     # optional, default=10\n",
    "\n",
    "tm.addTensor(name=\"F\",                    # required\n",
    "             rank_ids=[\"S\"],              # required\n",
    "                 shape=[3],               # required\n",
    "                 density=1.0,             # optional, default=0.2\n",
    "                 interval=5,              # optional, default=5\n",
    "                 color=\"green\",           # optional, default=\"red\"\n",
    "                 seed=10)                 # optional, default=10\n",
    "\n",
    "#\n",
    "# Display the controls to configure the tensors\n",
    "#\n",
    "tm.displayControls()"
   ]
  },
  {
   "cell_type": "markdown",
   "metadata": {},
   "source": [
    "## Create the tensors"
   ]
  },
  {
   "cell_type": "code",
   "execution_count": null,
   "metadata": {},
   "outputs": [],
   "source": [
    "i = tm.makeTensor(\"I\")\n",
    "f = tm.makeTensor(\"F\")\n",
    "\n",
    "W = i.getShape(\"W\")\n",
    "S = f.getShape(\"S\")\n",
    "Q = W - S + 1\n",
    "\n",
    "print(\"Input activations\")\n",
    "displayTensor(i)\n",
    "print(\"Filter Weights\")\n",
    "displayTensor(f)\n"
   ]
  },
  {
   "cell_type": "markdown",
   "metadata": {},
   "source": [
    "## Verification Convolution"
   ]
  },
  {
   "cell_type": "code",
   "execution_count": null,
   "metadata": {},
   "outputs": [],
   "source": [
    "i_raw = i.getRoot().uncompress()\n",
    "f_raw = f.getRoot().uncompress()\n",
    "o_verify_raw = Q*[0]\n",
    "\n",
    "print(f\"I: {i_raw}\")\n",
    "print(f\"F: {f_raw}\")\n",
    "\n",
    "for q in range(Q):\n",
    "    for s in range(S):\n",
    "        w = q + s\n",
    "        o_verify_raw[q] += i_raw[w] * f_raw[s]\n",
    "        \n",
    "print(f\"O_verify: {o_verify_raw}\")\n",
    "\n",
    "o_verify = Tensor.fromUncompressed(name=\"O_verify\",\n",
    "                                   rank_ids=[\"Q\"],\n",
    "                                   shape=[Q],\n",
    "                                   root=o_verify_raw,\n",
    "                                   default=None)\n",
    "\n",
    "displayTensor(o_verify)"
   ]
  },
  {
   "cell_type": "markdown",
   "metadata": {},
   "source": [
    "## Output Stationary\n",
    "\n",
    "$$ O_{q} = I_{q+s} \\times F_s $$"
   ]
  },
  {
   "cell_type": "code",
   "execution_count": null,
   "metadata": {},
   "outputs": [],
   "source": [
    "o = Tensor.fromUncompressed(rank_ids=[\"Q\"],\n",
    "                            shape=[Q],\n",
    "                            root=Q*[0],\n",
    "                            default=None,\n",
    "                            name=\"o\")\n",
    "\n",
    "print(\"Convolution\")\n",
    "\n",
    "displayTensor(o)\n",
    "\n",
    "canvas = createCanvas(f, i, o)\n",
    "\n",
    "for q in range(Q):\n",
    "    log(f\"Processing output: ({q}, ({o[q]}))\")\n",
    "    for w in range(W):\n",
    "        s = w - q\n",
    "        if s < 0 or s >= S: continue\n",
    "        log(f\"  Processing input: ({w}, {i[w]})\")\n",
    "        log(f\"  Processing filter weight ({s}, {f[s]})\")\n",
    "        o[q] += f[s] * i[w]\n",
    "\n",
    "        window = [(w,) for w in range(q, q+S)]\n",
    "\n",
    "        canvas.addActivity((), window, (), spacetime=(\"W\", (q, w)))        \n",
    "        canvas.addActivity((w-q,), (w,) , (q,), spacetime=(\"P\", (q, w)))\n",
    "\n",
    "displayTensor(o)\n",
    "displayCanvas(canvas)\n",
    "\n",
    "assert o == o_verify"
   ]
  },
  {
   "cell_type": "markdown",
   "metadata": {},
   "source": [
    "## Weight Stationary"
   ]
  },
  {
   "cell_type": "code",
   "execution_count": null,
   "metadata": {},
   "outputs": [],
   "source": [
    "o = Tensor.fromUncompressed(rank_ids=[\"Q\"],\n",
    "                            shape=[Q],\n",
    "                            root=Q*[0],\n",
    "                            default=None,\n",
    "                            name=\"o\")\n",
    "\n",
    "canvas = createCanvas(f, i, o)\n",
    "\n",
    "print(\"Convolution\")\n",
    "\n",
    "for s in range(S):\n",
    "    log(f\"Processing weight: ({s}, {f[s]})\")\n",
    "    for q in range(Q):\n",
    "        w = q+s\n",
    "        log(f\"  Processing input ({w}, {i[w]}\")\n",
    "        log(f\"  Processing output ({q}, {o[q]})\")\n",
    "        \n",
    "        o[q] += f[s] * i[w]\n",
    "        \n",
    "        canvas.addActivity((), [(w,) for w in range(q, q+S)], (), worker=\"W\")\n",
    "        canvas.addFrame((s,), (q+s,), (q,))\n",
    "\n",
    "displayTensor(o)\n",
    "displayCanvas(canvas)\n",
    "\n",
    "assert o == o_verify"
   ]
  },
  {
   "cell_type": "markdown",
   "metadata": {},
   "source": [
    "## Input Stationary"
   ]
  },
  {
   "cell_type": "code",
   "execution_count": null,
   "metadata": {},
   "outputs": [],
   "source": [
    "o = Tensor.fromUncompressed(rank_ids=[\"Q\"],\n",
    "                            shape=[Q],\n",
    "                            root=Q*[0],\n",
    "                            default=None,\n",
    "                            name=\"o\")\n",
    "\n",
    "canvas = createCanvas(f, i, o)\n",
    "\n",
    "print(\"Convolution\")\n",
    "\n",
    "for w in range(W):\n",
    "    log(f\"Processing input: ({w}, {i[w]})\")\n",
    "    for q in range(Q):\n",
    "        s = w - q\n",
    "        if s < 0 or s >= S: continue\n",
    "        log(f\"  Processing filter weight ({s}, {f[s]})\")\n",
    "        log(f\"  Processing output ({q}, {o[q]}\")\n",
    "        o[q] += f[s] * i[w]\n",
    "\n",
    "        f_window = [(w,) for w in range(q, q+S)]\n",
    "        o_window = [(q,) for q in range(max(0,w-S+1),min(Q,w+1))]\n",
    "        canvas.addActivity((), f_window, o_window, spacetime=(\"W\", (w,q)))\n",
    "        canvas.addActivity((w-q,), (w,), (q,), spacetime=(\"PE\", (w,q)))\n",
    "\n",
    "\n",
    "displayTensor(o)\n",
    "displayCanvas(canvas)\n",
    "\n",
    "assert o == o_verify"
   ]
  },
  {
   "cell_type": "markdown",
   "metadata": {},
   "source": [
    "## Output Stationary - Parallel Weight Processing\n",
    "\n",
    "Assumes parallelism equal to the number of weights"
   ]
  },
  {
   "cell_type": "code",
   "execution_count": null,
   "metadata": {},
   "outputs": [],
   "source": [
    "o = Tensor.fromUncompressed(rank_ids=[\"Q\"],\n",
    "                            shape=[Q],\n",
    "                            root=Q*[0],\n",
    "                            default=None,\n",
    "                            name=\"o\")\n",
    "\n",
    "\n",
    "print(\"Convolution\")\n",
    "\n",
    "output_shape = Fiber(coords=range(Q), initial=1)\n",
    "\n",
    "canvas = createCanvas(f, i, o)\n",
    "\n",
    "for q in range(Q):\n",
    "    log(f\"Processing output: ({q}, {o[q]})\")\n",
    "    for w in range(W):\n",
    "        s = w - q\n",
    "        if s < 0 or s >= S: continue\n",
    "        log(f\"Processing input: ({w}, {i[w]})\")\n",
    "        log(f\"  Processing filter weight ({s}, {f[s]})\")\n",
    "        o[q] += f[s] * i[w]\n",
    "\n",
    "        canvas.addActivity((s,), (w,), (q,), spacetime=(s, q))\n",
    "\n",
    "    f_window = [(w,) for w in range(q, q+S)]\n",
    "    canvas.addActivity((),f_window, (), spacetime=(\"W\", q))\n",
    "\n",
    "\n",
    "displayTensor(o)\n",
    "displayCanvas(canvas)\n",
    "\n",
    "assert o == o_verify"
   ]
  },
  {
   "cell_type": "markdown",
   "metadata": {},
   "source": [
    "## Testing area\n",
    "\n",
    "For running alternative algorithms"
   ]
  },
  {
   "cell_type": "code",
   "execution_count": null,
   "metadata": {},
   "outputs": [],
   "source": []
  },
  {
   "cell_type": "code",
   "execution_count": null,
   "metadata": {},
   "outputs": [],
   "source": []
  },
  {
   "cell_type": "code",
   "execution_count": null,
   "metadata": {},
   "outputs": [],
   "source": []
  }
 ],
 "metadata": {
  "kernelspec": {
   "display_name": "Python 3 (ipykernel)",
   "language": "python",
   "name": "python3"
  },
  "language_info": {
   "codemirror_mode": {
    "name": "ipython",
    "version": 3
   },
   "file_extension": ".py",
   "mimetype": "text/x-python",
   "name": "python",
   "nbconvert_exporter": "python",
   "pygments_lexer": "ipython3",
   "version": "3.10.8"
  }
 },
 "nbformat": 4,
 "nbformat_minor": 4
}
