{
 "cells": [
  {
   "cell_type": "markdown",
   "metadata": {
    "slideshow": {
     "slide_type": "-"
    }
   },
   "source": [
    "# Flattened 1-D Multi-Input Channel Convolution\n",
    "\n",
    "This notebook uses the fiber-tree emulator to display the behaviour of flattening multiple input channel 1-D into a simple 1-D convolution of a single channel. \n",
    "\n",
    "Note this notebook relies on the invariant that the data is dense. Therefore, because the data is assumed to be dense we can use the position-based operators on the premise that for dense data the position and coordinate are the same.\n",
    "\n",
    "First, include some libraries"
   ]
  },
  {
   "cell_type": "code",
   "execution_count": null,
   "metadata": {},
   "outputs": [],
   "source": [
    "# Begin - startup boilerplate code\n",
    "\n",
    "import pkgutil\n",
    "\n",
    "if 'fibertree_bootstrap' not in [pkg.name for pkg in pkgutil.iter_modules()]:\n",
    "  !python3 -m pip  install git+https://github.com/Fibertree-project/fibertree-bootstrap --quiet\n",
    "\n",
    "# End - startup boilerplate code\n",
    "\n",
    "\n",
    "from fibertree_bootstrap import *\n",
    "fibertree_bootstrap(style=\"uncompressed\", animation=\"movie\")"
   ]
  },
  {
   "cell_type": "markdown",
   "metadata": {},
   "source": [
    "## Convolution Inputs Selection\n",
    "\n",
    "Using sliders to select the shapes of the weights and input activations"
   ]
  },
  {
   "cell_type": "code",
   "execution_count": null,
   "metadata": {},
   "outputs": [],
   "source": [
    "# Initial values\n",
    "\n",
    "C = 2\n",
    "S = 3\n",
    "W = 8\n",
    "Q = W-S+1\n",
    "\n",
    "density = [1.0]\n",
    "seed = 10\n",
    "\n",
    "enable_log = False\n",
    "\n",
    "def set_params(rank_C, rank_S, rank_W, rand_seed, log):\n",
    "    global C\n",
    "    global S\n",
    "    global W\n",
    "    global Q\n",
    "    global density\n",
    "    global seed\n",
    "    global enable_log\n",
    "    \n",
    "    C = rank_C\n",
    "    S = rank_S\n",
    "    W = rank_W\n",
    "    Q = W-S+1\n",
    "    \n",
    "    seed = rand_seed\n",
    "\n",
    "    enable_log = (log == 'enable')\n",
    "\n",
    "def log(*args):\n",
    "    if enable_log:\n",
    "        print(*args)\n",
    "\n",
    "controls = interactive(set_params,\n",
    "                       rank_C=widgets.IntSlider(min=1, max=4, step=1, value=C),\n",
    "                       rank_S=widgets.IntSlider(min=2, max=9, step=1, value=S),\n",
    "                       rank_W=widgets.IntSlider(min=2, max=12, step=1, value=W),\n",
    "                       rand_seed=widgets.IntSlider(min=0, max=100, step=1, value=seed),\n",
    "                       log=['disable', 'enable'])\n",
    "\n",
    "\n",
    "display(controls)"
   ]
  },
  {
   "cell_type": "markdown",
   "metadata": {},
   "source": [
    "## Create Input Tensors\n",
    "\n",
    "Given shapes selected above create and display the filter weights (**f**) and input activations (**i**) and a reference output (**o_verify**)"
   ]
  },
  {
   "cell_type": "code",
   "execution_count": null,
   "metadata": {},
   "outputs": [],
   "source": [
    "i_raw = []\n",
    "f_raw = []\n",
    "\n",
    "for c in range(C):\n",
    "    i_raw.append([random.randint(1, 6) for i in range(W)])\n",
    "    f_raw.append([random.randint(1, 6) for i in range(S)])\n",
    "\n",
    "o_verify_raw = [0 for i in range(Q)]\n",
    "\n",
    "for q in range(Q):\n",
    "    for c in range(C):\n",
    "        for s in range(S):\n",
    "            w = q+s\n",
    "            o_verify_raw[q] += i_raw[c][w] * f_raw[c][s]\n",
    "\n",
    "i = Tensor.fromUncompressed([\"C\", \"W\"], i_raw)\n",
    "f = Tensor.fromUncompressed([\"C\", \"S\"], f_raw)\n",
    "o_verify = Tensor.fromUncompressed([\"Q\"], o_verify_raw)\n",
    "\n",
    "i.setName(\"I\").setColor(\"blue\")\n",
    "f.setName(\"F\").setColor(\"green\")\n",
    "o_verify.setName(\"O\")\n",
    "\n",
    "print(\"Input activations\")\n",
    "displayTensor(i)\n",
    "print(\"Filter Weights\")\n",
    "displayTensor(f)\n",
    "print(\"Output activations (expected)\")\n",
    "displayTensor(o_verify)\n"
   ]
  },
  {
   "cell_type": "markdown",
   "metadata": {},
   "source": [
    "## Multiple Input Channel Convolution\n",
    "\n",
    "Process the convolution of the multi-channel input activation and filter weight tensors."
   ]
  },
  {
   "cell_type": "code",
   "execution_count": null,
   "metadata": {
    "scrolled": false
   },
   "outputs": [],
   "source": [
    "o = Tensor(rank_ids=[\"Q\"]).setName(\"O\")\n",
    "\n",
    "# Hack to fill in all the entries in o\n",
    "o_q = o.getRoot()\n",
    "o_q << Fiber(coords=range(Q), initial=1)\n",
    "\n",
    "print(\"Convolution\")\n",
    "\n",
    "output_shape = Fiber(coords=range(Q), initial=1)\n",
    "\n",
    "canvas = createCanvas(f, i, o)\n",
    "\n",
    "for q in range(Q):\n",
    "    log(f\"Processing output: ({q}, ({o[q]}))\")\n",
    "    for c in range(C):\n",
    "        for w in range(W):\n",
    "            s = w - q\n",
    "            if s < 0 or s >= S: continue\n",
    "            log(f\"Processing input: ({c}, {w}, {i[c][w]})\")\n",
    "            log(f\"  Processing filter weight ({c}, {s}, {f[c][s]})\")\n",
    "            o[q] += f[c][s] * i[c][w]\n",
    "\n",
    "            canvas.addActivity((), [(c, w,) for w in range(q, q+S)], (), worker=\"W\")\n",
    "            canvas.addFrame((c, s,), (c, w,), (q,))\n",
    "\n",
    "displayTensor(o)\n",
    "displayCanvas(canvas)\n",
    "\n",
    "print(\"Input Activations - before\")\n",
    "assert o == o_verify"
   ]
  },
  {
   "cell_type": "markdown",
   "metadata": {},
   "source": [
    "## Flatten Inputs and Filters\n",
    "\n",
    "Flatten the input activations and filter weights into a single input channel."
   ]
  },
  {
   "cell_type": "code",
   "execution_count": null,
   "metadata": {},
   "outputs": [],
   "source": [
    "print(\"Filter Weights - before\")\n",
    "displayTensor(f)\n",
    "\n",
    "f_flat = f.swapRanks().flattenRanks()\n",
    "f_flat.getRoot().updateCoords(lambda pos, c, p: (c[0]*C)+c[1])\n",
    "f_flat.setName(\"F_flat\")\n",
    "\n",
    "print(\"Filter Weights - after\")\n",
    "displayTensor(f_flat)\n",
    "\n",
    "\n",
    "print(\"Input Activations - before\")\n",
    "displayTensor(i)\n",
    "\n",
    "i_flat = i.swapRanks().flattenRanks()\n",
    "i_flat.getRoot().updateCoords(lambda pos, c, p: (c[0]*C)+c[1])\n",
    "i_flat.setName(\"I_flat\")\n",
    "\n",
    "print(\"Input Activations - after\")\n",
    "displayTensor(i_flat)\n",
    "\n",
    "\n"
   ]
  },
  {
   "cell_type": "markdown",
   "metadata": {},
   "source": [
    "## Flattened convolution\n",
    "\n",
    "Process a convolution on the flattened input activations and filter weights. Note that the window now slides by ```C``` the number of inputs channels.\n",
    "\n",
    "Note, this processing pattern is the same as used by Eyeriss for processing multiple input channels at once in a single PE."
   ]
  },
  {
   "cell_type": "code",
   "execution_count": null,
   "metadata": {},
   "outputs": [],
   "source": [
    "o = Tensor(rank_ids=[\"Q\"]).setName(\"O\")\n",
    "\n",
    "# Hack to fill in all the entries in o\n",
    "o_q = o.getRoot()\n",
    "o_q << Fiber(coords=range(Q), initial=1)\n",
    "\n",
    "print(\"Convolution\")\n",
    "\n",
    "output_shape = Fiber(coords=range(Q), initial=1)\n",
    "\n",
    "canvas = createCanvas(f_flat, i_flat, o)\n",
    "\n",
    "for q in range(Q):\n",
    "    log(f\"Processing output: ({q}, ({o[q]}))\")\n",
    "    for w in range(C*W):\n",
    "        s = w - C*q\n",
    "        if s < 0 or s >= C*S: continue\n",
    "        log(f\"Processing input: ({w}, {i_flat[w]})\")\n",
    "        log(f\"  Processing filter weight ({s}, {f_flat[s]})\")\n",
    "        o[q] += f_flat[s] * i_flat[w]\n",
    "\n",
    "        canvas.addActivity((), [(w,) for w in range(C*q, C*q+C*S)], (), worker=\"W\")\n",
    "        canvas.addFrame((s,), (w,), (q,))\n",
    "\n",
    "displayTensor(o)\n",
    "displayCanvas(canvas)\n",
    "\n",
    "assert o == o_verify"
   ]
  },
  {
   "cell_type": "markdown",
   "metadata": {},
   "source": [
    "## Testing area\n",
    "\n",
    "For running alternative algorithms"
   ]
  },
  {
   "cell_type": "code",
   "execution_count": null,
   "metadata": {},
   "outputs": [],
   "source": []
  },
  {
   "cell_type": "code",
   "execution_count": null,
   "metadata": {},
   "outputs": [],
   "source": []
  },
  {
   "cell_type": "code",
   "execution_count": null,
   "metadata": {},
   "outputs": [],
   "source": []
  }
 ],
 "metadata": {
  "kernelspec": {
   "display_name": "Python 3",
   "language": "python",
   "name": "python3"
  },
  "language_info": {
   "codemirror_mode": {
    "name": "ipython",
    "version": 3
   },
   "file_extension": ".py",
   "mimetype": "text/x-python",
   "name": "python",
   "nbconvert_exporter": "python",
   "pygments_lexer": "ipython3",
   "version": "3.8.8"
  }
 },
 "nbformat": 4,
 "nbformat_minor": 2
}
