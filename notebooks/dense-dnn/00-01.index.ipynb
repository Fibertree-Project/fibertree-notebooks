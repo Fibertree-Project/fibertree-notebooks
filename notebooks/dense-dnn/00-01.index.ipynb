{
 "cells": [
  {
   "cell_type": "markdown",
   "id": "f29c84a7",
   "metadata": {},
   "source": [
    "# Dense-dnn: Dense convolution\n",
    "\n",
    "- **Dense-convolution** - Examples of different dense convolution dataflows\n",
    "[\\[notebook\\]](./dense-convolution.ipynb)\n",
    "[\\[colab\\]](https://colab.research.google.com/github/Fibertree-Project/fibertree-notebooks/blob/master/notebooks/dense-dnn/dense-convolution.ipynb)\n",
    "\n",
    "- **Dense-convolution+toeplitz-1D** - Example of a 1-D dense convolution using a Toeplitz expansion\n",
    "[\\[notebook\\]](./dense-convolution+toeplitz-1D.ipynb)\n",
    "[\\[colab\\]](https://colab.research.google.com/github/Fibertree-Project/fibertree-notebooks/blob/master/notebooks/dense-dnn/dense-convolution%2Btoeplitz-1D.ipynb)\n",
    "\n",
    "- **Dense-convolution+toeplitz-full** - Example of a full dense convolution using a Toeplitz expansion\n",
    "[\\[notebook\\]](./dense-convolution+toeplitz-full.ipynb)\n",
    "[\\[colab\\]](https://colab.research.google.com/github/Fibertree-Project/fibertree-notebooks/blob/master/notebooks/dense-dnn/dense-convolution%2Btoeplitz-full.ipynb)\n",
    "\n",
    "- **Flattened-convolution** - Example of a flattened dense convolution using a Toeplitz expansion\n",
    "[\\[notebook\\]](./flattened-convolution.ipynb)\n",
    "[\\[colab\\]](https://colab.research.google.com/github/Fibertree-Project/fibertree-notebooks/blob/master/notebooks/dense-dnn/flattened-convolution.ipynb)\n",
    "\n"
   ]
  }
 ],
 "metadata": {
  "kernelspec": {
   "display_name": "Python 3 (ipykernel)",
   "language": "python",
   "name": "python3"
  },
  "language_info": {
   "codemirror_mode": {
    "name": "ipython",
    "version": 3
   },
   "file_extension": ".py",
   "mimetype": "text/x-python",
   "name": "python",
   "nbconvert_exporter": "python",
   "pygments_lexer": "ipython3",
   "version": "3.10.8"
  }
 },
 "nbformat": 4,
 "nbformat_minor": 5
}
