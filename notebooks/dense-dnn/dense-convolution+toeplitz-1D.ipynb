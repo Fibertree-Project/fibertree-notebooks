{
 "cells": [
  {
   "cell_type": "markdown",
   "metadata": {
    "slideshow": {
     "slide_type": "-"
    }
   },
   "source": [
    "# Exploring dense convolution\n",
    "\n",
    "This notebook uses the fiber-tree emulator to display the behaviour of various 1-D convolutions for dense data. Because the data is assumed to be dense we use the position-based operators on the premise that for dense data the position and coordinate are the same.\n",
    "\n",
    "First, include some libraries"
   ]
  },
  {
   "cell_type": "code",
   "execution_count": 1,
   "metadata": {},
   "outputs": [
    {
     "data": {
      "application/vnd.jupyter.widget-view+json": {
       "model_id": "904e04c0557c42e4bbd5e09d5540321a",
       "version_major": 2,
       "version_minor": 0
      },
      "text/plain": [
       "interactive(children=(Dropdown(description='style', options=('tree', 'uncompressed', 'tree+uncompressed'), val…"
      ]
     },
     "metadata": {},
     "output_type": "display_data"
    },
    {
     "data": {
      "application/vnd.jupyter.widget-view+json": {
       "model_id": "a7b962a05b4d4b4dac5fd659ad64d34b",
       "version_major": 2,
       "version_minor": 0
      },
      "text/plain": [
       "Button(description='Run all cells below', style=ButtonStyle())"
      ]
     },
     "metadata": {},
     "output_type": "display_data"
    }
   ],
   "source": [
    "# Begin - startup boilerplate code\n",
    "\n",
    "import pkgutil\n",
    "\n",
    "if 'fibertree_bootstrap' not in [pkg.name for pkg in pkgutil.iter_modules()]:\n",
    "  !python3 -m pip  install git+https://github.com/Fibertree-project/fibertree-bootstrap --quiet\n",
    "\n",
    "# End - startup boilerplate code\n",
    "\n",
    "\n",
    "from fibertree_bootstrap import *\n",
    "fibertree_bootstrap(style=\"uncompressed\", animation=\"movie\")"
   ]
  },
  {
   "cell_type": "markdown",
   "metadata": {},
   "source": [
    "## Convolution Inputs Selection\n",
    "\n",
    "Using sliders to select the shapes of the weights and input activations"
   ]
  },
  {
   "cell_type": "code",
   "execution_count": 2,
   "metadata": {},
   "outputs": [
    {
     "data": {
      "application/vnd.jupyter.widget-view+json": {
       "model_id": "e10acd2f219a4911a25724c91e536eec",
       "version_major": 2,
       "version_minor": 0
      },
      "text/plain": [
       "interactive(children=(IntSlider(value=3, description='rank_S', max=9, min=2), IntSlider(value=8, description='…"
      ]
     },
     "metadata": {},
     "output_type": "display_data"
    }
   ],
   "source": [
    "# Initial values\n",
    "\n",
    "S = 3\n",
    "W = 8\n",
    "Q = W-S+1\n",
    "\n",
    "density = [1.0]\n",
    "seed = 10\n",
    "\n",
    "enable_log = False\n",
    "\n",
    "def set_params(rank_S, rank_W, rand_seed, log):\n",
    "    global S\n",
    "    global W\n",
    "    global Q\n",
    "    global density\n",
    "    global seed\n",
    "    global enable_log\n",
    "    \n",
    "    S = rank_S\n",
    "    W = rank_W\n",
    "    Q = W-S+1\n",
    "    \n",
    "    seed = rand_seed\n",
    "\n",
    "    enable_log = (log == 'enable')\n",
    "\n",
    "def log(*args):\n",
    "    if enable_log:\n",
    "        print(*args)\n",
    "\n",
    "controls = interactive(set_params,\n",
    "                       rank_S=widgets.IntSlider(min=2, max=9, step=1, value=S),\n",
    "                       rank_W=widgets.IntSlider(min=2, max=12, step=1, value=W),\n",
    "                       rand_seed=widgets.IntSlider(min=0, max=100, step=1, value=seed),\n",
    "                       log=['disable', 'enable'])\n",
    "\n",
    "\n",
    "display(controls)"
   ]
  },
  {
   "cell_type": "markdown",
   "metadata": {},
   "source": [
    "## Create Input Tensors\n",
    "\n",
    "Given shapes selected above create and display the filter weights (**f**) and input activations (**i**) and a reference output (**o_verify**)"
   ]
  },
  {
   "cell_type": "code",
   "execution_count": 3,
   "metadata": {},
   "outputs": [
    {
     "name": "stdout",
     "output_type": "stream",
     "text": [
      "Input activations\n"
     ]
    },
    {
     "data": {
      "image/png": "[encoded data removed]",
      "text/plain": [
       "<PIL.Image.Image image mode=RGB size=720x220 at 0x7FA3E403A160>"
      ]
     },
     "metadata": {},
     "output_type": "display_data"
    },
    {
     "name": "stdout",
     "output_type": "stream",
     "text": [
      "Filter Weights\n"
     ]
    },
    {
     "data": {
      "image/png": "[encoded data removed]",
      "text/plain": [
       "<PIL.Image.Image image mode=RGB size=520x220 at 0x7FA39C4F0CA0>"
      ]
     },
     "metadata": {},
     "output_type": "display_data"
    },
    {
     "name": "stdout",
     "output_type": "stream",
     "text": [
      "Output activations (expected)\n"
     ]
    },
    {
     "data": {
      "image/png": "[encoded data removed]",
      "text/plain": [
       "<PIL.Image.Image image mode=RGB size=640x220 at 0x7FA39C3F6CA0>"
      ]
     },
     "metadata": {},
     "output_type": "display_data"
    }
   ],
   "source": [
    "i_raw = [random.randint(1, 9) for i in range(W)]\n",
    "f_raw = [random.randint(1, 9) for i in range(S)]\n",
    "o_verify_raw = [0 for i in range(Q)]\n",
    "\n",
    "for q in range(Q):\n",
    "    for s in range(S):\n",
    "        w = q+s\n",
    "        o_verify_raw[q] += i_raw[w] * f_raw[s]\n",
    "\n",
    "i = Tensor.fromUncompressed([\"W\"], i_raw)\n",
    "f = Tensor.fromUncompressed([\"S\"], f_raw)\n",
    "o_verify = Tensor.fromUncompressed([\"Q\"], o_verify_raw)\n",
    "\n",
    "i.setName(\"I\").setColor(\"blue\")\n",
    "f.setName(\"F\").setColor(\"green\")\n",
    "o_verify.setName(\"O\")\n",
    "\n",
    "print(\"Input activations\")\n",
    "displayTensor(i)\n",
    "print(\"Filter Weights\")\n",
    "displayTensor(f)\n",
    "print(\"Output activations (expected)\")\n",
    "displayTensor(o_verify)\n"
   ]
  },
  {
   "cell_type": "markdown",
   "metadata": {},
   "source": [
    "## Output Stationary\n",
    "\n",
    "$$ O_{q} = I_{q+s} \\times F_s $$"
   ]
  },
  {
   "cell_type": "code",
   "execution_count": 4,
   "metadata": {
    "scrolled": false
   },
   "outputs": [
    {
     "name": "stdout",
     "output_type": "stream",
     "text": [
      "Convolution\n"
     ]
    },
    {
     "data": {
      "image/png": "[encoded data removed]",
      "text/plain": [
       "<PIL.Image.Image image mode=RGB size=640x220 at 0x7F447F686E80>"
      ]
     },
     "metadata": {},
     "output_type": "display_data"
    },
    {
     "data": {
      "application/vnd.jupyter.widget-view+json": {
       "model_id": "80ed2f615549491b9f25ce43fb59667b",
       "version_major": 2,
       "version_minor": 0
      },
      "text/plain": [
       "  0%|          | 0/20 [00:00<?, ?it/s]"
      ]
     },
     "metadata": {},
     "output_type": "display_data"
    },
    {
     "data": {
      "text/html": [
       "<video src=\"./tmp/CCKxLcJGkh.mp4\"  loop autoplay controls  width=\"800\" >\n",
       "      Your browser does not support the <code>video</code> element.\n",
       "    </video>"
      ],
      "text/plain": [
       "<IPython.core.display.Video object>"
      ]
     },
     "metadata": {},
     "output_type": "display_data"
    }
   ],
   "source": [
    "o = Tensor(rank_ids=[\"Q\"]).setName(\"O\")\n",
    "\n",
    "# Hack to fill in all the entries in o\n",
    "o_q = o.getRoot()\n",
    "o_q << Fiber(coords=range(Q), initial=1)\n",
    "\n",
    "print(\"Convolution\")\n",
    "\n",
    "output_shape = Fiber(coords=range(Q), initial=1)\n",
    "\n",
    "canvas = createCanvas(f, i, o)\n",
    "\n",
    "for q in range(Q):\n",
    "    log(f\"Processing output: ({q}, ({o[q]}))\")\n",
    "    for w in range(W):\n",
    "        s = w - q\n",
    "        if s < 0 or s >= S: continue\n",
    "        log(f\"Processing input: ({w}, {i[w]})\")\n",
    "        log(f\"  Processing filter weight ({s}, {f[s]})\")\n",
    "        o[q] += f[s] * i[w]\n",
    "\n",
    "        canvas.addActivity((), [(w,) for w in range(q, q+S)], (), worker=\"W\")\n",
    "        canvas.addFrame((w-q,), (w,), (q,))\n",
    "\n",
    "displayTensor(o)\n",
    "displayCanvas(canvas)\n",
    "\n",
    "assert o == o_verify"
   ]
  },
  {
   "cell_type": "markdown",
   "metadata": {},
   "source": [
    "## Toplitz conversion\n",
    "\n",
    "$$ T_{q,s} = I_{q+s} $$"
   ]
  },
  {
   "cell_type": "code",
   "execution_count": 5,
   "metadata": {
    "scrolled": false
   },
   "outputs": [
    {
     "data": {
      "image/png": "[encoded data removed]",
      "text/plain": [
       "<PIL.Image.Image image mode=RGB size=880x300 at 0x7F447F746F70>"
      ]
     },
     "metadata": {},
     "output_type": "display_data"
    },
    {
     "name": "stdout",
     "output_type": "stream",
     "text": [
      "Toplitz matrix creation\n"
     ]
    },
    {
     "data": {
      "image/png": "[encoded data removed]",
      "text/plain": [
       "<PIL.Image.Image image mode=RGB size=880x300 at 0x7F447ED20A90>"
      ]
     },
     "metadata": {},
     "output_type": "display_data"
    },
    {
     "data": {
      "application/vnd.jupyter.widget-view+json": {
       "model_id": "05bab60228de48c7be5dd7554c18fbf0",
       "version_major": 2,
       "version_minor": 0
      },
      "text/plain": [
       "  0%|          | 0/20 [00:00<?, ?it/s]"
      ]
     },
     "metadata": {},
     "output_type": "display_data"
    },
    {
     "data": {
      "text/html": [
       "<video src=\"./tmp/nFVBZRByXu.mp4\"  loop autoplay controls  width=\"800\" >\n",
       "      Your browser does not support the <code>video</code> element.\n",
       "    </video>"
      ],
      "text/plain": [
       "<IPython.core.display.Video object>"
      ]
     },
     "metadata": {},
     "output_type": "display_data"
    }
   ],
   "source": [
    "t = Tensor(rank_ids=[\"S\", \"Q\"], shape=[S, Q], name=\"T\", color=\"lightblue\")\n",
    "\n",
    "t_s = t.getRoot()\n",
    "\n",
    "# Hack to fill in all the entries in t\n",
    "for s, t_q in t_s.iterShapeRef():\n",
    "    for q, t_ref in t_q.iterShapeRef():\n",
    "        pass\n",
    " \n",
    " \n",
    "displayTensor(t)\n",
    "\n",
    "print(\"Toplitz matrix creation\")\n",
    "\n",
    "canvas = createCanvas(i, t)\n",
    "\n",
    "for q in range(Q):\n",
    "    for s in range(S):\n",
    "        t[s][q] <<= i[q+s]\n",
    "        canvas.addFrame((q+s,), (s,q))\n",
    "\n",
    "displayTensor(t)\n",
    "displayCanvas(canvas)\n"
   ]
  },
  {
   "cell_type": "markdown",
   "metadata": {},
   "source": [
    "## Convolution (using Toeplitz matrix)\n",
    "\n",
    "$$ O_q = T_{q,s} \\times F_s $$"
   ]
  },
  {
   "cell_type": "code",
   "execution_count": 6,
   "metadata": {},
   "outputs": [
    {
     "name": "stdout",
     "output_type": "stream",
     "text": [
      "Convolution\n"
     ]
    },
    {
     "data": {
      "image/png": "[encoded data removed]",
      "text/plain": [
       "<PIL.Image.Image image mode=RGB size=640x220 at 0x7F447ED2E100>"
      ]
     },
     "metadata": {},
     "output_type": "display_data"
    },
    {
     "data": {
      "application/vnd.jupyter.widget-view+json": {
       "model_id": "0c9d894cc279410b9ec0541622d7668b",
       "version_major": 2,
       "version_minor": 0
      },
      "text/plain": [
       "  0%|          | 0/20 [00:00<?, ?it/s]"
      ]
     },
     "metadata": {},
     "output_type": "display_data"
    },
    {
     "data": {
      "text/html": [
       "<video src=\"./tmp/LWGuxtkGJu.mp4\"  loop autoplay controls  width=\"800\" >\n",
       "      Your browser does not support the <code>video</code> element.\n",
       "    </video>"
      ],
      "text/plain": [
       "<IPython.core.display.Video object>"
      ]
     },
     "metadata": {},
     "output_type": "display_data"
    }
   ],
   "source": [
    "o = Tensor(rank_ids=[\"Q\"]).setName(\"O\")\n",
    "\n",
    "# Hack to fill in all the entries in o\n",
    "o_q = o.getRoot()\n",
    "o_q << Fiber(coords=range(Q), initial=1)\n",
    "\n",
    "print(\"Convolution\")\n",
    "\n",
    "canvas = createCanvas(f, t, o)\n",
    "\n",
    "for q in range(Q):\n",
    "    for s in range(S):\n",
    "        o[q] += f[s] * t[s,q]\n",
    "\n",
    "        canvas.addActivity((), [(s,q) for s in range(S)], (), worker=\"W\")\n",
    "        canvas.addFrame((s,), (s,q), (q,))\n",
    "\n",
    "displayTensor(o)\n",
    "displayCanvas(canvas)\n",
    "\n",
    "assert o == o_verify"
   ]
  },
  {
   "cell_type": "markdown",
   "metadata": {},
   "source": [
    "## Testing area\n",
    "\n",
    "For running alternative algorithms"
   ]
  },
  {
   "cell_type": "code",
   "execution_count": null,
   "metadata": {},
   "outputs": [],
   "source": []
  },
  {
   "cell_type": "code",
   "execution_count": null,
   "metadata": {},
   "outputs": [],
   "source": []
  },
  {
   "cell_type": "code",
   "execution_count": null,
   "metadata": {},
   "outputs": [],
   "source": []
  }
 ],
 "metadata": {
  "kernelspec": {
   "display_name": "Python 3 (ipykernel)",
   "language": "python",
   "name": "python3"
  },
  "language_info": {
   "codemirror_mode": {
    "name": "ipython",
    "version": 3
   },
   "file_extension": ".py",
   "mimetype": "text/x-python",
   "name": "python",
   "nbconvert_exporter": "python",
   "pygments_lexer": "ipython3",
   "version": "3.9.7"
  }
 },
 "nbformat": 4,
 "nbformat_minor": 2
}
