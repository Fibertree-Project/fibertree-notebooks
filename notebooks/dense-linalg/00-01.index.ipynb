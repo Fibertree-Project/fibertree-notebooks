{
 "cells": [
  {
   "cell_type": "markdown",
   "id": "398d4782",
   "metadata": {},
   "source": [
    "# Dense-linalg\n",
    "\n",
    "- **Triangular-solver** - Triangle Solver\n",
    "[\\[notebook\\]](./Triangular-solver.ipynb)\n",
    "[\\[colab\\]](https://colab.research.google.com/github/Fibertree-Project/fibertree-notebooks/blob/master/notebooks/dense-linalg/Triangular-solver.ipynb)\n",
    "\n",
    "- **Pipelined-triangular-solver** - Pipelined Triangle Solver\n",
    "[\\[notebook\\]](./Pipelined-triangular-solver.ipynb)\n",
    "[\\[colab\\]](https://colab.research.google.com/github/Fibertree-Project/fibertree-notebooks/blob/master/notebooks/dense-linalg/Pipelined-triangular-solver.ipynb)\n"
   ]
  }
 ],
 "metadata": {
  "kernelspec": {
   "display_name": "Python 3 (ipykernel)",
   "language": "python",
   "name": "python3"
  },
  "language_info": {
   "codemirror_mode": {
    "name": "ipython",
    "version": 3
   },
   "file_extension": ".py",
   "mimetype": "text/x-python",
   "name": "python",
   "nbconvert_exporter": "python",
   "pygments_lexer": "ipython3",
   "version": "3.10.8"
  }
 },
 "nbformat": 4,
 "nbformat_minor": 5
}
