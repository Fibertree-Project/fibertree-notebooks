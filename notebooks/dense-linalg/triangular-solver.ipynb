{
 "cells": [
  {
   "cell_type": "code",
   "execution_count": null,
   "metadata": {},
   "outputs": [],
   "source": [
    "# Begin - startup boilerplate code\n",
    "\n",
    "import pkgutil\n",
    "\n",
    "if 'fibertree_bootstrap' not in [pkg.name for pkg in pkgutil.iter_modules()]:\n",
    "  !python3 -m pip  install git+https://github.com/Fibertree-project/fibertree-bootstrap --quiet\n",
    "\n",
    "# End - startup boilerplate code\n",
    "\n",
    "\n",
    "from fibertree_bootstrap import *\n",
    "fibertree_bootstrap()"
   ]
  },
  {
   "cell_type": "code",
   "execution_count": null,
   "metadata": {},
   "outputs": [],
   "source": [
    "import numpy as np\n",
    "import scipy"
   ]
  },
  {
   "cell_type": "code",
   "execution_count": null,
   "metadata": {},
   "outputs": [],
   "source": [
    "A_data = [[3, 2, 1, 1],\n",
    "          [0, 1, 0, 1],\n",
    "          [0, 0, 1, 1],\n",
    "          [0, 0, 0, 1]]\n",
    "\n",
    "N = 4\n",
    "\n",
    "b_data = [4,\n",
    "          2,\n",
    "          4,\n",
    "          2]\n",
    "\n",
    "A_MN = Tensor.fromUncompressed([\"M\", \"N\"], A_data).setName(\"A\")\n",
    "B_N = Tensor.fromUncompressed([\"N\"], b_data).setName(\"b\")\n",
    "\n",
    "\n",
    "A = A_MN.getRoot()\n",
    "# hack to induce coordinates in A where there were zeros\n",
    "for j, a_j in A:\n",
    "    a_j << Fiber(coords=range(N))\n",
    "    \n",
    "B = B_N.getRoot()\n",
    "\n",
    "displayTensor(A)\n",
    "displayTensor(B)"
   ]
  },
  {
   "cell_type": "markdown",
   "metadata": {},
   "source": [
    "## Basic triangular solver (uncompressed, untiled)"
   ]
  },
  {
   "cell_type": "code",
   "execution_count": null,
   "metadata": {},
   "outputs": [],
   "source": [
    "canvas = createCanvas(A_MN, B_N)\n",
    "\n",
    "# TODO: add skew to addActivity?\n",
    "for j in range(N):\n",
    "    B[j] /= A[j,j]\n",
    "    canvas.addActivity((j, j), (j,), worker=\"diag\")\n",
    "    \n",
    "    \n",
    "    for i in range(j+1, N):\n",
    "        B[i] -= B[j] * A[j,i]\n",
    "        canvas.addActivity((j, j), (j,), worker=\"diag\")\n",
    "        canvas.addActivity((j, i), (i,), worker=\"inner\")\n",
    "        canvas.addFrame()\n",
    "        \n",
    "displayCanvas(canvas)\n"
   ]
  },
  {
   "cell_type": "code",
   "execution_count": null,
   "metadata": {},
   "outputs": [],
   "source": [
    "displayTensor(B)"
   ]
  },
  {
   "cell_type": "markdown",
   "metadata": {},
   "source": [
    "## Support for compressed formats (due to Michael Pellauer)"
   ]
  },
  {
   "cell_type": "code",
   "execution_count": null,
   "metadata": {
    "scrolled": true
   },
   "outputs": [],
   "source": [
    "# Michael Pellauer's sparse triangular solver\n",
    "A_j = A_MN.getRoot()\n",
    "B_j = B_N.getRoot()\n",
    "for j, (b, A_i) in B_j << A_j:\n",
    "  a = A_i.getPayload(j) # lookup by coordinate\n",
    "  # NOTE: Could save the pos here to make getRange() faster\n",
    "  b <<= b / a # use <<= because we can't over-ride \"=\" in python\n",
    "  for i, (b2, a) in B_j << A_i.getRange(j+1, N):\n",
    "    b2 -= b * a\n",
    "    \n",
    "displayTensor(B_j)"
   ]
  },
  {
   "cell_type": "code",
   "execution_count": null,
   "metadata": {
    "scrolled": true
   },
   "outputs": [],
   "source": [
    "# Michael Pellauer's sparse triangular solver, using getSavedPos()\n",
    "A_j = A_MN.getRoot()\n",
    "B_j = B_N.getRoot()\n",
    "for j, (b, A_i) in B_j << A_j:\n",
    "  a = A_i.getPayload(j) # lookup by coordinate\n",
    "  pos = A_i.getSavedPos()\n",
    "  b <<= b / a\n",
    "  for i, (b2, a) in B_j << A_i.getRange(j+1, N, start_pos = pos):\n",
    "    b2 -= b * a\n",
    "    \n",
    "displayTensor(B_j)"
   ]
  },
  {
   "cell_type": "code",
   "execution_count": null,
   "metadata": {},
   "outputs": [],
   "source": []
  }
 ],
 "metadata": {
  "kernelspec": {
   "display_name": "Python 3 (ipykernel)",
   "language": "python",
   "name": "python3"
  },
  "language_info": {
   "codemirror_mode": {
    "name": "ipython",
    "version": 3
   },
   "file_extension": ".py",
   "mimetype": "text/x-python",
   "name": "python",
   "nbconvert_exporter": "python",
   "pygments_lexer": "ipython3",
   "version": "3.10.8"
  }
 },
 "nbformat": 4,
 "nbformat_minor": 4
}
