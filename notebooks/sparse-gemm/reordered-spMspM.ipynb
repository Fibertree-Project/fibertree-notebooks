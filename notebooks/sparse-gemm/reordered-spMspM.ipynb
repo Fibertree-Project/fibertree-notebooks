{
 "cells": [
  {
   "cell_type": "markdown",
   "metadata": {},
   "source": [
    "# Reordering computations\n",
    "\n",
    "This is an example of A-stationary/row-major (Gusstavson) spM-spM, where computations use coordinate-space reordering.\n",
    "\n",
    "First, include some libraries"
   ]
  },
  {
   "cell_type": "code",
   "execution_count": null,
   "metadata": {},
   "outputs": [],
   "source": [
    "# Begin - startup boilerplate code\n",
    "\n",
    "import pkgutil\n",
    "\n",
    "if 'fibertree_bootstrap' not in [pkg.name for pkg in pkgutil.iter_modules()]:\n",
    "  !python3 -m pip  install git+https://github.com/Fibertree-project/fibertree-bootstrap --quiet\n",
    "\n",
    "# End - startup boilerplate code\n",
    "\n",
    "\n",
    "from fibertree_bootstrap import *\n",
    "fibertree_bootstrap(style=\"tree\", animation=\"movie\")"
   ]
  },
  {
   "cell_type": "code",
   "execution_count": null,
   "metadata": {},
   "outputs": [],
   "source": [
    "M = 6\n",
    "K = 6\n",
    "N = 6\n",
    "seed = 20\n",
    "\n",
    "a = Tensor.fromRandom([\"M\", \"K\"], [M, K], [0.7, 0.8], 5, seed=seed)\n",
    "a.setColor(\"blue\").setName(\"A\")\n",
    "displayTensor(a)\n",
    "\n",
    "b = Tensor.fromRandom([\"K\", \"N\"], [K, N], [0.7, 0.65], 5, seed=seed)\n",
    "b.setColor(\"green\").setName(\"B\")\n",
    "displayTensor(b)\n",
    "\n"
   ]
  },
  {
   "cell_type": "markdown",
   "metadata": {},
   "source": [
    "## A-stationary/row-major spMspM\n",
    "\n",
    "No reordering"
   ]
  },
  {
   "cell_type": "code",
   "execution_count": null,
   "metadata": {},
   "outputs": [],
   "source": [
    "z = Tensor(rank_ids=[\"M\", \"N\"], shape=[M,N])\n",
    "z.setName(\"Z\")\n",
    "\n",
    "a_m = a.getRoot()\n",
    "b_k = b.getRoot()\n",
    "z_m = z.getRoot()\n",
    "\n",
    "canvas = createCanvas(a, b, z)\n",
    "\n",
    "for m, (z_n, a_k) in z_m << a_m:\n",
    "    for k, (a_val, b_n) in a_k & b_k:\n",
    "        for n, (z_ref, b_val) in z_n << b_n:\n",
    "            z_ref += a_val * b_val\n",
    "            canvas.addFrame((m, k), (k, n), (m, n))\n",
    "\n",
    "displayTensor(z)\n",
    "displayCanvas(canvas)"
   ]
  },
  {
   "cell_type": "markdown",
   "metadata": {},
   "source": [
    "## A-stationary/row-major spMspM\n",
    "\n",
    "Random coordinate-based reordering of the M-rank of A"
   ]
  },
  {
   "cell_type": "code",
   "execution_count": null,
   "metadata": {},
   "outputs": [],
   "source": [
    "import copy\n",
    "from random import shuffle\n",
    "\n",
    "z = Tensor(rank_ids=[\"M\", \"N\"], shape=[M,N])\n",
    "z.setName(\"Z\")\n",
    "\n",
    "a_m = a.getRoot()\n",
    "b_k = b.getRoot()\n",
    "z_m = z.getRoot()\n",
    "\n",
    "canvas = createCanvas(a, b, z)\n",
    "\n",
    "m_coords = [c for c in a_m.getCoords()]\n",
    "shuffle(m_coords)\n",
    "\n",
    "for m in m_coords:\n",
    "    a_k = a_m.getPayload(m)\n",
    "    z_n = z_m.getPayloadRef(m)\n",
    "    \n",
    "    for k, (a_val, b_n) in a_k & b_k:\n",
    "        for n, (z_ref, b_val) in z_n << b_n:\n",
    "            z_ref += a_val * b_val\n",
    "            canvas.addFrame((m, k), (k, n), (m, n))\n",
    "\n",
    "displayTensor(z)\n",
    "displayCanvas(canvas)"
   ]
  },
  {
   "cell_type": "markdown",
   "metadata": {},
   "source": [
    "## A-stationary/row-major spMspM\n",
    "\n",
    "Random position-based reordering of the M-rank of A"
   ]
  },
  {
   "cell_type": "code",
   "execution_count": null,
   "metadata": {},
   "outputs": [],
   "source": [
    "import copy\n",
    "from random import shuffle\n",
    "\n",
    "z = Tensor(rank_ids=[\"M\", \"N\"], shape=[M,N])\n",
    "z.setName(\"Z\")\n",
    "\n",
    "a_m = a.getRoot()\n",
    "b_k = b.getRoot()\n",
    "z_m = z.getRoot()\n",
    "\n",
    "canvas = createCanvas(a, b, z)\n",
    "\n",
    "m_positions = [n for n in range(len(a_m))]\n",
    "shuffle(m_positions)\n",
    "\n",
    "# Note: the following list is not a Fiber (coordinates not sorted)\n",
    "\n",
    "for m, a_k in [a_m[pos] for pos in m_positions]:\n",
    "\n",
    "    z_n = z_m.getPayloadRef(m)\n",
    "    \n",
    "    for k, (a_val, b_n) in a_k & b_k:\n",
    "        for n, (z_ref, b_val) in z_n << b_n:\n",
    "            z_ref += a_val * b_val\n",
    "            canvas.addFrame((m, k), (k, n), (m, n))\n",
    "\n",
    "displayTensor(z)\n",
    "displayCanvas(canvas)"
   ]
  },
  {
   "cell_type": "code",
   "execution_count": null,
   "metadata": {},
   "outputs": [],
   "source": []
  }
 ],
 "metadata": {
  "kernelspec": {
   "display_name": "Python 3",
   "language": "python",
   "name": "python3"
  },
  "language_info": {
   "codemirror_mode": {
    "name": "ipython",
    "version": 3
   },
   "file_extension": ".py",
   "mimetype": "text/x-python",
   "name": "python",
   "nbconvert_exporter": "python",
   "pygments_lexer": "ipython3",
   "version": "3.8.8"
  }
 },
 "nbformat": 4,
 "nbformat_minor": 4
}
