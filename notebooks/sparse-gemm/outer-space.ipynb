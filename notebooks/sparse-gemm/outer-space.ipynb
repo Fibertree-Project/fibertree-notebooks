{
 "cells": [
  {
   "cell_type": "markdown",
   "metadata": {
    "slideshow": {
     "slide_type": "-"
    }
   },
   "source": [
    "# OuterSPACE spMspM accelerator\n",
    "\n",
    "First, include some libraries"
   ]
  },
  {
   "cell_type": "code",
   "execution_count": null,
   "metadata": {},
   "outputs": [],
   "source": [
    "# Begin - startup boilerplate code\n",
    "\n",
    "import pkgutil\n",
    "\n",
    "if 'fibertree_bootstrap' not in [pkg.name for pkg in pkgutil.iter_modules()]:\n",
    "  !python3 -m pip  install git+https://github.com/Fibertree-project/fibertree-bootstrap --quiet\n",
    "\n",
    "# End - startup boilerplate code\n",
    "\n",
    "\n",
    "from fibertree_bootstrap import *\n",
    "fibertree_bootstrap()"
   ]
  },
  {
   "cell_type": "markdown",
   "metadata": {},
   "source": [
    "## Control panel to control display behavior manually"
   ]
  },
  {
   "cell_type": "code",
   "execution_count": null,
   "metadata": {},
   "outputs": [],
   "source": [
    "# Uncomment the appropriate lines to change the default behavior\n",
    "\n",
    "# FTD.showAnimations(True)      # Turn on animations\n",
    "# FTD.showAnimations(False)     # Turn off animations\n",
    "\n",
    "# FTD.setStyle(matrix=True)     # Show tensor as a matrix\n",
    "# FTD.setStyle(matrix=False)    # Show tensor as a fiber tree\n"
   ]
  },
  {
   "cell_type": "markdown",
   "metadata": {},
   "source": [
    "## Read matrices\n"
   ]
  },
  {
   "cell_type": "code",
   "execution_count": null,
   "metadata": {},
   "outputs": [],
   "source": [
    "a = Tensor.fromYAMLfile(os.path.join(data_dir, \"sparse-matrix-a.yaml\"))\n",
    "b = Tensor.fromYAMLfile(os.path.join(data_dir, \"sparse-matrix-b.yaml\"))\n",
    "\n",
    "# Transpose the \"a\" matrix as desired by the outer product traveral order\n",
    "at = Tensor.fromFiber([\"K\", \"M\"], a.getRoot().swapRanks())\n",
    "\n",
    "print(\"Input A\")\n",
    "displayTensor(a.setColor(\"blue\"))\n",
    "\n",
    "print(\"Input A - transposed\")\n",
    "displayTensor(at.setColor(\"blue\"))\n",
    "\n",
    "print(\"Input B\")\n",
    "displayTensor(b.setColor(\"green\"))\n",
    "    \n",
    "z_verify = Tensor.fromYAMLfile(os.path.join(data_dir, \"sparse-matrix-a_times_b.yaml\"))\n",
    "\n",
    "print(\"Result Z (precomputed)\")\n",
    "displayTensor(z_verify)"
   ]
  },
  {
   "cell_type": "markdown",
   "metadata": {},
   "source": [
    "## Outer Product - Naive\n"
   ]
  },
  {
   "cell_type": "code",
   "execution_count": null,
   "metadata": {},
   "outputs": [],
   "source": [
    "z = Tensor(rank_ids=[\"M\", \"N\"])\n",
    "\n",
    "canvas = createCanvas(at, b, z)\n",
    "\n",
    "at_k = at.getRoot()\n",
    "b_k = b.getRoot()\n",
    "z_m = z.getRoot()\n",
    "\n",
    "for k, (at_m, b_n) in at_k & b_k:\n",
    "    #print(f\"    {k}, ({a_m}, {b_n})\")\n",
    "\n",
    "    for m, (z_n_ref, at_val) in  z_m << at_m:\n",
    "        #print(f\"        {m}, ({z_n_ref}, {at_val})\")\n",
    "        \n",
    "        for n, (z_ref, b_val) in z_n_ref << b_n:\n",
    "            #print(f\"            {n}, ({z_ref}, {b_val})\")\n",
    "            z_ref += at_val * b_val\n",
    "            canvas.addFrame((k, m), (k, n), (m, n))\n",
    "\n",
    "print(\"Result Z (computed)\")\n",
    "displayTensor(z)\n",
    "displayCanvas(canvas)"
   ]
  },
  {
   "cell_type": "markdown",
   "metadata": {},
   "source": [
    "## Check result"
   ]
  },
  {
   "cell_type": "code",
   "execution_count": null,
   "metadata": {},
   "outputs": [],
   "source": [
    "z_verify == z"
   ]
  },
  {
   "cell_type": "markdown",
   "metadata": {},
   "source": [
    "# OuterSPACE - Step 1"
   ]
  },
  {
   "cell_type": "code",
   "execution_count": null,
   "metadata": {},
   "outputs": [],
   "source": [
    "t = Tensor(rank_ids=[\"M\", \"K\", \"N\"])\n",
    "\n",
    "canvas =createCanvas(at, b, t)\n",
    "\n",
    "at_k = at.getRoot()\n",
    "b_k = b.getRoot()\n",
    "t_m = t.getRoot()\n",
    "\n",
    "for k, (at_m, b_n) in at_k & b_k:                # Parallelize here\n",
    "    #print(f\"    {k}, ({a_m}, {b_n})\")\n",
    "\n",
    "    for m, at_val in  at_m:\n",
    "        #print(f\"        {m}, {at_val})\")\n",
    "\n",
    "        temp_n = t_m.getPayloadRef(m, k)\n",
    "        for n, (t_ref, b_val) in temp_n << b_n:\n",
    "            #print(f\"            {n}, ({z_ref}, {b_val})\")\n",
    "            t_ref += at_val * b_val\n",
    "            canvas.addFrame((k, m), (k, n), (m, k, n))\n",
    "\n",
    "print(\"Intermediate Output - T\")\n",
    "displayTensor(t)\n",
    "displayCanvas(canvas)"
   ]
  },
  {
   "cell_type": "markdown",
   "metadata": {},
   "source": [
    "# Outerspace - Step 2 - Serial"
   ]
  },
  {
   "cell_type": "code",
   "execution_count": null,
   "metadata": {},
   "outputs": [],
   "source": [
    "# t = Tensor(rank_ids=[\"M\", \"K\", \"N\"]) - created in step 1 above\n",
    "t.setColor(\"blue\")\n",
    "\n",
    "z = Tensor(rank_ids=[\"M\", \"N\"])\n",
    "\n",
    "print(\"Input Intermediate - T\")\n",
    "displayTensor(t)\n",
    "\n",
    "canvas = createCanvas(t, z)\n",
    "\n",
    "t_m = t.getRoot()\n",
    "z_m = z.getRoot()\n",
    "\n",
    "for m, (z_n, t_k) in z_m << t_m:\n",
    "  for k, t_n in t_k:                          # Coords are all ordered\n",
    "    for n, (z_ref, t_val) in z_n << t_n:\n",
    "      z_ref += t_val\n",
    "      canvas.addFrame((m, k, n), (m, n))\n",
    "\n",
    "print(\"Tensor z\")\n",
    "displayTensor(z)\n",
    "displayCanvas(canvas)"
   ]
  },
  {
   "cell_type": "markdown",
   "metadata": {},
   "source": [
    "## Check result"
   ]
  },
  {
   "cell_type": "code",
   "execution_count": null,
   "metadata": {},
   "outputs": [],
   "source": [
    "z_verify == z"
   ]
  },
  {
   "cell_type": "markdown",
   "metadata": {},
   "source": [
    "# Outerspace - Step 2 - Wide merge - Parallel (opportunity)"
   ]
  },
  {
   "cell_type": "code",
   "execution_count": null,
   "metadata": {},
   "outputs": [],
   "source": [
    "# t = Tensor(rank_ids=[\"M\", \"K\", \"N\"]) - created in step 1 above\n",
    "t.setColor(\"blue\")\n",
    "\n",
    "z = Tensor(rank_ids=[\"M\", \"N\"])\n",
    "\n",
    "print(\"Input Intermediate - T\")\n",
    "displayTensor(t)\n",
    "\n",
    "canvas = createCanvas(t, z)\n",
    "\n",
    "t_m = t.getRoot()\n",
    "z_m = z.getRoot()\n",
    "\n",
    "\n",
    "for m, (z_n, t_k) in z_m << t_m:\n",
    "\n",
    "  print(f\"\\n\\nt_k for coord m = {m}\")\n",
    "  displayTensor(t_k)\n",
    "  tp_n = t_k.swapRanks() # The merge!\n",
    "  print(f\"Transposed nt_k for coord m = {m} -> tp_n\")\n",
    "  displayTensor(Tensor.fromFiber([\"N\", \"K\"], tp_n))\n",
    "\n",
    "  for n, (z_ref, tp_k) in z_n << tp_n:          # Ordered coords\n",
    "    print(f\"Sum tp_k = {tp_k}\")\n",
    "    shards = []\n",
    "    for k, tp_val in tp_k:                      # Parallel!\n",
    "      z_ref += tp_val                           # Spatial reduction\n",
    "      shards.append((m, k, n))\n",
    "\n",
    "    #displayTensor(t, shards)\n",
    "    canvas.addFrame(shards, (m, n))\n",
    "\n",
    "  print(f\"\\nTensor z (for tp_n at coord m = {m} after all tp_k reductions)\")\n",
    "  displayTensor(z)\n",
    "\n",
    "print(\"Final Result - Z\")\n",
    "displayTensor(z)\n",
    "displayCanvas(canvas)"
   ]
  },
  {
   "cell_type": "markdown",
   "metadata": {},
   "source": [
    "## Check result"
   ]
  },
  {
   "cell_type": "code",
   "execution_count": null,
   "metadata": {},
   "outputs": [],
   "source": [
    "z_verify == z"
   ]
  },
  {
   "cell_type": "markdown",
   "metadata": {},
   "source": [
    "# Outerspace - Step 2 - Narrrow merge - Parallel (opportunity)\n",
    "\n",
    "Implementation incomplete..."
   ]
  },
  {
   "cell_type": "code",
   "execution_count": null,
   "metadata": {
    "scrolled": false
   },
   "outputs": [],
   "source": [
    "# t = Tensor(rank_ids=[\"M\", \"K\", \"N\"]) - created in step 1 above\n",
    "\n",
    "z = Tensor(rank_ids=[\"M\", \"N\"])\n",
    "\n",
    "displayTensor(t)\n",
    "\n",
    "t_m = t.getRoot()\n",
    "z_m = z.getRoot()\n",
    "\n",
    "# Want to do logrithmic merge!!!\n",
    "\n",
    "for m, (z_n, t_k) in z_m << t_m:\n",
    "  displayTensor(t_k)\n",
    "  t_k1 = t_k.splitEqual(2)\n",
    "  displayTensor(t_k1)\n",
    "  for k1, t_k0 in t_k1:\n",
    "    print(f\"\\n\\nt_k at coord m = {m} for split {k1}\")\n",
    "    displayTensor(t_k)\n",
    "    tp_n = t_k0.swapRanks() # The merge!\n",
    "    print(f\"Transposed = tp_n\")\n",
    "    displayTensor(Tensor.fromFiber([\"N\", \"K\"], tp_n))\n",
    "\n",
    "    for n, (z_ref, tp_k) in z_n << tp_n:          # Ordered coords\n",
    "      print(f\"tp_k = {tp_k}\")\n",
    "      for k, tp_val in tp_k:                      # Parallel!\n",
    "        z_ref += tp_val                           # Spatial reduction\n",
    "\n",
    "    print(f\"\\nTensor z (for tp_n for coord m = {m} after split {k1} tp_k reductions)\")\n",
    "    displayTensor(z)\n",
    "\n",
    "print(\"Final tensor z\")\n",
    "displayTensor(z)\n"
   ]
  },
  {
   "cell_type": "markdown",
   "metadata": {},
   "source": [
    "## Check result"
   ]
  },
  {
   "cell_type": "code",
   "execution_count": null,
   "metadata": {},
   "outputs": [],
   "source": [
    "z_verify == z"
   ]
  },
  {
   "cell_type": "markdown",
   "metadata": {},
   "source": [
    "## Testing area\n",
    "\n",
    "For running alternative algorithms"
   ]
  },
  {
   "cell_type": "code",
   "execution_count": null,
   "metadata": {},
   "outputs": [],
   "source": [
    "displayTensor(a)\n",
    "asplit = a.getRoot().splitEqual(1)\n",
    "displayTensor(asplit)"
   ]
  },
  {
   "cell_type": "code",
   "execution_count": null,
   "metadata": {},
   "outputs": [],
   "source": []
  }
 ],
 "metadata": {
  "kernelspec": {
   "display_name": "Python 3",
   "language": "python",
   "name": "python3"
  },
  "language_info": {
   "codemirror_mode": {
    "name": "ipython",
    "version": 3
   },
   "file_extension": ".py",
   "mimetype": "text/x-python",
   "name": "python",
   "nbconvert_exporter": "python",
   "pygments_lexer": "ipython3",
   "version": "3.8.8"
  }
 },
 "nbformat": 4,
 "nbformat_minor": 2
}
