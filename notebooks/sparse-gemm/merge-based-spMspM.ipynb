{
 "cells": [
  {
   "cell_type": "markdown",
   "metadata": {},
   "source": [
    "# Merge-based spMspM\n",
    "\n",
    "This is an example of A-stationary/row-major (Gusstavson) spM-spM, using a merge based accelerator.\n",
    "\n",
    "First, include some libraries"
   ]
  },
  {
   "cell_type": "code",
   "execution_count": null,
   "metadata": {},
   "outputs": [],
   "source": [
    "%run ../prelude.py --style=tree --animation=movie"
   ]
  },
  {
   "cell_type": "code",
   "execution_count": null,
   "metadata": {},
   "outputs": [],
   "source": [
    "M = 6\n",
    "K = 6\n",
    "N = 6\n",
    "seed = 20\n",
    "\n",
    "a = Tensor.fromRandom([\"M\", \"K\"], [M, K], [0.7, 0.8], 5, seed=seed)\n",
    "a.setColor(\"blue\").setName(\"A\")\n",
    "displayTensor(a)\n",
    "\n",
    "b = Tensor.fromRandom([\"K\", \"N\"], [K, N], [0.7, 0.65], 5, seed=seed)\n",
    "b.setColor(\"green\").setName(\"B\")\n",
    "displayTensor(b)\n",
    "\n"
   ]
  },
  {
   "cell_type": "markdown",
   "metadata": {},
   "source": [
    "## A-stationary/row-major spMspM\n",
    "\n",
    "Basic algorithm"
   ]
  },
  {
   "cell_type": "code",
   "execution_count": null,
   "metadata": {},
   "outputs": [],
   "source": [
    "z = Tensor(rank_ids=[\"M\", \"N\"], shape=[M,N])\n",
    "z.setName(\"Z\")\n",
    "\n",
    "a_m = a.getRoot()\n",
    "b_k = b.getRoot()\n",
    "z_m = z.getRoot()\n",
    "\n",
    "canvas = createCanvas(a, b, z)\n",
    "\n",
    "for m, (z_n, a_k) in z_m << a_m:\n",
    "    for k, (a_val, b_n) in a_k & b_k:\n",
    "        for n, (z_ref, b_val) in z_n << b_n:\n",
    "            z_ref += a_val * b_val\n",
    "            canvas.addFrame((m, k), (k, n), (m, n))\n",
    "\n",
    "displayTensor(z)\n",
    "displayCanvas(canvas)"
   ]
  },
  {
   "cell_type": "markdown",
   "metadata": {},
   "source": [
    "## Merge-based - with infinite merger\n",
    "\n",
    "Using an append to add swapped ranks into \"ba\" tensor"
   ]
  },
  {
   "cell_type": "code",
   "execution_count": null,
   "metadata": {},
   "outputs": [],
   "source": [
    "z = Tensor(rank_ids=[\"M\", \"N\"], shape=[M,N])\n",
    "z.setName(\"Z\")\n",
    "\n",
    "ba = Tensor(rank_ids=[\"M\", \"N\", \"K\"])\n",
    "ba.setColor(\"purple\")\n",
    "ba.setName(\"BA\")\n",
    "\n",
    "b_swapped = b.swapRanks()\n",
    "\n",
    "a_m = a.getRoot()\n",
    "b_k = b.getRoot()\n",
    "ba_m = ba.getRoot()\n",
    "z_m = z.getRoot()\n",
    "\n",
    "canvas = createCanvas(a, b, b_swapped, ba, z)\n",
    "\n",
    "for m, (z_n, a_k) in z_m << a_m: # M-dimension parallelism\n",
    "\n",
    "    ba_k1 = b_k & a_k\n",
    "\n",
    "    ba_n = ba_k1.swapRanks()  # implemented with a merger and pipelined with next loop\n",
    "    ba_m.append(m, ba_n)\n",
    "    \n",
    "    for n, (z_ref, ba_k) in z_n << ba_n:\n",
    "        for k, (b_val, a_val) in ba_k:\n",
    "            z_ref += a_val * b_val\n",
    "            canvas.addFrame((m, k), (k, n), (n, k), (m, n, k), (m, n))\n",
    "\n",
    "displayTensor(z)\n",
    "displayCanvas(canvas)"
   ]
  },
  {
   "cell_type": "markdown",
   "metadata": {},
   "source": [
    "Basically the same code as above but creating the intersection fiber ab_k rather than ba_k. In this case, the second element of the intersection tuple is a Fiber and the swapRanks() was failing because of a problem in flattenRanks(). This is a test that those problems have been fixed..."
   ]
  },
  {
   "cell_type": "code",
   "execution_count": null,
   "metadata": {},
   "outputs": [],
   "source": [
    "z = Tensor(rank_ids=[\"M\", \"N\"], shape=[M,N])\n",
    "z.setName(\"Z\")\n",
    "\n",
    "ab = Tensor(rank_ids=[\"M\", \"N\", \"K\"])\n",
    "ab.setColor(\"purple\")\n",
    "ab.setName(\"AB\")\n",
    "\n",
    "b_swapped = b.swapRanks()\n",
    "\n",
    "a_m = a.getRoot()\n",
    "b_k = b.getRoot()\n",
    "ab_m = ab.getRoot()\n",
    "z_m = z.getRoot()\n",
    "\n",
    "canvas = createCanvas(a, b, b_swapped, ab, z)\n",
    "\n",
    "for m, (z_n, a_k) in z_m << a_m: # M-dimension parallelism\n",
    "\n",
    "    ab_k1 = a_k & b_k\n",
    "\n",
    "    ab_n = ab_k1.swapRanks()  # implemented with a merger and pipelined with next loop\n",
    "    ab_m.append(m, ab_n)\n",
    "    \n",
    "    for n, (z_ref, ab_k) in z_n << ab_n:\n",
    "        for k, (a_val, b_val) in ab_k:\n",
    "            z_ref += a_val * b_val\n",
    "            canvas.addFrame((m, k), (k, n), (n, k), (m, n, k), (m, n))\n",
    "\n",
    "displayTensor(z)\n",
    "displayCanvas(canvas)"
   ]
  },
  {
   "cell_type": "code",
   "execution_count": null,
   "metadata": {},
   "outputs": [],
   "source": []
  }
 ],
 "metadata": {
  "kernelspec": {
   "display_name": "Python 3 (ipykernel)",
   "language": "python",
   "name": "python3"
  },
  "language_info": {
   "codemirror_mode": {
    "name": "ipython",
    "version": 3
   },
   "file_extension": ".py",
   "mimetype": "text/x-python",
   "name": "python",
   "nbconvert_exporter": "python",
   "pygments_lexer": "ipython3",
   "version": "3.9.7"
  }
 },
 "nbformat": 4,
 "nbformat_minor": 4
}
