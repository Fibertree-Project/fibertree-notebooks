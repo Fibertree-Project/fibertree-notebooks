{
 "cells": [
  {
   "cell_type": "markdown",
   "metadata": {},
   "source": [
    "## Tiled spMspM\n",
    "\n",
    "This is an example of tiling matrix multiply (spMspM). The tiling is done on both the rows and columns (i.e., both ranks) of the __A__ and __B__ tensor operands and the output tensor (__Z__). In these examples the tiling is done monolitically in a separate step (essentially pre-processed) and then a tiled dataflow is modeled.\n",
    "\n",
    "First, include some libraries\n"
   ]
  },
  {
   "cell_type": "code",
   "execution_count": null,
   "metadata": {},
   "outputs": [],
   "source": [
    "# Begin - startup boilerplate code\n",
    "\n",
    "import pkgutil\n",
    "\n",
    "if 'fibertree_bootstrap' not in [pkg.name for pkg in pkgutil.iter_modules()]:\n",
    "  !python3 -m pip  install git+https://github.com/Fibertree-project/fibertree-bootstrap --quiet\n",
    "\n",
    "# End - startup boilerplate code\n",
    "\n",
    "\n",
    "from fibertree_bootstrap import *\n",
    "fibertree_bootstrap(style=\"tree\", animation=\"movie\")"
   ]
  },
  {
   "cell_type": "markdown",
   "metadata": {},
   "source": [
    "## Initialize setup\n",
    "\n",
    "The following cell just creates some sliders to control the creation of the input operand tensors."
   ]
  },
  {
   "cell_type": "code",
   "execution_count": null,
   "metadata": {},
   "outputs": [],
   "source": [
    "# Initial values\n",
    "\n",
    "M = 8\n",
    "N = 8\n",
    "K = 6\n",
    "density = [0.9, 0.8]\n",
    "seed = 10\n",
    "\n",
    "def set_params(rank_M, rank_N, rank_K, tensor_density, rand_seed):\n",
    "    global M\n",
    "    global N\n",
    "    global K\n",
    "    global density\n",
    "    global seed\n",
    "    \n",
    "    M = rank_M\n",
    "    N = rank_N\n",
    "    K = rank_K\n",
    "    \n",
    "    if tensor_density == 'sparse':\n",
    "        density = [0.9, 0.8]\n",
    "    elif tensor_density == 'sparser':\n",
    "        density = [0.9, 0.4]\n",
    "    else:\n",
    "        density = [1.0, 1.0]\n",
    "        \n",
    "    seed = rand_seed\n",
    "\n",
    "interactive(set_params,\n",
    "            rank_M=widgets.IntSlider(min=2, max=12, step=1, value=M),\n",
    "            rank_N=widgets.IntSlider(min=2, max=12, step=1, value=N),\n",
    "            rank_K=widgets.IntSlider(min=2, max=12, step=1, value=K),\n",
    "            tensor_density=['sparser', 'sparse', 'dense'],\n",
    "            rand_seed=widgets.IntSlider(min=0, max=100, step=1, value=seed))"
   ]
  },
  {
   "cell_type": "markdown",
   "metadata": {},
   "source": [
    "## Create Input Tensors\n",
    "\n",
    "Because this notebook tends to use both the original and rank swapped versions of the operands, the tensor names are suffixed with the ordered names of the ranks.\n"
   ]
  },
  {
   "cell_type": "code",
   "execution_count": null,
   "metadata": {},
   "outputs": [],
   "source": [
    "a_MK = Tensor.fromRandom([\"M\", \"K\"], [M, K], density, 5, seed=seed)\n",
    "a_MK.setColor(\"blue\").setName(\"a_MK\")\n",
    "displayTensor(a_MK)\n",
    "\n",
    "# Create swapped rank version of a\n",
    "a_KM = a_MK.swapRanks()\n",
    "a_KM.setName(\"a_KM\")\n",
    "displayTensor(a_KM)\n",
    "\n",
    "b_NK = Tensor.fromRandom([\"N\", \"K\"], [N, K], density, 5, seed=2*seed)\n",
    "b_NK.setColor(\"green\").setName(\"b_NK\")\n",
    "displayTensor(b_NK)\n",
    "\n",
    "# Create swapped rank version of b\n",
    "b_KN = b_NK.swapRanks()\n",
    "b_KN.setName(\"b_KN\")\n",
    "displayTensor(b_KN)\n",
    "\n"
   ]
  },
  {
   "cell_type": "markdown",
   "metadata": {},
   "source": [
    "## Output Stationary/Inner Product\n",
    "\n",
    "Plain untiled matrix multiply as a reference."
   ]
  },
  {
   "cell_type": "code",
   "execution_count": null,
   "metadata": {},
   "outputs": [],
   "source": [
    "z_MN = Tensor(rank_ids=[\"M\", \"N\"], shape=[M, N])\n",
    "z_MN.setName(\"z_MN\")\n",
    "\n",
    "a_m = a_MK.getRoot()\n",
    "b_n = b_NK.getRoot()\n",
    "z_m = z_MN.getRoot()\n",
    "\n",
    "canvas = createCanvas(a_MK, b_NK, z_MN)\n",
    "\n",
    "for m, (z_n, a_k) in z_m << a_m:\n",
    "    for n, (z_ref, b_k) in z_n << b_n:\n",
    "        for k, (a_val, b_val) in a_k & b_k:\n",
    "            z_ref += a_val * b_val\n",
    "            canvas.addFrame((m, k), (n, k), (m, n))\n",
    "\n",
    "displayTensor(z_MN)\n",
    "displayCanvas(canvas)\n",
    "\n"
   ]
  },
  {
   "cell_type": "markdown",
   "metadata": {},
   "source": [
    "## Tile the tensors (v1)\n",
    "\n",
    "Pre-process the tensors into a 2-D tiled form (resulting in 4 ranks) in a rank order that is natural for output-stationary tiles over output-stationary values"
   ]
  },
  {
   "cell_type": "code",
   "execution_count": null,
   "metadata": {},
   "outputs": [],
   "source": [
    "M1 = 2\n",
    "M0 = (M+1)//M1\n",
    "\n",
    "N1 = 2\n",
    "N0 = (N+1)//N1\n",
    "\n",
    "K1 = 2\n",
    "K0 = (K+1)//K1\n",
    "\n",
    "a_MKMK = a_MK.splitUniform(M0).splitUniform(K0, depth=2).swapRanks(depth=1)\n",
    "a_MKMK.setName(\"a_MKMK\")\n",
    "displayTensor(a_MKMK)\n",
    "\n",
    "\n",
    "b_NKNK = b_NK.splitUniform(N0).splitUniform(K0, depth=2).swapRanks(depth=1)\n",
    "b_NKNK.setName(\"b_NKNK\")\n",
    "displayTensor(b_NKNK)\n",
    "\n",
    "\n",
    "z_MNMN_check = z_MN.splitUniform(M0).splitUniform(N0, depth=2).swapRanks(depth=1)\n",
    "displayTensor(z_MN)\n",
    "displayTensor(z_MNMN_check)"
   ]
  },
  {
   "cell_type": "markdown",
   "metadata": {},
   "source": [
    "## Tiled spMspM (v1)\n",
    "\n",
    "Dataflow for output-stationary tiles over output-stationary values\n"
   ]
  },
  {
   "cell_type": "code",
   "execution_count": null,
   "metadata": {},
   "outputs": [],
   "source": [
    "z_MNMN = Tensor(rank_ids=[\"M1\", \"N1\", \"M0\", \"N0\"])\n",
    "z_MNMN.setName(\"z_MNMN\")\n",
    "\n",
    "a_m1 = a_MKMK.getRoot()\n",
    "b_n1 = b_NKNK.getRoot()\n",
    "z_m1 = z_MNMN.getRoot()\n",
    "\n",
    "canvas = createCanvas(a_MKMK, b_NKNK, z_MNMN)\n",
    "\n",
    "for m1, (z_n1, a_k1) in z_m1 << a_m1:\n",
    "    for n1, (z_m0, b_k1) in z_n1 << b_n1:\n",
    "        for k1, (a_m0, b_n0) in a_k1 & b_k1:\n",
    "            for m0, (z_n0, a_k0) in z_m0 << a_m0:\n",
    "                for n0, (z_ref, b_k0) in z_n0 << b_n0:\n",
    "                    for k0, (a_val, b_val) in a_k0 & b_k0:\n",
    "                        z_ref += a_val * b_val\n",
    "                        \n",
    "                        # Show the currently active tiles\n",
    "                        canvas.addActivity((m1, k1),\n",
    "                                            (n1, k1),\n",
    "                                            (m1, n1),\n",
    "                                            worker=\"T\")\n",
    "                        \n",
    "                        # Show the currently active elements\n",
    "                        canvas.addFrame((m1, k1, m0, k0),\n",
    "                                         (n1, k1, n0, k0),\n",
    "                                         (m1, n1, m0, n0))\n",
    "\n",
    "displayTensor(z_MNMN)\n",
    "displayCanvas(canvas)"
   ]
  },
  {
   "cell_type": "code",
   "execution_count": null,
   "metadata": {},
   "outputs": [],
   "source": [
    "# Check that result is correct\n",
    "\n",
    "z_MNMN.getRoot() == z_MNMN_check.getRoot()"
   ]
  },
  {
   "cell_type": "markdown",
   "metadata": {},
   "source": [
    "## Tile the tensors (v2)\n",
    "\n",
    "Pre-process the tensors into a 2-D tiled form (resulting in 4 ranks) in a rank order that is natural for A-stationary tiles over output-stationary values. We use the A operand from the previous examples, so we just need a new tiling of the B operand."
   ]
  },
  {
   "cell_type": "code",
   "execution_count": null,
   "metadata": {},
   "outputs": [],
   "source": [
    "# We just need a new B tiling\n",
    "\n",
    "b_KNNK = b_KN.splitUniform(K0).swapRanks(depth=1).splitUniform(N0, depth=1)\n",
    "b_KNNK.setName(\"b_KNNK\")\n",
    "displayTensor(b_KNNK)\n"
   ]
  },
  {
   "cell_type": "markdown",
   "metadata": {},
   "source": [
    "## Tiled spMspM (v2)\n",
    "\n",
    "Dataflow of A-stationary tiles over output-stationary values"
   ]
  },
  {
   "cell_type": "code",
   "execution_count": null,
   "metadata": {},
   "outputs": [],
   "source": [
    "z_MNMN = Tensor(rank_ids=[\"M1\", \"N1\", \"M0\", \"N0\"])\n",
    "z_MNMN.setName(\"z_MNMN\")\n",
    "\n",
    "a_m1 = a_MKMK.getRoot()\n",
    "b_k1 = b_KNNK.getRoot()\n",
    "z_m1 = z_MNMN.getRoot()\n",
    "\n",
    "canvas = createCanvas(a_MKMK, b_KNNK, z_MNMN)\n",
    "\n",
    "for m1, (z_n1, a_k1) in z_m1 << a_m1:\n",
    "    for k1, (a_m0, b_n1) in a_k1 & b_k1:\n",
    "        for n1, (z_m0, b_n0) in z_n1 << b_n1:\n",
    "            \n",
    "            for m0, (z_n0, a_k0) in z_m0 << a_m0:\n",
    "                for n0, (z_ref, b_k0) in z_n0 << b_n0:\n",
    "                    for k0, (a_val, b_val) in a_k0 & b_k0:\n",
    "                        z_ref += a_val * b_val\n",
    "                                                                            \n",
    "                        # Show the currently active tiles\n",
    "                        canvas.addActivity((m1, k1),\n",
    "                                            (k1, n1),\n",
    "                                            (m1, n1),\n",
    "                                            worker=\"T\")\n",
    "                        \n",
    "                        # Show the currently active elements\n",
    "                        canvas.addFrame((m1, k1, m0, k0),\n",
    "                                         (k1, n1, n0, k0),\n",
    "                                         (m1, n1, m0, n0))\n",
    "\n",
    "displayTensor(z_MNMN)\n",
    "displayCanvas(canvas)"
   ]
  },
  {
   "cell_type": "code",
   "execution_count": null,
   "metadata": {},
   "outputs": [],
   "source": [
    "# Check that result is correct\n",
    "\n",
    "z_MNMN.getRoot() == z_MNMN_check.getRoot()"
   ]
  },
  {
   "cell_type": "code",
   "execution_count": null,
   "metadata": {},
   "outputs": [],
   "source": []
  }
 ],
 "metadata": {
  "kernelspec": {
   "display_name": "Python 3",
   "language": "python",
   "name": "python3"
  },
  "language_info": {
   "codemirror_mode": {
    "name": "ipython",
    "version": 3
   },
   "file_extension": ".py",
   "mimetype": "text/x-python",
   "name": "python",
   "nbconvert_exporter": "python",
   "pygments_lexer": "ipython3",
   "version": "3.8.8"
  }
 },
 "nbformat": 4,
 "nbformat_minor": 4
}
