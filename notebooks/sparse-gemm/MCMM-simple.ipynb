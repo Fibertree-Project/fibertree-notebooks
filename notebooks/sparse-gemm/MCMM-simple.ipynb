{
 "cells": [
  {
   "cell_type": "code",
   "execution_count": null,
   "metadata": {
    "scrolled": false
   },
   "outputs": [],
   "source": [
    "# Begin - startup boilerplate code\n",
    "\n",
    "import pkgutil\n",
    "\n",
    "if 'fibertree_bootstrap' not in [pkg.name for pkg in pkgutil.iter_modules()]:\n",
    "  !python3 -m pip  install git+https://github.com/Fibertree-project/fibertree-bootstrap --quiet\n",
    "\n",
    "# End - startup boilerplate code\n",
    "\n",
    "\n",
    "from fibertree_bootstrap import *\n",
    "fibertree_bootstrap(style=\"uncompressed\", animation=\"spacetime\")"
   ]
  },
  {
   "cell_type": "markdown",
   "metadata": {},
   "source": [
    "## Initialize Sliders & default parameters"
   ]
  },
  {
   "cell_type": "code",
   "execution_count": null,
   "metadata": {
    "scrolled": false
   },
   "outputs": [],
   "source": [
    "\n",
    "# Initial values\n",
    "# Most cells below are modified from spMspM_pruned\n",
    "\n",
    "M = 6 #defines M rank\n",
    "N = 6 #defines N rank\n",
    "K = 6 #defines K rank\n",
    "density = [0.5, 1.0] #defines portion NNZ for [A, B]\n",
    "interval = 5 #defines max value in A or B\n",
    "seed = 10 #defines random seed\n",
    "sample_rate = 0.4 # dictates sample threshold for portion of A\n",
    "\n",
    "def set_params(rank_M, rank_N, rank_K, tensor_density, uniform_sample_rate, max_value, rand_seed):\n",
    "    global M\n",
    "    global N\n",
    "    global K\n",
    "    global density\n",
    "    global seed\n",
    "    global sample_rate\n",
    "    global interval\n",
    "    \n",
    "    M = rank_M\n",
    "    N = rank_N\n",
    "    K = rank_K\n",
    "    \n",
    "    density = tensor_density[::-1]\n",
    "        \n",
    "    seed = rand_seed\n",
    "    \n",
    "    sample_rate = uniform_sample_rate\n",
    "    \n",
    "    interval = max_value\n",
    "\n",
    "w = interactive(set_params,\n",
    "             rank_M=widgets.IntSlider(min=2, max=10, step=1, value=M),\n",
    "             rank_N=widgets.IntSlider(min=2, max=10, step=1, value=N),\n",
    "             rank_K=widgets.IntSlider(min=2, max=10, step=1, value=K),\n",
    "             tensor_density=widgets.FloatRangeSlider(min=0.0, max=1.0, step=0.05, value=[0.5, 1.0]),\n",
    "             uniform_sample_rate=widgets.FloatSlider(min=0, max=1.0, step=0.05, value=sample_rate),\n",
    "             max_value=widgets.IntSlider(min=0, max=20, step=1, value=interval),\n",
    "             rand_seed=widgets.IntSlider(min=0, max=100, step=1, value=seed))\n",
    "\n",
    "display(w)\n"
   ]
  },
  {
   "cell_type": "markdown",
   "metadata": {},
   "source": [
    "## Input Tensors"
   ]
  },
  {
   "cell_type": "code",
   "execution_count": null,
   "metadata": {
    "scrolled": false
   },
   "outputs": [],
   "source": [
    "a = Tensor.fromRandom([\"M\", \"K\"], [M, K], density, interval, seed=seed)\n",
    "#a.setName(\"A\")\n",
    "a.setColor(\"blue\")\n",
    "displayTensor(a)\n",
    "\n",
    "# Create swapped rank version of a\n",
    "a_swapped = a.swapRanks()\n",
    "#a_swapped.setName(\"A_swapped\")\n",
    "displayTensor(a_swapped)\n",
    "\n",
    "b = Tensor.fromRandom([\"N\", \"K\"], [N, K], density, interval, seed=2*seed)\n",
    "#b.setName(\"B\")\n",
    "b.setColor(\"green\")\n",
    "displayTensor(b)\n",
    "\n",
    "# Create swapped rank version of b\n",
    "b_swapped = b.swapRanks()\n",
    "#b_swapped.setName(\"B_swapped\")\n",
    "displayTensor(b_swapped)\n"
   ]
  },
  {
   "cell_type": "markdown",
   "metadata": {},
   "source": [
    "## Reference Output"
   ]
  },
  {
   "cell_type": "code",
   "execution_count": null,
   "metadata": {
    "scrolled": false
   },
   "outputs": [],
   "source": [
    "z_validate = Tensor(rank_ids=[\"M\", \"N\"], shape=[M, N])\n",
    "\n",
    "a_m = a.getRoot()\n",
    "b_n = b.getRoot()\n",
    "z_m = z_validate.getRoot()\n",
    "\n",
    "for m, (z_n, a_k) in z_m << a_m:\n",
    "    for n, (z_ref, b_k) in z_n << b_n:\n",
    "        for k, (a_val, b_val) in a_k & b_k:\n",
    "            z_ref += a_val * b_val\n",
    "\n",
    "displayTensor(z_validate)\n",
    "\n",
    "\n",
    "\n",
    "def compareZ(z):\n",
    "    \n",
    "    n = 0\n",
    "    total = 0\n",
    "    \n",
    "    z1 = z_validate.getRoot()\n",
    "    z2 = z.getRoot()\n",
    "    \n",
    "    for m, (ab_n, z1_n, z2_n) in z1 | z2:\n",
    "        for n, (ab_val, z1_val, z2_val) in z1_n | z2_n:\n",
    "            # Unpack the values to use abs (arggh)\n",
    "            z1_val = Payload.get(z1_val)\n",
    "            z2_val = Payload.get(z2_val)\n",
    "         \n",
    "            n += 1\n",
    "            total += abs(z1_val-z2_val)\n",
    "\n",
    "    return total/n"
   ]
  },
  {
   "cell_type": "markdown",
   "metadata": {},
   "source": [
    "## Prune Functions and helper functions"
   ]
  },
  {
   "cell_type": "code",
   "execution_count": null,
   "metadata": {},
   "outputs": [],
   "source": [
    "# MCMM uniform random sampling\n",
    "class UniformRandomPrune():\n",
    "    def __init__(self, sample_rate=0.5):\n",
    "        \n",
    "        self.sample_rate = sample_rate\n",
    "    \n",
    "    def __call__(self, n, c, p):\n",
    "        \n",
    "        sample = random.uniform(0,1)\n",
    "        result = (sample < self.sample_rate)\n",
    "         \n",
    "        print(f\"Preserve = {result}\")\n",
    "\n",
    "        return result\n",
    "        \n",
    "# MCMM sample against number of elements\n",
    "class RandomSizePrune():\n",
    "    def __init__(self, max_size=4):\n",
    "        \n",
    "        self.max_size = max_size\n",
    "    \n",
    "    def __call__(self, n, c, p):\n",
    "        \n",
    "        size = p.countValues()\n",
    "        sample = random.uniform(0, 1)\n",
    "        result = (sample < (size / self.max_size))\n",
    "        \n",
    "        print(f\"Preserve = {result}\")\n",
    "        \n",
    "        return result\n",
    "\n",
    "# a cute recursive helper for getting total absolute magnitude of Fiber of arbitrary rank \n",
    "# this is modeled after countValues(), but I haven't tested it super thoroughly\n",
    "# is this a helpful thing to add as a Fiber method? useful for computing matrix norms and stuff\n",
    "def get_magnitude(p):\n",
    "    mag = 0\n",
    "    for el in p.payloads:\n",
    "        if Payload.contains(el, Fiber):\n",
    "            mag += get_magnitude(el)\n",
    "        else:\n",
    "            mag += np.absolute(el.v()) if not Payload.isEmpty(el) else 0\n",
    "    return mag\n",
    "    \n",
    "# MCMM weight sample by sum of elements\n",
    "class RandomMagnitudePrune():\n",
    "    def __init__(self, max_mag=6):\n",
    "        \n",
    "        #as-written, max_mag and mag should be ints, not payloads\n",
    "        self.max_mag = max_mag\n",
    "    \n",
    "    def __call__(self, n, c, p):\n",
    "\n",
    "        magnitude = get_magnitude(p)\n",
    "        sample = random.uniform(0, 1)\n",
    "        result = (sample < (magnitude / self.max_mag))\n",
    "        \n",
    "        print(f\"Preserve = {result}\")\n",
    "        \n",
    "        return result\n",
    "        \n",
    "        "
   ]
  },
  {
   "cell_type": "markdown",
   "metadata": {},
   "source": [
    "## Outer Product w/ MCMM; uniform sampling A"
   ]
  },
  {
   "cell_type": "code",
   "execution_count": null,
   "metadata": {
    "scrolled": false
   },
   "outputs": [],
   "source": [
    "z = Tensor(rank_ids=[\"M\", \"N\"], shape=[M, N])\n",
    "\n",
    "sample_tensor = UniformRandomPrune(sample_rate)\n",
    "\n",
    "a_k = a_swapped.getRoot()\n",
    "b_k = b_swapped.getRoot()\n",
    "z_m = z.getRoot()\n",
    "\n",
    "\n",
    "canvas = createCanvas(a_swapped, b_swapped, z)\n",
    "\n",
    "for k, (a_m, b_n) in a_k.prune(sample_tensor) & b_k:\n",
    "    for m, (z_n, a_val) in z_m << a_m:\n",
    "        for n, (z_ref, b_val) in z_n << b_n:\n",
    "            z_ref += a_val * b_val\n",
    "            canvas.addFrame((k, m), (k, n), (m, n))\n",
    "\n",
    "print(f\"Error = {compareZ(z)}\")\n",
    "\n",
    "displayTensor(z)\n",
    "displayCanvas(canvas)"
   ]
  },
  {
   "cell_type": "markdown",
   "metadata": {},
   "source": [
    "## Outer product, sample with threshold by num elements"
   ]
  },
  {
   "cell_type": "code",
   "execution_count": null,
   "metadata": {
    "scrolled": false
   },
   "outputs": [],
   "source": [
    "z = Tensor(rank_ids=[\"M\", \"N\"], shape=[M, N])\n",
    "\n",
    "\n",
    "a_k = a_swapped.getRoot()\n",
    "b_k = b_swapped.getRoot()\n",
    "z_m = z.getRoot()\n",
    "\n",
    "#traverse to get max elements per a_k\n",
    "max_size = 0\n",
    "for k, a_m in a_k:\n",
    "    size = a_m.countValues()\n",
    "    if size > max_size:\n",
    "        max_size = size\n",
    "print(max_size)\n",
    "\n",
    "sample_tensor = RandomSizePrune(max_size)\n",
    "\n",
    "canvas = createCanvas(a_swapped, b_swapped, z)\n",
    "\n",
    "for k, (a_m, b_n) in a_k.prune(sample_tensor) & b_k:\n",
    "    for m, (z_n, a_val) in z_m << a_m:\n",
    "        for n, (z_ref, b_val) in z_n << b_n:\n",
    "            z_ref += a_val * b_val\n",
    "            canvas.addFrame((k, m), (k, n), (m, n))\n",
    "\n",
    "print(f\"Error = {compareZ(z)}\")\n",
    "\n",
    "displayTensor(z)\n",
    "displayCanvas(canvas)"
   ]
  },
  {
   "cell_type": "markdown",
   "metadata": {},
   "source": [
    "## Outer Product, sample with threshold by magnitude"
   ]
  },
  {
   "cell_type": "code",
   "execution_count": null,
   "metadata": {
    "scrolled": false
   },
   "outputs": [],
   "source": [
    "z = Tensor(rank_ids=[\"M\", \"N\"], shape=[M, N])\n",
    "\n",
    "\n",
    "a_k = a_swapped.getRoot()\n",
    "b_k = b_swapped.getRoot()\n",
    "z_m = z.getRoot()\n",
    "\n",
    "#traverse to get max magnitude per a_k\n",
    "max_mag = 0\n",
    "for k, a_m in a_k:\n",
    "    mag = 0\n",
    "    for m, a_val in a_m:\n",
    "        mag += a_val\n",
    "    if mag > max_mag:\n",
    "        max_mag = mag\n",
    "\n",
    "sample_tensor = RandomMagnitudePrune(max_mag.v()) #convert payload to value\n",
    "\n",
    "canvas = createCanvas(a_swapped, b_swapped, z)\n",
    "\n",
    "for k, (a_m, b_n) in a_k.prune(sample_tensor) & b_k:\n",
    "    for m, (z_n, a_val) in z_m << a_m:\n",
    "        for n, (z_ref, b_val) in z_n << b_n:\n",
    "            z_ref += a_val * b_val\n",
    "            canvas.addFrame((k, m), (k, n), (m, n))\n",
    "\n",
    "print(f\"Error = {compareZ(z)}\")\n",
    "\n",
    "displayTensor(z)\n",
    "displayCanvas(canvas)"
   ]
  }
 ],
 "metadata": {
  "kernelspec": {
   "display_name": "Python 3",
   "language": "python",
   "name": "python3"
  },
  "language_info": {
   "codemirror_mode": {
    "name": "ipython",
    "version": 3
   },
   "file_extension": ".py",
   "mimetype": "text/x-python",
   "name": "python",
   "nbconvert_exporter": "python",
   "pygments_lexer": "ipython3",
   "version": "3.8.8"
  }
 },
 "nbformat": 4,
 "nbformat_minor": 2
}
