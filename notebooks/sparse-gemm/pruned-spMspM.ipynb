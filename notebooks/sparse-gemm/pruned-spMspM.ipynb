{
 "cells": [
  {
   "cell_type": "code",
   "execution_count": null,
   "metadata": {},
   "outputs": [],
   "source": [
    "# Begin - startup boilerplate code\n",
    "\n",
    "import pkgutil\n",
    "\n",
    "if 'fibertree_bootstrap' not in [pkg.name for pkg in pkgutil.iter_modules()]:\n",
    "  !python3 -m pip  install git+https://github.com/Fibertree-project/fibertree-bootstrap --quiet\n",
    "\n",
    "# End - startup boilerplate code\n",
    "\n",
    "\n",
    "from fibertree_bootstrap import *\n",
    "fibertree_bootstrap(style=\"uncompressed\", animation=\"spacetime\")"
   ]
  },
  {
   "cell_type": "code",
   "execution_count": null,
   "metadata": {},
   "outputs": [],
   "source": [
    "# Initial values\n",
    "\n",
    "M = 6\n",
    "N = 6\n",
    "K = 6\n",
    "density = [0.9, 0.8]\n",
    "cutoff = 2\n",
    "seed = 10\n",
    "\n",
    "def set_params(rank_M, rank_N, rank_K, tensor_density, rand_seed):\n",
    "    global M\n",
    "    global N\n",
    "    global K\n",
    "    global density\n",
    "    global seed\n",
    "    \n",
    "    M = rank_M\n",
    "    N = rank_N\n",
    "    K = rank_K\n",
    "    \n",
    "    if tensor_density == 'sparse':\n",
    "        density = [0.9, 0.8]\n",
    "    elif tensor_density == 'sparser':\n",
    "        density = [0.9, 0.4]\n",
    "    else:\n",
    "        density = [1.0, 1.0]\n",
    "        \n",
    "    seed = rand_seed\n",
    "\n",
    "w = interactive(set_params,\n",
    "             rank_M=widgets.IntSlider(min=2, max=10, step=1, value=M),\n",
    "             rank_N=widgets.IntSlider(min=2, max=10, step=1, value=N),\n",
    "             rank_K=widgets.IntSlider(min=2, max=10, step=1, value=K),\n",
    "             tensor_density=['sparse', 'sparser', 'dense'],\n",
    "             rand_seed=widgets.IntSlider(min=0, max=100, step=1, value=seed))\n",
    "\n",
    "display(w)\n"
   ]
  },
  {
   "cell_type": "markdown",
   "metadata": {},
   "source": [
    "## Create Input Tensors\n",
    "\n"
   ]
  },
  {
   "cell_type": "code",
   "execution_count": null,
   "metadata": {},
   "outputs": [],
   "source": [
    "a = Tensor.fromRandom([\"M\", \"K\"], [M, K], density, 5, seed=seed)\n",
    "#a.setName(\"A\")\n",
    "a.setColor(\"blue\")\n",
    "displayTensor(a)\n",
    "\n",
    "# Create swapped rank version of a\n",
    "a_swapped = a.swapRanks()\n",
    "#a_swapped.setName(\"A_swapped\")\n",
    "displayTensor(a_swapped)\n",
    "\n",
    "b = Tensor.fromRandom([\"N\", \"K\"], [N, K], density, 5, seed=2*seed)\n",
    "#b.setName(\"B\")\n",
    "b.setColor(\"green\")\n",
    "displayTensor(b)\n",
    "\n",
    "# Create swapped rank version of b\n",
    "b_swapped = b.swapRanks()\n",
    "#b_swapped.setName(\"B_swapped\")\n",
    "displayTensor(b_swapped)\n",
    "\n"
   ]
  },
  {
   "cell_type": "markdown",
   "metadata": {},
   "source": [
    "## Create reference output"
   ]
  },
  {
   "cell_type": "code",
   "execution_count": null,
   "metadata": {},
   "outputs": [],
   "source": [
    "z_validate = Tensor(rank_ids=[\"M\", \"N\"], shape=[M, N])\n",
    "\n",
    "a_m = a.getRoot()\n",
    "b_n = b.getRoot()\n",
    "z_m = z_validate.getRoot()\n",
    "\n",
    "for m, (z_n, a_k) in z_m << a_m:\n",
    "    for n, (z_ref, b_k) in z_n << b_n:\n",
    "        for k, (a_val, b_val) in a_k & b_k:\n",
    "            z_ref += a_val * b_val\n",
    "\n",
    "displayTensor(z_validate)\n",
    "\n",
    "\n",
    "\n",
    "def compareZ(z):\n",
    "    \n",
    "    n = 0\n",
    "    total = 0\n",
    "    \n",
    "    z1 = z_validate.getRoot()\n",
    "    z2 = z.getRoot()\n",
    "    \n",
    "    for m, (ab_n, z1_n, z2_n) in z1 | z2:\n",
    "        for n, (ab_val, z1_val, z2_val) in z1_n | z2_n:\n",
    "            # Unpack the values to use abs (arggh)\n",
    "            z1_val = Payload.get(z1_val)\n",
    "            z2_val = Payload.get(z2_val)\n",
    "         \n",
    "            n += 1\n",
    "            total += abs(z1_val-z2_val)\n",
    "\n",
    "    return total/n\n",
    "        "
   ]
  },
  {
   "cell_type": "markdown",
   "metadata": {},
   "source": [
    "## Pruning function\n"
   ]
  },
  {
   "cell_type": "code",
   "execution_count": null,
   "metadata": {},
   "outputs": [],
   "source": [
    "class ThresholdPrune():\n",
    "    def __init__(self, threshold=2):\n",
    "        \n",
    "        self.threshold = threshold\n",
    "        \n",
    "    def __call__(self, n, c, p):\n",
    "        \n",
    "        size = p.countValues()\n",
    "        result = size > self.threshold\n",
    "        \n",
    "        print(f\"Preserve = {result}\")\n",
    "        \n",
    "        return result\n",
    "    \n",
    "    \n"
   ]
  },
  {
   "cell_type": "markdown",
   "metadata": {},
   "source": [
    "## Output Stationary/Inner Product"
   ]
  },
  {
   "cell_type": "code",
   "execution_count": null,
   "metadata": {
    "scrolled": false
   },
   "outputs": [],
   "source": [
    "z = Tensor(rank_ids=[\"M\", \"N\"], shape=[M, N])\n",
    "\n",
    "under_threshold = ThresholdPrune(cutoff)\n",
    "\n",
    "a_m = a.getRoot()\n",
    "b_n = b.getRoot()\n",
    "z_m = z.getRoot()\n",
    "\n",
    "canvas = createCanvas(a, b, z)\n",
    "\n",
    "for m, (z_n, a_k) in z_m << a_m.prune(under_threshold):\n",
    "    for n, (z_ref, b_k) in z_n << b_n:\n",
    "        for k, (a_val, b_val) in a_k & b_k:\n",
    "            z_ref += a_val * b_val\n",
    "            canvas.addFrame((m, k), (n, k), (m, n))\n",
    "\n",
    "print(f\"Error = {compareZ(z)}\")\n",
    "\n",
    "displayTensor(z)\n",
    "displayCanvas(canvas)"
   ]
  },
  {
   "cell_type": "markdown",
   "metadata": {},
   "source": [
    "## A stationary - row major/Gustavson"
   ]
  },
  {
   "cell_type": "code",
   "execution_count": null,
   "metadata": {},
   "outputs": [],
   "source": [
    "z = Tensor(rank_ids=[\"M\", \"N\"], shape=[M, N])\n",
    "\n",
    "under_threshold = ThresholdPrune(cutoff)\n",
    "\n",
    "a_m = a.getRoot()\n",
    "b_k = b_swapped.getRoot()\n",
    "z_m = z.getRoot()\n",
    "\n",
    "canvas = createCanvas(a, b_swapped, z)\n",
    "\n",
    "for m, (z_n, a_k) in z_m << a_m:\n",
    "    for k, (a_val, b_n) in a_k & b_k:\n",
    "        for n, (z_ref, b_val) in z_n << b_n:\n",
    "            z_ref += a_val * b_val\n",
    "            canvas.addFrame((m, k), (k, n), (m, n))\n",
    "\n",
    "print(f\"Error = {compareZ(z)}\")\n",
    "\n",
    "displayTensor(z)\n",
    "displayCanvas(canvas)"
   ]
  },
  {
   "cell_type": "markdown",
   "metadata": {},
   "source": [
    "## A stationary - column major/Outer Product"
   ]
  },
  {
   "cell_type": "code",
   "execution_count": null,
   "metadata": {
    "scrolled": false
   },
   "outputs": [],
   "source": [
    "z = Tensor(rank_ids=[\"M\", \"N\"], shape=[M, N])\n",
    "\n",
    "under_threshold = ThresholdPrune(cutoff)\n",
    "\n",
    "a_k = a_swapped.getRoot()\n",
    "b_k = b_swapped.getRoot()\n",
    "z_m = z.getRoot()\n",
    "\n",
    "\n",
    "canvas = createCanvas(a, b_swapped, z)\n",
    "\n",
    "for k, (a_m, b_n) in a_k & b_k.prune(under_threshold):\n",
    "    for m, (z_n, a_val) in z_m << a_m:\n",
    "        for n, (z_ref, b_val) in z_n << b_n:\n",
    "            z_ref += a_val * b_val\n",
    "            canvas.addFrame((m, k), (k, n), (m, n))\n",
    "\n",
    "print(f\"Error = {compareZ(z)}\")\n",
    "\n",
    "displayTensor(z)\n",
    "displayCanvas(canvas)"
   ]
  },
  {
   "cell_type": "code",
   "execution_count": null,
   "metadata": {},
   "outputs": [],
   "source": []
  }
 ],
 "metadata": {
  "kernelspec": {
   "display_name": "Python 3",
   "language": "python",
   "name": "python3"
  },
  "language_info": {
   "codemirror_mode": {
    "name": "ipython",
    "version": 3
   },
   "file_extension": ".py",
   "mimetype": "text/x-python",
   "name": "python",
   "nbconvert_exporter": "python",
   "pygments_lexer": "ipython3",
   "version": "3.8.8"
  }
 },
 "nbformat": 4,
 "nbformat_minor": 4
}
