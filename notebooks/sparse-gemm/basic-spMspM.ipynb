{
 "cells": [
  {
   "cell_type": "markdown",
   "metadata": {},
   "source": [
    "## Basic spMspM\n",
    "\n",
    "This notebook contains some examples of some basic untiled dataflows for matrix multiply (spMspM). Actually, in this code the tensor representation is agnostic as to whether the tensors are dense or sparse (and dense operands can be created below), but for simplicity I just think of them as being sparse.\n",
    "\n",
    "First, include some libraries"
   ]
  },
  {
   "cell_type": "code",
   "execution_count": null,
   "metadata": {},
   "outputs": [],
   "source": [
    "# Begin - startup boilerplate code\n",
    "\n",
    "import pkgutil\n",
    "\n",
    "if 'fibertree_bootstrap' not in [pkg.name for pkg in pkgutil.iter_modules()]:\n",
    "  !python3 -m pip  install git+https://github.com/Fibertree-project/fibertree-bootstrap --quiet\n",
    "\n",
    "# End - startup boilerplate code\n",
    "\n",
    "\n",
    "from fibertree_bootstrap import *\n",
    "fibertree_bootstrap(style=\"tree+uncompressed\", animation=\"movie\")"
   ]
  },
  {
   "cell_type": "markdown",
   "metadata": {},
   "source": [
    "## Initialize setup\n",
    "\n",
    "The following cell just creates some sliders to control the creation of the input operand tensors."
   ]
  },
  {
   "cell_type": "code",
   "execution_count": null,
   "metadata": {},
   "outputs": [],
   "source": [
    "# Initial values\n",
    "\n",
    "M = 4\n",
    "N = 4\n",
    "K = 3\n",
    "density = [0.9, 0.8]\n",
    "seed = 10\n",
    "\n",
    "def set_params(rank_M, rank_N, rank_K, tensor_density, rand_seed):\n",
    "    global M\n",
    "    global N\n",
    "    global K\n",
    "    global density\n",
    "    global seed\n",
    "    \n",
    "    M = rank_M\n",
    "    N = rank_N\n",
    "    K = rank_K\n",
    "    \n",
    "    if tensor_density == 'sparse':\n",
    "        density = [0.9, 0.8]\n",
    "    elif tensor_density == 'sparser':\n",
    "        density = [0.9, 0.4]\n",
    "    else:\n",
    "        density = [1.0, 1.0]\n",
    "        \n",
    "    seed = rand_seed\n",
    "\n",
    "interactive(set_params,\n",
    "            rank_M=widgets.IntSlider(min=2, max=10, step=1, value=M),\n",
    "            rank_N=widgets.IntSlider(min=2, max=10, step=1, value=N),\n",
    "            rank_K=widgets.IntSlider(min=2, max=10, step=1, value=K),\n",
    "            tensor_density=['sparse', 'sparser', 'dense'],\n",
    "            rand_seed=widgets.IntSlider(min=0, max=100, step=1, value=seed))"
   ]
  },
  {
   "cell_type": "markdown",
   "metadata": {},
   "source": [
    "## Create Input Tensors\n",
    "\n",
    "Note, the tensor names are suffixed with an ordered list of their rank names."
   ]
  },
  {
   "cell_type": "code",
   "execution_count": null,
   "metadata": {
    "scrolled": false
   },
   "outputs": [],
   "source": [
    "a_MK = Tensor.fromRandom([\"M\", \"K\"], [M, K], density, 5, seed=seed)\n",
    "a_MK.setColor(\"blue\").setName(\"a_MK\")\n",
    "displayTensor(a_MK)\n",
    "\n",
    "# Create swapped rank version of a\n",
    "a_KM = a_MK.swapRanks()\n",
    "a_KM.setName(\"a_KM\")\n",
    "displayTensor(a_KM)\n",
    "\n",
    "\n",
    "b_NK = Tensor.fromRandom([\"N\", \"K\"], [N, K], density, 5, seed=2*seed)\n",
    "b_NK.setColor(\"green\").setName(\"b_NK\")\n",
    "displayTensor(b_NK)\n",
    "\n",
    "# Create swapped rank version of b\n",
    "b_KN = b_NK.swapRanks()\n",
    "b_KN.setName(\"b_KN\")\n",
    "displayTensor(b_KN)\n",
    "\n"
   ]
  },
  {
   "cell_type": "markdown",
   "metadata": {},
   "source": [
    "## Output Stationary/Inner Product"
   ]
  },
  {
   "cell_type": "code",
   "execution_count": null,
   "metadata": {
    "scrolled": false
   },
   "outputs": [],
   "source": [
    "z_MN = Tensor(rank_ids=[\"M\", \"N\"], shape=[M, N])\n",
    "z_MN.setName(\"z_MN\")\n",
    "\n",
    "a_m = a_MK.getRoot()\n",
    "b_n = b_NK.getRoot()\n",
    "z_m = z_MN.getRoot()\n",
    "\n",
    "canvas = createCanvas(a_MK, b_NK, z_MN)\n",
    "\n",
    "for m, (z_n, a_k) in z_m << a_m:\n",
    "    for n, (z_ref, b_k) in z_n << b_n:\n",
    "        for k, (a_val, b_val) in a_k & b_k:\n",
    "            z_ref += a_val * b_val\n",
    "            canvas.addFrame((m, k), (n, k), (m, n))\n",
    "\n",
    "displayTensor(z_MN)\n",
    "displayCanvas(canvas)\n",
    "\n",
    "z_MN_check = z_MN"
   ]
  },
  {
   "cell_type": "markdown",
   "metadata": {},
   "source": [
    "## A stationary - row major/Gustavson"
   ]
  },
  {
   "cell_type": "code",
   "execution_count": null,
   "metadata": {
    "scrolled": false
   },
   "outputs": [],
   "source": [
    "z_MN = Tensor(rank_ids=[\"M\", \"N\"], shape=[M, N])\n",
    "z_MN.setName(\"z_MN\")\n",
    "\n",
    "a_m = a_MK.getRoot()\n",
    "b_k = b_KN.getRoot()\n",
    "z_m = z_MN.getRoot()\n",
    "\n",
    "canvas = createCanvas(a_MK, b_KN, z_MN)\n",
    "\n",
    "for m, (z_n, a_k) in z_m << a_m:\n",
    "    for k, (a_val, b_n) in a_k & b_k:\n",
    "        for n, (z_ref, b_val) in z_n << b_n:\n",
    "            z_ref += a_val * b_val\n",
    "            canvas.addFrame((m, k), (k, n), (m, n))\n",
    "\n",
    "displayTensor(z_MN)\n",
    "displayCanvas(canvas)"
   ]
  },
  {
   "cell_type": "code",
   "execution_count": null,
   "metadata": {},
   "outputs": [],
   "source": [
    "z_MN.getRoot() == z_MN_check.getRoot()"
   ]
  },
  {
   "cell_type": "markdown",
   "metadata": {},
   "source": [
    "## A stationary - column major/Outer Product"
   ]
  },
  {
   "cell_type": "code",
   "execution_count": null,
   "metadata": {
    "scrolled": false
   },
   "outputs": [],
   "source": [
    "z_MN = Tensor(rank_ids=[\"M\", \"N\"], shape=[M, N])\n",
    "z_MN.setName(\"z_MN\")\n",
    "\n",
    "a_k = a_KM.getRoot()\n",
    "b_k = b_KN.getRoot()\n",
    "z_m = z_MN.getRoot()\n",
    "\n",
    "\n",
    "canvas = createCanvas(a_KM, b_KN, z_MN)\n",
    "\n",
    "for k, (a_m, b_n) in a_k & b_k:\n",
    "    for m, (z_n, a_val) in z_m << a_m:\n",
    "        for n, (z_ref, b_val) in z_n << b_n:\n",
    "            z_ref += a_val * b_val\n",
    "            canvas.addFrame((k, m), (k, n), (m, n))\n",
    "\n",
    "displayTensor(z_MN)\n",
    "displayCanvas(canvas)"
   ]
  },
  {
   "cell_type": "code",
   "execution_count": null,
   "metadata": {},
   "outputs": [],
   "source": [
    "z_MN.getRoot() == z_MN_check.getRoot()"
   ]
  },
  {
   "cell_type": "code",
   "execution_count": null,
   "metadata": {},
   "outputs": [],
   "source": []
  }
 ],
 "metadata": {
  "kernelspec": {
   "display_name": "Python 3",
   "language": "python",
   "name": "python3"
  },
  "language_info": {
   "codemirror_mode": {
    "name": "ipython",
    "version": 3
   },
   "file_extension": ".py",
   "mimetype": "text/x-python",
   "name": "python",
   "nbconvert_exporter": "python",
   "pygments_lexer": "ipython3",
   "version": "3.8.8"
  }
 },
 "nbformat": 4,
 "nbformat_minor": 4
}
