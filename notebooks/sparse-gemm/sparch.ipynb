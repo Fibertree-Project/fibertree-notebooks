{
 "cells": [
  {
   "cell_type": "markdown",
   "metadata": {
    "slideshow": {
     "slide_type": "-"
    }
   },
   "source": [
    "# SpArch spMspM accelerator\n",
    "\n",
    "First, include some libraries"
   ]
  },
  {
   "cell_type": "code",
   "execution_count": null,
   "metadata": {},
   "outputs": [],
   "source": [
    "# Begin - startup boilerplate code\n",
    "\n",
    "import pkgutil\n",
    "\n",
    "if 'fibertree_bootstrap' not in [pkg.name for pkg in pkgutil.iter_modules()]:\n",
    "  !python3 -m pip  install git+https://github.com/Fibertree-project/fibertree-bootstrap --quiet\n",
    "\n",
    "# End - startup boilerplate code\n",
    "\n",
    "\n",
    "from fibertree_bootstrap import *\n",
    "fibertree_bootstrap()"
   ]
  },
  {
   "cell_type": "markdown",
   "metadata": {},
   "source": [
    "## Read matrices\n"
   ]
  },
  {
   "cell_type": "code",
   "execution_count": null,
   "metadata": {},
   "outputs": [],
   "source": [
    "a = Tensor.fromYAMLfile(os.path.join(data_dir, \"sparse-matrix-a.yaml\"))\n",
    "b = Tensor.fromYAMLfile(os.path.join(data_dir, \"sparse-matrix-b.yaml\"))\n",
    "\n",
    "# Swap ranks of the \"a\" matrix as desired by the outer product traveral order\n",
    "at = a.swapRanks()\n",
    "\n",
    "print(\"Input A\")\n",
    "displayTensor(a.setColor(\"blue\"))\n",
    "\n",
    "print(\"Input A - swapped\")\n",
    "displayTensor(at.setColor(\"blue\"))\n",
    "\n",
    "print(\"Input B\")\n",
    "displayTensor(b.setColor(\"green\"))\n",
    "    \n",
    "z_verify = Tensor.fromYAMLfile(os.path.join(data_dir, \"sparse-matrix-a_times_b.yaml\"))\n",
    "\n",
    "print(\"Result Z (precomputed)\")\n",
    "displayTensor(z_verify)"
   ]
  },
  {
   "cell_type": "markdown",
   "metadata": {},
   "source": [
    "## SpArch - Create Input"
   ]
  },
  {
   "cell_type": "code",
   "execution_count": null,
   "metadata": {},
   "outputs": [],
   "source": [
    "\n",
    "print(\"Input A\")\n",
    "displayTensor(a)\n",
    "\n",
    "\n",
    "# Step 1: split A by adding a middle rank C\n",
    "# This middle rank C has a one-to-one mapping to its lower rank (K)\n",
    "# Rank C uses a coordinate that used to be the position in rank K of A\n",
    "# This coincides with the old naming convention in fiber.py!\n",
    "\n",
    "ac = Tensor(rank_ids=[\"M\", \"C\", \"K\"])\n",
    "ac.setColor(\"blue\")\n",
    "\n",
    "a_m = a.getRoot()\n",
    "ac_m = ac.getRoot()\n",
    "\n",
    "for m, (ac_c, a_k) in ac_m << a_m:\n",
    "    # Use the old naming style!\n",
    "    # The new rank is named after the position (i.e., count)\n",
    "    \n",
    "    ac_c += a_k.splitEqual(1)\n",
    "    ac_c.updateCoords(lambda i, c, p: i)\n",
    "\n",
    "# Now ac is[\"M\", \"C\", \"K\"]\n",
    "print(\"Input A -- split\")\n",
    "displayTensor(ac)\n",
    "\n",
    "# Step 2: swap the M and C rank of AC\n",
    "\n",
    "act = ac.swapRanks() # swap rank M and C\n",
    "act.setColor(\"blue\")\n",
    "\n",
    "# Now act is [\"C\", \"M\", \"K\"]\n",
    "print(\"Input A -- split and transposed\")\n",
    "displayTensor(act)"
   ]
  },
  {
   "cell_type": "markdown",
   "metadata": {},
   "source": [
    "## SpArch - Do multiply"
   ]
  },
  {
   "cell_type": "code",
   "execution_count": null,
   "metadata": {},
   "outputs": [],
   "source": [
    "# Step 3: multiply!\n",
    "\n",
    "# act = Tensor(rank_ids=[\"C\", \"M\", \"K\"]) - created in step 1 above\n",
    "\n",
    "z = Tensor(rank_ids=[\"M\", \"N\"])\n",
    "\n",
    "canvas = createCanvas(act, b, z)\n",
    "\n",
    "act_c = act.getRoot()\n",
    "b_k = b.getRoot()\n",
    "z_m = z.getRoot()\n",
    "for c, act_m in act_c: # Parallelization happens here in SpArch\n",
    "    for m, (z_n_ref, act_k) in z_m << act_m:\n",
    "        for k, (act_v, b_n) in act_k & b_k:\n",
    "            for n, (z_ref, b_v) in z_n_ref << b_n:\n",
    "                z_ref += act_v * b_v\n",
    "                canvas.addFrame((c, m, k), (k, n), (m, n))\n",
    "\n",
    "# Done\n",
    "print(\"Result Z (computed)\")\n",
    "displayTensor(z)\n",
    "\n",
    "displayCanvas(canvas)"
   ]
  },
  {
   "cell_type": "markdown",
   "metadata": {},
   "source": [
    "## Check result"
   ]
  },
  {
   "cell_type": "code",
   "execution_count": null,
   "metadata": {},
   "outputs": [],
   "source": [
    "z_verify == z"
   ]
  },
  {
   "cell_type": "markdown",
   "metadata": {},
   "source": [
    "## Multiply (reversed traversal of act_c)"
   ]
  },
  {
   "cell_type": "code",
   "execution_count": null,
   "metadata": {},
   "outputs": [],
   "source": [
    "# Step 3: multiply!\n",
    "\n",
    "# act = Tensor(rank_ids=[\"C\", \"M\", \"K\"]) - created in step 1 above\n",
    "\n",
    "z = Tensor(rank_ids=[\"M\", \"N\"])\n",
    "\n",
    "canvas = createCanvas(act, b, z)\n",
    "\n",
    "act_c = act.getRoot()\n",
    "b_k = b.getRoot()\n",
    "z_m = z.getRoot()\n",
    "for c, act_m in reversed(act_c): # Parallelization happens here in SpArch\n",
    "    for m, (z_n_ref, act_k) in z_m << act_m:\n",
    "        for k, (act_v, b_n) in act_k & b_k:\n",
    "            for n, (z_ref, b_v) in z_n_ref << b_n:\n",
    "                z_ref += act_v * b_v\n",
    "                canvas.addFrame((c, m, k), (k, n), (m, n))\n",
    "\n",
    "# Done\n",
    "print(\"Result Z (computed)\")\n",
    "displayTensor(z)\n",
    "\n",
    "displayCanvas(canvas)"
   ]
  },
  {
   "cell_type": "markdown",
   "metadata": {},
   "source": [
    "## Check result"
   ]
  },
  {
   "cell_type": "code",
   "execution_count": null,
   "metadata": {},
   "outputs": [],
   "source": [
    "z_verify == z"
   ]
  },
  {
   "cell_type": "markdown",
   "metadata": {},
   "source": [
    "## Testing area\n",
    "\n",
    "For running alternative algorithms"
   ]
  },
  {
   "cell_type": "code",
   "execution_count": null,
   "metadata": {},
   "outputs": [],
   "source": []
  }
 ],
 "metadata": {
  "kernelspec": {
   "display_name": "Python 3",
   "language": "python",
   "name": "python3"
  },
  "language_info": {
   "codemirror_mode": {
    "name": "ipython",
    "version": 3
   },
   "file_extension": ".py",
   "mimetype": "text/x-python",
   "name": "python",
   "nbconvert_exporter": "python",
   "pygments_lexer": "ipython3",
   "version": "3.8.8"
  }
 },
 "nbformat": 4,
 "nbformat_minor": 2
}
