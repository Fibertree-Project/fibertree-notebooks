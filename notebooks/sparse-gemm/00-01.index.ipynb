{
 "cells": [
  {
   "cell_type": "markdown",
   "id": "2c01152b",
   "metadata": {},
   "source": [
    "# Sparse-gemm: Sparse spMspM computations\n",
    "\n",
    "- **Basic-spMspM** - Basic spMspM dataflows\n",
    "[\\[notebook\\]](./basic-spMspM.ipynb)\n",
    "[\\[colab\\]](https://colab.research.google.com/github/Fibertree-Project/fibertree-notebooks/blob/master/notebooks/sparse-gemm/basic-spMspM.ipynb)\n",
    "\n",
    "- **Tiled-spMspM** - Tiled spMspM dataflow\n",
    "[\\[notebook\\]](./tiled-spMspM.ipynb)\n",
    "[\\[colab\\]](https://colab.research.google.com/github/Fibertree-Project/fibertree-notebooks/blob/master/notebooks/sparse-gemm/tiled-spMspM.ipynb)\n",
    "\n",
    "- **Tiled-pspace-spMspM** - Position space tiled spMspM dataflows\n",
    "[\\[notebook\\]](./tiled-pspace-spMspM.ipynb)\n",
    "[\\[colab\\]](https://colab.research.google.com/github/Fibertree-Project/fibertree-notebooks/blob/master/notebooks/sparse-gemm/tiled-pspace-spMspM.ipynb)\n",
    "\n",
    "- **Merge-based-spMspM** - Merge-based spMspM dataflow\n",
    "[\\[notebook\\]](./merge-based-spMspM.ipynb)\n",
    "[\\[colab\\]](https://colab.research.google.com/github/Fibertree-Project/fibertree-notebooks/blob/master/notebooks/sparse-gemm/merge-based-spMspM.ipynb)\n",
    "\n",
    "- **Outer-space** - Simplified representation of OUTERSPACE dataflow\n",
    "[\\[notebook\\]](./outer-space.ipynb)\n",
    "[\\[colab\\]](https://colab.research.google.com/github/Fibertree-Project/fibertree-notebooks/blob/master/notebooks/sparse-gemm/outer-space.ipynb)\n",
    "\n",
    "- **Sparch** - Simplified representation of SPARCH dataflow\n",
    "[\\[notebook\\]](./sparch.ipynb)\n",
    "[\\[colab\\]](https://colab.research.google.com/github/Fibertree-Project/fibertree-notebooks/blob/master/notebooks/sparse-gemm/sparch.ipynb)\n",
    "\n",
    "- **Reordered-spMspM** - A reordered spMspM dataflow\n",
    "[\\[notebook\\]](./reordered-spMspM.ipynb)\n",
    "[\\[colab\\]](https://colab.research.google.com/github/Fibertree-Project/fibertree-notebooks/blob/master/notebooks/sparse-gemm/reordered-spMspM.ipynb)\n",
    "\n",
    "- **Pruned-spMspM** - A pruned approximate spMspM dataflow\n",
    "[\\[notebook\\]](./pruned-spMspM.ipynb)\n",
    "[\\[colab\\]](https://colab.research.google.com/github/Fibertree-Project/fibertree-notebooks/blob/master/notebooks/sparse-gemm/pruned-spMspM.ipynb)\n",
    "\n",
    "- **MCMM-simple** - Another pruned approximate spMspM dataflow\n",
    "[\\[notebook\\]](./MCMM-simple.ipynb)\n",
    "[\\[colab\\]](https://colab.research.google.com/github/Fibertree-Project/fibertree-notebooks/blob/master/notebooks/sparse-gemm/MCMM-simple.ipynb)\n",
    "\n",
    "- **MCMM-tiling** - A tiled pruned approximate spMspM dataflow\n",
    "[\\[notebook\\]](./MCMM-tiling.ipynb)\n",
    "[\\[colab\\]](https://colab.research.google.com/github/Fibertree-Project/fibertree-notebooks/blob/master/notebooks/sparse-gemm/MCMM-tiling.ipynb)\n"
   ]
  }
 ],
 "metadata": {
  "kernelspec": {
   "display_name": "Python 3 (ipykernel)",
   "language": "python",
   "name": "python3"
  },
  "language_info": {
   "codemirror_mode": {
    "name": "ipython",
    "version": 3
   },
   "file_extension": ".py",
   "mimetype": "text/x-python",
   "name": "python",
   "nbconvert_exporter": "python",
   "pygments_lexer": "ipython3",
   "version": "3.10.8"
  }
 },
 "nbformat": 4,
 "nbformat_minor": 5
}
