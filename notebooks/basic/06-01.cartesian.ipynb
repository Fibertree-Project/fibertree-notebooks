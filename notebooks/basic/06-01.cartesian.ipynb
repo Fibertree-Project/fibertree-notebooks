{
 "cells": [
  {
   "cell_type": "markdown",
   "metadata": {
    "slideshow": {
     "slide_type": "-"
    }
   },
   "source": [
    "# Exploring Cartesian Product\n",
    "\n",
    "This notebook explores running Cartesian product computations for the following Einsum expression:\n",
    "\n",
    "$$ Z_{m,n} = A_m \\times B_n $$\n",
    "\n",
    "First, include some libraries"
   ]
  },
  {
   "cell_type": "code",
   "execution_count": null,
   "metadata": {},
   "outputs": [],
   "source": [
    "# Begin - startup boilerplate code\n",
    "\n",
    "import pkgutil\n",
    "\n",
    "if 'fibertree_bootstrap' not in [pkg.name for pkg in pkgutil.iter_modules()]:\n",
    "  !python3 -m pip  install git+https://github.com/Fibertree-project/fibertree-bootstrap --quiet\n",
    "\n",
    "# End - startup boilerplate code\n",
    "\n",
    "from fibertree_bootstrap import *\n",
    "fibertree_bootstrap(style=\"tree\", animation='movie')\n"
   ]
  },
  {
   "cell_type": "markdown",
   "metadata": {},
   "source": [
    "## Cartesian Product\n",
    "\n",
    "The following cell contains a utility function to create the tensors"
   ]
  },
  {
   "cell_type": "code",
   "execution_count": null,
   "metadata": {},
   "outputs": [],
   "source": [
    "#\n",
    "# Function to create tensor inputs\n",
    "#\n",
    "M = 9\n",
    "N = 9\n",
    "\n",
    "tm = TensorMaker()\n",
    "\n",
    "tm.addTensor(\"A\", rank_ids=[\"M\"], shape=[M], density=0.5, interval=9, color=\"blue\")\n",
    "tm.addTensor(\"B\", rank_ids=[\"N\"], shape=[N], density=0.5, interval=90, color=\"green\")\n",
    "tm.displayControls()\n",
    "\n",
    "def create_tensors():\n",
    "    a = tm.makeTensor(\"A\")\n",
    "    b = tm.makeTensor(\"B\")\n",
    "    \n",
    "    z = Tensor(rank_ids=[\"M\", \"N\"], shape=[a.getShape(\"M\"), b.getShape(\"N\")])\n",
    "    \n",
    "    return (z, a, b)"
   ]
  },
  {
   "cell_type": "markdown",
   "metadata": {},
   "source": [
    "## Display Tensors"
   ]
  },
  {
   "cell_type": "code",
   "execution_count": null,
   "metadata": {},
   "outputs": [],
   "source": [
    "(Z_MN, A_M, B_N) = create_tensors()\n",
    "\n",
    "displayTensor(A_M)\n",
    "displayTensor(B_N)\n",
    "displayTensor(Z_MN)"
   ]
  },
  {
   "cell_type": "markdown",
   "metadata": {},
   "source": [
    "## Simple Cartesian product - with ordered outputs\n",
    "\n",
    "The following cell shows two nested loops doing concordant traversal of the input tensors and also doing a concordant traversal of the output tensor using the populate operation (`<<`)."
   ]
  },
  {
   "cell_type": "code",
   "execution_count": null,
   "metadata": {},
   "outputs": [],
   "source": [
    "# Cartesian product with assignment to z_ref\n",
    "\n",
    "(Z_MN, A_M, B_N) = create_tensors()\n",
    "\n",
    "a_m = A_M.getRoot()\n",
    "b_n = B_N.getRoot()\n",
    "z_m = Z_MN.getRoot()\n",
    "\n",
    "canvas = createCanvas(A_M, B_N, Z_MN)\n",
    "\n",
    "for m, (z_n, a_val) in z_m << a_m:\n",
    "    for n, (z_ref, b_val) in z_n << b_n:\n",
    "        z_ref += a_val * b_val\n",
    "        \n",
    "        canvas.addActivity((m,), (n,), (m,n))\n",
    "        \n",
    "displayCanvas(canvas)"
   ]
  },
  {
   "cell_type": "markdown",
   "metadata": {},
   "source": [
    "## Cartesian product with outputs updated based on coordinates\n",
    "\n",
    "This example illustrates updating outputs based on coordinates using the Fiber.getPayloadRef(&lt;coord&gt;) method. This corresponds to doing a scatter write. Whether the write is into a uncompressed or compressed space is representation dependent. \n",
    "\n",
    "Note that procedure isn't really necessary because the outputs are generated in a concordent order."
   ]
  },
  {
   "cell_type": "code",
   "execution_count": null,
   "metadata": {},
   "outputs": [],
   "source": [
    "# Cartesian product with assignment to z payload\n",
    "\n",
    "(Z_MN, A_M, B_N) = create_tensors()\n",
    "\n",
    "a_m = A_M.getRoot()\n",
    "b_n = B_N.getRoot()\n",
    "z_m = Z_MN.getRoot()\n",
    "\n",
    "canvas = createCanvas(A_M, B_N, Z_MN)\n",
    "\n",
    "for m, (a_val) in a_m:\n",
    "    for n, (b_val) in b_n:\n",
    "        p = z_m.getPayloadRef(m, n)\n",
    "        p += a_val * b_val\n",
    "        \n",
    "        canvas.addActivity((m,), (n,), (m, n))\n",
    "\n",
    "displayCanvas(canvas)"
   ]
  },
  {
   "cell_type": "markdown",
   "metadata": {},
   "source": [
    "### Changing computation order\n",
    "\n",
    "Note that by using Fiber.getPayloadRef() we don't need to maintain a concordant traversal order for the writes. So the following sequence with the \"for\" loops reversed works just fine, but exhibits discordant traversal of the outputs."
   ]
  },
  {
   "cell_type": "code",
   "execution_count": null,
   "metadata": {},
   "outputs": [],
   "source": [
    "# Cartesian product with assignment to z payload\n",
    "\n",
    "(Z_MN, A_M, B_N) = create_tensors()\n",
    "\n",
    "a_m = A_M.getRoot()\n",
    "b_n = B_N.getRoot()\n",
    "z_m = Z_MN.getRoot()\n",
    "\n",
    "canvas = createCanvas(A_M, B_N, Z_MN)\n",
    "\n",
    "for n, (b_val) in b_n:\n",
    "    for m, (a_val) in a_m:\n",
    "        p = z_m.getPayloadRef(m, n)\n",
    "        p += a_val * b_val\n",
    "        \n",
    "        canvas.addActivity((m,), (n,), (m, n))\n",
    "\n",
    "displayCanvas(canvas)"
   ]
  },
  {
   "cell_type": "markdown",
   "metadata": {},
   "source": [
    "## Cartesian product with position split inputs\n",
    "\n",
    "This example splits the input vectors uniformly in postion space (into groups of 2) and illustrates the processing sequence for a 2x2 parallel Cartesian product. \n",
    "\n",
    "### Generate inputs"
   ]
  },
  {
   "cell_type": "code",
   "execution_count": null,
   "metadata": {},
   "outputs": [],
   "source": [
    "# Get inputs\n",
    "\n",
    "(Z_MN, A_M, B_N) = create_tensors()\n",
    "\n",
    "a_m = A_M.getRoot()\n",
    "b_n = B_N.getRoot()\n",
    "z_m = Z_MN.getRoot()"
   ]
  },
  {
   "cell_type": "markdown",
   "metadata": {},
   "source": [
    "### Split the input vectors"
   ]
  },
  {
   "cell_type": "code",
   "execution_count": null,
   "metadata": {},
   "outputs": [],
   "source": [
    "# Run cartesian product\n",
    "\n",
    "a_m1 = a_m.splitEqual(2)\n",
    "print(\"Split a\")\n",
    "displayTensor(a_m1)\n",
    "\n",
    "b_n1 = b_n.splitEqual(2)\n",
    "print(\"Split b\")\n",
    "displayTensor(b_n1)"
   ]
  },
  {
   "cell_type": "markdown",
   "metadata": {},
   "source": [
    "### Process the split vectors\n",
    "\n",
    "In the animation below on can see that each of the two inputs read from each input tensor is being used by two PEs and that four distinct outputs are generated (each in a distinct PE).\n",
    "\n",
    "Note: Be sure to rerun the tensor creation cells above before running the cell below"
   ]
  },
  {
   "cell_type": "code",
   "execution_count": null,
   "metadata": {},
   "outputs": [],
   "source": [
    "canvas = createCanvas(A_M, B_N, Z_MN)\n",
    "\n",
    "cycle = 0\n",
    "\n",
    "for m1, (a_m0) in a_m1:\n",
    "    print(f\"Process a_m0: {a_m0}\")\n",
    "    \n",
    "    for n1,(b_n0) in b_n1:\n",
    "        print(f\"Process b_n0: {b_n0}\")\n",
    "        \n",
    "        #\n",
    "        # The following two loops can be run in parallel\n",
    "        # and the `enumerate()` method allows us to identify\n",
    "        # the currently active PE number for the display\n",
    "        #\n",
    "        for pe_m, (m0, a_val) in enumerate(a_m0):\n",
    "            for pe_n, (n0, b_val) in enumerate(b_n0):\n",
    "                # Note: m0 and n0 are the original coordinates\n",
    "                p = z_m.getPayloadRef(m0, n0)\n",
    "                p += a_val * b_val\n",
    "                \n",
    "                canvas.addActivity((m0,), (n0,), (m0,n0),\n",
    "                                   spacetime=((pe_m,pe_n), cycle))\n",
    "\n",
    "        cycle += 1\n",
    "\n",
    "displayTensor(Z_MN)\n",
    "displayCanvas(canvas)"
   ]
  },
  {
   "cell_type": "markdown",
   "metadata": {},
   "source": [
    "## Testing area\n",
    "\n",
    "For running alternative algorithms"
   ]
  },
  {
   "cell_type": "code",
   "execution_count": null,
   "metadata": {},
   "outputs": [],
   "source": []
  },
  {
   "cell_type": "code",
   "execution_count": null,
   "metadata": {},
   "outputs": [],
   "source": []
  },
  {
   "cell_type": "code",
   "execution_count": null,
   "metadata": {},
   "outputs": [],
   "source": []
  }
 ],
 "metadata": {
  "kernelspec": {
   "display_name": "Python 3 (ipykernel)",
   "language": "python",
   "name": "python3"
  },
  "language_info": {
   "codemirror_mode": {
    "name": "ipython",
    "version": 3
   },
   "file_extension": ".py",
   "mimetype": "text/x-python",
   "name": "python",
   "nbconvert_exporter": "python",
   "pygments_lexer": "ipython3",
   "version": "3.10.8"
  }
 },
 "nbformat": 4,
 "nbformat_minor": 4
}
