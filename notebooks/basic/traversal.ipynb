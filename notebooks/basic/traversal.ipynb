{
 "cells": [
  {
   "cell_type": "markdown",
   "metadata": {},
   "source": [
    "## Tensor traversal\n",
    "\n",
    "Illustrate both concordant and discordant traversal of the ranks of a rank-2 tensor.\n",
    "\n",
    "First, include some libraries\n"
   ]
  },
  {
   "cell_type": "code",
   "execution_count": null,
   "metadata": {},
   "outputs": [],
   "source": [
    "# Begin - startup boilerplate code\n",
    "\n",
    "import os\n",
    "\n",
    "def run_prelude(**kwargs):\n",
    "\n",
    "  switches =  \" \".join([ f\"--{k}={v}\" for (k,v) in kwargs.items()])\n",
    "\n",
    "  for prelude_file in ['./prelude.py', '../prelude.py']:\n",
    "    if os.path.exists(prelude_file):\n",
    "      command=f\"{prelude_file} {switches}\"\n",
    "      %run $command\n",
    "      return\n",
    "    \n",
    "  print(\"Downloading prelude.py\")\n",
    "  ! curl -LJOs https://raw.githubusercontent.com/Fibertree-Project/fibertree-notebooks/colab/notebooks/prelude.py\n",
    "  command=f\"./prelude.py {switches}\"\n",
    "  %run $command\n",
    "\n",
    "# End - startup boilerplate code\n",
    "\n",
    "run_prelude(style=\"tree\", animation='movie')\n"
   ]
  },
  {
   "cell_type": "markdown",
   "metadata": {},
   "source": [
    "## Initialize setup\n",
    "\n",
    "The following cell just creates some sliders to control the creation of the input operand tensors. Interesting variants to try:\n",
    "\n",
    "- Density = 0.2\n",
    "- Density = 1.0"
   ]
  },
  {
   "cell_type": "code",
   "execution_count": null,
   "metadata": {},
   "outputs": [],
   "source": [
    "# Initial values\n",
    "\n",
    "M = 8\n",
    "K = 6\n",
    "density = 0.4\n",
    "seed = 10\n",
    "\n",
    "\n",
    "tm = TensorMaker()\n",
    "tm.addTensor(\"A\",\n",
    "             rank_ids=[\"M\", \"K\"],\n",
    "             shape=[M, K],\n",
    "             density=density,\n",
    "             color=\"blue\",\n",
    "             seed=seed)\n",
    "tm.displayControls()\n",
    "\n",
    "\n"
   ]
  },
  {
   "cell_type": "markdown",
   "metadata": {},
   "source": [
    "## Create an input tensors\n",
    "\n",
    "Because this notebook tends to use both the original and rank swapped versions of the operands, the tensor names are suffixed with the ordered names of the ranks.\n"
   ]
  },
  {
   "cell_type": "code",
   "execution_count": null,
   "metadata": {},
   "outputs": [],
   "source": [
    "a_MK = tm.makeTensor(\"A\")\n",
    "a_MK.setName(\"a_MK\")\n",
    "displayTensor(a_MK)\n"
   ]
  },
  {
   "cell_type": "markdown",
   "metadata": {},
   "source": [
    "## Concordant traversal of the entire tensor\n",
    "\n",
    "Concordant traversal of the entire tensor, i.e., the top rank coordinate (__m__) moving slowest, just requires nested loops that interate through the fibers in the tensor."
   ]
  },
  {
   "cell_type": "code",
   "execution_count": null,
   "metadata": {},
   "outputs": [],
   "source": [
    "a_m = a_MK.getRoot()\n",
    "\n",
    "canvas = createCanvas(a_MK)\n",
    "print(f\"(M, K) -> Value\")\n",
    "\n",
    "for m, a_k in a_m:\n",
    "    for k, a_val in a_k:\n",
    "        print(f\"({m}, {k}) -> {a_val}\")\n",
    "        canvas.addActivity((m,k))\n",
    "        \n",
    "displayCanvas(canvas)\n",
    "        "
   ]
  },
  {
   "cell_type": "markdown",
   "metadata": {},
   "source": [
    "## Discordant traversal of the entire tensor\n",
    "\n",
    "If we want to traverse the tensor in a reverse rank order, i.e., the lower rank coordinate (__k__) moving slowest, we cannot iterate through the fibers in the desired order, so we must iterate over the coordinates, and use __Fiber.getPayload()__ to get the values in the desired order.\n",
    "\n",
    "Note: using the keyword \"allocate=False\" causes __Fiber.getPayload()__ to return __None__ for empty coordinates."
   ]
  },
  {
   "cell_type": "code",
   "execution_count": null,
   "metadata": {},
   "outputs": [],
   "source": [
    "a_m = a_MK.getRoot()\n",
    "\n",
    "canvas = createCanvas(a_MK)\n",
    "print(f\"(K, M) -> Value\")\n",
    "\n",
    "for k in range(K):\n",
    "    for m in range(M):\n",
    "        a_val = a_MK.getPayload(m, k, allocate=False)\n",
    "        if a_val is not None:\n",
    "            print(f\"({k}, {m}) -> {a_val}\")\n",
    "            canvas.addActivity((m, k))\n",
    "        \n",
    "displayCanvas(canvas)\n",
    "        "
   ]
  },
  {
   "cell_type": "markdown",
   "metadata": {},
   "source": [
    "## Concordant traversal of a given tile in a tensor\n",
    "\n",
    "Given an _axis aligned hyper-rectangle_ (AAHR) specified as a start coordinate and size (in coordinates) for each rank, we can traverse the tile using __Fiber.getRange()__."
   ]
  },
  {
   "cell_type": "code",
   "execution_count": null,
   "metadata": {},
   "outputs": [],
   "source": [
    "# sample delta AAHR specified as a start coord and size\n",
    "\n",
    "m_range = [0,3]\n",
    "k_range = [3,3]\n",
    "\n",
    "a_m = a_MK.getRoot()\n",
    "\n",
    "canvas = createCanvas(a_MK)\n",
    "print(f\"(M, K) -> Value\")\n",
    "\n",
    "for m, a_k in a_m.getRange(*m_range):\n",
    "    for k, a_val in a_k.getRange(*k_range):\n",
    "        print(f\"({m}, {k}) -> {a_val}\")\n",
    "        canvas.addFrame((m,k))\n",
    "        \n",
    "displayCanvas(canvas)\n",
    "        "
   ]
  },
  {
   "cell_type": "markdown",
   "metadata": {},
   "source": [
    "## Disconcordant traversal of a given tile in a tensor\n",
    "\n",
    "Discordant traversal of a AAHR in a tensor can be accomplished using __Fiber.getPayload()__."
   ]
  },
  {
   "cell_type": "code",
   "execution_count": null,
   "metadata": {},
   "outputs": [],
   "source": [
    "# sample delta AAHR specified as a start coord and size\n",
    "\n",
    "m_range = [0,3]\n",
    "k_range = [3,3]\n",
    "\n",
    "a_m = a_MK.getRoot()\n",
    "\n",
    "canvas = createCanvas(a_MK)\n",
    "print(f\"(K, M) -> Value\")\n",
    "\n",
    "for k in range(k_range[0], k_range[0]+k_range[1]):\n",
    "    for m in range(m_range[0],m_range[0]+m_range[1]):\n",
    "        a_val = a_MK.getPayload(m, k, allocate=False)\n",
    "        if a_val is not None:\n",
    "            print(f\"({k}, {m}) -> {a_val}\")\n",
    "            canvas.addActivity((m, k))\n",
    "        \n",
    "displayCanvas(canvas)\n",
    "        "
   ]
  },
  {
   "cell_type": "markdown",
   "metadata": {},
   "source": [
    "## Testing Area"
   ]
  },
  {
   "cell_type": "code",
   "execution_count": null,
   "metadata": {},
   "outputs": [],
   "source": []
  },
  {
   "cell_type": "code",
   "execution_count": null,
   "metadata": {},
   "outputs": [],
   "source": []
  },
  {
   "cell_type": "code",
   "execution_count": null,
   "metadata": {},
   "outputs": [],
   "source": []
  }
 ],
 "metadata": {
  "kernelspec": {
   "display_name": "Python 3 (ipykernel)",
   "language": "python",
   "name": "python3"
  },
  "language_info": {
   "codemirror_mode": {
    "name": "ipython",
    "version": 3
   },
   "file_extension": ".py",
   "mimetype": "text/x-python",
   "name": "python",
   "nbconvert_exporter": "python",
   "pygments_lexer": "ipython3",
   "version": "3.10.8"
  }
 },
 "nbformat": 4,
 "nbformat_minor": 4
}
