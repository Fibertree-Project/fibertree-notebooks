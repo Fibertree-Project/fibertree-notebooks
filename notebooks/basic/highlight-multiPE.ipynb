{
 "cells": [
  {
   "cell_type": "markdown",
   "metadata": {},
   "source": [
    "# Examples of highlighting a tensor\n",
    "\n",
    "First, run the predude"
   ]
  },
  {
   "cell_type": "code",
   "execution_count": null,
   "metadata": {},
   "outputs": [],
   "source": [
    "# Begin - startup boilerplate code\n",
    "\n",
    "import pkgutil\n",
    "\n",
    "if 'fibertree_bootstrap' not in [pkg.name for pkg in pkgutil.iter_modules()]:\n",
    "  !pip  install git+https://github.com/Fibertree-project/fibertree-bootstrap --quiet\n",
    "\n",
    "# End - startup boilerplate code\n",
    "\n",
    "from fibertree_bootstrap import *\n",
    "fibertree_bootstrap(style=\"tree\", animation='movie')\n"
   ]
  },
  {
   "cell_type": "markdown",
   "metadata": {},
   "source": [
    "## Get a tensor and display it"
   ]
  },
  {
   "cell_type": "code",
   "execution_count": null,
   "metadata": {},
   "outputs": [],
   "source": [
    "t = Tensor(datafileName(\"draw-b.yaml\"))\n",
    "print(f\"{t.getRoot():n*}\")\n",
    "print(t.getShape())\n",
    "\n",
    "displayTensor(t)"
   ]
  },
  {
   "cell_type": "markdown",
   "metadata": {},
   "source": [
    "## Highlight a single point in the tensor\n",
    "\n",
    "Points in the tensor are indicated with a tuple (of length three since this is a rank-3 tensor)"
   ]
  },
  {
   "cell_type": "code",
   "execution_count": null,
   "metadata": {},
   "outputs": [],
   "source": [
    "displayTensor(t, highlights=(2,1,3))"
   ]
  },
  {
   "cell_type": "markdown",
   "metadata": {},
   "source": [
    "## Highlight two points \n",
    "\n",
    "Now the points are included in a list. This is actually the preferred form since sometimes there is ambiguity between a single point and a list of points."
   ]
  },
  {
   "cell_type": "code",
   "execution_count": null,
   "metadata": {},
   "outputs": [],
   "source": [
    "displayTensor(t, highlights=[(2,1,3), (4,1,3)])"
   ]
  },
  {
   "cell_type": "markdown",
   "metadata": {},
   "source": [
    "## Highlight a subtree (1)\n",
    "\n",
    "If a point doesn't have enough elements to get to a leaf payload, then a subtree is highlighted"
   ]
  },
  {
   "cell_type": "code",
   "execution_count": null,
   "metadata": {},
   "outputs": [],
   "source": [
    "displayTensor(t, highlights=[(2,1,3),(4,1)])"
   ]
  },
  {
   "cell_type": "markdown",
   "metadata": {},
   "source": [
    "## Highlight a subtree (2)\n",
    "\n",
    "The fewer scalars in the tuple, the more of the tree that is highlighted. Note the comma needed to have a tuple with one element."
   ]
  },
  {
   "cell_type": "code",
   "execution_count": null,
   "metadata": {},
   "outputs": [],
   "source": [
    "displayTensor(t, highlights=[(2,1,3),(4,)])"
   ]
  },
  {
   "cell_type": "markdown",
   "metadata": {},
   "source": [
    "## Associate a highlighted point with a PE\n",
    "\n",
    "Use a dictionary with a PE name as a key to associate a point to highlight with a PE. In this case, the value of the key is a point."
   ]
  },
  {
   "cell_type": "code",
   "execution_count": null,
   "metadata": {},
   "outputs": [],
   "source": [
    "displayTensor(t, highlights={\"PE0\":(2,1,3)})"
   ]
  },
  {
   "cell_type": "markdown",
   "metadata": {},
   "source": [
    "## Highlight points for multiple PEs\n",
    "\n",
    "Use a dictionary with a muliple PE names as keys to associate points or lists of points with differnt PEs. Highlighted values for each PE is colored differently. Note, in this case, the value of one of the keys is a list of points and one is a subtensor not a single point.\n",
    "\n",
    "Note again that using a list of points (as tuples) is the preferred form out a single point (tuple)."
   ]
  },
  {
   "cell_type": "code",
   "execution_count": null,
   "metadata": {},
   "outputs": [],
   "source": [
    "displayTensor(t, highlights={\"PE0\":[(2,1,3), (4,)], \"PE1\":(2,3,3)})"
   ]
  },
  {
   "cell_type": "markdown",
   "metadata": {},
   "source": [
    "## Highlight even more PEs\n",
    "\n",
    "There are different colors for up to 8 PEs"
   ]
  },
  {
   "cell_type": "code",
   "execution_count": null,
   "metadata": {},
   "outputs": [],
   "source": [
    "displayTensor(t, highlights={\"PE0\":(2,0,2), \"PE1\":(2,1,3),\"PE2\":(4,1,3), \"PE3\":(4,3,3)})"
   ]
  },
  {
   "cell_type": "markdown",
   "metadata": {},
   "source": [
    "## Highlight the same point in two PEs\n",
    "\n",
    "Note that PE0 and PE1 want to highlight the same point. So they share the value box."
   ]
  },
  {
   "cell_type": "code",
   "execution_count": null,
   "metadata": {},
   "outputs": [],
   "source": [
    "displayTensor(t, highlights={\"PE0\":(2,0,2), \"PE1\":(2,0,2),\"PE2\":(4,1,3), \"PE3\":(4,3,3)})"
   ]
  },
  {
   "cell_type": "markdown",
   "metadata": {},
   "source": [
    "## Highlight the same point in even more PEs\n",
    "\n",
    "Now all the PEs want to highlight the same point."
   ]
  },
  {
   "cell_type": "code",
   "execution_count": null,
   "metadata": {},
   "outputs": [],
   "source": [
    "displayTensor(t, highlights={\"PE0\":(2, 0, 2), \"PE1\":(2, 0, 2),\"PE2\":(2, 0, 2), \"PE3\":(2, 0, 2)})"
   ]
  },
  {
   "cell_type": "markdown",
   "metadata": {},
   "source": [
    "## Highlight two overlapping subtensors in different PEs.\n",
    "\n",
    "Now some subtensors share a value. Currently subtensor fiber highlighting does not distinguish which PE is highlighting the fiber. "
   ]
  },
  {
   "cell_type": "code",
   "execution_count": null,
   "metadata": {},
   "outputs": [],
   "source": [
    "displayTensor(t, highlights={\"PE0\":(2,0), \"PE1\":(2,)})"
   ]
  },
  {
   "cell_type": "markdown",
   "metadata": {},
   "source": [
    "# The next group of examples use a wildcard as a coordinate.\n",
    "\n",
    "The wildcard is indicated with a '?' as a coordinate and will match all coordinates at that rank. The final value will be highlighted if there are matching coordinates at all the other ranks."
   ]
  },
  {
   "cell_type": "markdown",
   "metadata": {},
   "source": [
    "## A rank-4 tensor\n",
    "\n",
    "For wildcard experiments we sometimes use a rank-4 tensor"
   ]
  },
  {
   "cell_type": "code",
   "execution_count": null,
   "metadata": {},
   "outputs": [],
   "source": [
    "t4 = Tensor.fromRandom([\"A\", \"B\", \"C\", \"D\"], [4, 4, 4, 4], [0.5, 0.5, 0.4, 0.5], 9, seed=10)\n",
    "\n",
    "displayTensor(t4)"
   ]
  },
  {
   "cell_type": "markdown",
   "metadata": {},
   "source": [
    "## Highlight a PE with a wildcard\n",
    "\n",
    "Match any cordinate at the top rank and specific coordinates at the next two ranks.\n",
    "\n",
    "Note, the highlight point must be in a list of points."
   ]
  },
  {
   "cell_type": "code",
   "execution_count": null,
   "metadata": {},
   "outputs": [],
   "source": [
    "displayTensor(t, highlights={\"PE0\":[('?', 3, 2)]})"
   ]
  },
  {
   "cell_type": "markdown",
   "metadata": {},
   "source": [
    "## Highlight a PE with a wildcard\n",
    "\n",
    "Have wildcards in multiple ranks. This example will match any point with a 2 in the K-rank."
   ]
  },
  {
   "cell_type": "code",
   "execution_count": null,
   "metadata": {},
   "outputs": [],
   "source": [
    "displayTensor(t, highlights={\"PE0\":[('?', '?', 2)]})"
   ]
  },
  {
   "cell_type": "markdown",
   "metadata": {},
   "source": [
    "## Highlight a subtensor with a wildcard\n",
    "\n",
    "Highlight all the subtensors with a 3 in the second rank."
   ]
  },
  {
   "cell_type": "code",
   "execution_count": null,
   "metadata": {},
   "outputs": [],
   "source": [
    "displayTensor(t, highlights={\"PE0\":[('?', 3)]})"
   ]
  },
  {
   "cell_type": "markdown",
   "metadata": {},
   "source": [
    "## Highlight a subtensor with a wildcard\n",
    "\n",
    "Highlight a subtensor with a 3 in the A and C ranks and anything in the B rank. Note, we're using a rank-4 tensor..."
   ]
  },
  {
   "cell_type": "code",
   "execution_count": null,
   "metadata": {},
   "outputs": [],
   "source": [
    "displayTensor(t4, highlights={\"PE0\":[(3, '?', 3)]})"
   ]
  },
  {
   "cell_type": "markdown",
   "metadata": {},
   "source": [
    "## Highlight a subtensor with a wildcard"
   ]
  },
  {
   "cell_type": "code",
   "execution_count": null,
   "metadata": {},
   "outputs": [],
   "source": [
    "# I was going to do something\n",
    "\n",
    "displayTensor(t4, highlights={\"PE0\":[('?', 3, 0)]})"
   ]
  },
  {
   "cell_type": "markdown",
   "metadata": {},
   "source": [
    "## Highlight multiple points in a PE some with a wildcard"
   ]
  },
  {
   "cell_type": "code",
   "execution_count": null,
   "metadata": {},
   "outputs": [],
   "source": [
    "displayTensor(t, highlights={\"PE0\":[('?','?',2), (4, 3, 3)]})"
   ]
  },
  {
   "cell_type": "markdown",
   "metadata": {},
   "source": [
    "## Highlight a wildcard and a subtensor in a PE\n",
    "\n",
    "Point (4,3,2) is included in the wildcard and the subtensor"
   ]
  },
  {
   "cell_type": "code",
   "execution_count": null,
   "metadata": {},
   "outputs": [],
   "source": [
    "displayTensor(t, highlights={\"PE0\":[('?', '?', 2), (4, 3)]})"
   ]
  },
  {
   "cell_type": "markdown",
   "metadata": {},
   "source": [
    "## Highlight points in multiple PEs - some with wildcard\n",
    "\n",
    "Note same point is highlighted in one PE via a wildcard and another without"
   ]
  },
  {
   "cell_type": "code",
   "execution_count": null,
   "metadata": {},
   "outputs": [],
   "source": [
    "displayTensor(t, highlights={\"PE0\":[('?', '?',2)], \"PE1\":[(2, 0, 2)],\"PE2\":[(2,1,0)]})"
   ]
  },
  {
   "cell_type": "markdown",
   "metadata": {},
   "source": [
    "## Highlight points in multiple PEs - with different wildcards\n",
    "\n",
    "Note same point is highlighted in one PE via a wildcard, another with a different wildcard and then with an exact point."
   ]
  },
  {
   "cell_type": "code",
   "execution_count": null,
   "metadata": {},
   "outputs": [],
   "source": [
    "displayTensor(t, highlights={\"PE0\":[(2, '?', 2)], \"PE1\":[('?', 0, 2)],\"PE2\":[(2, 0, 2)]})"
   ]
  },
  {
   "cell_type": "markdown",
   "metadata": {},
   "source": [
    "## Highlight multiple points in each of multiple PEs with a wildcard\n",
    "\n",
    "Note, the highlight point must be in a list of points."
   ]
  },
  {
   "cell_type": "code",
   "execution_count": null,
   "metadata": {},
   "outputs": [],
   "source": [
    "displayTensor(t, highlights={\"PE0\":[('?', '?', 2), (4, 3)], \n",
    "                             \"PE1\":[(2, '?', 3)],\n",
    "                             \"PE2\":[(4, 1, 3)],\n",
    "                             \"P33\":[(2, 3, 2)]})"
   ]
  },
  {
   "cell_type": "markdown",
   "metadata": {},
   "source": [
    "## Animate a system with mutiple PEs\n",
    "\n",
    "Use **addActivity()** to animate a system with multiple PEs. For each parallel unit use **addActivity()** and specify the \"worker\" (i.e., PE name) that is causing the highlighted activity. The arguments after the \"canvas\" are points or lists of points to highlight for each tracked tensor for each PE (or \"worker\") corresponding to an iteration of the parallel loop. When the parallel activity has completed use **addFrame()** to aggreate all the highlights for the separate PEs."
   ]
  },
  {
   "cell_type": "code",
   "execution_count": null,
   "metadata": {},
   "outputs": [],
   "source": [
    "# Use a value in A to scale all elements in B and sum\n",
    "\n",
    "a = Tensor.fromUncompressed([\"X\"], [1, 2, 3, 4, 5, 6, 7, 8])\n",
    "a.setName(\"A\").setColor(\"Purple\")\n",
    "\n",
    "b = Tensor.fromUncompressed([\"Y\"], [1, 2, 3, 4])\n",
    "b.setName(\"B\").setColor(\"Green\")\n",
    "\n",
    "z = Tensor(rank_ids=[\"X\"], name=\"Z\")\n",
    "\n",
    "a_x = a.getRoot()\n",
    "b_y = b.getRoot()\n",
    "z_x = z.getRoot()\n",
    "\n",
    "# Specifiy the tensor to track (and display) on the canvas\n",
    "canvas=createCanvas(a, b, z)\n",
    "\n",
    "for x, (z_ref, a_val) in z_x << a_x:\n",
    "    # Assume all elements in b_y are processed in parallel\n",
    "    for y, b_val in b_y:\n",
    "        pe = y\n",
    "        z_ref += a_val *b_val\n",
    "        # Add activity to display for each tracked tensor and the current worker\n",
    "        canvas.addActivity((x,), (y,), (x,), worker=f\"PE{pe}\")\n",
    "    canvas.addFrame()\n",
    "\n",
    "displayCanvas(canvas)"
   ]
  },
  {
   "cell_type": "markdown",
   "metadata": {},
   "source": [
    "## Program illustrating parallel activity in 2-D tensors\n",
    "\n",
    "Use a rank of the tensor to correspond to the parallel activity"
   ]
  },
  {
   "cell_type": "code",
   "execution_count": null,
   "metadata": {},
   "outputs": [],
   "source": [
    "a = Tensor.fromUncompressed([\"X\", \"Y\"], [[1, 2], [3, 4]])\n",
    "a.setName(\"A\").setColor(\"Purple\")\n",
    "\n",
    "b = Tensor.fromUncompressed([\"X\", \"Y\"], [[5, 6], [7, 8]])\n",
    "b.setName(\"B\").setColor(\"Green\")\n",
    "\n",
    "z = Tensor(rank_ids=[\"X\",\"Y\"], name=\"Z\")\n",
    "\n",
    "displayTensor(a)\n",
    "displayTensor(b)\n",
    "displayTensor(z)\n",
    "\n",
    "a_x = a.getRoot()\n",
    "b_x = b.getRoot()\n",
    "z_x = z.getRoot()\n",
    "\n",
    "canvas=createCanvas(a, b, z)\n",
    "\n",
    "for x, (z_y, (a_y, b_y)) in z_x << (a_x & b_x):\n",
    "    for y, (z_ref, (a_val, b_val)) in z_y << (a_y & b_y):\n",
    "        pe = f\"PE{y%2}\"\n",
    "        z_ref += a_val + b_val\n",
    "        canvas.addActivity((x,y), (x,y), (x,y), worker=pe)\n",
    "    canvas.addFrame()\n",
    "\n",
    "displayCanvas(canvas)"
   ]
  },
  {
   "cell_type": "markdown",
   "metadata": {},
   "source": [
    "## Program illustrating parallel activity\n",
    "\n",
    "Parallelism is created by explicitly tiling the tensor"
   ]
  },
  {
   "cell_type": "code",
   "execution_count": null,
   "metadata": {},
   "outputs": [],
   "source": [
    "# Program to sum to tensors\n",
    "\n",
    "a = Tensor.fromUncompressed([\"X\"], [1, 2, 3, 4])\n",
    "a.setName(\"A\").setColor(\"Purple\")\n",
    "\n",
    "b = Tensor.fromUncompressed([\"X\"], [5, 6, 7, 8])\n",
    "b.setName(\"B\").setColor(\"Green\")\n",
    "\n",
    "a_split = a.splitUniform(2, relativeCoords=True)\n",
    "b_split = b.splitUniform(2, relativeCoords=True)\n",
    "                                    \n",
    "z = Tensor(rank_ids=[\"X1\",\"X0\"], name=\"Z\")\n",
    "\n",
    "displayTensor(a_split)\n",
    "displayTensor(b_split)\n",
    "displayTensor(z)\n",
    "\n",
    "a_x1 = a_split.getRoot()\n",
    "b_x1 = b_split.getRoot()\n",
    "z_x1 = z.getRoot()\n",
    "\n",
    "canvas=createCanvas(a_split, b_split, z)\n",
    "\n",
    "for x1, (z_x0, (a_x0, b_x0)) in z_x1 << (a_x1 & b_x1):\n",
    "    for x0, (z_ref, (a_val, b_val)) in z_x0 << (a_x0 & b_x0):\n",
    "        pe = f\"PE{x0}\"\n",
    "        z_ref += a_val + b_val\n",
    "        canvas.addActivity((x1,x0), (x1,x0), (x1,x0), worker=pe)\n",
    "    canvas.addFrame()\n",
    "\n",
    "displayCanvas(canvas)"
   ]
  },
  {
   "cell_type": "markdown",
   "metadata": {},
   "source": [
    "## Program illustrating parallel activity (with sparsity)\n",
    "\n",
    "Parallelism is created by explicitly tiling the tensor"
   ]
  },
  {
   "cell_type": "code",
   "execution_count": null,
   "metadata": {},
   "outputs": [],
   "source": [
    "# Program to sum to tensors\n",
    "\n",
    "a = Tensor.fromUncompressed([\"X\"], [1, 0, 3, 4, 5, 6, 7, 8])\n",
    "a.setName(\"A\").setColor(\"Purple\")\n",
    "\n",
    "b = Tensor.fromUncompressed([\"X\"], [11,12 ,0, 14, 15, 16, 17, 0])\n",
    "b.setName(\"B\").setColor(\"Green\")\n",
    "\n",
    "a_split = a.splitUniform(2, relativeCoords=True)\n",
    "b_split = b.splitUniform(2, relativeCoords=True)\n",
    "                                    \n",
    "z = Tensor(rank_ids=[\"X1\",\"X0\"], name=\"Z\")\n",
    "\n",
    "displayTensor(a_split)\n",
    "displayTensor(b_split)\n",
    "displayTensor(z)\n",
    "\n",
    "a_x1 = a_split.getRoot()\n",
    "b_x1 = b_split.getRoot()\n",
    "z_x1 = z.getRoot()\n",
    "\n",
    "canvas=createCanvas(a_split, b_split, z)\n",
    "\n",
    "for x1, (z_x0, (a_x0, b_x0)) in z_x1 << (a_x1 & b_x1):\n",
    "    for x0, (z_ref, (a_val, b_val)) in z_x0 << (a_x0 & b_x0):\n",
    "        pe = f\"PE{x0}\"\n",
    "        z_ref += a_val + b_val\n",
    "        canvas.addActivity((x1,x0), (x1,x0), (x1,x0), worker=pe)\n",
    "    canvas.addFrame()\n",
    "\n",
    "displayCanvas(canvas)"
   ]
  },
  {
   "cell_type": "code",
   "execution_count": null,
   "metadata": {},
   "outputs": [],
   "source": []
  },
  {
   "cell_type": "code",
   "execution_count": null,
   "metadata": {},
   "outputs": [],
   "source": []
  },
  {
   "cell_type": "code",
   "execution_count": null,
   "metadata": {},
   "outputs": [],
   "source": []
  }
 ],
 "metadata": {
  "kernelspec": {
   "display_name": "Python 3 (ipykernel)",
   "language": "python",
   "name": "python3"
  },
  "language_info": {
   "codemirror_mode": {
    "name": "ipython",
    "version": 3
   },
   "file_extension": ".py",
   "mimetype": "text/x-python",
   "name": "python",
   "nbconvert_exporter": "python",
   "pygments_lexer": "ipython3",
   "version": "3.10.8"
  }
 },
 "nbformat": 4,
 "nbformat_minor": 4
}
