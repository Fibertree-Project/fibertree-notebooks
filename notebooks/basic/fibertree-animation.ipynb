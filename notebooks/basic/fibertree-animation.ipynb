{
 "cells": [
  {
   "cell_type": "markdown",
   "metadata": {
    "slideshow": {
     "slide_type": "-"
    }
   },
   "source": [
    "# Animating computations using the hierarchical fiber abstraction\n",
    "\n",
    "The following cells provide an introduction to the methods provided to animate the activity in a computation.\n",
    "\n",
    "First, we include some libraries and provide some dropdown lists to select the display style and type of animation."
   ]
  },
  {
   "cell_type": "code",
   "execution_count": null,
   "metadata": {},
   "outputs": [],
   "source": [
    "# Begin - startup boilerplate code\n",
    "\n",
    "import pkgutil\n",
    "\n",
    "if 'fibertree_bootstrap' not in [pkg.name for pkg in pkgutil.iter_modules()]:\n",
    "  !pip  install git+https://github.com/Fibertree-project/fibertree-bootstrap --quiet\n",
    "\n",
    "# End - startup boilerplate code\n",
    "\n",
    "from fibertree_bootstrap import *\n",
    "fibertree_bootstrap(style=\"tree\", animation='movie')\n"
   ]
  },
  {
   "cell_type": "markdown",
   "metadata": {},
   "source": [
    "## Animating a computation\n",
    "\n",
    "The codebase provides some utility functions to animate the accesses to a tensor. The following examples use some convenience functions provided in __prelude.py__ to generate the aninamtions. The behind-the-scenes class used is **TensorCanvas**, which can be used directly."
   ]
  },
  {
   "cell_type": "markdown",
   "metadata": {},
   "source": [
    "## Create a tensor\n",
    "\n",
    "Just create a tensor to be used in the animation"
   ]
  },
  {
   "cell_type": "code",
   "execution_count": null,
   "metadata": {},
   "outputs": [],
   "source": [
    "# Traverse a tensor\n",
    "\n",
    "a = Tensor.fromYAMLfile(datafileName(\"matrix-a.yaml\"))\n",
    "\n",
    "displayTensor(a)"
   ]
  },
  {
   "cell_type": "markdown",
   "metadata": {},
   "source": [
    "## Animate traversal of a tensor\n",
    "\n",
    "The following cell animates the traversal of a rank-2 tensor. The key methods used are:\n",
    "\n",
    "- **createCanvas(tensor...)** - create a canvas to draw the animation on. The arguments are the tensors that are to be displayed in the animation\n",
    "\n",
    "- **canvas.addFrame(highlight...)** - add a frame to the canvas. The arguments provide the information needed to highlight specific points in each tensor being displayed in this frame. In this example, we just use a the coordinates of a single point as the highlight. See the [tensor highlighting](./highlight-multiPE.ipynb) notebook for details on how to specifiy more complex highlights (Note: addframe does not take a dictionary of PEs to highlight. More sophisticated PE highlighting is accomplished with the **canvas.addActivity()** method)\n",
    "\n",
    "- **displayCanvas(canvas)** - Turn the cavnas into a movie (or spacetime diagram) to be displayed. This convenience functions displays the result in the notebook."
   ]
  },
  {
   "cell_type": "code",
   "execution_count": null,
   "metadata": {},
   "outputs": [],
   "source": [
    "\n",
    "canvas = createCanvas(a)\n",
    "\n",
    "a_m = a.getRoot()\n",
    "\n",
    "for m, (a_k) in a_m:\n",
    "    print(f\"({m}, {a_k})\")\n",
    "    for k, (a_val) in a_k:\n",
    "        print(f\"Processing: ({k}, {a_val})\")\n",
    "        canvas.addFrame((m,k))\n",
    "\n",
    "displayCanvas(canvas)"
   ]
  },
  {
   "cell_type": "markdown",
   "metadata": {},
   "source": [
    "## Spacetime animtation\n",
    "\n",
    "Animtations using `canvas.addActivity()` - TBD"
   ]
  },
  {
   "cell_type": "markdown",
   "metadata": {},
   "source": [
    "## Testing area\n",
    "\n",
    "For running alternative algorithms"
   ]
  },
  {
   "cell_type": "code",
   "execution_count": null,
   "metadata": {},
   "outputs": [],
   "source": []
  },
  {
   "cell_type": "code",
   "execution_count": null,
   "metadata": {},
   "outputs": [],
   "source": []
  },
  {
   "cell_type": "code",
   "execution_count": null,
   "metadata": {},
   "outputs": [],
   "source": []
  }
 ],
 "metadata": {
  "kernelspec": {
   "display_name": "Python 3 (ipykernel)",
   "language": "python",
   "name": "python3"
  },
  "language_info": {
   "codemirror_mode": {
    "name": "ipython",
    "version": 3
   },
   "file_extension": ".py",
   "mimetype": "text/x-python",
   "name": "python",
   "nbconvert_exporter": "python",
   "pygments_lexer": "ipython3",
   "version": "3.10.8"
  }
 },
 "nbformat": 4,
 "nbformat_minor": 4
}
