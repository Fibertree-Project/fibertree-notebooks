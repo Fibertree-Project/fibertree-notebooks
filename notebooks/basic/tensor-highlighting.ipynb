{
 "cells": [
  {
   "cell_type": "markdown",
   "metadata": {
    "slideshow": {
     "slide_type": "-"
    }
   },
   "source": [
    "# Tensor Image Display Examples\n",
    "\n",
    "The following cells display a 3-D tensor with a variety of highlight sets\n",
    "\n",
    "To get started, include some libraries"
   ]
  },
  {
   "cell_type": "code",
   "execution_count": null,
   "metadata": {},
   "outputs": [],
   "source": [
    "# Begin - startup boilerplate code\n",
    "\n",
    "import pkgutil\n",
    "\n",
    "if 'fibertree_bootstrap' not in [pkg.name for pkg in pkgutil.iter_modules()]:\n",
    "  !python3 -m pip  install git+https://github.com/Fibertree-project/fibertree-bootstrap --quiet\n",
    "\n",
    "# End - startup boilerplate code\n",
    "\n",
    "\n",
    "from fibertree_bootstrap import *\n",
    "fibertree_bootstrap(style=\"tree\", animation='movie')\n"
   ]
  },
  {
   "cell_type": "markdown",
   "metadata": {},
   "source": [
    "## Create and display tensor\n",
    "\n",
    "Create a 3-D fiber and make a tensor out of it, and display the fiber, tensor and a colored tensor. "
   ]
  },
  {
   "cell_type": "code",
   "execution_count": null,
   "metadata": {},
   "outputs": [],
   "source": [
    "d = [[[1, 2, 3, 0],\n",
    "      [1, 0, 3, 4],\n",
    "      [0, 2, 3, 4],\n",
    "      [1, 2, 0, 4]],\n",
    "     [[0, 0, 0, 0],\n",
    "      [0, 0, 0, 0],\n",
    "      [0, 0, 0, 0],\n",
    "      [0, 0, 0, 0]],\n",
    "     [[1, 2, 3, 0],\n",
    "      [1, 0, 3, 4],\n",
    "      [0, 0, 0, 0],\n",
    "      [1, 2, 0, 4]]]\n",
    "\n",
    "f = Fiber.fromUncompressed(d)\n",
    "displayTensor(f)\n",
    "\n",
    "t = Tensor.fromFiber([\"X\", \"Y\", \"Z\"], f)\n",
    "displayTensor(t)\n",
    "displayTensor(t.setColor(\"blue\"))\n"
   ]
  },
  {
   "cell_type": "markdown",
   "metadata": {},
   "source": [
    "## Highlight a point, subtree and sub-subtree\n",
    "\n",
    "Not using the keyword argument"
   ]
  },
  {
   "cell_type": "code",
   "execution_count": null,
   "metadata": {},
   "outputs": [],
   "source": [
    "displayTensor(t, [(2,1,3)])\n",
    "displayTensor(t, [(2,1)])\n",
    "displayTensor(t, [(2,)])"
   ]
  },
  {
   "cell_type": "markdown",
   "metadata": {},
   "source": [
    "## Highlight a point, subtree and sub-subtree\n",
    "\n",
    "Use the keyword argument"
   ]
  },
  {
   "cell_type": "code",
   "execution_count": null,
   "metadata": {},
   "outputs": [],
   "source": [
    "displayTensor(t, highlights=[(2,1,3)])\n",
    "displayTensor(t, highlights=[(2,1)])\n",
    "displayTensor(t, highlights=[(2,)])"
   ]
  },
  {
   "cell_type": "markdown",
   "metadata": {},
   "source": [
    "## Highlight two points\n",
    "\n",
    "Highlight two points at different levels of the hiearchy"
   ]
  },
  {
   "cell_type": "code",
   "execution_count": null,
   "metadata": {},
   "outputs": [],
   "source": [
    "displayTensor(t, highlights=[(0,1,2), (2,1,3)])\n",
    "displayTensor(t, highlights=[(2,1,2), (2,3,3)])\n",
    "displayTensor(t, highlights=[(2,1,2), (2,1,3)])\n"
   ]
  },
  {
   "cell_type": "markdown",
   "metadata": {},
   "source": [
    "## Highlight multiple points\n",
    "\n",
    "Highlight two or more points"
   ]
  },
  {
   "cell_type": "code",
   "execution_count": null,
   "metadata": {},
   "outputs": [],
   "source": [
    "displayTensor(t, highlights=[(0,1,2), (2,1,3)])\n",
    "displayTensor(t, highlights=[(0,1,2), (2,1,3), (2, 1, 0)])\n",
    "displayTensor(t, highlights=[(0,1,2), (2,1,3), (0, 2, 2), (2, 1, 0)])\n",
    "\n"
   ]
  },
  {
   "cell_type": "markdown",
   "metadata": {},
   "source": [
    "## Highlight a point and a subtree"
   ]
  },
  {
   "cell_type": "code",
   "execution_count": null,
   "metadata": {},
   "outputs": [],
   "source": [
    "displayTensor(t, highlights=[(0,2,2), (2,1)])"
   ]
  },
  {
   "cell_type": "markdown",
   "metadata": {},
   "source": [
    "## Highlight a single point and subtree\n",
    "\n",
    "Pass in a single point/subtree (not a list of points/subtrees) to highlight"
   ]
  },
  {
   "cell_type": "code",
   "execution_count": null,
   "metadata": {},
   "outputs": [],
   "source": [
    "displayTensor(t, (2, 0, 1))\n",
    "displayTensor(t, (2, 0))\n",
    "displayTensor(t, (2,))"
   ]
  },
  {
   "cell_type": "code",
   "execution_count": null,
   "metadata": {},
   "outputs": [],
   "source": []
  },
  {
   "cell_type": "code",
   "execution_count": null,
   "metadata": {},
   "outputs": [],
   "source": []
  },
  {
   "cell_type": "code",
   "execution_count": null,
   "metadata": {},
   "outputs": [],
   "source": []
  }
 ],
 "metadata": {
  "kernelspec": {
   "display_name": "Python 3 (ipykernel)",
   "language": "python",
   "name": "python3"
  },
  "language_info": {
   "codemirror_mode": {
    "name": "ipython",
    "version": 3
   },
   "file_extension": ".py",
   "mimetype": "text/x-python",
   "name": "python",
   "nbconvert_exporter": "python",
   "pygments_lexer": "ipython3",
   "version": "3.10.8"
  }
 },
 "nbformat": 4,
 "nbformat_minor": 4
}
