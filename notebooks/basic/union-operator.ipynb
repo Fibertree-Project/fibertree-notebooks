{
 "cells": [
  {
   "cell_type": "markdown",
   "metadata": {
    "slideshow": {
     "slide_type": "-"
    }
   },
   "source": [
    "# Explanation of the fibertree union operator\n",
    "\n",
    "## Introduction\n",
    "\n",
    "The following cells provide a series of examples of the ```union``` operation on fibers. In general, the ```union``` operation creates a new fiber with an element for each coordinate that exists in either input fiber (i.e., the **union** of their coordinates) and a payload that is a tuple of the corresponding payloads from the input fibers.\n",
    "\n",
    "First, we include some libraries and provide some dropdown lists to select the display style and type of animation."
   ]
  },
  {
   "cell_type": "code",
   "execution_count": null,
   "metadata": {},
   "outputs": [],
   "source": [
    "# Begin - startup boilerplate code\n",
    "\n",
    "import os\n",
    "\n",
    "def run_prelude(**kwargs):\n",
    "\n",
    "  switches =  \" \".join([ f\"--{k}={v}\" for (k,v) in kwargs.items()])\n",
    "\n",
    "  for prelude_file in ['./prelude.py', '../prelude.py']:\n",
    "    if os.path.exists(prelude_file):\n",
    "      command=f\"{prelude_file} {switches}\"\n",
    "      %run $command\n",
    "      return\n",
    "    \n",
    "  print(\"Downloading prelude.py\")\n",
    "  ! curl -LJOs https://raw.githubusercontent.com/Fibertree-Project/fibertree-notebooks/colab/notebooks/prelude.py\n",
    "  command=f\"./prelude.py {switches}\"\n",
    "  %run $command\n",
    "\n",
    "# End - startup boilerplate code\n",
    "\n",
    "run_prelude(style=\"tree\", animation='movie')\n"
   ]
  },
  {
   "cell_type": "markdown",
   "metadata": {},
   "source": [
    "## Fibertree union operator\n",
    "\n",
    "One can union the contents of two fibers using the ``or`` (|) operator. That operator takes two fibers as operands, and returns a fiber that has a element for each coordinate that appears in **either** input fiber and a payload that consists of a triple (three element tuple). The first element of the triple is a mask (indicating whether the rest of the triple contains non-empty payloads from only-A, only-B or both-A-and-B. The next two elements of the triple contain the corresponding payloads from the two input fibers. If an input fiber doesn't have a particular coordinate the **default** payload value (typically zero) of that fiber is used in the triple. However, if there is no payload at a particular coordinate in either input fiber then that coordinate will not appear in the output - note the absense of coordinate 1 in result for the example below."
   ]
  },
  {
   "cell_type": "code",
   "execution_count": null,
   "metadata": {},
   "outputs": [],
   "source": [
    "#\n",
    "# Create two rank-1 tensors\n",
    "#\n",
    "a_M = Tensor.fromUncompressed([\"M\"], [1, 0, 3, 0, 5, 0, 7])\n",
    "b_M = Tensor.fromUncompressed([\"M\"], [2, 0, 4, 5])\n",
    "\n",
    "#\n",
    "# Get the root fibers of the tensors\n",
    "#\n",
    "a_m = a_M.getRoot()\n",
    "b_m = b_M.getRoot()\n",
    "\n",
    "#\n",
    "# Calculate the union of the two fibers\n",
    "#\n",
    "z1_m = a_m | b_m\n",
    "\n",
    "#\n",
    "# Print the inputs and outputs\n",
    "#\n",
    "print(\"Fiber a_m\")\n",
    "displayTensor(a_m)\n",
    "\n",
    "print(\"Fiber b_m\")\n",
    "displayTensor(b_m)\n",
    "\n",
    "print(\"Fiber a_m | b_m\")\n",
    "displayTensor(z1_m)\n",
    "print(f\"{z1_m:n*}\")"
   ]
  },
  {
   "cell_type": "markdown",
   "metadata": {},
   "source": [
    "The **default** payload of a the result of ```union``` operation is a tuple of the form of the payloads in the result fiber. This default payload will be used for operations such as an insertion on a new coordinate into the fiber (e.g., using the ```<<``` operator). It also is the shape of the payload returned when the fiber is iterated over. The **default** value for payloads in the fiber ```z1_m``` created above is shown in the cell below, and is an empty string and two scalar zeros."
   ]
  },
  {
   "cell_type": "code",
   "execution_count": null,
   "metadata": {},
   "outputs": [],
   "source": [
    "#\n",
    "# Obtain the default payload of the result and print it\n",
    "#\n",
    "z1_m_default = z1_m.getDefault()\n",
    "\n",
    "print(z1_m_default)"
   ]
  },
  {
   "cell_type": "markdown",
   "metadata": {},
   "source": [
    "## Traversing the result of a union\n",
    "\n",
    "Traversing the result of a union using a ```for``` loop is like traversing any other fiber, except the payload must match the shape of the **default** payload of the fiber. See below how the payload returned by the interaction is a three element tuple:"
   ]
  },
  {
   "cell_type": "code",
   "execution_count": null,
   "metadata": {},
   "outputs": [],
   "source": [
    "#\n",
    "# Get the root fibers of the tensors\n",
    "#\n",
    "a_m = a_M.getRoot()\n",
    "b_m = b_M.getRoot()\n",
    "\n",
    "#\n",
    "# Traverse the elements of a union operation\n",
    "#\n",
    "for c, (mask, a_val, b_val) in a_m | b_m:\n",
    "    print(f\"Coordinate: {c}\")\n",
    "    print(f\"Mask: {mask}\")\n",
    "    print(f\"A_val: {a_val}\")\n",
    "    print(f\"B_val: {b_val}\")\n"
   ]
  },
  {
   "cell_type": "markdown",
   "metadata": {},
   "source": [
    "## Union of complex payloads\n",
    "\n",
    "Note that one can take the union of a fiber whose payloads have a more complex type, such as a fiber (e.g., from the top rank of a multirank tensor). This is shown in the example below. Note that neither fiber a or fiber b has a payload at coordinate 3, so the output has no output at that coordinate. Unfortunatly, the image view of a tensor whose payload are tuples with Fibers as an element are sort of messy. So a textual print of the result is also shown."
   ]
  },
  {
   "cell_type": "code",
   "execution_count": null,
   "metadata": {},
   "outputs": [],
   "source": [
    "#\n",
    "# Create two rank-2 tensors\n",
    "#\n",
    "a_MK = Tensor.fromUncompressed([\"M\", \"K\"], [[1, 0, 3, 0, 5, 0, 7],\n",
    "                                           [2, 2, 0, 3, 0, 0, 8],\n",
    "                                           [0, 0, 0, 0, 0, 0, 0],\n",
    "                                           [0, 0, 0, 0, 0, 0, 0],\n",
    "                                           [4, 0, 5, 0, 8, 0, 9]])\n",
    "\n",
    "b_MK = Tensor.fromUncompressed([\"M\", \"K\"], [[2, 0, 4, 5],\n",
    "                                            [0, 0, 0, 0],\n",
    "                                            [3, 4, 6, 0],\n",
    "                                            [0, 0, 0, 0],\n",
    "                                            [1, 2, 3, 4]]\n",
    "                                            )\n",
    "\n",
    "#\n",
    "# Get the root fibers of the tensors\n",
    "#\n",
    "a_m = a_MK.getRoot()\n",
    "b_m = b_MK.getRoot()\n",
    "\n",
    "#\n",
    "# Calculate the union of the two fibers\n",
    "#\n",
    "z2_m = a_m | b_m\n",
    "\n",
    "#\n",
    "# Print the inputs and outputs\n",
    "#\n",
    "print(\"Fiber a_m\")\n",
    "displayTensor(a_m)\n",
    "\n",
    "print(\"Fiber b_m\")\n",
    "displayTensor(b_m)\n",
    "\n",
    "print(\"Fiber a_m | b_m\")\n",
    "displayTensor(z2_m)\n",
    "print(f\"{z2_m:n*}\")\n"
   ]
  },
  {
   "cell_type": "markdown",
   "metadata": {},
   "source": [
    "The default payload for the above union of fibers with more complex payloads is also more complex. In this case, it is a tuple containing an empty string and two fibers (actually a reference to the constructor for a fiber)."
   ]
  },
  {
   "cell_type": "code",
   "execution_count": null,
   "metadata": {},
   "outputs": [],
   "source": [
    "#\n",
    "# Obtain the default payload of the result and print it\n",
    "#\n",
    "z2_m_default = z2_m.getDefault()\n",
    "\n",
    "print(z2_m_default)"
   ]
  },
  {
   "cell_type": "markdown",
   "metadata": {},
   "source": [
    "## Union of asymetric complex payloads\n",
    "\n",
    "Note that one can take the union of a fibers whose payloads are different types. In this example we union a fiber with fibers as its payloads (e.g., the top rank of a multirank tensor) with a fiber whose payloads are scalars."
   ]
  },
  {
   "cell_type": "code",
   "execution_count": null,
   "metadata": {},
   "outputs": [],
   "source": [
    "#\n",
    "# Create another rank-2 tensor (is this the same as above)\n",
    "#\n",
    "a_MK = Tensor.fromUncompressed([\"M\", \"K\"], [[1, 0, 3, 0, 5, 0, 7],\n",
    "                                           [0, 0, 0, 0, 0, 0, 0],\n",
    "                                           [2, 2, 0, 3, 0, 0, 8],\n",
    "                                           [0, 0, 0, 0, 0, 0, 0],\n",
    "                                           [4, 0, 5, 0, 8, 0, 9]])\n",
    "#\n",
    "# Get the root fibers of the tensors\n",
    "#\n",
    "a_m = a_MK.getRoot()\n",
    "b_m = b_M.getRoot()\n",
    "\n",
    "#\n",
    "# Calculate the union of the two fibers\n",
    "#\n",
    "z3_m = a_m | b_m\n",
    "\n",
    "#\n",
    "# Print the inputs and outputs\n",
    "#\n",
    "print(\"Fiber a_m\")\n",
    "displayTensor(a_m)\n",
    "\n",
    "print(\"Fiber b_m\")\n",
    "displayTensor(b_m)\n",
    "\n",
    "print(\"Fiber a_m | b_m\")\n",
    "displayTensor(z3_m)\n",
    "print(f\"{z3_m:n*}\")\n"
   ]
  },
  {
   "cell_type": "markdown",
   "metadata": {},
   "source": [
    "The default payload for the above union of fibers with more complex payloads is also more complex. In this case, it is a tuple containing an empty string and a fiber and a zero."
   ]
  },
  {
   "cell_type": "code",
   "execution_count": null,
   "metadata": {},
   "outputs": [],
   "source": [
    "#\n",
    "# Obtain the default payload of the result and print it\n",
    "#\n",
    "z3_m_default = z3_m.getDefault()\n",
    "\n",
    "print(z3_m_default)"
   ]
  },
  {
   "cell_type": "markdown",
   "metadata": {},
   "source": [
    "## Unions of unions\n",
    "\n",
    "We can take the union of fiber with a fiber that was already a union of two fibers. This is illustrated in the cell below\n",
    "\n",
    "Note; That the coordinate 1 of the result has an empty \"A\" element of the tuple, which was generated from the **default** payload for the result of ```a_m | b_m```. Also there is no coordinate 5 in the result, so **no** input fiber had a non-empty payload for coordinate 5."
   ]
  },
  {
   "cell_type": "code",
   "execution_count": null,
   "metadata": {},
   "outputs": [],
   "source": [
    "#\n",
    "# Create another rank-1 tensor\n",
    "#\n",
    "c_M = Tensor.fromUncompressed([\"M\"], [1, 2, 3])\n",
    "\n",
    "#\n",
    "# Get the root fibers of the tensors\n",
    "#\n",
    "a_m = a_M.getRoot()\n",
    "b_m = b_M.getRoot()\n",
    "c_m = c_M.getRoot()\n",
    "\n",
    "#\n",
    "# Calculate the union of the three fibers\n",
    "#\n",
    "z4_m = (a_m | b_m) | c_m\n",
    "\n",
    "#\n",
    "# Print the inputs and outputs\n",
    "#\n",
    "print(\"Fiber a_m\")\n",
    "displayTensor(a_m)\n",
    "\n",
    "print(\"Fiber b_m\")\n",
    "displayTensor(b_m)\n",
    "\n",
    "print(\"Fiber c_m\")\n",
    "displayTensor(c_m)\n",
    "\n",
    "print(\"Fiber (a_m | b_m) | c_m\")\n",
    "displayTensor(z4_m)\n",
    "\n",
    "# Fiber is too complex to print!\n",
    "#print(f\"{z4_m:n*}\")\n",
    "\n",
    "for m, (mask1, (mask2, a_val, b_val), c_val) in z4_m:\n",
    "     print(f\"mask1: {mask1}\")\n",
    "     print(f\"  mask2: {mask2}\")\n",
    "     print(f\"    a_val: {a_val}\")\n",
    "     print(f\"    b_val: {b_val}\")\n",
    "     print(f\"  c_val: {c_val}\")\n",
    "\n"
   ]
  },
  {
   "cell_type": "markdown",
   "metadata": {},
   "source": [
    "Note the shape of the default payload for the result fiber which contains a nested tuple."
   ]
  },
  {
   "cell_type": "code",
   "execution_count": null,
   "metadata": {},
   "outputs": [],
   "source": [
    "#\n",
    "# Obtain the default payload of the result and print it\n",
    "#\n",
    "z4_m_default = z4_m.getDefault()\n",
    "\n",
    "print(z4_m_default)"
   ]
  },
  {
   "cell_type": "markdown",
   "metadata": {},
   "source": [
    "## Different assocation\n",
    "\n",
    "Associating the unions differently produces a result that differs in the nesting of the payloads. Note how coordinates 4 and 6 have a payload that contains the  **default** payload for the union of ```b_m``` and ```c_m```."
   ]
  },
  {
   "cell_type": "code",
   "execution_count": null,
   "metadata": {},
   "outputs": [],
   "source": [
    "#\n",
    "# Get the root fibers of the tensors\n",
    "#\n",
    "a_m = a_M.getRoot()\n",
    "b_m = b_M.getRoot()\n",
    "c_m = c_M.getRoot()\n",
    "\n",
    "#\n",
    "# Calculate the union of the three fibers\n",
    "#\n",
    "z5_m = a_m | ( b_m | c_m )\n",
    "\n",
    "#\n",
    "# Print the inputs and outputs\n",
    "#\n",
    "print(\"Fiber a_m\")\n",
    "displayTensor(a_m)\n",
    "\n",
    "print(\"Fiber b_m\")\n",
    "displayTensor(b_m)\n",
    "\n",
    "print(\"Fiber c_m\")\n",
    "displayTensor(c_m)\n",
    "\n",
    "print(\"Fiber a_m | (b_m | c_m)\")\n",
    "displayTensor(z5_m)\n",
    "\n",
    "# Fiber is too complex to print!\n",
    "#print(f\"{z4_m:n*}\")\n",
    "\n",
    "for m, (mask1, a_val, (mask2, b_val, c_val)) in z5_m:\n",
    "     print(f\"mask1: {mask1}\")\n",
    "     print(f\"  a_val: {a_val}\")\n",
    "     print(f\"  mask2: {mask2}\")\n",
    "     print(f\"    b_val: {b_val}\")\n",
    "     print(f\"    c_val: {c_val}\")\n",
    "\n",
    "\n"
   ]
  },
  {
   "cell_type": "markdown",
   "metadata": {},
   "source": [
    "Note the shape of the default payload for the result fiber, which again is nested tuples, but in this case the third element is a tuple."
   ]
  },
  {
   "cell_type": "code",
   "execution_count": null,
   "metadata": {},
   "outputs": [],
   "source": [
    "#\n",
    "# Obtain the default payload of the result and print it\n",
    "#\n",
    "z5_m_default = z5_m.getDefault()\n",
    "\n",
    "print(z5_m_default)"
   ]
  },
  {
   "cell_type": "markdown",
   "metadata": {},
   "source": [
    "## Union multi-argument operator\n",
    "\n",
    "To allow a cleaner union of multiple operands the library includes a union operator that takes an arbitrary number of arguments (signature ```Fiber.union(*args)```). The payloads of the result of such a multi-argument union is a payload for each coordinate that exists in **any** of the inpupt arguments and that payload is a tuple comtaining a mask (with letters A-Z) and a entry sourced from the corresponding payload in each input argument fiber (input argument fibers with nothing at that coordinate will use the **default** payload from that fiber). This is illustrated below:"
   ]
  },
  {
   "cell_type": "code",
   "execution_count": null,
   "metadata": {},
   "outputs": [],
   "source": [
    "#\n",
    "# Get the root fibers of the tensors\n",
    "#\n",
    "a_m = a_M.getRoot()\n",
    "b_m = b_M.getRoot()\n",
    "c_m = c_M.getRoot()\n",
    "\n",
    "#\n",
    "# Calculate the union of the three fibers\n",
    "#\n",
    "z6_m = Fiber.union(a_m, b_m, c_m)\n",
    "\n",
    "#\n",
    "# Print the inputs and outputs\n",
    "#\n",
    "print(\"Fiber a_m\")\n",
    "displayTensor(a_m)\n",
    "\n",
    "print(\"Fiber b_m\")\n",
    "displayTensor(b_m)\n",
    "\n",
    "print(\"Fiber c_m\")\n",
    "displayTensor(c_m)\n",
    "\n",
    "print(\"Fiber union(a_m, b_m, c_m\")\n",
    "displayTensor(z6_m)\n",
    "\n",
    "# Fiber is too complex to print!\n",
    "#print(f\"{z4_m:n*}\")\n",
    "\n",
    "for m, (mask1, a_val, b_val, c_val) in z6_m:\n",
    "     print(f\"mask1: {mask1}\")\n",
    "     print(f\"  a_val: {a_val}\")\n",
    "     print(f\"  b_val: {b_val}\")\n",
    "     print(f\"  c_val: {c_val}\")\n"
   ]
  },
  {
   "cell_type": "markdown",
   "metadata": {},
   "source": [
    "Note the shape of the default payload for the result fiber"
   ]
  },
  {
   "cell_type": "code",
   "execution_count": null,
   "metadata": {},
   "outputs": [],
   "source": [
    "#\n",
    "# Obtain the default payload of the result and print it\n",
    "#\n",
    "z6_m_default = z6_m.getDefault()\n",
    "\n",
    "print(z6_m_default)"
   ]
  },
  {
   "cell_type": "markdown",
   "metadata": {},
   "source": [
    "## Multi-argument union with complex payloads\n",
    "\n",
    "The ```Fiber.union()``` operator also works with more complex payloads"
   ]
  },
  {
   "cell_type": "code",
   "execution_count": null,
   "metadata": {},
   "outputs": [],
   "source": [
    "#\n",
    "# Create one more rank-2 tensor\n",
    "#\n",
    "d_MK = Tensor.fromUncompressed([\"M\", \"K\"], [[8, 0, 6, 0],\n",
    "                                            [0, 0, 0, 0],\n",
    "                                            [5, 0, 7, 0],\n",
    "                                            [4, 8, 1, 2],\n",
    "                                            [1, 2, 3, 4]])\n",
    "\n",
    "#\n",
    "# Get the root fibers of the tensors\n",
    "#\n",
    "a_m = a_M.getRoot()\n",
    "b_m = b_M.getRoot()\n",
    "c_m = c_M.getRoot()\n",
    "d_m = d_MK.getRoot()\n",
    "\n",
    "#\n",
    "# Calculate the union of the three fibers\n",
    "#\n",
    "z7_m = Fiber.union(a_m, b_m, c_m, d_m)\n",
    "\n",
    "#\n",
    "# Print the inputs and outputs\n",
    "#\n",
    "print(\"Fiber a_m\")\n",
    "displayTensor(a_m)\n",
    "\n",
    "print(\"Fiber b_m\")\n",
    "displayTensor(b_m)\n",
    "\n",
    "print(\"Fiber c_m\")\n",
    "displayTensor(c_m)\n",
    "\n",
    "print(\"Fiber d_m\")\n",
    "displayTensor(d_m)\n",
    "\n",
    "print(\"Fiber union(a_m, b_m, c_m, d_m)\")\n",
    "displayTensor(z7_m)\n",
    "\n",
    "# Fiber is too complex to print!\n",
    "#print(f\"{z4_m:n*}\")\n",
    "\n",
    "for m, (mask1, a_val, b_val, c_val, d_val) in z7_m:\n",
    "    print(f\"mask1: {mask1}\")\n",
    "    print(f\"  a_val: {a_val}\")\n",
    "    print(f\"  b_val: {b_val}\")\n",
    "    print(f\"  c_val: {c_val}\")\n",
    "    print(f\"  d_val: {d_val}\")\n",
    "    \n"
   ]
  },
  {
   "cell_type": "markdown",
   "metadata": {},
   "source": [
    "Note the shape of the default payload for the resulting fiber from ```Fiber.union()```, where one of the elements of the default payload is a Fiber."
   ]
  },
  {
   "cell_type": "code",
   "execution_count": null,
   "metadata": {},
   "outputs": [],
   "source": [
    "#\n",
    "# Obtain the default payload of the result and print it\n",
    "#\n",
    "z7_m_default = z7_m.getDefault()\n",
    "\n",
    "print(z7_m_default)"
   ]
  },
  {
   "cell_type": "code",
   "execution_count": null,
   "metadata": {},
   "outputs": [],
   "source": []
  },
  {
   "cell_type": "code",
   "execution_count": null,
   "metadata": {},
   "outputs": [],
   "source": []
  },
  {
   "cell_type": "markdown",
   "metadata": {},
   "source": [
    "## Testing area\n",
    "\n",
    "For running alternative algorithms"
   ]
  },
  {
   "cell_type": "code",
   "execution_count": null,
   "metadata": {},
   "outputs": [],
   "source": []
  },
  {
   "cell_type": "code",
   "execution_count": null,
   "metadata": {},
   "outputs": [],
   "source": []
  },
  {
   "cell_type": "code",
   "execution_count": null,
   "metadata": {},
   "outputs": [],
   "source": []
  }
 ],
 "metadata": {
  "kernelspec": {
   "display_name": "Python 3 (ipykernel)",
   "language": "python",
   "name": "python3"
  },
  "language_info": {
   "codemirror_mode": {
    "name": "ipython",
    "version": 3
   },
   "file_extension": ".py",
   "mimetype": "text/x-python",
   "name": "python",
   "nbconvert_exporter": "python",
   "pygments_lexer": "ipython3",
   "version": "3.10.8"
  }
 },
 "nbformat": 4,
 "nbformat_minor": 4
}
