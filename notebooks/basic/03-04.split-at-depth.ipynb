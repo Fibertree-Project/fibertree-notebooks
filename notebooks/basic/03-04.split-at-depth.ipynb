{
 "cells": [
  {
   "cell_type": "markdown",
   "metadata": {},
   "source": [
    "\n",
    "## Splitting at Depth\n",
    "\n",
    "This notebook illustrates the syntax for splitting either fibers or tensor at a given depth (level) in the tree either numerically with a `depth` or by name with a `rankid`.\n",
    "\n",
    "First, include some libraries\n"
   ]
  },
  {
   "cell_type": "code",
   "execution_count": null,
   "metadata": {
    "tags": []
   },
   "outputs": [],
   "source": [
    "# Begin - startup boilerplate code\n",
    "\n",
    "import pkgutil\n",
    "\n",
    "if 'fibertree_bootstrap' not in [pkg.name for pkg in pkgutil.iter_modules()]:\n",
    "  !python3 -m pip  install git+https://github.com/Fibertree-project/fibertree-bootstrap --quiet\n",
    "\n",
    "# End - startup boilerplate code\n",
    "\n",
    "\n",
    "from fibertree_bootstrap import *\n",
    "fibertree_bootstrap(style=\"tree\", animation='movie')\n"
   ]
  },
  {
   "cell_type": "code",
   "execution_count": null,
   "metadata": {},
   "outputs": [],
   "source": [
    "# Initial values\n",
    "\n",
    "C = 3\n",
    "H = 3\n",
    "W = 4\n",
    "\n",
    "density = 0.9\n",
    "seed = 10\n",
    "\n",
    "tm = TensorMaker()\n",
    "tm.addTensor(\"I\",\n",
    "             rank_ids=[\"C\", \"H\", \"W\"],\n",
    "             shape=[C, H, W],\n",
    "             density=density,\n",
    "             color=\"blue\",\n",
    "             seed=seed)\n",
    "tm.displayControls()\n"
   ]
  },
  {
   "cell_type": "code",
   "execution_count": null,
   "metadata": {},
   "outputs": [],
   "source": [
    "i_CHW = tm.makeTensor(\"I\")\n",
    "\n",
    "\n",
    "print(\"Original\")\n",
    "displayTensor(i_CHW)\n",
    "i = i_CHW.getRoot()\n",
    "\n",
    "rankids = i_CHW.getRankIds()\n",
    "\n",
    "for d, rankid in enumerate(rankids):\n",
    "    \n",
    "    print(\"\")\n",
    "    print(f\"Depth={d}, RankId='{rankid}'\")\n",
    "    print(\"\")\n",
    "    t1a = i_CHW.splitUniform(2, depth=d)\n",
    "    t1b = i_CHW.splitUniform(2, rankid=rankid)\n",
    "    assert t1b == t1a\n",
    "    i1a = i.splitUniform(2, depth=d)\n",
    "    assert i1a == t1b.getRoot()\n",
    "    i1b = i.splitUniform(2, rankid=rankid)\n",
    "    assert i1b == t1a.getRoot()\n",
    "    print(f\"splitUniform(2, [depth={d} | rankid='{rankid}'])\")    \n",
    "    displayTensor(t1a)   \n",
    "\n",
    "    t2a = i_CHW.splitNonUniform([0, 1], depth=d)\n",
    "    t2b = i_CHW.splitNonUniform([0, 1], rankid=rankid)\n",
    "    assert t2b == t2a\n",
    "    i2a = i.splitNonUniform([0, 1], depth=d)\n",
    "    assert i2a == t2b.getRoot()\n",
    "    i2b = i.splitNonUniform([0, 1], rankid=rankid)\n",
    "    assert i2b == i2a\n",
    "    print(f\"splitNonUniform[0,1], [depth={d} | rankid='{rankid}'])\")\n",
    "    displayTensor(t2a)\n",
    "\n",
    "    t3a = i_CHW.splitEqual(2, depth=d)\n",
    "    t3b = i_CHW.splitEqual(2, rankid=rankid)\n",
    "    assert t3b == t3a\n",
    "    i3a = i.splitEqual(2, depth=d)\n",
    "    assert i3a == t3b.getRoot()\n",
    "    i3b = i.splitEqual(2, rankid=rankid)\n",
    "    assert i3b == i3a\n",
    "    print(f\"splitEqual(2, [depth={d} | rankid='{rankid}'])\")\n",
    "    displayTensor(t3a)\n",
    "    \n",
    "    t4a = i_CHW.splitUnEqual([1,3], depth=d)\n",
    "    t4b = i_CHW.splitUnEqual([1,3], rankid=rankid)\n",
    "    assert t4b == t4a\n",
    "    i4a = i.splitUnEqual([1,3], depth=d)\n",
    "    assert i4a == t4b.getRoot()\n",
    "    i4b = i.splitUnEqual([1,3], rankid=rankid)\n",
    "    assert i4b == i4a\n",
    "    print(f\"splitUnEqual([1,3], [depth={d}, rankid='{rankid}'])\")\n",
    "    displayTensor(t4a)\n"
   ]
  },
  {
   "cell_type": "markdown",
   "metadata": {},
   "source": [
    "## Testing Area"
   ]
  },
  {
   "cell_type": "code",
   "execution_count": null,
   "metadata": {},
   "outputs": [],
   "source": []
  },
  {
   "cell_type": "code",
   "execution_count": null,
   "metadata": {},
   "outputs": [],
   "source": []
  },
  {
   "cell_type": "code",
   "execution_count": null,
   "metadata": {},
   "outputs": [],
   "source": []
  }
 ],
 "metadata": {
  "kernelspec": {
   "display_name": "Python 3 (ipykernel)",
   "language": "python",
   "name": "python3"
  },
  "language_info": {
   "codemirror_mode": {
    "name": "ipython",
    "version": 3
   },
   "file_extension": ".py",
   "mimetype": "text/x-python",
   "name": "python",
   "nbconvert_exporter": "python",
   "pygments_lexer": "ipython3",
   "version": "3.10.8"
  }
 },
 "nbformat": 4,
 "nbformat_minor": 4
}
