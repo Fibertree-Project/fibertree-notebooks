{
 "cells": [
  {
   "cell_type": "markdown",
   "id": "popular-nightmare",
   "metadata": {},
   "source": [
    "# Constructing Tensors\n",
    "\n",
    "There are a number of different ways to construct tensors. This notebook covers constructing a tensor:\n",
    "- From a random seed\n",
    "- From an uncompressed multi-dimensional array\n",
    "- From a YAML file\n",
    "- Using the TensorMaker"
   ]
  },
  {
   "cell_type": "code",
   "execution_count": null,
   "id": "systematic-plaintiff",
   "metadata": {},
   "outputs": [],
   "source": [
    "# Begin - startup boilerplate code\n",
    "\n",
    "import os\n",
    "\n",
    "def run_prelude(**kwargs):\n",
    "\n",
    "  switches =  \" \".join([ f\"--{k}={v}\" for (k,v) in kwargs.items()])\n",
    "\n",
    "  for prelude_file in ['./prelude.py', '../prelude.py']:\n",
    "    if os.path.exists(prelude_file):\n",
    "      command=f\"{prelude_file} {switches}\"\n",
    "      %run $command\n",
    "      return\n",
    "    \n",
    "  print(\"Downloading prelude.py\")\n",
    "  ! curl -LJOs https://raw.githubusercontent.com/Fibertree-Project/fibertree-notebooks/colab/notebooks/prelude.py\n",
    "  command=f\"./prelude.py {switches}\"\n",
    "  %run $command\n",
    "\n",
    "# End - startup boilerplate code\n",
    "\n",
    "run_prelude(style=\"tree\", animation='movie')\n"
   ]
  },
  {
   "cell_type": "markdown",
   "id": "weekly-export",
   "metadata": {},
   "source": [
    "## Set Up\n",
    "\n",
    "We first want to declare the sizes of our tensors"
   ]
  },
  {
   "cell_type": "code",
   "execution_count": null,
   "id": "indian-display",
   "metadata": {},
   "outputs": [],
   "source": [
    "K = 5\n",
    "M = 6\n",
    "N = 7"
   ]
  },
  {
   "cell_type": "markdown",
   "id": "color-business",
   "metadata": {},
   "source": [
    "## From Random\n",
    "\n",
    "First, we can construct tensors from a random seed."
   ]
  },
  {
   "cell_type": "code",
   "execution_count": null,
   "id": "specialized-courage",
   "metadata": {},
   "outputs": [],
   "source": [
    "A_KM = Tensor.fromRandom(rank_ids=[\"K\", \"M\"], shape=[K, M], density=[0.7, 0.7], seed=0)\n",
    "B_KN = Tensor.fromRandom(rank_ids=[\"K\", \"N\"], shape=[K, N], density=[0.7, 0.7], seed=1)\n",
    "\n",
    "print(\"A_KM\")\n",
    "displayTensor(A_KM)\n",
    "print(\"B_KN\")\n",
    "displayTensor(B_KN)"
   ]
  },
  {
   "cell_type": "markdown",
   "id": "local-possession",
   "metadata": {},
   "source": [
    "## From Uncompressed\n",
    "\n",
    "We can also create tensors from the uncompressed representations (multi-dimensional arrays)."
   ]
  },
  {
   "cell_type": "code",
   "execution_count": null,
   "id": "domestic-stuart",
   "metadata": {},
   "outputs": [],
   "source": [
    "A_arr = [[0, 0, 0, 0, 0, 0],\n",
    "         [0, 0, 0, 0, 0, 0],\n",
    "         [9, 5, 0, 4, 5, 2],\n",
    "         [9, 0, 0, 2, 0, 0],\n",
    "         [2, 6, 4, 0, 9, 9]]\n",
    "\n",
    "B_arr = [[0, 0, 8, 0, 7, 0, 1],\n",
    "         [0, 0, 0, 0, 0, 0, 0],\n",
    "         [1, 5, 0, 2, 0, 1, 1],\n",
    "         [0, 0, 0, 0, 0, 0, 0],\n",
    "         [7, 0, 8, 0, 6, 4, 0]]\n",
    "\n",
    "A_KM = Tensor.fromUncompressed([\"K\", \"M\"], A_arr)\n",
    "B_KN = Tensor.fromUncompressed([\"K\", \"N\"], B_arr)\n",
    "\n",
    "print(\"A_KM\")\n",
    "displayTensor(A_KM)\n",
    "print(\"B_KN\")\n",
    "displayTensor(B_KN)"
   ]
  },
  {
   "cell_type": "markdown",
   "id": "removed-typing",
   "metadata": {},
   "source": [
    "## From YAML\n",
    "\n",
    "Next, we can create a tensor from a YAML file representation.\n",
    "\n",
    "We need to first create the YAML files:"
   ]
  },
  {
   "cell_type": "code",
   "execution_count": null,
   "id": "persistent-member",
   "metadata": {},
   "outputs": [],
   "source": [
    "A_fn = \"/tmp/A.yaml\"\n",
    "B_fn = \"/tmp/B.yaml\"\n",
    "\n",
    "A_KM.dump(A_fn)\n",
    "B_KN.dump(B_fn)"
   ]
  },
  {
   "cell_type": "markdown",
   "id": "rational-controversy",
   "metadata": {},
   "source": [
    "They look like this:"
   ]
  },
  {
   "cell_type": "code",
   "execution_count": null,
   "id": "matched-ranking",
   "metadata": {},
   "outputs": [],
   "source": [
    "print(\"A_KM as YAML\")\n",
    "f = open(A_fn)\n",
    "for line in f:\n",
    "    print(line.rstrip('\\n'))\n",
    "f.close()\n",
    "\n",
    "print(\"\\nB_KN as YAML\")\n",
    "f = open(B_fn)\n",
    "for line in f:\n",
    "    print(line.rstrip('\\n'))\n",
    "f.close()"
   ]
  },
  {
   "cell_type": "markdown",
   "id": "accredited-premises",
   "metadata": {},
   "source": [
    "Now, we can load the YAML representation:"
   ]
  },
  {
   "cell_type": "code",
   "execution_count": null,
   "id": "baking-variety",
   "metadata": {},
   "outputs": [],
   "source": [
    "A_KM = Tensor.fromYAMLfile(A_fn)\n",
    "B_KN = Tensor.fromYAMLfile(B_fn)\n",
    "\n",
    "print(\"A_KM\")\n",
    "displayTensor(A_KM)\n",
    "print(\"B_KN\")\n",
    "displayTensor(B_KN)"
   ]
  },
  {
   "cell_type": "markdown",
   "id": "decreased-banner",
   "metadata": {},
   "source": [
    "## Using TensorMaker\n",
    "\n",
    "The `TensorMaker` class is a convenient way to generate Tensors for testing that allows you to try different parameters and configurations"
   ]
  },
  {
   "cell_type": "code",
   "execution_count": null,
   "id": "damaged-serial",
   "metadata": {},
   "outputs": [],
   "source": [
    "tm = TensorMaker(\"construct-tensor\")\n",
    "\n",
    "tm.addTensor(\"A\", rank_ids=[\"K\", \"M\"], shape=[K, M], density=0.7, seed=0, color=\"blue\")\n",
    "tm.addTensor(\"B\", rank_ids=[\"K\", \"N\"], shape=[K, N], density=0.7, seed=1, color=\"green\")\n",
    "\n",
    "tm.displayControls()"
   ]
  },
  {
   "cell_type": "code",
   "execution_count": null,
   "id": "artistic-excitement",
   "metadata": {},
   "outputs": [],
   "source": [
    "A_KM = tm.makeTensor(\"A\")\n",
    "B_KN = tm.makeTensor(\"B\")\n",
    "\n",
    "print(\"A_KM\")\n",
    "displayTensor(A_KM)\n",
    "print(\"B_KN\")\n",
    "displayTensor(B_KN)"
   ]
  },
  {
   "cell_type": "code",
   "execution_count": null,
   "id": "statutory-thanks",
   "metadata": {},
   "outputs": [],
   "source": []
  },
  {
   "cell_type": "code",
   "execution_count": null,
   "id": "74d82db5-d421-40de-94dc-3610d43f9c68",
   "metadata": {},
   "outputs": [],
   "source": []
  }
 ],
 "metadata": {
  "kernelspec": {
   "display_name": "Python 3 (ipykernel)",
   "language": "python",
   "name": "python3"
  },
  "language_info": {
   "codemirror_mode": {
    "name": "ipython",
    "version": 3
   },
   "file_extension": ".py",
   "mimetype": "text/x-python",
   "name": "python",
   "nbconvert_exporter": "python",
   "pygments_lexer": "ipython3",
   "version": "3.10.8"
  }
 },
 "nbformat": 4,
 "nbformat_minor": 5
}
