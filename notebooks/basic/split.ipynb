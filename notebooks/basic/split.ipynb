{
 "cells": [
  {
   "cell_type": "markdown",
   "metadata": {
    "slideshow": {
     "slide_type": "-"
    }
   },
   "source": [
    "# Split operations\n",
    "\n",
    "First, include some libraries"
   ]
  },
  {
   "cell_type": "code",
   "execution_count": null,
   "metadata": {},
   "outputs": [],
   "source": [
    "# Begin - startup boilerplate code\n",
    "\n",
    "import os\n",
    "\n",
    "def run_prelude(**kwargs):\n",
    "\n",
    "  switches =  \" \".join([ f\"--{k}={v}\" for (k,v) in kwargs.items()])\n",
    "\n",
    "  for prelude_file in ['./prelude.py', '../prelude.py']:\n",
    "    if os.path.exists(prelude_file):\n",
    "      command=f\"{prelude_file} {switches}\"\n",
    "      %run $command\n",
    "      return\n",
    "    \n",
    "  print(\"Downloading prelude.py\")\n",
    "  ! curl -LJOs https://raw.githubusercontent.com/Fibertree-Project/fibertree-notebooks/colab/notebooks/prelude.py\n",
    "  command=f\"./prelude.py {switches}\"\n",
    "  %run $command\n",
    "\n",
    "# End - startup boilerplate code\n",
    "\n",
    "run_prelude(style=\"tree\", animation='movie')\n"
   ]
  },
  {
   "cell_type": "markdown",
   "metadata": {},
   "source": [
    "## Split a tensor "
   ]
  },
  {
   "cell_type": "code",
   "execution_count": null,
   "metadata": {},
   "outputs": [],
   "source": [
    "# 1D \n",
    "\n",
    "t_u = [ 2, 4, 0, 6, 7, 0, 10, 0, 0, 20, 0, 0, 0, 0, 0, 0, 0, 23]\n",
    "t = Tensor.fromUncompressed([\"X\"], t_u)\n",
    "displayTensor(t)"
   ]
  },
  {
   "cell_type": "markdown",
   "metadata": {},
   "source": [
    "### Split into equal parts (in coordinate space)"
   ]
  },
  {
   "cell_type": "code",
   "execution_count": null,
   "metadata": {},
   "outputs": [],
   "source": [
    "t_x = t.getRoot()\n",
    "t_x_split_uniform = t_x.splitUniform(4)\n",
    "\n",
    "print(\"Before\")\n",
    "displayTensor(t)\n",
    "print(\"After - rank added at top with lower bound coordinates of each group\")\n",
    "displayTensor(t_x_split_uniform)"
   ]
  },
  {
   "cell_type": "markdown",
   "metadata": {},
   "source": [
    "### Element-wise multiplication of split vectors (coordinate space)"
   ]
  },
  {
   "cell_type": "code",
   "execution_count": null,
   "metadata": {},
   "outputs": [],
   "source": [
    "a_u = [ 2, 4, 0, 6, 7, 0, 10, 0, 0, 20, 0, 0, 0, 0, 0, 0, 0, 23]\n",
    "a = Tensor.fromUncompressed([\"X\"], a_u)\n",
    "displayTensor(a)\n",
    "\n",
    "b_u = [ 0, 5, 1, 7, 0, 0, 11, 0, 8, 20, 0, 0, 5, 0, 4, 0, 0, 2]\n",
    "b = Tensor.fromUncompressed([\"X\"], b_u)\n",
    "displayTensor(b)\n",
    "\n",
    "z = Tensor(rank_ids=[\"X1\", \"X0\"])"
   ]
  },
  {
   "cell_type": "code",
   "execution_count": null,
   "metadata": {},
   "outputs": [],
   "source": [
    "a_x = a.getRoot()\n",
    "b_x = b.getRoot()\n",
    "z_x = z.getRoot()\n",
    "\n",
    "a_x_split = a_x.splitUniform(4)\n",
    "b_x_split = b_x.splitUniform(4)\n",
    "\n",
    "displayTensor(a_x_split)\n",
    "displayTensor(b_x_split)"
   ]
  },
  {
   "cell_type": "code",
   "execution_count": null,
   "metadata": {},
   "outputs": [],
   "source": [
    "for x1, (z_x1_ref, (a_x0, b_x0)) in z_x << (a_x_split & b_x_split):\n",
    "    print(f\"Processing X1={x1}\")\n",
    "    for x0, (z_x1_ref, (a_val, b_val)) in z_x1_ref << (a_x0 & b_x0):\n",
    "        print(f\"    Processing: X0={x0}\")\n",
    "        z_x1_ref += a_val * b_val\n",
    "\n",
    "displayTensor(z)"
   ]
  },
  {
   "cell_type": "markdown",
   "metadata": {},
   "source": [
    "### Split into equal parts (in coordinate space, relative coordinates)"
   ]
  },
  {
   "cell_type": "code",
   "execution_count": null,
   "metadata": {},
   "outputs": [],
   "source": [
    "t_x_split_uniform = t_x.splitUniform(4, relativeCoords=True)\n",
    "\n",
    "print(\"Before\")\n",
    "displayTensor(t)\n",
    "print(\"After - lower rank coordinates are relative to parent's coordinate\")\n",
    "displayTensor(t_x_split_uniform)"
   ]
  },
  {
   "cell_type": "markdown",
   "metadata": {},
   "source": [
    "### Split into equal parts (in position space)"
   ]
  },
  {
   "cell_type": "code",
   "execution_count": null,
   "metadata": {},
   "outputs": [],
   "source": [
    "t_x_split_equal = t_x.splitEqual(2)\n",
    "\n",
    "print(\"Before\")\n",
    "displayTensor(t)\n",
    "print(\"After - new dense rank added at top\")\n",
    "displayTensor(t_x_split_equal)"
   ]
  },
  {
   "cell_type": "markdown",
   "metadata": {},
   "source": [
    "### Element-wise multiplication of split vectors (position space)"
   ]
  },
  {
   "cell_type": "code",
   "execution_count": null,
   "metadata": {},
   "outputs": [],
   "source": [
    "a_u = [ 2, 4, 0, 6, 7, 0, 10, 0, 0, 20, 0, 0, 0, 0, 0, 0, 0, 23]\n",
    "a = Tensor.fromUncompressed([\"X\"], a_u)\n",
    "displayTensor(a)\n",
    "\n",
    "b_u = [ 0, 5, 1, 7, 0, 0, 11, 0, 8, 20, 0, 0, 5, 0, 4, 0, 0, 2]\n",
    "b = Tensor.fromUncompressed([\"X\"], b_u)\n",
    "displayTensor(b)\n",
    "\n",
    "z = Tensor(rank_ids=[\"X1\", \"X0\"])\n",
    "\n",
    "a_x = a.getRoot()\n",
    "b_x = b.getRoot()\n",
    "z_x = z.getRoot()\n",
    "\n",
    "\n",
    "a_x_split = a_x.splitEqual(2)\n",
    "\n",
    "displayTensor(a_x_split)\n",
    "\n",
    "print(f\"a_x was split on the following coordinates: {a_x_split.coords}\")\n",
    "\n",
    "# Split on the coordinates of each split in \"a\"\n",
    "b_x_split = b_x.splitNonUniform(a_x_split)\n",
    "\n",
    "displayTensor(b_x_split)"
   ]
  },
  {
   "cell_type": "code",
   "execution_count": null,
   "metadata": {},
   "outputs": [],
   "source": [
    "canvas = createCanvas(a_x_split, b_x_split, z)\n",
    "\n",
    "for x1, (z_x1_ref, (a_x0, b_x0)) in z_x << (a_x_split & b_x_split):\n",
    "    for x0, (z_x1_ref, (a_val, b_val)) in z_x1_ref << (a_x0 & b_x0):\n",
    "        z_x1_ref += a_val * b_val\n",
    "        canvas.addFrame((x1,x0), (x1,x0), (x1,x0))\n",
    "\n",
    "displayCanvas(canvas)\n"
   ]
  },
  {
   "cell_type": "markdown",
   "metadata": {},
   "source": [
    "### Element-wise multiplication of split vectors (position space, relative coordinates)"
   ]
  },
  {
   "cell_type": "code",
   "execution_count": null,
   "metadata": {},
   "outputs": [],
   "source": [
    "a_u = [ 2, 4, 0, 6, 7, 0, 10, 0, 0, 20, 0, 0, 0, 0, 0, 0, 0, 23]\n",
    "a = Tensor.fromUncompressed([\"X\"], a_u)\n",
    "displayTensor(a)\n",
    "\n",
    "b_u = [ 0, 5, 1, 7, 0, 0, 11, 0, 8, 20, 0, 0, 5, 0, 4, 0, 0, 2]\n",
    "b = Tensor.fromUncompressed([\"X\"], b_u)\n",
    "displayTensor(b)\n",
    "\n",
    "z = Tensor(rank_ids=[\"X1\", \"X0\"])\n",
    "\n",
    "a_x = a.getRoot()\n",
    "b_x = b.getRoot()\n",
    "z_x = z.getRoot()\n",
    "\n",
    "\n",
    "a_x_split = a_x.splitEqual(2, relativeCoords=True)\n",
    "\n",
    "displayTensor(a_x_split)\n",
    "\n",
    "print(f\"a_x was split on the following coordinates: {a_x_split.coords}\")\n",
    "\n",
    "# Split on the coordinates of each split in \"a\"\n",
    "b_x_split = b_x.splitNonUniform(a_x_split, relativeCoords=True)\n",
    "\n",
    "displayTensor(b_x_split)"
   ]
  },
  {
   "cell_type": "code",
   "execution_count": null,
   "metadata": {},
   "outputs": [],
   "source": [
    "canvas = createCanvas(a_x_split, b_x_split, z)\n",
    "\n",
    "for x1, (z_x1_ref, (a_x0, b_x0)) in z_x << (a_x_split & b_x_split):\n",
    "    for x0, (z_x1_ref, (a_val, b_val)) in z_x1_ref << (a_x0 & b_x0):\n",
    "        z_x1_ref += a_val * b_val\n",
    "        canvas.addFrame((x1,x0), (x1,x0), (x1,x0))\n",
    "\n",
    "displayCanvas(canvas)\n"
   ]
  },
  {
   "cell_type": "markdown",
   "metadata": {},
   "source": [
    "### Element-wise multiplication of split vectors after intersection (position space)"
   ]
  },
  {
   "cell_type": "code",
   "execution_count": null,
   "metadata": {},
   "outputs": [],
   "source": [
    "a_u = [ 2, 4, 0, 6, 7, 0, 10, 0, 0, 20, 0, 0, 0, 0, 0, 0, 0, 23]\n",
    "a = Tensor.fromUncompressed([\"X\"], a_u)\n",
    "displayTensor(a)\n",
    "\n",
    "b_u = [ 0, 5, 1, 7, 0, 0, 11, 0, 8, 20, 0, 0, 5, 0, 4, 0, 0, 2]\n",
    "b = Tensor.fromUncompressed([\"X\"], b_u)\n",
    "displayTensor(b)\n",
    "\n",
    "z = Tensor(rank_ids=[\"X1\", \"X0\"])\n",
    "\n",
    "a_x = a.getRoot()\n",
    "b_x = b.getRoot()\n",
    "z_x = z.getRoot()\n",
    "\n",
    "\n",
    "ab_x = a_x & b_x\n",
    "ab_x_split = ab_x.splitEqual(2)\n",
    "\n",
    "displayTensor(ab_x_split)\n",
    "\n",
    "print(f\"ab_x was split on the following coordinates: {ab_x_split.coords}\")\n",
    "\n"
   ]
  },
  {
   "cell_type": "code",
   "execution_count": null,
   "metadata": {},
   "outputs": [],
   "source": [
    "# Combine tuples in bottom rank of ab_x_split\n",
    "\n",
    "canvas = createCanvas(ab_x_split, z)\n",
    "\n",
    "for x1, (z_x1_ref, ab_x0) in z_x << ab_x_split:\n",
    "    for x0, (z_x1_ref, (a_val, b_val)) in z_x1_ref << ab_x0:\n",
    "        z_x1_ref += a_val * b_val\n",
    "        canvas.addFrame((x1,x0), (x1,x0))\n",
    "\n",
    "displayCanvas(canvas)"
   ]
  },
  {
   "cell_type": "markdown",
   "metadata": {},
   "source": [
    "## Split after flattening"
   ]
  },
  {
   "cell_type": "markdown",
   "metadata": {},
   "source": [
    "### Generate matrices"
   ]
  },
  {
   "cell_type": "code",
   "execution_count": null,
   "metadata": {},
   "outputs": [],
   "source": [
    "u_t = [ [ [ 1, 2, 3, 0],\n",
    "          [ 1, 0, 3, 4],\n",
    "          [ 0, 2, 3, 4],\n",
    "          [ 1, 2, 0, 4] ],\n",
    "        [ [ 0, 0, 0, 0],\n",
    "          [ 0, 0, 0, 0],\n",
    "          [ 0, 0, 0, 0],\n",
    "          [ 0, 0, 0, 0] ],\n",
    "        [ [ 1, 2, 3, 0],\n",
    "          [ 1, 0, 3, 4],\n",
    "          [ 0, 0, 0, 0],\n",
    "          [ 1, 2, 0, 4] ] ]\n",
    "\n",
    "t = Tensor.fromUncompressed([\"X\", \"Y\", \"Z\"], u_t)\n",
    "\n",
    "displayTensor(t)"
   ]
  },
  {
   "cell_type": "markdown",
   "metadata": {},
   "source": [
    "### Illustrate flattening and unflattening"
   ]
  },
  {
   "cell_type": "code",
   "execution_count": null,
   "metadata": {},
   "outputs": [],
   "source": [
    "a = t.getRoot()\n",
    "\n",
    "print(\"Original\")\n",
    "displayTensor(a)\n",
    "\n",
    "a_flattened = a.flattenRanks()\n",
    "\n",
    "print(\"Flattened\")\n",
    "displayTensor(a_flattened)\n",
    "\n",
    "a_unflattened = a_flattened.unflattenRanks()\n",
    "\n",
    "print(\"Unflattend\")\n",
    "displayTensor(a_unflattened)\n",
    "\n",
    "print(\"Transform from flattened back to unflattned worked: %s\" % (a == a_unflattened))"
   ]
  },
  {
   "cell_type": "markdown",
   "metadata": {},
   "source": [
    "### Split the flattened tensor into equal parts"
   ]
  },
  {
   "cell_type": "code",
   "execution_count": null,
   "metadata": {},
   "outputs": [],
   "source": [
    "# Using a_flattened created in cell above..\n",
    "\n",
    "a_flattened_split = a_flattened.splitEqual(3)\n",
    "\n",
    "print(\"Before\")\n",
    "displayTensor(a_flattened)\n",
    "print(\"After - new dense rank added at top\")\n",
    "displayTensor(a_flattened_split)"
   ]
  },
  {
   "cell_type": "markdown",
   "metadata": {},
   "source": [
    "### Unflatten the split tensor"
   ]
  },
  {
   "cell_type": "code",
   "execution_count": null,
   "metadata": {},
   "outputs": [],
   "source": [
    "# Uses a_flattened_split created in cell above\n",
    "\n",
    "print(\"Original\")\n",
    "displayTensor(a)\n",
    "print(\"Flattened split\")\n",
    "displayTensor(a_flattened_split)\n",
    "\n",
    "# Note: a_flattened_split is about to be be modified\n",
    "a_flattened_split.updatePayloads(Fiber.unflattenRanks)\n",
    "\n",
    "print(\"Final - note repeated coordinates in 2nd rank from top\")\n",
    "displayTensor(a_flattened_split)"
   ]
  },
  {
   "cell_type": "markdown",
   "metadata": {},
   "source": [
    "### Create (rank labeled) tensor from split fiber\n",
    "\n",
    "Note that the X rank has been split but now coordinates in X0 are repeated"
   ]
  },
  {
   "cell_type": "code",
   "execution_count": null,
   "metadata": {},
   "outputs": [],
   "source": [
    "t_final = Tensor.fromFiber([\"X1\", \"X0\", \"Y\", \"Z\"], a_flattened_split)\n",
    "\n",
    "displayTensor(t_final)"
   ]
  },
  {
   "cell_type": "markdown",
   "metadata": {},
   "source": [
    "## Testing area\n",
    "\n",
    "For running alternative algorithms"
   ]
  },
  {
   "cell_type": "code",
   "execution_count": null,
   "metadata": {},
   "outputs": [],
   "source": []
  },
  {
   "cell_type": "code",
   "execution_count": null,
   "metadata": {},
   "outputs": [],
   "source": []
  }
 ],
 "metadata": {
  "kernelspec": {
   "display_name": "Python 3 (ipykernel)",
   "language": "python",
   "name": "python3"
  },
  "language_info": {
   "codemirror_mode": {
    "name": "ipython",
    "version": 3
   },
   "file_extension": ".py",
   "mimetype": "text/x-python",
   "name": "python",
   "nbconvert_exporter": "python",
   "pygments_lexer": "ipython3",
   "version": "3.10.8"
  }
 },
 "nbformat": 4,
 "nbformat_minor": 4
}
