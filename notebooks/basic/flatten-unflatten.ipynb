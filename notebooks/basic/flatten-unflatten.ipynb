{
 "cells": [
  {
   "cell_type": "markdown",
   "metadata": {},
   "source": [
    "# Flatten/Unflatten Tensors\n",
    "\n",
    "This notebook illustrates merging (or **flattening**) of two ranks (or levels) of a tensor into one and then **unflattening** that one rank back into two.\n",
    "\n",
    "First, include some libaries"
   ]
  },
  {
   "cell_type": "code",
   "execution_count": null,
   "metadata": {},
   "outputs": [],
   "source": [
    "# Begin - startup boilerplate code\n",
    "\n",
    "import os\n",
    "\n",
    "def run_prelude(**kwargs):\n",
    "\n",
    "  switches =  \" \".join([ f\"--{k}={v}\" for (k,v) in kwargs.items()])\n",
    "\n",
    "  for prelude_file in ['./prelude.py', '../prelude.py']:\n",
    "    if os.path.exists(prelude_file):\n",
    "      command=f\"{prelude_file} {switches}\"\n",
    "      %run $command\n",
    "      return\n",
    "    \n",
    "  print(\"Downloading prelude.py\")\n",
    "  ! curl -LJOs https://raw.githubusercontent.com/Fibertree-Project/fibertree-notebooks/colab/notebooks/prelude.py\n",
    "  command=f\"./prelude.py {switches}\"\n",
    "  %run $command\n",
    "\n",
    "# End - startup boilerplate code\n",
    "\n",
    "run_prelude(style=\"tree\", animation='movie')\n"
   ]
  },
  {
   "cell_type": "markdown",
   "metadata": {},
   "source": [
    "## Flatten/Unflatten tests\n",
    "\n",
    "Following are a set of cells where a tensor is flattened and then unflattened back to is orignal form. "
   ]
  },
  {
   "cell_type": "code",
   "execution_count": null,
   "metadata": {},
   "outputs": [],
   "source": [
    "t0 = Tensor.fromYAMLfile(datafileName(\"draw-a.yaml\"))\n",
    "#print(f\"{t1.getRoot():n*}\")\n",
    "print(t0.getName())\n",
    "print(t0.getRankIds())\n",
    "print(t0.getShape())\n",
    "displayTensor(t0)\n",
    "\n",
    "t1 = Tensor.fromYAMLfile(datafileName(\"draw-b.yaml\"))\n",
    "#print(f\"{t2.getRoot():n*}\")\n",
    "print(t1.getName())\n",
    "print(t1.getRankIds())\n",
    "print(t1.getShape())\n",
    "displayTensor(t1)"
   ]
  },
  {
   "cell_type": "markdown",
   "metadata": {},
   "source": [
    "## Flatten ranks of a tensor\n",
    "\n",
    "Flatten the top two ranks of `t0` into a single rank. Note that now the coordintes of the resulting rank are tuples of the coordinates from the fibers in the original ranks."
   ]
  },
  {
   "cell_type": "code",
   "execution_count": null,
   "metadata": {},
   "outputs": [],
   "source": [
    "f = t0.flattenRanks()\n",
    "print(f\"{f:n*}\")\n",
    "displayTensor(f)"
   ]
  },
  {
   "cell_type": "markdown",
   "metadata": {},
   "source": [
    "## Flatten and then unflatten the top rank of a tensor\n",
    "\n",
    "The result of this sequence is to re-generate the original tensor.\n",
    "\n",
    "Note that we explicitly specify with keyword arguments the `depth` (relative to the top rank) of the rank that the specified number of number of `levels` wilt be **flattened** into. So `levels=1` will combine fibers from two ranks into one. Similarly those same keyword arguments apply to the **unflatten** operation.\n"
   ]
  },
  {
   "cell_type": "code",
   "execution_count": null,
   "metadata": {},
   "outputs": [],
   "source": [
    "f01 = t0.flattenRanks(depth=0, levels=1)\n",
    "print(f\"{f01:n*}\")\n",
    "displayTensor(f01)\n",
    "\n",
    "u01 = f01.unflattenRanks(depth=0, levels=1)\n",
    "displayTensor(u01)\n",
    "\n",
    "print(u01 == t0)"
   ]
  },
  {
   "cell_type": "markdown",
   "metadata": {},
   "source": [
    "## Ilustrate flattening and unflattening three ranks\n",
    "\n",
    "Again the result of **flattening** and then **unflattening** is to restore the original tensor\n",
    "\n",
    "Note that the coordinates after flattening with `level`=2 is a 3-element tuple (not very visible in the diagram)."
   ]
  },
  {
   "cell_type": "code",
   "execution_count": null,
   "metadata": {},
   "outputs": [],
   "source": [
    "f02 = t0.flattenRanks(depth=0, levels=2)\n",
    "print(f\"{f02:n*}\")\n",
    "displayTensor(f02)\n",
    "\n",
    "\n",
    "u02a = f02.unflattenRanks(depth=0, levels=1)\n",
    "u02b = u02a.unflattenRanks(depth=1, levels=1)\n",
    "displayTensor(u02b)\n",
    "\n",
    "print(u02b == t0)\n",
    "\n",
    "u02 = f02.unflattenRanks(depth=0, levels=2)\n",
    "\n",
    "print(u02 == t0)"
   ]
  },
  {
   "cell_type": "markdown",
   "metadata": {},
   "source": [
    "## Flatten and unflatten at a lower rank in the tensor\n",
    "\n",
    "Flatten one `level` at a `depth` of one below the top rank of the tensor."
   ]
  },
  {
   "cell_type": "code",
   "execution_count": null,
   "metadata": {},
   "outputs": [],
   "source": [
    "f12 = t0.flattenRanks(depth=1, levels=1)\n",
    "print(f\"{f12:n*}\")\n",
    "displayTensor(f12)\n",
    "\n",
    "u12 = f12.unflattenRanks(depth=1, levels=1)\n",
    "print(u12 == t0)\n",
    "displayTensor(u12)\n",
    "\n",
    "print(u12 == t0)"
   ]
  },
  {
   "cell_type": "markdown",
   "metadata": {},
   "source": [
    "## Illustrate flattening/unflattening for a rank-4 tensor"
   ]
  },
  {
   "cell_type": "code",
   "execution_count": null,
   "metadata": {},
   "outputs": [],
   "source": [
    "t2 = Tensor.fromFiber([\"A\", \"B\", \"C\", \"D\"], \n",
    "                      Fiber([1, 4], [t0.getRoot(), t1.getRoot()]),\n",
    "                      name=\"t2\")\n",
    "displayTensor(t2)"
   ]
  },
  {
   "cell_type": "markdown",
   "metadata": {},
   "source": [
    "## Flatten/unflatten 3 ranks of a rank-4 tensor at a depth of 1"
   ]
  },
  {
   "cell_type": "code",
   "execution_count": null,
   "metadata": {},
   "outputs": [],
   "source": [
    "f13 = t2.flattenRanks(depth=1, levels=2)\n",
    "print(f\"{f13:n*}\")\n",
    "displayTensor(f13)\n",
    "\n",
    "u13 = f13.unflattenRanks(depth=1, levels=2)\n",
    "displayTensor(u13)\n",
    "\n",
    "print(u13 == t2)"
   ]
  },
  {
   "cell_type": "markdown",
   "metadata": {},
   "source": [
    "## Flatten/unflatten all 4 ranks of a rank-4 tensor"
   ]
  },
  {
   "cell_type": "code",
   "execution_count": null,
   "metadata": {},
   "outputs": [],
   "source": [
    "f04 = t2.flattenRanks(depth=0, levels=3)\n",
    "print(f\"{f04:n*}\")\n",
    "displayTensor(f04)\n",
    "\n",
    "u04 = f04.unflattenRanks(depth=0, levels=3)\n",
    "displayTensor(u04)\n",
    "\n",
    "print(u04 == t2)"
   ]
  },
  {
   "cell_type": "code",
   "execution_count": null,
   "metadata": {},
   "outputs": [],
   "source": [
    "\n",
    "\n",
    "\n",
    "\n"
   ]
  },
  {
   "cell_type": "code",
   "execution_count": null,
   "metadata": {},
   "outputs": [],
   "source": []
  }
 ],
 "metadata": {
  "kernelspec": {
   "display_name": "Python 3 (ipykernel)",
   "language": "python",
   "name": "python3"
  },
  "language_info": {
   "codemirror_mode": {
    "name": "ipython",
    "version": 3
   },
   "file_extension": ".py",
   "mimetype": "text/x-python",
   "name": "python",
   "nbconvert_exporter": "python",
   "pygments_lexer": "ipython3",
   "version": "3.10.8"
  }
 },
 "nbformat": 4,
 "nbformat_minor": 4
}
