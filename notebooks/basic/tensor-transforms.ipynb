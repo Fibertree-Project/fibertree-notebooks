{
 "cells": [
  {
   "cell_type": "markdown",
   "metadata": {
    "slideshow": {
     "slide_type": "-"
    }
   },
   "source": [
    "# Tool for transforming tensors using the hierarchical fiber abstraction\n",
    "\n",
    "First, include some libraries"
   ]
  },
  {
   "cell_type": "code",
   "execution_count": null,
   "metadata": {},
   "outputs": [],
   "source": [
    "# Begin - startup boilerplate code\n",
    "\n",
    "import pkgutil\n",
    "\n",
    "if 'fibertree_bootstrap' not in [pkg.name for pkg in pkgutil.iter_modules()]:\n",
    "  !pip  install git+https://github.com/Fibertree-project/fibertree-bootstrap --quiet\n",
    "\n",
    "# End - startup boilerplate code\n",
    "\n",
    "from fibertree_bootstrap import *\n",
    "fibertree_bootstrap(style=\"tree\", animation='movie')\n"
   ]
  },
  {
   "cell_type": "markdown",
   "metadata": {},
   "source": [
    "## Display a tensor\n"
   ]
  },
  {
   "cell_type": "markdown",
   "metadata": {},
   "source": [
    "Following is an example of reading in a tensor and displaying it"
   ]
  },
  {
   "cell_type": "code",
   "execution_count": null,
   "metadata": {
    "tags": []
   },
   "outputs": [],
   "source": [
    "        \n",
    "# Display an example tensor\n",
    "\n",
    "filename = datafileName(\"draw-c.yaml\")\n",
    "a = Tensor(filename)\n",
    "\n",
    "displayTensor(a)"
   ]
  },
  {
   "cell_type": "code",
   "execution_count": null,
   "metadata": {},
   "outputs": [],
   "source": [
    "displayTensor(a)\n",
    "\n",
    "b0 = a.splitUniform(25, depth=0)\n",
    "displayTensor(b0)\n",
    "\n",
    "b1 = a.splitUniform(15, depth=1)\n",
    "displayTensor(b1)\n",
    "\n",
    "b2 = a.splitUniform(4, depth=2)\n",
    "displayTensor(b2)\n"
   ]
  },
  {
   "cell_type": "code",
   "execution_count": null,
   "metadata": {},
   "outputs": [],
   "source": [
    "displayTensor(a)\n",
    "\n",
    "c0 = a.splitNonUniform([0, 15, 35], depth=0)\n",
    "displayTensor(c0)\n",
    "\n",
    "c1 = a.splitNonUniform([0, 15, 25], depth=1)\n",
    "displayTensor(c1)\n",
    "\n",
    "c2 = a.splitNonUniform([0, 4, 19], depth=2)\n",
    "displayTensor(c2)\n"
   ]
  },
  {
   "cell_type": "code",
   "execution_count": null,
   "metadata": {},
   "outputs": [],
   "source": [
    "displayTensor(a)\n",
    "\n",
    "d0 = a.splitEqual(2, depth=0)\n",
    "displayTensor(d0)\n",
    "\n",
    "d1 = a.splitEqual(2, depth=1)\n",
    "displayTensor(d1)\n",
    "\n",
    "d2 = a.splitEqual(2, depth=2)\n",
    "displayTensor(d2)\n"
   ]
  },
  {
   "cell_type": "code",
   "execution_count": null,
   "metadata": {},
   "outputs": [],
   "source": [
    "displayTensor(a)\n",
    "\n",
    "e0 = a.splitUnEqual([2, 1], depth=0)\n",
    "displayTensor(e0)\n",
    "\n",
    "e1 = a.splitUnEqual([2, 1], depth=1)\n",
    "displayTensor(e1)\n",
    "\n",
    "e2 = a.splitUnEqual([2, 1], depth=2)\n",
    "displayTensor(e2)\n"
   ]
  },
  {
   "cell_type": "code",
   "execution_count": null,
   "metadata": {},
   "outputs": [],
   "source": [
    "displayTensor(a)\n",
    "\n",
    "f0 = a.swapRanks(depth=0)\n",
    "displayTensor(f0)\n",
    "\n",
    "f1 = a.swapRanks(depth=1)\n",
    "displayTensor(f1)\n"
   ]
  },
  {
   "cell_type": "code",
   "execution_count": null,
   "metadata": {},
   "outputs": [],
   "source": [
    "displayTensor(a)\n",
    "\n",
    "g0 = a.flattenRanks(depth=0)\n",
    "displayTensor(g0)\n",
    "\n",
    "g1 = a.flattenRanks(depth=1)\n",
    "displayTensor(g1)\n",
    "\n"
   ]
  },
  {
   "cell_type": "code",
   "execution_count": null,
   "metadata": {},
   "outputs": [],
   "source": [
    "displayTensor(a)\n",
    "\n",
    "h0 = g0.unflattenRanks(depth=0)\n",
    "displayTensor(h0)\n",
    "\n",
    "h1 = g1.unflattenRanks(depth=1)\n",
    "displayTensor(h1)"
   ]
  },
  {
   "cell_type": "markdown",
   "metadata": {},
   "source": [
    "## Testing area\n",
    "\n",
    "For running alternative algorithms"
   ]
  },
  {
   "cell_type": "code",
   "execution_count": null,
   "metadata": {},
   "outputs": [],
   "source": []
  },
  {
   "cell_type": "code",
   "execution_count": null,
   "metadata": {},
   "outputs": [],
   "source": []
  },
  {
   "cell_type": "code",
   "execution_count": null,
   "metadata": {},
   "outputs": [],
   "source": []
  }
 ],
 "metadata": {
  "kernelspec": {
   "display_name": "Python 3 (ipykernel)",
   "language": "python",
   "name": "python3"
  },
  "language_info": {
   "codemirror_mode": {
    "name": "ipython",
    "version": 3
   },
   "file_extension": ".py",
   "mimetype": "text/x-python",
   "name": "python",
   "nbconvert_exporter": "python",
   "pygments_lexer": "ipython3",
   "version": "3.10.8"
  }
 },
 "nbformat": 4,
 "nbformat_minor": 4
}
